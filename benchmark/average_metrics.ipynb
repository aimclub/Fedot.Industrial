{
 "cells": [
  {
   "cell_type": "code",
   "execution_count": 2,
   "id": "95c1cb06",
   "metadata": {},
   "outputs": [],
   "source": [
    "import pandas as pd"
   ]
  },
  {
   "cell_type": "code",
   "execution_count": 30,
   "id": "853975ce",
   "metadata": {},
   "outputs": [],
   "source": [
    "def get_avereage(path: str):\n",
    "    is_csv = path.endswith('.csv')\n",
    "    if is_csv:\n",
    "        t = pd.read_csv(path)\n",
    "    else:\n",
    "        t = pd.read_excel(pd.ExcelFile(path))\n",
    "    t = t.replace(0, pd.NA).replace(10000000000.0, pd.NA).dropna(axis=0)\n",
    "    t.index = t['Unnamed: 0']\n",
    "    t = t.drop(['Unnamed: 0'], axis=1)\n",
    "\n",
    "    return t.mean().sort_values(ascending=False)\n"
   ]
  },
  {
   "cell_type": "code",
   "execution_count": null,
   "id": "4ed5a928",
   "metadata": {},
   "outputs": [
    {
     "data": {
      "text/plain": [
       "Fedot_Industrial              0.908278\n",
       "ROCKET                        0.834333\n",
       "HIVE-COTE v1,0                   0.832\n",
       "Hydra-MR                      0.830722\n",
       "Fedot_Industrial_finetuned    0.829111\n",
       "MultiROCKET                   0.828444\n",
       "HC2                           0.827056\n",
       "WEASEL_D                      0.826778\n",
       "TS-CHIEF                      0.826056\n",
       "PHIT                          0.820556\n",
       "RDST                          0.819167\n",
       "STC                           0.817333\n",
       "WEASEL                        0.815722\n",
       "InceptionT                    0.814611\n",
       "ResNet                           0.811\n",
       "RSTSF                         0.808833\n",
       "S-BOSS                        0.803889\n",
       "FreshPRINCE                   0.798944\n",
       "BOSS                          0.796667\n",
       "cBOSS                         0.792222\n",
       "ProximityForest               0.786167\n",
       "RISE                             0.777\n",
       "TSF                           0.768056\n",
       "PF                            0.764833\n",
       "Catch22                       0.738944\n",
       "dtype: object"
      ]
     },
     "execution_count": 34,
     "metadata": {},
     "output_type": "execute_result"
    }
   ],
   "source": [
    "aver_uni = get_avereage('uni_clf.csv')\n",
    "aver_uni"
   ]
  },
  {
   "cell_type": "code",
   "execution_count": 76,
   "id": "2cc98d33",
   "metadata": {},
   "outputs": [
    {
     "data": {
      "text/plain": [
       "HC2                 0.772\n",
       "DrCIF               0.761\n",
       "CIF                 0.756\n",
       "ROCKET              0.754\n",
       "Arsenal             0.748\n",
       "Fedot_Industrial    0.745\n",
       "HC1                 0.740\n",
       "MUSE                0.736\n",
       "STC                 0.734\n",
       "TDE                 0.730\n",
       "mrseql              0.725\n",
       "ResNet              0.718\n",
       "InceptionTime       0.717\n",
       "DTW_A               0.709\n",
       "gRSF                0.708\n",
       "DTW_D               0.696\n",
       "CBOSS               0.689\n",
       "TSF                 0.686\n",
       "TapNet              0.679\n",
       "RISE                0.665\n",
       "DTW_I               0.639\n",
       "dtype: float64"
      ]
     },
     "execution_count": 76,
     "metadata": {},
     "output_type": "execute_result"
    }
   ],
   "source": [
    "aver_multi = get_avereage('/Users/technocreep/Desktop/working-folder/последние результаты по экспериментам/multivariate_results.csv')\n",
    "\n",
    "aver_multi.round(3)"
   ]
  },
  {
   "cell_type": "code",
   "execution_count": null,
   "id": "4d3346b3",
   "metadata": {},
   "outputs": [
    {
     "data": {
      "text/plain": [
       "Fedot_Industrial_best              67.21786\n",
       "RIST_RMSE                        102.733006\n",
       "InceptionT_RMSE                  115.805865\n",
       "SingleInception_RMSE             117.061979\n",
       "ResNet_RMSE                      119.595328\n",
       "DrCIF_RMSE                        123.40628\n",
       "FPCR_RMSE                        129.798304\n",
       "FreshPRINCE_RMSE                 130.164304\n",
       "MultiROCKET_RMSE                 132.506942\n",
       "TSF_RMSE                         133.596865\n",
       "RotF_RMSE                        133.780602\n",
       "RandF_RMSE                       138.030174\n",
       "FCN_RMSE                         140.044523\n",
       "FPCR-Bs_RMSE                     140.696835\n",
       "ROCKET_RMSE                      143.499729\n",
       "5NN-ED_RMSE                      144.627489\n",
       "5NN-DTW_RMSE                     147.026756\n",
       "1NN-ED_RMSE                      151.673099\n",
       "CNN_RMSE                         156.467336\n",
       "Grid-SVR_RMSE                     156.49392\n",
       "XGBoost_RMSE                     168.482402\n",
       "1NN-DTW_RMSE                     196.238348\n",
       "Ridge_RMSE                       268.321274\n",
       "RDST_RMSE                12302727435.239676\n",
       "dtype: object"
      ]
     },
     "execution_count": 85,
     "metadata": {},
     "output_type": "execute_result"
    }
   ],
   "source": [
    "aver_regr = get_avereage('regression_table.csv')\n",
    "aver_regr.round(3).sort_values()"
   ]
  },
  {
   "cell_type": "code",
   "execution_count": null,
   "id": "333d0c25",
   "metadata": {},
   "outputs": [
    {
     "data": {
      "text/plain": [
       "Total                 20.0\n",
       "Difference %     10.523529\n",
       "Fedot_Place       9.294118\n",
       "HC2               0.753176\n",
       "DrCIF             0.745176\n",
       "CIF               0.739353\n",
       "ROCKET            0.731412\n",
       "Arsenal           0.724235\n",
       "HC1               0.719588\n",
       "STC               0.713176\n",
       "MUSE              0.711824\n",
       "TDE               0.708588\n",
       "mrseql            0.704059\n",
       "Fedot_Ind         0.697941\n",
       "ResNet            0.691882\n",
       "InceptionTime     0.690353\n",
       "DTW_A             0.683059\n",
       "gRSF              0.681529\n",
       "TSF               0.673353\n",
       "DTW_D             0.669647\n",
       "CBOSS             0.668588\n",
       "TapNet            0.651529\n",
       "RISE              0.636118\n",
       "DTW_I             0.623941\n",
       "dtype: object"
      ]
     },
     "execution_count": 39,
     "metadata": {},
     "output_type": "execute_result"
    }
   ],
   "source": [
    "aver_multi_regr = get_avereage('time_series_multI_clf_comparasion.csv')\n",
    "aver_multi_regr"
   ]
  },
  {
   "cell_type": "code",
   "execution_count": null,
   "id": "ef83b1e5",
   "metadata": {},
   "outputs": [
    {
     "data": {
      "text/plain": [
       "Our_approach       0.900217\n",
       "HC2                    0.88\n",
       "Hydra-MR            0.87787\n",
       "MultiROCKET        0.877609\n",
       "HIVE-COTE v1,0     0.876761\n",
       "WEASEL_D           0.875065\n",
       "ROCKET             0.874457\n",
       "RDST               0.872978\n",
       "TS-CHIEF           0.872609\n",
       "PHIT               0.865609\n",
       "RSTSF              0.861652\n",
       "InceptionT          0.86113\n",
       "STC                 0.85913\n",
       "FreshPRINCE        0.856739\n",
       "ResNet             0.856522\n",
       "WEASEL             0.848196\n",
       "ProximityForest    0.841935\n",
       "S-BOSS             0.837522\n",
       "PF                 0.833196\n",
       "BOSS                0.83187\n",
       "cBOSS              0.830217\n",
       "TSF                0.812696\n",
       "RISE               0.812065\n",
       "Catch22            0.791609\n",
       "dtype: object"
      ]
     },
     "execution_count": 58,
     "metadata": {},
     "output_type": "execute_result"
    }
   ],
   "source": [
    "tclf = pd.read_csv('uni_clf.csv')\n",
    "tclf['Our_approach'] = tclf[[\"Fedot_Industrial\", \"Fedot_Industrial_finetuned\"]].max(axis=1)\n",
    "tclf = tclf.drop([\"Fedot_Industrial\", \"Fedot_Industrial_finetuned\"], axis=1)\n",
    "tclf.index = tclf['Unnamed: 0']\n",
    "tclf = tclf.drop(['Unnamed: 0'], axis=1)\n",
    "tclf = tclf.replace(0, pd.NA).dropna(axis=0)\n",
    "tclf.mean().sort_values(ascending=False)"
   ]
  },
  {
   "cell_type": "code",
   "execution_count": null,
   "id": "6e5218b2",
   "metadata": {},
   "outputs": [
    {
     "data": {
      "text/plain": [
       "HC2              0.77235\n",
       "DrCIF             0.7605\n",
       "CIF               0.7564\n",
       "ROCKET           0.75355\n",
       "Arsenal           0.7477\n",
       "HC1               0.7397\n",
       "MUSE             0.73635\n",
       "STC               0.7336\n",
       "TDE               0.7301\n",
       "Our_approach     0.72765\n",
       "mrseql            0.7246\n",
       "ResNet            0.7184\n",
       "InceptionTime     0.7167\n",
       "DTW_A            0.70895\n",
       "gRSF               0.708\n",
       "DTW_D             0.6955\n",
       "CBOSS            0.68935\n",
       "TSF               0.6864\n",
       "TapNet           0.67945\n",
       "RISE             0.66545\n",
       "DTW_I              0.639\n",
       "dtype: object"
      ]
     },
     "execution_count": 73,
     "metadata": {},
     "output_type": "execute_result"
    }
   ],
   "source": [
    "tmulclf = pd.read_csv('time_series_multI_clf_comparasion.csv')\n",
    "tmulclf['Our_approach'] = tmulclf['Fedot_Ind']\n",
    "tmulclf = tmulclf.drop([\"Fedot_Ind\", \"Fedot_Place\", 'Total', 'Difference %'], axis=1)\n",
    "tmulclf.index = tmulclf['Unnamed: 0']\n",
    "tmulclf = tmulclf.drop(['Unnamed: 0'], axis=1)\n",
    "tmulclf = tmulclf.replace(0, pd.NA).dropna(axis=0)\n",
    "tmulclf.mean().sort_values(ascending=False)"
   ]
  },
  {
   "cell_type": "code",
   "execution_count": null,
   "id": "f4a67b82",
   "metadata": {},
   "outputs": [],
   "source": []
  }
 ],
 "metadata": {
  "kernelspec": {
   "display_name": ".venv",
   "language": "python",
   "name": "python3"
  },
  "language_info": {
   "codemirror_mode": {
    "name": "ipython",
    "version": 3
   },
   "file_extension": ".py",
   "mimetype": "text/x-python",
   "name": "python",
   "nbconvert_exporter": "python",
   "pygments_lexer": "ipython3",
   "version": "3.9.13"
  }
 },
 "nbformat": 4,
 "nbformat_minor": 5
}
