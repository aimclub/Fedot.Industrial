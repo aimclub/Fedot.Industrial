{
 "cells": [
  {
   "cell_type": "code",
   "execution_count": 57,
   "id": "2f9d3d33-d1a9-4a06-8372-0af3dd25d86b",
   "metadata": {
    "pycharm": {
     "name": "#%%\n"
    }
   },
   "outputs": [],
   "source": [
    "from sktime.performance_metrics.forecasting import mean_absolute_scaled_error\n",
    "import os\n",
    "import pandas as pd\n",
    "from pathlib import Path\n",
    "import numpy as np\n",
    "\n",
    "def MASE(A, F, y_train):\n",
    "    return mean_absolute_scaled_error(A, F, y_train=y_train)\n",
    "\n",
    "\n",
    "def SMAPE(a, f, _=None):\n",
    "    return 1 / len(a) * np.sum(2 * np.abs(f - a) / (np.abs(a) + np.abs(f)) * 100)\n",
    "\n",
    "def calculate_metrics(path, fedot_type = False):\n",
    "    metrics_f = {}\n",
    "    df_dict = {}\n",
    "    for i in os.listdir(path):\n",
    "        if fedot_type:\n",
    "            if not i.__contains__('log') or not i.__contains__('report'):\n",
    "                try:\n",
    "                    df = pd.read_csv(Path(path, i,'prediction.csv'),index_col=0)\n",
    "                    df_dict.update({i:df})\n",
    "                    metrics_f[i] = SMAPE(df['label'], df['prediction'])\n",
    "                except Exception:\n",
    "                    _= 1\n",
    "        else:\n",
    "            if i.endswith('csv'):\n",
    "                idx = i.split('_')[0]\n",
    "                ids_to_proceed.append(idx)\n",
    "                df = pd.read_csv(Path(path, i))\n",
    "                df_dict.update({idx:df})\n",
    "                targets[idx] = df['value']\n",
    "                metrics_f[idx] = SMAPE(df['value'], df['predict'])\n",
    "    return metrics_f, df_dict"
   ]
  },
  {
   "cell_type": "code",
   "execution_count": 70,
   "id": "ed19335d-2a6b-48d3-93db-1f1c24c5cd6e",
   "metadata": {
    "pycharm": {
     "name": "#%%\n"
    }
   },
   "outputs": [],
   "source": [
    "from fedot_ind.api.utils.path_lib import PROJECT_PATH\n",
    "autogluon = PROJECT_PATH + '/benchmark/results/benchmark_results/autogluon'\n",
    "nbeats = PROJECT_PATH+'/benchmark/results/benchmark_results/nbeats'\n",
    "fedot_ssa = PROJECT_PATH+'/benchmark/results/ts_uni_forecasting/ssa_results'\n",
    "fedot_ar = PROJECT_PATH+'/benchmark/results/ts_uni_forecasting/ar'\n",
    "ids_to_proceed = []\n",
    "global_metrics = {}\n",
    "targets= {}"
   ]
  },
  {
   "cell_type": "code",
   "execution_count": 71,
   "outputs": [],
   "source": [
    "global_metrics['fedot_ssa'], df_fedot = calculate_metrics(fedot_ssa, True)\n",
    "global_metrics['fedot_ar'], df_fedot_ar = calculate_metrics(fedot_ar, True)"
   ],
   "metadata": {
    "collapsed": false,
    "pycharm": {
     "name": "#%%\n"
    }
   }
  },
  {
   "cell_type": "code",
   "execution_count": 72,
   "id": "4f2ba63a-a36c-441c-9347-8bf9b3f51140",
   "metadata": {
    "pycharm": {
     "name": "#%%\n"
    }
   },
   "outputs": [],
   "source": [
    "global_metrics['autogluon'], df_ag = calculate_metrics(autogluon)\n",
    "global_metrics['nbeats'], df_nb = calculate_metrics(nbeats)"
   ]
  },
  {
   "cell_type": "code",
   "execution_count": null,
   "outputs": [],
   "source": [
    "for ds in df_fedot.keys():\n",
    "    df_fedot[ds]['AG_pred'] = df_ag[ds]['predict']\n",
    "    df_fedot[ds]['NB_pred'] = df_nb[ds]['predict']\n",
    "    df_fedot[ds].plot()"
   ],
   "metadata": {
    "collapsed": false,
    "pycharm": {
     "name": "#%%\n"
    }
   }
  },
  {
   "cell_type": "code",
   "execution_count": 98,
   "outputs": [],
   "source": [
    "df = []\n",
    "for k, v in global_metrics.items():\n",
    "    df.append(pd.DataFrame(v, index=[k]))"
   ],
   "metadata": {
    "collapsed": false,
    "pycharm": {
     "name": "#%%\n"
    }
   }
  },
  {
   "cell_type": "code",
   "execution_count": 101,
   "outputs": [
    {
     "data": {
      "text/plain": "        fedot_ssa      fedot_ar  autogluon     nbeats  Difference_fedot_ar  \\\nD1002    5.941966      4.567342   4.962077   4.996679             0.394734   \nD1019    1.600375      1.921184   1.603820   1.575932            -0.317364   \nD1032   12.227498      9.308087   9.377229   4.481296             0.069143   \nD1104    2.525388      3.662158   2.560476   1.533204            -1.101682   \nD1124    0.911771  10000.000000   2.715447   2.442675         -9997.284553   \n...           ...           ...        ...        ...                  ...   \nY16315  24.760798  10000.000000  44.938315  40.060936         -9955.061685   \nY20781  31.651655      9.713997  10.500872  19.325849             0.786875   \nY3814    5.252030      3.712337   3.859581   5.472598             0.147244   \nY5212    9.654241      3.366590  10.957446   1.831877             7.590856   \nY7690    1.050406  10000.000000   2.258384   1.986564         -9997.741616   \n\n        Difference_fedot_ssa Fedot_Wins  \nD1002              -0.979889        Win  \nD1019               0.003445        Win  \nD1032              -2.850268        Win  \nD1104               0.035088        Win  \nD1124               1.803676        Win  \n...                      ...        ...  \nY16315             20.177517        Win  \nY20781            -21.150783        Win  \nY3814              -1.392449        Win  \nY5212               1.303205        Win  \nY7690               1.207978        Win  \n\n[426 rows x 7 columns]",
      "text/html": "<div>\n<style scoped>\n    .dataframe tbody tr th:only-of-type {\n        vertical-align: middle;\n    }\n\n    .dataframe tbody tr th {\n        vertical-align: top;\n    }\n\n    .dataframe thead th {\n        text-align: right;\n    }\n</style>\n<table border=\"1\" class=\"dataframe\">\n  <thead>\n    <tr style=\"text-align: right;\">\n      <th></th>\n      <th>fedot_ssa</th>\n      <th>fedot_ar</th>\n      <th>autogluon</th>\n      <th>nbeats</th>\n      <th>Difference_fedot_ar</th>\n      <th>Difference_fedot_ssa</th>\n      <th>Fedot_Wins</th>\n    </tr>\n  </thead>\n  <tbody>\n    <tr>\n      <th>D1002</th>\n      <td>5.941966</td>\n      <td>4.567342</td>\n      <td>4.962077</td>\n      <td>4.996679</td>\n      <td>0.394734</td>\n      <td>-0.979889</td>\n      <td>Win</td>\n    </tr>\n    <tr>\n      <th>D1019</th>\n      <td>1.600375</td>\n      <td>1.921184</td>\n      <td>1.603820</td>\n      <td>1.575932</td>\n      <td>-0.317364</td>\n      <td>0.003445</td>\n      <td>Win</td>\n    </tr>\n    <tr>\n      <th>D1032</th>\n      <td>12.227498</td>\n      <td>9.308087</td>\n      <td>9.377229</td>\n      <td>4.481296</td>\n      <td>0.069143</td>\n      <td>-2.850268</td>\n      <td>Win</td>\n    </tr>\n    <tr>\n      <th>D1104</th>\n      <td>2.525388</td>\n      <td>3.662158</td>\n      <td>2.560476</td>\n      <td>1.533204</td>\n      <td>-1.101682</td>\n      <td>0.035088</td>\n      <td>Win</td>\n    </tr>\n    <tr>\n      <th>D1124</th>\n      <td>0.911771</td>\n      <td>10000.000000</td>\n      <td>2.715447</td>\n      <td>2.442675</td>\n      <td>-9997.284553</td>\n      <td>1.803676</td>\n      <td>Win</td>\n    </tr>\n    <tr>\n      <th>...</th>\n      <td>...</td>\n      <td>...</td>\n      <td>...</td>\n      <td>...</td>\n      <td>...</td>\n      <td>...</td>\n      <td>...</td>\n    </tr>\n    <tr>\n      <th>Y16315</th>\n      <td>24.760798</td>\n      <td>10000.000000</td>\n      <td>44.938315</td>\n      <td>40.060936</td>\n      <td>-9955.061685</td>\n      <td>20.177517</td>\n      <td>Win</td>\n    </tr>\n    <tr>\n      <th>Y20781</th>\n      <td>31.651655</td>\n      <td>9.713997</td>\n      <td>10.500872</td>\n      <td>19.325849</td>\n      <td>0.786875</td>\n      <td>-21.150783</td>\n      <td>Win</td>\n    </tr>\n    <tr>\n      <th>Y3814</th>\n      <td>5.252030</td>\n      <td>3.712337</td>\n      <td>3.859581</td>\n      <td>5.472598</td>\n      <td>0.147244</td>\n      <td>-1.392449</td>\n      <td>Win</td>\n    </tr>\n    <tr>\n      <th>Y5212</th>\n      <td>9.654241</td>\n      <td>3.366590</td>\n      <td>10.957446</td>\n      <td>1.831877</td>\n      <td>7.590856</td>\n      <td>1.303205</td>\n      <td>Win</td>\n    </tr>\n    <tr>\n      <th>Y7690</th>\n      <td>1.050406</td>\n      <td>10000.000000</td>\n      <td>2.258384</td>\n      <td>1.986564</td>\n      <td>-9997.741616</td>\n      <td>1.207978</td>\n      <td>Win</td>\n    </tr>\n  </tbody>\n</table>\n<p>426 rows × 7 columns</p>\n</div>"
     },
     "execution_count": 101,
     "metadata": {},
     "output_type": "execute_result"
    }
   ],
   "source": [
    "df_full = pd.concat([*df]).T.fillna(10000)\n",
    "df_full['Difference_fedot_ar'] = (df_full.iloc[:, 2:3].min(axis=1) - df_full['fedot_ar'])\n",
    "df_full['Difference_fedot_ssa'] = (df_full.iloc[:, 2:3].min(axis=1) - df_full['fedot_ssa'])\n",
    "df_full['Fedot_Wins'] = df_full.apply(lambda row: 'Win' if row.loc['Difference_fedot_ssa']>0 or row.loc['Difference_fedot_ar']>0 else 'Loose', axis=1)\n",
    "df_full[df_full['Fedot_Wins'] == 'Win']"
   ],
   "metadata": {
    "collapsed": false,
    "pycharm": {
     "name": "#%%\n"
    }
   }
  },
  {
   "cell_type": "code",
   "execution_count": 106,
   "outputs": [
    {
     "name": "stdout",
     "output_type": "stream",
     "text": [
      "Percentage of Fedot Wins among all models - 44 %\n"
     ]
    }
   ],
   "source": [
    "percent = (df_full[df_full['Fedot_Wins'] == 'Win'].shape[0]/df_full.shape[0])*100\n",
    "print(f'Percentage of Fedot Wins among all models - {round(percent)} %')"
   ],
   "metadata": {
    "collapsed": false,
    "pycharm": {
     "name": "#%%\n"
    }
   }
  },
  {
   "cell_type": "code",
   "execution_count": 63,
   "outputs": [
    {
     "name": "stdout",
     "output_type": "stream",
     "text": [
      "D\n",
      "0.5 quantile\n",
      "metric\n",
      "1 nbeats 1.73\n",
      "2 autogluon 2.25\n",
      "3 fedot_ar 3.11\n",
      "4 fedot_ssa 3.37\n",
      "W\n",
      "0.5 quantile\n",
      "metric\n",
      "1 nbeats 5.26\n",
      "2 autogluon 6.76\n",
      "3 fedot_ar 9.5\n",
      "4 fedot_ssa 10.53\n",
      "M\n",
      "0.5 quantile\n",
      "metric\n",
      "1 nbeats 7.21\n",
      "2 autogluon 7.3\n",
      "3 fedot_ssa 10.91\n",
      "4 fedot_ar 11.45\n",
      "Q\n",
      "0.5 quantile\n",
      "metric\n",
      "1 autogluon 6.12\n",
      "2 nbeats 9.29\n",
      "3 fedot_ar 10.41\n",
      "4 fedot_ssa 11.46\n",
      "all\n",
      "0.5 quantile\n",
      "metric\n",
      "1 nbeats 4.36\n",
      "2 autogluon 4.56\n",
      "3 fedot_ar 6.31\n",
      "4 fedot_ssa 7.98\n"
     ]
    }
   ],
   "source": [
    "for i in ['D', 'W',  'M', 'Q', 'Y', 'all']:\n",
    "    quantile_df = pd.DataFrame()\n",
    "    if i != 'all':\n",
    "        filter_col = [col for col in df_full if col.startswith(i)]\n",
    "        d__ = df_full[filter_col]\n",
    "    else:\n",
    "        d__ = df_full\n",
    "    quantiles = [0.5]\n",
    "    d__ = d__.dropna(axis=1)\n",
    "    for q in quantiles:\n",
    "\n",
    "        d_ = d__.quantile(q, axis=1).round(3)\n",
    "        quantile_df = pd.concat([quantile_df, d_], axis=1)\n",
    "        if np.isnan(d_[0]):\n",
    "            continue\n",
    "\n",
    "        #quantile_df.to_excel(f'{i}_quantiles.xlsx', index=True)\n",
    "        print(i)\n",
    "        print(f'{q} quantile')\n",
    "        print('metric')\n",
    "        for j, v in enumerate(d_.sort_values().index):\n",
    "            print(j + 1, v, round(d_[v], 2))\n",
    "\n",
    "    quantile_df.columns = quantiles"
   ],
   "metadata": {
    "collapsed": false,
    "pycharm": {
     "name": "#%%\n"
    }
   }
  },
  {
   "cell_type": "code",
   "execution_count": 64,
   "id": "08476c5f-a182-46d4-8c29-1dcc407079f9",
   "metadata": {
    "pycharm": {
     "name": "#%%\n"
    }
   },
   "outputs": [],
   "source": [
    "top_k = 1\n",
    "wins_count = d__.apply(lambda x: x.nsmallest(top_k)).notnull().sum(axis=1).sort_values(ascending=False)"
   ]
  },
  {
   "cell_type": "markdown",
   "id": "9d9d482e-4b86-498d-9e28-6a9007695e98",
   "metadata": {
    "pycharm": {
     "name": "#%% md\n"
    }
   },
   "source": [
    "# Кол-во побед"
   ]
  },
  {
   "cell_type": "code",
   "execution_count": 65,
   "id": "442f3170-8a53-4e44-bf22-b777792ed0ed",
   "metadata": {
    "pycharm": {
     "name": "#%%\n"
    }
   },
   "outputs": [
    {
     "data": {
      "text/plain": "nbeats       245\nautogluon    224\nfedot_ar      98\ndtype: int64"
     },
     "execution_count": 65,
     "metadata": {},
     "output_type": "execute_result"
    }
   ],
   "source": [
    "wins_count"
   ]
  },
  {
   "cell_type": "code",
   "execution_count": 66,
   "outputs": [],
   "source": [
    "df = df_full.T"
   ],
   "metadata": {
    "collapsed": false,
    "pycharm": {
     "name": "#%%\n"
    }
   }
  },
  {
   "cell_type": "code",
   "execution_count": 67,
   "outputs": [
    {
     "data": {
      "text/plain": "       fedot_ssa   fedot_ar  autogluon    nbeats\nD1002   5.941966   4.567342   4.962077  4.996679\nD1019   1.600375   1.921184   1.603820  1.575932\nD1032  12.227498   9.308087   9.377229  4.481296\nD1091   3.366175   2.093836   1.524169  0.952591\nD1101   3.931032   3.072753   2.308593  2.325867\n...          ...        ...        ...       ...\nW53     8.076001   8.362080   6.735541  8.469682\nW56    15.420568  13.462251   6.644513  2.787917\nW61     5.644613   3.831377   2.832076  3.246926\nW63     3.680823   2.477384   1.978506  1.430815\nW64     3.744736   7.094339   5.555344  1.557750\n\n[567 rows x 4 columns]",
      "text/html": "<div>\n<style scoped>\n    .dataframe tbody tr th:only-of-type {\n        vertical-align: middle;\n    }\n\n    .dataframe tbody tr th {\n        vertical-align: top;\n    }\n\n    .dataframe thead th {\n        text-align: right;\n    }\n</style>\n<table border=\"1\" class=\"dataframe\">\n  <thead>\n    <tr style=\"text-align: right;\">\n      <th></th>\n      <th>fedot_ssa</th>\n      <th>fedot_ar</th>\n      <th>autogluon</th>\n      <th>nbeats</th>\n    </tr>\n  </thead>\n  <tbody>\n    <tr>\n      <th>D1002</th>\n      <td>5.941966</td>\n      <td>4.567342</td>\n      <td>4.962077</td>\n      <td>4.996679</td>\n    </tr>\n    <tr>\n      <th>D1019</th>\n      <td>1.600375</td>\n      <td>1.921184</td>\n      <td>1.603820</td>\n      <td>1.575932</td>\n    </tr>\n    <tr>\n      <th>D1032</th>\n      <td>12.227498</td>\n      <td>9.308087</td>\n      <td>9.377229</td>\n      <td>4.481296</td>\n    </tr>\n    <tr>\n      <th>D1091</th>\n      <td>3.366175</td>\n      <td>2.093836</td>\n      <td>1.524169</td>\n      <td>0.952591</td>\n    </tr>\n    <tr>\n      <th>D1101</th>\n      <td>3.931032</td>\n      <td>3.072753</td>\n      <td>2.308593</td>\n      <td>2.325867</td>\n    </tr>\n    <tr>\n      <th>...</th>\n      <td>...</td>\n      <td>...</td>\n      <td>...</td>\n      <td>...</td>\n    </tr>\n    <tr>\n      <th>W53</th>\n      <td>8.076001</td>\n      <td>8.362080</td>\n      <td>6.735541</td>\n      <td>8.469682</td>\n    </tr>\n    <tr>\n      <th>W56</th>\n      <td>15.420568</td>\n      <td>13.462251</td>\n      <td>6.644513</td>\n      <td>2.787917</td>\n    </tr>\n    <tr>\n      <th>W61</th>\n      <td>5.644613</td>\n      <td>3.831377</td>\n      <td>2.832076</td>\n      <td>3.246926</td>\n    </tr>\n    <tr>\n      <th>W63</th>\n      <td>3.680823</td>\n      <td>2.477384</td>\n      <td>1.978506</td>\n      <td>1.430815</td>\n    </tr>\n    <tr>\n      <th>W64</th>\n      <td>3.744736</td>\n      <td>7.094339</td>\n      <td>5.555344</td>\n      <td>1.557750</td>\n    </tr>\n  </tbody>\n</table>\n<p>567 rows × 4 columns</p>\n</div>"
     },
     "execution_count": 67,
     "metadata": {},
     "output_type": "execute_result"
    }
   ],
   "source": [
    "df"
   ],
   "metadata": {
    "collapsed": false,
    "pycharm": {
     "name": "#%%\n"
    }
   }
  },
  {
   "cell_type": "code",
   "execution_count": 68,
   "outputs": [],
   "source": [
    "df['Difference'] = (df.iloc[:, 2:3].min(axis=1) - df['fedot_ar'])"
   ],
   "metadata": {
    "collapsed": false,
    "pycharm": {
     "name": "#%%\n"
    }
   }
  },
  {
   "cell_type": "code",
   "execution_count": 69,
   "outputs": [
    {
     "data": {
      "text/plain": "       fedot_ssa   fedot_ar  autogluon    nbeats  Difference\nD1002   5.941966   4.567342   4.962077  4.996679    0.394734\nD1019   1.600375   1.921184   1.603820  1.575932   -0.317364\nD1032  12.227498   9.308087   9.377229  4.481296    0.069143\nD1091   3.366175   2.093836   1.524169  0.952591   -0.569667\nD1101   3.931032   3.072753   2.308593  2.325867   -0.764161\n...          ...        ...        ...       ...         ...\nW53     8.076001   8.362080   6.735541  8.469682   -1.626539\nW56    15.420568  13.462251   6.644513  2.787917   -6.817738\nW61     5.644613   3.831377   2.832076  3.246926   -0.999301\nW63     3.680823   2.477384   1.978506  1.430815   -0.498878\nW64     3.744736   7.094339   5.555344  1.557750   -1.538995\n\n[567 rows x 5 columns]",
      "text/html": "<div>\n<style scoped>\n    .dataframe tbody tr th:only-of-type {\n        vertical-align: middle;\n    }\n\n    .dataframe tbody tr th {\n        vertical-align: top;\n    }\n\n    .dataframe thead th {\n        text-align: right;\n    }\n</style>\n<table border=\"1\" class=\"dataframe\">\n  <thead>\n    <tr style=\"text-align: right;\">\n      <th></th>\n      <th>fedot_ssa</th>\n      <th>fedot_ar</th>\n      <th>autogluon</th>\n      <th>nbeats</th>\n      <th>Difference</th>\n    </tr>\n  </thead>\n  <tbody>\n    <tr>\n      <th>D1002</th>\n      <td>5.941966</td>\n      <td>4.567342</td>\n      <td>4.962077</td>\n      <td>4.996679</td>\n      <td>0.394734</td>\n    </tr>\n    <tr>\n      <th>D1019</th>\n      <td>1.600375</td>\n      <td>1.921184</td>\n      <td>1.603820</td>\n      <td>1.575932</td>\n      <td>-0.317364</td>\n    </tr>\n    <tr>\n      <th>D1032</th>\n      <td>12.227498</td>\n      <td>9.308087</td>\n      <td>9.377229</td>\n      <td>4.481296</td>\n      <td>0.069143</td>\n    </tr>\n    <tr>\n      <th>D1091</th>\n      <td>3.366175</td>\n      <td>2.093836</td>\n      <td>1.524169</td>\n      <td>0.952591</td>\n      <td>-0.569667</td>\n    </tr>\n    <tr>\n      <th>D1101</th>\n      <td>3.931032</td>\n      <td>3.072753</td>\n      <td>2.308593</td>\n      <td>2.325867</td>\n      <td>-0.764161</td>\n    </tr>\n    <tr>\n      <th>...</th>\n      <td>...</td>\n      <td>...</td>\n      <td>...</td>\n      <td>...</td>\n      <td>...</td>\n    </tr>\n    <tr>\n      <th>W53</th>\n      <td>8.076001</td>\n      <td>8.362080</td>\n      <td>6.735541</td>\n      <td>8.469682</td>\n      <td>-1.626539</td>\n    </tr>\n    <tr>\n      <th>W56</th>\n      <td>15.420568</td>\n      <td>13.462251</td>\n      <td>6.644513</td>\n      <td>2.787917</td>\n      <td>-6.817738</td>\n    </tr>\n    <tr>\n      <th>W61</th>\n      <td>5.644613</td>\n      <td>3.831377</td>\n      <td>2.832076</td>\n      <td>3.246926</td>\n      <td>-0.999301</td>\n    </tr>\n    <tr>\n      <th>W63</th>\n      <td>3.680823</td>\n      <td>2.477384</td>\n      <td>1.978506</td>\n      <td>1.430815</td>\n      <td>-0.498878</td>\n    </tr>\n    <tr>\n      <th>W64</th>\n      <td>3.744736</td>\n      <td>7.094339</td>\n      <td>5.555344</td>\n      <td>1.557750</td>\n      <td>-1.538995</td>\n    </tr>\n  </tbody>\n</table>\n<p>567 rows × 5 columns</p>\n</div>"
     },
     "execution_count": 69,
     "metadata": {},
     "output_type": "execute_result"
    }
   ],
   "source": [
    "df"
   ],
   "metadata": {
    "collapsed": false,
    "pycharm": {
     "name": "#%%\n"
    }
   }
  },
  {
   "cell_type": "code",
   "execution_count": 15,
   "outputs": [],
   "source": [
    "df_full.to_csv(PROJECT_PATH + '/benchmark/results/m4_results.csv')"
   ],
   "metadata": {
    "collapsed": false,
    "pycharm": {
     "name": "#%%\n"
    }
   }
  },
  {
   "cell_type": "code",
   "execution_count": 99,
   "id": "7863fdb6-0996-47c4-b183-65937c908766",
   "metadata": {
    "pycharm": {
     "name": "#%%\n"
    }
   },
   "outputs": [],
   "source": [
    "daily_results = PROJECT_PATH+'/benchmark/results/ts_uni_forecasting/metrics_report.csv'"
   ]
  },
  {
   "cell_type": "code",
   "execution_count": 106,
   "outputs": [],
   "source": [
    "plots = os.listdir(PROJECT_PATH+'/benchmark/results/ts_uni_forecasting/')"
   ],
   "metadata": {
    "collapsed": false,
    "pycharm": {
     "name": "#%%\n"
    }
   }
  },
  {
   "cell_type": "code",
   "execution_count": null,
   "outputs": [],
   "source": [
    "for ds in plots:\n",
    "    try:\n",
    "        _ = pd.read_csv(PROJECT_PATH+'/benchmark/results/ts_uni_forecasting/'+ds+'/prediction.csv')\n",
    "        del _['Unnamed: 0']\n",
    "        _.plot()\n",
    "    except Exception as eee:\n",
    "        print(eee)"
   ],
   "metadata": {
    "collapsed": false,
    "pycharm": {
     "name": "#%%\n"
    }
   }
  },
  {
   "cell_type": "code",
   "execution_count": 100,
   "outputs": [],
   "source": [
    "df_daily = pd.read_csv(daily_results)\n",
    "df_daily = df_daily.fillna(0)\n",
    "df_daily = df_daily[df_daily['Fedot_Industrial']!=0]"
   ],
   "metadata": {
    "collapsed": false,
    "pycharm": {
     "name": "#%%\n"
    }
   }
  },
  {
   "cell_type": "code",
   "execution_count": 101,
   "outputs": [],
   "source": [
    "df_daily['Differnce'] = (df_daily.iloc[:, 1:3].min(axis=1) - df_daily['Fedot_Industrial'])"
   ],
   "metadata": {
    "collapsed": false,
    "pycharm": {
     "name": "#%%\n"
    }
   }
  },
  {
   "cell_type": "code",
   "execution_count": 102,
   "outputs": [
    {
     "data": {
      "text/plain": "    Unnamed: 0  autogluon     nbeats  Fedot_Industrial  Differnce\n400     Q10070   0.966082   3.156489          1.706921  -0.740839\n401     Q10262   6.085463   6.143364          8.487427  -2.401964\n402     Q10292  19.784539  14.367727         31.618978 -17.251250\n403     Q10466   5.081976   5.695602          7.007306  -1.925330\n404     Q10598   3.815163   3.568740          5.225793  -1.657053\n405     Q10665  13.816496  38.893301         67.860367 -54.043872",
      "text/html": "<div>\n<style scoped>\n    .dataframe tbody tr th:only-of-type {\n        vertical-align: middle;\n    }\n\n    .dataframe tbody tr th {\n        vertical-align: top;\n    }\n\n    .dataframe thead th {\n        text-align: right;\n    }\n</style>\n<table border=\"1\" class=\"dataframe\">\n  <thead>\n    <tr style=\"text-align: right;\">\n      <th></th>\n      <th>Unnamed: 0</th>\n      <th>autogluon</th>\n      <th>nbeats</th>\n      <th>Fedot_Industrial</th>\n      <th>Differnce</th>\n    </tr>\n  </thead>\n  <tbody>\n    <tr>\n      <th>400</th>\n      <td>Q10070</td>\n      <td>0.966082</td>\n      <td>3.156489</td>\n      <td>1.706921</td>\n      <td>-0.740839</td>\n    </tr>\n    <tr>\n      <th>401</th>\n      <td>Q10262</td>\n      <td>6.085463</td>\n      <td>6.143364</td>\n      <td>8.487427</td>\n      <td>-2.401964</td>\n    </tr>\n    <tr>\n      <th>402</th>\n      <td>Q10292</td>\n      <td>19.784539</td>\n      <td>14.367727</td>\n      <td>31.618978</td>\n      <td>-17.251250</td>\n    </tr>\n    <tr>\n      <th>403</th>\n      <td>Q10466</td>\n      <td>5.081976</td>\n      <td>5.695602</td>\n      <td>7.007306</td>\n      <td>-1.925330</td>\n    </tr>\n    <tr>\n      <th>404</th>\n      <td>Q10598</td>\n      <td>3.815163</td>\n      <td>3.568740</td>\n      <td>5.225793</td>\n      <td>-1.657053</td>\n    </tr>\n    <tr>\n      <th>405</th>\n      <td>Q10665</td>\n      <td>13.816496</td>\n      <td>38.893301</td>\n      <td>67.860367</td>\n      <td>-54.043872</td>\n    </tr>\n  </tbody>\n</table>\n</div>"
     },
     "execution_count": 102,
     "metadata": {},
     "output_type": "execute_result"
    }
   ],
   "source": [
    "df_daily"
   ],
   "metadata": {
    "collapsed": false,
    "pycharm": {
     "name": "#%%\n"
    }
   }
  },
  {
   "cell_type": "code",
   "execution_count": 88,
   "outputs": [],
   "source": [
    "df_daily['Fedot_Wins'] = df_daily['Differnce'].apply(lambda x: 'Win' if x >0 else 'Loose')"
   ],
   "metadata": {
    "collapsed": false,
    "pycharm": {
     "name": "#%%\n"
    }
   }
  },
  {
   "cell_type": "code",
   "execution_count": 89,
   "outputs": [
    {
     "data": {
      "text/plain": "    Unnamed: 0  autogluon      nbeats  Fedot_Industrial  Differnce Fedot_Wins\n0        D1002   4.962077    4.996679          4.920500   0.041577        Win\n1        D1019   1.603820    1.575932          1.318095   0.257837        Win\n5        D1104   2.560476    1.533204          1.261557   0.271647        Win\n7        D1162   1.855330    2.169810          1.559203   0.296127        Win\n15       D1317   3.284125    3.058453          3.028002   0.030451        Win\n..         ...        ...         ...               ...        ...        ...\n377      M5684   7.602714    4.998233          3.876020   1.122212        Win\n383      M6225   1.262179    1.165949          1.144854   0.021094        Win\n390       M690  19.297647   18.324071         17.525603   0.798468        Win\n395      M8497  53.243833  156.956136         10.505216  42.738617        Win\n396      M8660  44.915792   47.634710         32.585812  12.329980        Win\n\n[99 rows x 6 columns]",
      "text/html": "<div>\n<style scoped>\n    .dataframe tbody tr th:only-of-type {\n        vertical-align: middle;\n    }\n\n    .dataframe tbody tr th {\n        vertical-align: top;\n    }\n\n    .dataframe thead th {\n        text-align: right;\n    }\n</style>\n<table border=\"1\" class=\"dataframe\">\n  <thead>\n    <tr style=\"text-align: right;\">\n      <th></th>\n      <th>Unnamed: 0</th>\n      <th>autogluon</th>\n      <th>nbeats</th>\n      <th>Fedot_Industrial</th>\n      <th>Differnce</th>\n      <th>Fedot_Wins</th>\n    </tr>\n  </thead>\n  <tbody>\n    <tr>\n      <th>0</th>\n      <td>D1002</td>\n      <td>4.962077</td>\n      <td>4.996679</td>\n      <td>4.920500</td>\n      <td>0.041577</td>\n      <td>Win</td>\n    </tr>\n    <tr>\n      <th>1</th>\n      <td>D1019</td>\n      <td>1.603820</td>\n      <td>1.575932</td>\n      <td>1.318095</td>\n      <td>0.257837</td>\n      <td>Win</td>\n    </tr>\n    <tr>\n      <th>5</th>\n      <td>D1104</td>\n      <td>2.560476</td>\n      <td>1.533204</td>\n      <td>1.261557</td>\n      <td>0.271647</td>\n      <td>Win</td>\n    </tr>\n    <tr>\n      <th>7</th>\n      <td>D1162</td>\n      <td>1.855330</td>\n      <td>2.169810</td>\n      <td>1.559203</td>\n      <td>0.296127</td>\n      <td>Win</td>\n    </tr>\n    <tr>\n      <th>15</th>\n      <td>D1317</td>\n      <td>3.284125</td>\n      <td>3.058453</td>\n      <td>3.028002</td>\n      <td>0.030451</td>\n      <td>Win</td>\n    </tr>\n    <tr>\n      <th>...</th>\n      <td>...</td>\n      <td>...</td>\n      <td>...</td>\n      <td>...</td>\n      <td>...</td>\n      <td>...</td>\n    </tr>\n    <tr>\n      <th>377</th>\n      <td>M5684</td>\n      <td>7.602714</td>\n      <td>4.998233</td>\n      <td>3.876020</td>\n      <td>1.122212</td>\n      <td>Win</td>\n    </tr>\n    <tr>\n      <th>383</th>\n      <td>M6225</td>\n      <td>1.262179</td>\n      <td>1.165949</td>\n      <td>1.144854</td>\n      <td>0.021094</td>\n      <td>Win</td>\n    </tr>\n    <tr>\n      <th>390</th>\n      <td>M690</td>\n      <td>19.297647</td>\n      <td>18.324071</td>\n      <td>17.525603</td>\n      <td>0.798468</td>\n      <td>Win</td>\n    </tr>\n    <tr>\n      <th>395</th>\n      <td>M8497</td>\n      <td>53.243833</td>\n      <td>156.956136</td>\n      <td>10.505216</td>\n      <td>42.738617</td>\n      <td>Win</td>\n    </tr>\n    <tr>\n      <th>396</th>\n      <td>M8660</td>\n      <td>44.915792</td>\n      <td>47.634710</td>\n      <td>32.585812</td>\n      <td>12.329980</td>\n      <td>Win</td>\n    </tr>\n  </tbody>\n</table>\n<p>99 rows × 6 columns</p>\n</div>"
     },
     "execution_count": 89,
     "metadata": {},
     "output_type": "execute_result"
    }
   ],
   "source": [
    "df_daily[df_daily['Fedot_Wins'] == 'Win']"
   ],
   "metadata": {
    "collapsed": false,
    "pycharm": {
     "name": "#%%\n"
    }
   }
  },
  {
   "cell_type": "code",
   "execution_count": 90,
   "outputs": [],
   "source": [
    "clear_csv = df_daily.iloc[:, :-2].rank(axis=1)"
   ],
   "metadata": {
    "collapsed": false,
    "pycharm": {
     "name": "#%%\n"
    }
   }
  },
  {
   "cell_type": "code",
   "execution_count": 91,
   "outputs": [
    {
     "data": {
      "text/plain": "126"
     },
     "execution_count": 91,
     "metadata": {},
     "output_type": "execute_result"
    }
   ],
   "source": [
    "clear_csv[clear_csv['autogluon'] == 1].shape[0]"
   ],
   "metadata": {
    "collapsed": false,
    "pycharm": {
     "name": "#%%\n"
    }
   }
  },
  {
   "cell_type": "code",
   "execution_count": 92,
   "outputs": [
    {
     "data": {
      "text/plain": "175"
     },
     "execution_count": 92,
     "metadata": {},
     "output_type": "execute_result"
    }
   ],
   "source": [
    "clear_csv[clear_csv['nbeats'] == 1].shape[0]"
   ],
   "metadata": {
    "collapsed": false,
    "pycharm": {
     "name": "#%%\n"
    }
   }
  },
  {
   "cell_type": "code",
   "execution_count": 93,
   "outputs": [
    {
     "data": {
      "text/plain": "99"
     },
     "execution_count": 93,
     "metadata": {},
     "output_type": "execute_result"
    }
   ],
   "source": [
    "clear_csv[clear_csv['Fedot_Industrial'] == 1].shape[0]"
   ],
   "metadata": {
    "collapsed": false,
    "pycharm": {
     "name": "#%%\n"
    }
   }
  },
  {
   "cell_type": "code",
   "execution_count": 94,
   "outputs": [
    {
     "data": {
      "text/plain": "                  mean rank\nnbeats                 1.78\nautogluon              1.97\nFedot_Industrial       2.25",
      "text/html": "<div>\n<style scoped>\n    .dataframe tbody tr th:only-of-type {\n        vertical-align: middle;\n    }\n\n    .dataframe tbody tr th {\n        vertical-align: top;\n    }\n\n    .dataframe thead th {\n        text-align: right;\n    }\n</style>\n<table border=\"1\" class=\"dataframe\">\n  <thead>\n    <tr style=\"text-align: right;\">\n      <th></th>\n      <th>mean rank</th>\n    </tr>\n  </thead>\n  <tbody>\n    <tr>\n      <th>nbeats</th>\n      <td>1.78</td>\n    </tr>\n    <tr>\n      <th>autogluon</th>\n      <td>1.97</td>\n    </tr>\n    <tr>\n      <th>Fedot_Industrial</th>\n      <td>2.25</td>\n    </tr>\n  </tbody>\n</table>\n</div>"
     },
     "execution_count": 94,
     "metadata": {},
     "output_type": "execute_result"
    }
   ],
   "source": [
    "pd.DataFrame(clear_csv.rank(axis=1).mean(axis=0).sort_values(), columns=['mean rank'])"
   ],
   "metadata": {
    "collapsed": false,
    "pycharm": {
     "name": "#%%\n"
    }
   }
  },
  {
   "cell_type": "code",
   "execution_count": null,
   "outputs": [],
   "source": [],
   "metadata": {
    "collapsed": false,
    "pycharm": {
     "name": "#%%\n"
    }
   }
  }
 ],
 "metadata": {
  "kernelspec": {
   "display_name": "Python 3 (ipykernel)",
   "language": "python",
   "name": "python3"
  },
  "language_info": {
   "codemirror_mode": {
    "name": "ipython",
    "version": 3
   },
   "file_extension": ".py",
   "mimetype": "text/x-python",
   "name": "python",
   "nbconvert_exporter": "python",
   "pygments_lexer": "ipython3",
   "version": "3.8.0"
  }
 },
 "nbformat": 4,
 "nbformat_minor": 5
}