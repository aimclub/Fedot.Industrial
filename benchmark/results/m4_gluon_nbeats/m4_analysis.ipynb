{
 "cells": [
  {
   "cell_type": "code",
   "execution_count": 19,
   "id": "2f9d3d33-d1a9-4a06-8372-0af3dd25d86b",
   "metadata": {},
   "outputs": [],
   "source": [
    "from scipy.stats import stats\n",
    "from sktime.performance_metrics.forecasting import mean_absolute_scaled_error\n",
    "import os\n",
    "from d import len_d\n",
    "import pandas as pd\n",
    "from pathlib import Path\n",
    "import numpy as np\n",
    "\n",
    "def MASE(A, F, y_train):\n",
    "    return mean_absolute_scaled_error(A, F, y_train=y_train)\n",
    "\n",
    "\n",
    "def SMAPE(a, f, _=None):\n",
    "    return 1 / len(a) * np.sum(2 * np.abs(f - a) / (np.abs(a) + np.abs(f)) * 100)"
   ]
  },
  {
   "cell_type": "code",
   "execution_count": 20,
   "id": "ed19335d-2a6b-48d3-93db-1f1c24c5cd6e",
   "metadata": {},
   "outputs": [],
   "source": [
    "autogluon = 'autogluon'\n",
    "nbeats = 'nbeats'\n",
    "\n",
    "ids_to_proceed = []\n",
    "global_metrics = {}\n",
    "targets= {}"
   ]
  },
  {
   "cell_type": "code",
   "execution_count": 22,
   "id": "4f2ba63a-a36c-441c-9347-8bf9b3f51140",
   "metadata": {},
   "outputs": [],
   "source": [
    "metrics_f = {}\n",
    "for i in os.listdir(autogluon):\n",
    "    if i.endswith('csv'):\n",
    "        idx = i.split('_')[0]\n",
    "        ids_to_proceed.append(idx)\n",
    "        df = pd.read_csv(Path(autogluon, i))\n",
    "        #real_values = concated_df[concated_df['label'] == idx]['value'].values\n",
    "        targets[idx] = df['value']\n",
    "        metrics_f[idx] = SMAPE(df['value'], df['predict'])\n",
    "global_metrics[autogluon] = metrics_f\n",
    "\n",
    "metrics_f = {}\n",
    "for i in os.listdir(nbeats):\n",
    "    if i.endswith('csv'):\n",
    "        idx = i.split('_')[0]\n",
    "        ids_to_proceed.append(idx)\n",
    "        df = pd.read_csv(Path(nbeats, i))\n",
    "        #real_values = concated_df[concated_df['label'] == idx]['value'].values\n",
    "        targets[idx] = df['value']\n",
    "        metrics_f[idx] = SMAPE(df['value'], df['predict'])\n",
    "global_metrics[nbeats] = metrics_f"
   ]
  },
  {
   "cell_type": "code",
   "execution_count": 25,
   "id": "08476c5f-a182-46d4-8c29-1dcc407079f9",
   "metadata": {},
   "outputs": [
    {
     "name": "stdout",
     "output_type": "stream",
     "text": [
      "D\n",
      "0.5 quantile\n",
      "metric\n",
      "1 nbeats 1.95\n",
      "2 autogluon 2.37\n",
      "W\n",
      "0.5 quantile\n",
      "metric\n",
      "1 nbeats 4.38\n",
      "2 autogluon 5.96\n",
      "M\n",
      "0.5 quantile\n",
      "metric\n",
      "1 autogluon 7.4\n",
      "2 nbeats 7.63\n",
      "Q\n",
      "0.5 quantile\n",
      "metric\n",
      "1 autogluon 6.17\n",
      "2 nbeats 8.19\n",
      "Y\n",
      "0.5 quantile\n",
      "metric\n",
      "1 autogluon 7.6\n",
      "2 nbeats 12.65\n",
      "all\n",
      "0.5 quantile\n",
      "metric\n",
      "1 nbeats 4.64\n",
      "2 autogluon 4.7\n"
     ]
    }
   ],
   "source": [
    "df_full = pd.DataFrame()\n",
    "\n",
    "#stats.ttest_rel(pre, post)\n",
    "\n",
    "for k, v in global_metrics.items():\n",
    "    df = pd.DataFrame(v, index=[k])\n",
    "    df_full = pd.concat([df_full, df], axis=0)\n",
    "\n",
    "df_full = df_full.dropna(axis=1)\n",
    "for i in ['D', 'W',  'M', 'Q', 'Y', 'all']:\n",
    "    quantile_df = pd.DataFrame()\n",
    "    if i != 'all':\n",
    "        filter_col = [col for col in df_full if col.startswith(i)]\n",
    "        d__ = df_full[filter_col]\n",
    "    else:\n",
    "        d__ = df_full\n",
    "    quantiles = [0.5]\n",
    "    d__ = d__.dropna(axis=1)\n",
    "    for q in quantiles:\n",
    "\n",
    "        d_ = d__.quantile(q, axis=1).round(3)\n",
    "        quantile_df = pd.concat([quantile_df, d_], axis=1)\n",
    "        if np.isnan(d_[0]):\n",
    "            continue\n",
    "\n",
    "        #quantile_df.to_excel(f'{i}_quantiles.xlsx', index=True)\n",
    "        print(i)\n",
    "        print(f'{q} quantile')\n",
    "        print('metric')\n",
    "        for j, v in enumerate(d_.sort_values().index):\n",
    "            print(j + 1, v, round(d_[v], 2))\n",
    "\n",
    "    quantile_df.columns = quantiles\n",
    "\n",
    "top_k = 1\n",
    "wins_count = d__.apply(lambda x: x.nsmallest(top_k)).notnull().sum(axis=1).sort_values(ascending=False)"
   ]
  },
  {
   "cell_type": "markdown",
   "id": "9d9d482e-4b86-498d-9e28-6a9007695e98",
   "metadata": {},
   "source": [
    "# Кол-во побед"
   ]
  },
  {
   "cell_type": "code",
   "execution_count": 26,
   "id": "442f3170-8a53-4e44-bf22-b777792ed0ed",
   "metadata": {},
   "outputs": [
    {
     "data": {
      "text/plain": [
       "nbeats       435\n",
       "autogluon    425\n",
       "dtype: int64"
      ]
     },
     "execution_count": 26,
     "metadata": {},
     "output_type": "execute_result"
    }
   ],
   "source": [
    "wins_count"
   ]
  },
  {
   "cell_type": "markdown",
   "id": "323d660f-ad40-4393-9740-5768a3e40bb3",
   "metadata": {},
   "source": [
    "# лейблы рядов"
   ]
  },
  {
   "cell_type": "code",
   "execution_count": 28,
   "id": "065103cb-e1e1-4994-bd52-743f3ac32568",
   "metadata": {},
   "outputs": [
    {
     "name": "stdout",
     "output_type": "stream",
     "text": [
      "['D1002', 'D1019', 'D1032', 'D1091', 'D1101', 'D1104', 'D1124', 'D1162', 'D1170', 'D1204', 'D1219', 'D1232', 'D1263', 'D1270', 'D1279', 'D1317', 'D1322', 'D1329', 'D133', 'D1368', 'D1378', 'D137', 'D1380', 'D1384', 'D1411', 'D1424', 'D1432', 'D1433', 'D1434', 'D1438', 'D1448', 'D1450', 'D1459', 'D145', 'D1464', 'D1475', 'D1519', 'D152', 'D1540', 'D1551', 'D1577', 'D1616', 'D1651', 'D1679', 'D1693', 'D1706', 'D1712', 'D1735', 'D1740', 'D1847', 'D1872', 'D1875', 'D1949', 'D1964', 'D1972', 'D1988', 'D2013', 'D2025', 'D2027', 'D2032', 'D2057', 'D2088', 'D2114', 'D2144', 'D2162', 'D2214', 'D2221', 'D2262', 'D2268', 'D2334', 'D2343', 'D237', 'D2393', 'D2484', 'D2486', 'D250', 'D2534', 'D2552', 'D2600', 'D261', 'D2648', 'D2670', 'D2698', 'D2717', 'D2729', 'D2797', 'D282', 'D2850', 'D2878', 'D2904', 'D292', 'D2979', 'D2991', 'D3006', 'D3012', 'D3023', 'D3029', 'D3043', 'D3046', 'D3050', 'D3055', 'D3067', 'D3082', 'D3083', 'D3085', 'D3094', 'D312', 'D3135', 'D3140', 'D3167', 'D3178', 'D319', 'D3222', 'D324', 'D3257', 'D3266', 'D3278', 'D3293', 'D3298', 'D3302', 'D3322', 'D3337', 'D3353', 'D3364', 'D3386', 'D3481', 'D3498', 'D3505', 'D3520', 'D3530', 'D3548', 'D3569', 'D3581', 'D3584', 'D3587', 'D3594', 'D3599', 'D3608', 'D3611', 'D3626', 'D3637', 'D3678', 'D3681', 'D3686', 'D3691', 'D3697', 'D3721', 'D3737', 'D3745', 'D376', 'D3779', 'D3787', 'D3792', 'D3816', 'D3819', 'D3823', 'D3845', 'D3920', 'D3935', 'D3991', 'D4043', 'D404', 'D4066', 'D4097', 'D4146', 'D4150', 'D4167', 'D420', 'D4210', 'D4218', 'D435', 'D462', 'D465', 'D535', 'D543', 'D548', 'D569', 'D56', 'D63', 'D640', 'D652', 'D678', 'D723', 'D750', 'D761', 'D771', 'D825', 'D826', 'D828', 'D852', 'D856', 'D870', 'D8', 'D902', 'D910', 'D939', 'D954', 'D967', 'D970', 'D973', 'M10641', 'M1080', 'M11010', 'M11230', 'M11654', 'M11779', 'M11806', 'M12209', 'M12241', 'M12422', 'M12452', 'M13030', 'M13157', 'M13617', 'M13727', 'M13796', 'M14148', 'M15150', 'M15443', 'M15510', 'M15559', 'M15902', 'M16100', 'M16137', 'M1630', 'M16405', 'M16731', 'M16863', 'M16927', 'M17178', 'M17510', 'M17665', 'M17901', 'M17917', 'M18021', 'M18132', 'M18267', 'M18489', 'M18550', 'M18663', 'M19181', 'M19216', 'M19553', 'M20010', 'M20194', 'M20218', 'M20318', 'M20429', 'M2061', 'M20788', 'M2101', 'M21476', 'M22137', 'M22184', 'M22916', 'M23005', 'M23136', 'M23572', 'M23842', 'M23923', 'M24186', 'M24396', 'M24648', 'M24684', 'M24777', 'M24988', 'M25052', 'M25586', 'M25661', 'M26386', 'M26416', 'M26418', 'M26506', 'M27047', 'M27900', 'M28161', 'M2830', 'M28678', 'M29276', 'M29608', 'M30319', 'M30428', 'M30459', 'M30623', 'M30696', 'M3075', 'M31073', 'M31163', 'M31375', 'M31442', 'M31954', 'M31964', 'M32473', 'M32515', 'M32607', 'M3276', 'M32905', 'M33076', 'M33543', 'M34126', 'M34214', 'M34318', 'M34347', 'M34499', 'M34536', 'M34564', 'M35054', 'M35216', 'M35305', 'M35407', 'M35499', 'M35872', 'M35933', 'M36401', 'M36641', 'M36658', 'M36695', 'M36829', 'M36886', 'M37206', 'M37276', 'M37366', 'M37635', 'M37647', 'M37980', 'M38216', 'M38297', 'M38361', 'M38371', 'M384', 'M38662', 'M3876', 'M39015', 'M3909', 'M39253', 'M3937', 'M39415', 'M3953', 'M39588', 'M39702', 'M39715', 'M39723', 'M39793', 'M40077', 'M40467', 'M40808', 'M41148', 'M41149', 'M41150', 'M41172', 'M41657', 'M41691', 'M42102', 'M42327', 'M42494', 'M42518', 'M42862', 'M43022', 'M43330', 'M4334', 'M43394', 'M43760', 'M43904', 'M43912', 'M44515', 'M44608', 'M45146', 'M45468', 'M45633', 'M45668', 'M46411', 'M47220', 'M47277', 'M47556', 'M4845', 'M5151', 'M5216', 'M5684', 'M5831', 'M5992', 'M6032', 'M6047', 'M6175', 'M6225', 'M6295', 'M6462', 'M6539', 'M6564', 'M6612', 'M6694', 'M690', 'M69', 'M8051', 'M8152', 'M8178', 'M8497', 'M8660', 'M9322', 'M9385', 'M9795', 'Q10070', 'Q10262', 'Q10292', 'Q10466', 'Q10598', 'Q10665', 'Q1069', 'Q10743', 'Q10800', 'Q10881', 'Q11031', 'Q11433', 'Q11460', 'Q1147', 'Q11772', 'Q12090', 'Q12115', 'Q12140', 'Q12172', 'Q1236', 'Q12422', 'Q12558', 'Q12612', 'Q12672', 'Q12826', 'Q12955', 'Q1299', 'Q13004', 'Q13011', 'Q13029', 'Q13162', 'Q13394', 'Q13436', 'Q13698', 'Q13728', 'Q13880', 'Q13965', 'Q14148', 'Q14792', 'Q14846', 'Q1488', 'Q15102', 'Q15356', 'Q15369', 'Q15391', 'Q15464', 'Q15498', 'Q15849', 'Q15924', 'Q15925', 'Q16037', 'Q16228', 'Q16233', 'Q16647', 'Q16713', 'Q16774', 'Q17039', 'Q17364', 'Q17517', 'Q17664', 'Q1800', 'Q18088', 'Q18248', 'Q18259', 'Q18316', 'Q18394', 'Q18399', 'Q1848', 'Q18684', 'Q18732', 'Q18748', 'Q19396', 'Q19419', 'Q19513', 'Q19523', 'Q19528', 'Q19600', 'Q19791', 'Q19806', 'Q1991', 'Q1993', 'Q20155', 'Q20178', 'Q20231', 'Q2037', 'Q20491', 'Q20560', 'Q20586', 'Q20842', 'Q20975', 'Q20980', 'Q21004', 'Q2103', 'Q21054', 'Q2112', 'Q2119', 'Q2124', 'Q21744', 'Q21761', 'Q21774', 'Q21861', 'Q21974', 'Q21987', 'Q22114', 'Q22152', 'Q22342', 'Q22662', 'Q22876', 'Q22943', 'Q23100', 'Q23137', 'Q23294', 'Q23308', 'Q23502', 'Q23549', 'Q23694', 'Q23760', 'Q23833', 'Q2416', 'Q2433', 'Q2443', 'Q2445', 'Q2780', 'Q2784', 'Q2922', 'Q2940', 'Q2981', 'Q2998', 'Q3223', 'Q3383', 'Q3446', 'Q3483', 'Q3534', 'Q3604', 'Q3606', 'Q363', 'Q3680', 'Q3701', 'Q3750', 'Q3855', 'Q3938', 'Q4102', 'Q4308', 'Q4545', 'Q4552', 'Q4713', 'Q47', 'Q4895', 'Q4954', 'Q5049', 'Q5114', 'Q5278', 'Q5294', 'Q561', 'Q5641', 'Q5678', 'Q5983', 'Q6074', 'Q6082', 'Q6138', 'Q6235', 'Q6316', 'Q6355', 'Q6363', 'Q6396', 'Q6423', 'Q6490', 'Q6631', 'Q6640', 'Q678', 'Q7034', 'Q7199', 'Q7204', 'Q7256', 'Q7307', 'Q7394', 'Q7425', 'Q7573', 'Q7757', 'Q7963', 'Q8076', 'Q8191', 'Q8274', 'Q8330', 'Q8345', 'Q8416', 'Q8525', 'Q883', 'Q8889', 'Q89', 'Q9211', 'Q9687', 'Q9816', 'Q9882', 'Q9977', 'W103', 'W105', 'W106', 'W107', 'W109', 'W10', 'W110', 'W111', 'W113', 'W116', 'W117', 'W118', 'W119', 'W121', 'W122', 'W123', 'W124', 'W129', 'W130', 'W132', 'W135', 'W138', 'W139', 'W13', 'W140', 'W142', 'W143', 'W144', 'W145', 'W147', 'W148', 'W149', 'W150', 'W151', 'W152', 'W156', 'W157', 'W159', 'W15', 'W163', 'W165', 'W16', 'W170', 'W171', 'W177', 'W180', 'W182', 'W183', 'W185', 'W187', 'W18', 'W190', 'W192', 'W195', 'W196', 'W197', 'W201', 'W202', 'W204', 'W207', 'W208', 'W210', 'W211', 'W212', 'W216', 'W217', 'W219', 'W21', 'W222', 'W223', 'W224', 'W227', 'W228', 'W229', 'W22', 'W230', 'W234', 'W235', 'W236', 'W237', 'W23', 'W243', 'W244', 'W245', 'W247', 'W249', 'W24', 'W250', 'W251', 'W252', 'W253', 'W254', 'W256', 'W259', 'W25', 'W261', 'W262', 'W263', 'W265', 'W266', 'W267', 'W269', 'W270', 'W271', 'W272', 'W276', 'W277', 'W280', 'W282', 'W283', 'W285', 'W287', 'W288', 'W28', 'W290', 'W291', 'W294', 'W295', 'W296', 'W297', 'W299', 'W300', 'W301', 'W302', 'W303', 'W304', 'W305', 'W306', 'W307', 'W308', 'W30', 'W313', 'W317', 'W318', 'W319', 'W320', 'W322', 'W324', 'W325', 'W328', 'W329', 'W32', 'W331', 'W334', 'W335', 'W336', 'W337', 'W338', 'W340', 'W342', 'W343', 'W344', 'W345', 'W348', 'W352', 'W353', 'W358', 'W359', 'W35', 'W38', 'W39', 'W3', 'W40', 'W43', 'W44', 'W4', 'W52', 'W53', 'W56', 'W59', 'W60', 'W61', 'W63', 'W64', 'W65', 'W66', 'W67', 'W68', 'W69', 'W70', 'W72', 'W75', 'W76', 'W78', 'W7', 'W81', 'W82', 'W84', 'W85', 'W87', 'W89', 'W90', 'W92', 'W94', 'W95', 'W96', 'W97', 'W98', 'W99', 'W9', 'Y10907', 'Y10908', 'Y11041', 'Y1107', 'Y11106', 'Y11116', 'Y11430', 'Y13802', 'Y14055', 'Y14324', 'Y14689', 'Y15626', 'Y15903', 'Y15920', 'Y16233', 'Y16249', 'Y16315', 'Y1665', 'Y16856', 'Y1695', 'Y173', 'Y18777', 'Y20444', 'Y20608', 'Y20781', 'Y22287', 'Y22329', 'Y2647', 'Y3207', 'Y3523', 'Y3668', 'Y3814', 'Y3836', 'Y3917', 'Y4396', 'Y4624', 'Y4640', 'Y4720', 'Y4805', 'Y5087', 'Y509', 'Y5212', 'Y5256', 'Y5257', 'Y5354', 'Y5583', 'Y5735', 'Y5899', 'Y6057', 'Y6131', 'Y6269', 'Y62', 'Y6574', 'Y6695', 'Y6716', 'Y6752', 'Y7134', 'Y7490', 'Y7503', 'Y7642', 'Y7690', 'Y7692', 'Y7942', 'Y7943', 'Y7967']\n"
     ]
    }
   ],
   "source": [
    "print(list(d__.columns.values))"
   ]
  },
  {
   "cell_type": "code",
   "execution_count": null,
   "id": "7863fdb6-0996-47c4-b183-65937c908766",
   "metadata": {},
   "outputs": [],
   "source": []
  }
 ],
 "metadata": {
  "kernelspec": {
   "display_name": "Python 3 (ipykernel)",
   "language": "python",
   "name": "python3"
  },
  "language_info": {
   "codemirror_mode": {
    "name": "ipython",
    "version": 3
   },
   "file_extension": ".py",
   "mimetype": "text/x-python",
   "name": "python",
   "nbconvert_exporter": "python",
   "pygments_lexer": "ipython3",
   "version": "3.8.0"
  }
 },
 "nbformat": 4,
 "nbformat_minor": 5
}
