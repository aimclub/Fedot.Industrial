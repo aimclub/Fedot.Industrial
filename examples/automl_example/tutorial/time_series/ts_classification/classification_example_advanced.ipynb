{
 "cells": [
  {
   "cell_type": "code",
   "execution_count": 1,
   "metadata": {
    "collapsed": true,
    "pycharm": {
     "name": "#%%\n"
    }
   },
   "outputs": [],
   "source": [
    "import numpy as np\n",
    "import pandas as pd\n",
    "from hyperopt import hp\n",
    "from fedot_ind.core.architecture.pipelines.abstract_pipeline import AbstractPipeline, ApiTemplate\n",
    "from pathlib import Path\n",
    "from fedot.core.data.data import InputData\n",
    "from fedot.core.data.data_split import train_test_data_setup\n",
    "from fedot.core.pipelines.pipeline_builder import PipelineBuilder\n",
    "from fedot.core.repository.tasks import TsForecastingParams, Task, TaskTypesEnum\n",
    "from matplotlib import pyplot as plt\n",
    "from sklearn.metrics import mean_squared_error, mean_absolute_percentage_error\n",
    "from fedot_ind.api.utils.path_lib import PROJECT_PATH\n",
    "from fedot_ind.core.architecture.settings.computational import backend_methods as np"
   ]
  },
  {
   "cell_type": "code",
   "execution_count": 2,
   "outputs": [],
   "source": [
    "def plot_mean_sample(X,y, labels:list = [], n_channel: int = 1):\n",
    "    mean_sample = []\n",
    "    if len(labels) == 0:\n",
    "        labels = list(np.unique(y))\n",
    "    for label in labels:\n",
    "        mean_sample.append(np.mean(X[y == label] , axis=0)) # Данные класса 1\n",
    "    #ax = plt.gca()\n",
    "    channels = [f'Channel {x}' for x in range(n_channel)]\n",
    "    df = pd.DataFrame(mean_sample).T\n",
    "    df.columns = labels\n",
    "    df.plot(kind ='line',subplots=True, layout=(1,len(labels)),figsize=(20,10))\n",
    "    plt.legend(fontsize='small')\n",
    "    plt.legend(loc='upper left', bbox_to_anchor=(1, 1))\n",
    "    plt.show()"
   ],
   "metadata": {
    "collapsed": false,
    "pycharm": {
     "name": "#%%\n"
    }
   }
  },
  {
   "cell_type": "code",
   "execution_count": 3,
   "outputs": [],
   "source": [
    "def plot_mean_sample_multi(X,y, labels:list = [], n_channel: int = None):\n",
    "    mean_sample = {}\n",
    "    if len(labels) == 0:\n",
    "        labels = list(np.unique(y))\n",
    "    if n_channel is None:\n",
    "        n_channel = X.shape[1]\n",
    "    channels = [f'Channel {x}' for x in range(n_channel)]\n",
    "    for label in labels:\n",
    "        mask = y == label\n",
    "        for chn in range(n_channel):\n",
    "            mean_sample.update({f'Label_{label}_channel_{chn}':np.mean(X[mask.flatten(),chn,:] , axis=0)}) # Данные класса 1\n",
    "    #ax = plt.gca()\n",
    "    df = pd.DataFrame(mean_sample)\n",
    "    df.plot(kind ='line')\n",
    "    plt.suptitle('Усреднённые семплы по классам')\n",
    "    plt.legend(fontsize='small')\n",
    "    plt.legend(loc='upper left', bbox_to_anchor=(1, 1))\n",
    "    plt.show()"
   ],
   "metadata": {
    "collapsed": false,
    "pycharm": {
     "name": "#%%\n"
    }
   }
  },
  {
   "cell_type": "code",
   "execution_count": 4,
   "outputs": [],
   "source": [
    "finetune = False\n",
    "metric_names = ('f1', 'accuracy', 'precision', 'roc_auc')\n",
    "api_config = dict(problem='classification',\n",
    "                  metric='accuracy',\n",
    "                  timeout=1,\n",
    "                  pop_size=10,\n",
    "                  with_tunig=False,\n",
    "                  n_jobs=2,\n",
    "                  logging_level=20)\n",
    "pipeline_creator = AbstractPipeline(task='classification')"
   ],
   "metadata": {
    "collapsed": false,
    "pycharm": {
     "name": "#%%\n"
    }
   }
  },
  {
   "cell_type": "markdown",
   "source": [],
   "metadata": {
    "collapsed": false,
    "pycharm": {
     "name": "#%% md\n"
    }
   }
  },
  {
   "cell_type": "markdown",
   "source": [
    "## Классификация с помощью геометрических преобразований"
   ],
   "metadata": {
    "collapsed": false,
    "pycharm": {
     "name": "#%% md\n"
    }
   }
  },
  {
   "cell_type": "code",
   "execution_count": 5,
   "outputs": [],
   "source": [
    "ECG = 'ECG200'\n",
    "topological_model = ['topological_extractor', 'rf']\n",
    "recurrence_model = ['recurrence_extractor', 'quantile_extractor', 'rf']"
   ],
   "metadata": {
    "collapsed": false,
    "pycharm": {
     "name": "#%%\n"
    }
   }
  },
  {
   "cell_type": "code",
   "execution_count": 6,
   "outputs": [],
   "source": [
    "ecg_dataset = pipeline_creator.create_input_data(ECG)"
   ],
   "metadata": {
    "collapsed": false,
    "pycharm": {
     "name": "#%%\n"
    }
   }
  },
  {
   "cell_type": "markdown",
   "source": [
    "### Topo Hyperparams"
   ],
   "metadata": {
    "collapsed": false,
    "pycharm": {
     "name": "#%% md\n"
    }
   }
  },
  {
   "cell_type": "code",
   "execution_count": 7,
   "outputs": [],
   "source": [
    "topological_params ={'window_size': {'hyperopt-dist': hp.choice, 'sampling-scope': [[x for x in range(5, 50, 5)]]},\n",
    "         'stride': {'hyperopt-dist': hp.choice, 'sampling-scope': [[x for x in range(1, 10, 1)]]}},"
   ],
   "metadata": {
    "collapsed": false,
    "pycharm": {
     "name": "#%%\n"
    }
   }
  },
  {
   "cell_type": "code",
   "execution_count": 8,
   "outputs": [],
   "source": [
    "stat_params = {'window_size': {'hyperopt-dist': hp.choice, 'sampling-scope': [[x for x in range(5, 50, 5)]]},\n",
    "         'stride': {'hyperopt-dist': hp.choice, 'sampling-scope': [[x for x in range(1, 10, 1)]]},\n",
    "         'add_global_features': {'hyperopt-dist': hp.choice, 'sampling-scope': [[True, False]]}}"
   ],
   "metadata": {
    "collapsed": false,
    "pycharm": {
     "name": "#%%\n"
    }
   }
  },
  {
   "cell_type": "code",
   "execution_count": 9,
   "outputs": [],
   "source": [
    "recurrence_params =         {'window_size': {'hyperopt-dist': hp.choice, 'sampling-scope': [[x for x in range(5, 50, 5)]]},\n",
    "         'stride': {'hyperopt-dist': hp.choice, 'sampling-scope': [[x for x in range(1, 10, 1)]]},\n",
    "         'rec_metric': (hp.choice, [['cosine', 'euclidean']]),\n",
    "         'image_mode': {'hyperopt-dist': hp.choice, 'sampling-scope': [[True, False]]}},"
   ],
   "metadata": {
    "collapsed": false,
    "pycharm": {
     "name": "#%%\n"
    }
   }
  },
  {
   "cell_type": "code",
   "execution_count": 10,
   "outputs": [],
   "source": [
    "rec_metric = 'cosine'\n",
    "image_mode = True\n",
    "window_size = 10\n",
    "stride = 1"
   ],
   "metadata": {
    "collapsed": false,
    "pycharm": {
     "name": "#%%\n"
    }
   }
  },
  {
   "cell_type": "code",
   "execution_count": 11,
   "outputs": [],
   "source": [
    "topological_node_dict = {'topological_extractor':{'window_size':window_size,\n",
    "                                         'stride':stride}}"
   ],
   "metadata": {
    "collapsed": false,
    "pycharm": {
     "name": "#%%\n"
    }
   }
  },
  {
   "cell_type": "code",
   "execution_count": 12,
   "outputs": [],
   "source": [
    "recurrence_node_dict = {'recurrence_extractor':{'window_size':window_size,\n",
    "                                         'stride':stride,\n",
    "                                          'rec_metric':rec_metric,\n",
    "                                           'image_mode':image_mode}}"
   ],
   "metadata": {
    "collapsed": false,
    "pycharm": {
     "name": "#%%\n"
    }
   }
  },
  {
   "cell_type": "code",
   "execution_count": 13,
   "outputs": [],
   "source": [
    "feature_extractor = pipeline_creator.create_pipeline(topological_node_dict)\n",
    "feature_matrix = feature_extractor.fit(ecg_dataset[0])"
   ],
   "metadata": {
    "collapsed": false,
    "pycharm": {
     "name": "#%%\n"
    }
   }
  },
  {
   "cell_type": "code",
   "execution_count": 14,
   "outputs": [
    {
     "data": {
      "text/plain": "<Figure size 2000x1000 with 2 Axes>",
      "image/png": "[encoded data removed]"
     },
     "metadata": {},
     "output_type": "display_data"
    }
   ],
   "source": [
    "plot_mean_sample(ecg_dataset[0].features,ecg_dataset[0].target)"
   ],
   "metadata": {
    "collapsed": false,
    "pycharm": {
     "name": "#%%\n"
    }
   }
  },
  {
   "cell_type": "code",
   "execution_count": 15,
   "outputs": [],
   "source": [
    "feature_extractor = pipeline_creator.create_pipeline(recurrence_node_dict)\n",
    "feature_matrix = feature_extractor.fit(ecg_dataset[0])"
   ],
   "metadata": {
    "collapsed": false,
    "pycharm": {
     "name": "#%%\n"
    }
   }
  },
  {
   "cell_type": "code",
   "execution_count": 16,
   "outputs": [
    {
     "data": {
      "text/plain": "(100, 3, 87, 87)"
     },
     "execution_count": 16,
     "metadata": {},
     "output_type": "execute_result"
    }
   ],
   "source": [
    "feature_matrix.predict.shape"
   ],
   "metadata": {
    "collapsed": false,
    "pycharm": {
     "name": "#%%\n"
    }
   }
  },
  {
   "cell_type": "code",
   "execution_count": 17,
   "outputs": [],
   "source": [
    "explain_config = {'method': 'recurrence',\n",
    "                  'samples': 1,\n",
    "                  'metric': 'mean'}"
   ],
   "metadata": {
    "collapsed": false,
    "pycharm": {
     "name": "#%%\n"
    }
   }
  },
  {
   "cell_type": "code",
   "execution_count": 18,
   "outputs": [],
   "source": [
    "from fedot_ind.tools.explain.explain import RecurrenceExplainer\n",
    "\n",
    "rec_explain = RecurrenceExplainer(model=feature_extractor,\n",
    "                                  features=feature_matrix.predict,\n",
    "                                  target=ecg_dataset[0].target)"
   ],
   "metadata": {
    "collapsed": false,
    "pycharm": {
     "name": "#%%\n"
    }
   }
  },
  {
   "cell_type": "code",
   "execution_count": 19,
   "outputs": [],
   "source": [
    "rec_explain.explain(**explain_config)"
   ],
   "metadata": {
    "collapsed": false,
    "pycharm": {
     "name": "#%%\n"
    }
   }
  },
  {
   "cell_type": "code",
   "execution_count": 20,
   "outputs": [],
   "source": [
    "rec_explain.visual()"
   ],
   "metadata": {
    "collapsed": false,
    "pycharm": {
     "name": "#%%\n"
    }
   }
  },
  {
   "cell_type": "code",
   "execution_count": 23,
   "outputs": [
    {
     "data": {
      "text/plain": "<Figure size 640x480 with 3 Axes>",
      "image/png": "[encoded data removed]"
     },
     "metadata": {},
     "output_type": "display_data"
    }
   ],
   "source": [
    "from fedot_ind.core.operation.transformation.data.kernel_matrix import colorise\n",
    "metric= 'mean'\n",
    "name = 'test'\n",
    "for classes, rec_matrix in rec_explain.rec_matrix_by_cls.items():\n",
    "        aggregated_rec_matrix = rec_explain.aggregate_func[metric](rec_matrix, axis=0)\n",
    "        aggregated_rec_matrix = colorise(aggregated_rec_matrix)\n",
    "        plt.imshow(aggregated_rec_matrix.T)\n",
    "        plt.colorbar()"
   ],
   "metadata": {
    "collapsed": false,
    "pycharm": {
     "name": "#%%\n"
    }
   }
  },
  {
   "cell_type": "code",
   "execution_count": 24,
   "outputs": [],
   "source": [
    "topological_list_model =  {'topological_extractor':{'window_size':window_size,\n",
    "                                         'stride':stride},\n",
    "                       'logit':{}}"
   ],
   "metadata": {
    "collapsed": false,
    "pycharm": {
     "name": "#%%\n"
    }
   }
  },
  {
   "cell_type": "code",
   "execution_count": 25,
   "outputs": [
    {
     "name": "stdout",
     "output_type": "stream",
     "text": [
      "Creating Dask Server\n",
      "2024-11-04 12:17:22,942 - To route to workers diagnostics web server please install jupyter-server-proxy: python -m pip install jupyter-server-proxy\n",
      "2024-11-04 12:17:22,978 - State start\n",
      "2024-11-04 12:17:22,988 -   Scheduler at: inproc://10.64.4.172/5996/1\n",
      "2024-11-04 12:17:22,989 -   dashboard at:  http://10.64.4.172:8787/status\n",
      "2024-11-04 12:17:22,990 - Registering Worker plugin shuffle\n",
      "2024-11-04 12:17:23,009 -       Start worker at: inproc://10.64.4.172/5996/4\n",
      "2024-11-04 12:17:23,010 -          Listening to:          inproc10.64.4.172\n",
      "2024-11-04 12:17:23,011 -           Worker name:                          0\n",
      "2024-11-04 12:17:23,012 -          dashboard at:          10.64.4.172:61698\n",
      "2024-11-04 12:17:23,012 - Waiting to connect to: inproc://10.64.4.172/5996/1\n",
      "2024-11-04 12:17:23,013 - -------------------------------------------------\n",
      "2024-11-04 12:17:23,014 -               Threads:                          8\n",
      "2024-11-04 12:17:23,014 -                Memory:                  31.95 GiB\n",
      "2024-11-04 12:17:23,015 -       Local Directory: C:\\Users\\user\\AppData\\Local\\Temp\\dask-scratch-space\\worker-ofvxoj7v\n",
      "2024-11-04 12:17:23,016 - -------------------------------------------------\n",
      "2024-11-04 12:17:23,018 - Register worker <WorkerState 'inproc://10.64.4.172/5996/4', name: 0, status: init, memory: 0, processing: 0>\n",
      "2024-11-04 12:17:23,020 - Starting worker compute stream, inproc://10.64.4.172/5996/4\n",
      "2024-11-04 12:17:23,021 - Starting established connection to inproc://10.64.4.172/5996/5\n",
      "2024-11-04 12:17:23,022 - Starting Worker plugin shuffle\n",
      "2024-11-04 12:17:23,023 -         Registered to: inproc://10.64.4.172/5996/1\n",
      "2024-11-04 12:17:23,023 - -------------------------------------------------\n",
      "2024-11-04 12:17:23,024 - Starting established connection to inproc://10.64.4.172/5996/1\n",
      "2024-11-04 12:17:23,028 - Receive client connection: Client-99a03bfb-9a8d-11ef-976c-b42e99a00ea1\n",
      "2024-11-04 12:17:23,030 - Starting established connection to inproc://10.64.4.172/5996/6\n",
      "AssumptionsHandler - Initial pipeline fitting started\n",
      "AssumptionsHandler - Initial pipeline was fitted successfully\n",
      "AssumptionsHandler - Memory consumption for fitting of the initial pipeline in main session: current 0.6 MiB, max: 0.7 MiB\n",
      "ApiComposer - Initial pipeline was fitted in 7.2 sec.\n",
      "AssumptionsHandler - Preset was changed to fast_train due to fit time estimation for initial model.\n",
      "ApiComposer - AutoML configured. Parameters tuning: True. Time limit: 1 min. Set of candidate models: ['xgboost', 'catboost', 'logit', 'dt', 'rf', 'mlp', 'lgbm', 'one_class_svm', 'inception_model', 'nbeats_model', 'tcn_model', 'deepar_model', 'channel_filtration', 'eigen_basis', 'wavelet_basis', 'fourier_basis', 'quantile_extractor', 'topological_extractor', 'minirocket_extractor', 'scaling', 'normalization', 'simple_imputation', 'kernel_pca'].\n",
      "ApiComposer - Timeout is too small for composing and is skipped because fit_time is 7.248042 sec.\n",
      "DataSourceSplitter - K-folds cross validation is applied.\n",
      "ApiComposer - Hyperparameters tuning started with 1 min. timeout\n",
      "DaskOptunaTuner - Hyperparameters optimization start: estimation of metric for initial graph\n",
      "DaskOptunaTuner - Initial graph: {'depth': 2, 'length': 2, 'nodes': [logit, topological_extractor]}\n",
      "logit - {}\n",
      "topological_extractor - {'window_size': 10, 'stride': 1} \n",
      "Initial metric: [0.759]\n",
      "2024-11-04 12:17:32,500 - Run out-of-band function '_register_with_scheduler'\n"
     ]
    },
    {
     "name": "stderr",
     "output_type": "stream",
     "text": [
      "[I 2024-11-04 12:17:32,502] A new study created in memory with name: no-name-3fe59ef6-c84c-4c3b-88a4-1ddc5fdd9233\n"
     ]
    },
    {
     "data": {
      "text/plain": "  0%|          | 0/100 [00:00<?, ?it/s]",
      "application/vnd.jupyter.widget-view+json": {
       "version_major": 2,
       "version_minor": 0,
       "model_id": "eddf63a3233d4969bc0f9d7115b0c9a3"
      }
     },
     "metadata": {},
     "output_type": "display_data"
    },
    {
     "name": "stdout",
     "output_type": "stream",
     "text": [
      "[I 2024-11-04 12:17:45,116] Trial 0 finished with value: -0.7694592988710637 and parameters: {'0 || logit | C': 1.915826061214538, '0 || logit | penalty': 'l1', '0 || logit | solver': 'liblinear'}. Best is trial 0 with value: -0.7694592988710637.\n",
      "[I 2024-11-04 12:17:46,121] Trial 1 finished with value: -0.7795603089720737 and parameters: {'0 || logit | C': 3.228270381361707, '0 || logit | penalty': 'l1', '0 || logit | solver': 'liblinear'}. Best is trial 1 with value: -0.7795603089720737.\n",
      "[I 2024-11-04 12:17:57,947] Trial 2 finished with value: -0.7896613190730838 and parameters: {'0 || logit | C': 6.264562801880035, '0 || logit | penalty': 'l1', '0 || logit | solver': 'liblinear'}. Best is trial 2 with value: -0.7896613190730838.\n",
      "[I 2024-11-04 12:17:59,146] Trial 3 finished with value: -0.7896613190730838 and parameters: {'0 || logit | C': 3.8629989120165695, '0 || logit | penalty': 'l2', '0 || logit | solver': 'liblinear'}. Best is trial 2 with value: -0.7896613190730838.\n",
      "[I 2024-11-04 12:18:10,693] Trial 4 finished with value: -0.7795603089720737 and parameters: {'0 || logit | C': 6.9244751026036315, '0 || logit | penalty': 'l1', '0 || logit | solver': 'liblinear'}. Best is trial 2 with value: -0.7896613190730838.\n",
      "[I 2024-11-04 12:18:11,911] Trial 5 finished with value: -0.7795603089720737 and parameters: {'0 || logit | C': 9.16441528250903, '0 || logit | penalty': 'l2', '0 || logit | solver': 'liblinear'}. Best is trial 2 with value: -0.7896613190730838.\n",
      "[I 2024-11-04 12:18:23,775] Trial 6 finished with value: -0.7896613190730838 and parameters: {'0 || logit | C': 5.363972691136909, '0 || logit | penalty': 'l1', '0 || logit | solver': 'liblinear'}. Best is trial 2 with value: -0.7896613190730838.\n",
      "[I 2024-11-04 12:18:24,765] Trial 7 finished with value: -0.7795603089720737 and parameters: {'0 || logit | C': 7.152064613432673, '0 || logit | penalty': 'l2', '0 || logit | solver': 'liblinear'}. Best is trial 2 with value: -0.7896613190730838.\n",
      "[I 2024-11-04 12:18:37,386] Trial 8 finished with value: -0.7896613190730838 and parameters: {'0 || logit | C': 9.98257719516082, '0 || logit | penalty': 'l1', '0 || logit | solver': 'liblinear'}. Best is trial 2 with value: -0.7896613190730838.\n",
      "[I 2024-11-04 12:18:38,098] Trial 9 finished with value: -0.7397504456327986 and parameters: {'0 || logit | C': 0.30106867989542574, '0 || logit | penalty': 'l1', '0 || logit | solver': 'liblinear'}. Best is trial 2 with value: -0.7896613190730838.\n",
      "Best params: {'0 || logit | C': 6.264562801880035, '0 || logit | penalty': 'l1', '0 || logit | solver': 'liblinear'}\n",
      "DaskOptunaTuner - Hyperparameters optimization finished\n",
      "DaskOptunaTuner - Return tuned graph due to the fact that obtained metric 0.790 equal or better than initial (+ 0.05% deviation) 0.760\n",
      "DaskOptunaTuner - Final graph: {'depth': 2, 'length': 2, 'nodes': [logit, topological_extractor]}\n",
      "logit - {'C': 6.264562801880035, 'penalty': 'l1', 'solver': 'liblinear'}\n",
      "topological_extractor - {'window_size': 10, 'stride': 1}\n",
      "DaskOptunaTuner - Final metric: 0.790\n",
      "ApiComposer - Hyperparameters tuning finished\n",
      "ApiComposer - Model generation finished\n",
      "FEDOT logger - Final pipeline was fitted\n",
      "FEDOT logger - Final pipeline: {'depth': 2, 'length': 2, 'nodes': [logit, topological_extractor]}\n",
      "logit - {'C': 6.264562801880035, 'penalty': 'l1', 'solver': 'liblinear'}\n",
      "topological_extractor - {'window_size': 10, 'stride': 1}\n",
      "MemoryAnalytics - Memory consumption for finish in main session: current 5.0 MiB, max: 5.5 MiB\n",
      "FEDOT logger - Predictions was saved in current directory.\n",
      "FEDOT logger - Predictions was saved in current directory.\n"
     ]
    }
   ],
   "source": [
    "result_dict_stat = ApiTemplate(api_config=api_config,\n",
    "                          metric_list=metric_names).eval(dataset=ECG,\n",
    "                                                         finetune=finetune,\n",
    "                                                         initial_assumption = topological_list_model)"
   ],
   "metadata": {
    "collapsed": false,
    "pycharm": {
     "name": "#%%\n"
    }
   }
  },
  {
   "cell_type": "code",
   "execution_count": 26,
   "outputs": [
    {
     "data": {
      "text/plain": "   accuracy   f1  precision\n0      0.56  0.0      0.249",
      "text/html": "<div>\n<style scoped>\n    .dataframe tbody tr th:only-of-type {\n        vertical-align: middle;\n    }\n\n    .dataframe tbody tr th {\n        vertical-align: top;\n    }\n\n    .dataframe thead th {\n        text-align: right;\n    }\n</style>\n<table border=\"1\" class=\"dataframe\">\n  <thead>\n    <tr style=\"text-align: right;\">\n      <th></th>\n      <th>accuracy</th>\n      <th>f1</th>\n      <th>precision</th>\n    </tr>\n  </thead>\n  <tbody>\n    <tr>\n      <th>0</th>\n      <td>0.56</td>\n      <td>0.0</td>\n      <td>0.249</td>\n    </tr>\n  </tbody>\n</table>\n</div>"
     },
     "execution_count": 26,
     "metadata": {},
     "output_type": "execute_result"
    }
   ],
   "source": [
    "result_dict_stat['metrics']"
   ],
   "metadata": {
    "collapsed": false,
    "pycharm": {
     "name": "#%%\n"
    }
   }
  },
  {
   "cell_type": "code",
   "execution_count": 11,
   "outputs": [
    {
     "data": {
      "text/plain": "(100, 1, 96)"
     },
     "execution_count": 11,
     "metadata": {},
     "output_type": "execute_result"
    }
   ],
   "source": [
    "ecg_dataset[0].features.shape"
   ],
   "metadata": {
    "collapsed": false,
    "pycharm": {
     "name": "#%%\n"
    }
   }
  },
  {
   "cell_type": "code",
   "execution_count": 12,
   "outputs": [],
   "source": [
    "multimodal_pipeline = {'recurrence_extractor': {\n",
    "        'window_size': 30,\n",
    "        'stride': 5,\n",
    "        'image_mode': True},\n",
    "        'resnet_model': {\n",
    "            'epochs': 50,\n",
    "            'batch_size': 8,\n",
    "            'model_name': 'ResNet50'}}"
   ],
   "metadata": {
    "collapsed": false,
    "pycharm": {
     "name": "#%%\n"
    }
   }
  },
  {
   "cell_type": "code",
   "execution_count": 13,
   "outputs": [
    {
     "name": "stdout",
     "output_type": "stream",
     "text": [
      "Creating Dask Server\n",
      "2024-11-04 12:44:17,000 - To route to workers diagnostics web server please install jupyter-server-proxy: python -m pip install jupyter-server-proxy\n",
      "2024-11-04 12:44:17,032 - State start\n",
      "2024-11-04 12:44:17,048 -   Scheduler at: inproc://10.64.4.172/21776/1\n",
      "2024-11-04 12:44:17,049 -   dashboard at:  http://10.64.4.172:8787/status\n",
      "2024-11-04 12:44:17,050 - Registering Worker plugin shuffle\n",
      "2024-11-04 12:44:17,061 -       Start worker at: inproc://10.64.4.172/21776/4\n",
      "2024-11-04 12:44:17,062 -          Listening to:          inproc10.64.4.172\n",
      "2024-11-04 12:44:17,063 -           Worker name:                          0\n",
      "2024-11-04 12:44:17,063 -          dashboard at:          10.64.4.172:63240\n",
      "2024-11-04 12:44:17,064 - Waiting to connect to: inproc://10.64.4.172/21776/1\n",
      "2024-11-04 12:44:17,064 - -------------------------------------------------\n",
      "2024-11-04 12:44:17,065 -               Threads:                          8\n",
      "2024-11-04 12:44:17,066 -                Memory:                  31.95 GiB\n",
      "2024-11-04 12:44:17,067 -       Local Directory: C:\\Users\\user\\AppData\\Local\\Temp\\dask-scratch-space\\worker-woqorv18\n",
      "2024-11-04 12:44:17,067 - -------------------------------------------------\n",
      "2024-11-04 12:44:17,070 - Register worker <WorkerState 'inproc://10.64.4.172/21776/4', name: 0, status: init, memory: 0, processing: 0>\n",
      "2024-11-04 12:44:17,072 - Starting worker compute stream, inproc://10.64.4.172/21776/4\n",
      "2024-11-04 12:44:17,072 - Starting established connection to inproc://10.64.4.172/21776/5\n",
      "2024-11-04 12:44:17,073 - Starting Worker plugin shuffle\n",
      "2024-11-04 12:44:17,074 -         Registered to: inproc://10.64.4.172/21776/1\n",
      "2024-11-04 12:44:17,075 - -------------------------------------------------\n",
      "2024-11-04 12:44:17,076 - Starting established connection to inproc://10.64.4.172/21776/1\n",
      "2024-11-04 12:44:17,080 - Receive client connection: Client-5bad0a97-9a91-11ef-9510-b42e99a00ea1\n",
      "2024-11-04 12:44:17,082 - Starting established connection to inproc://10.64.4.172/21776/6\n",
      "AssumptionsHandler - Initial pipeline fitting started\n"
     ]
    },
    {
     "name": "stderr",
     "output_type": "stream",
     "text": [
      "100%|██████████| 7/7 [00:02<00:00,  3.14it/s]\n"
     ]
    },
    {
     "name": "stdout",
     "output_type": "stream",
     "text": [
      "Epoch: 1, Accuracy= 0.45454545454545453, Training Loss: 0.80\n"
     ]
    },
    {
     "name": "stderr",
     "output_type": "stream",
     "text": [
      "100%|██████████| 7/7 [00:02<00:00,  3.24it/s]\n"
     ]
    },
    {
     "name": "stdout",
     "output_type": "stream",
     "text": [
      "Epoch: 2, Accuracy= 0.6545454545454545, Training Loss: 0.64\n"
     ]
    },
    {
     "name": "stderr",
     "output_type": "stream",
     "text": [
      "100%|██████████| 7/7 [00:02<00:00,  3.09it/s]\n"
     ]
    },
    {
     "name": "stdout",
     "output_type": "stream",
     "text": [
      "Epoch: 3, Accuracy= 0.7090909090909091, Training Loss: 0.69\n",
      "EarlyStopping counter: 1 out of 15\n"
     ]
    },
    {
     "name": "stderr",
     "output_type": "stream",
     "text": [
      "100%|██████████| 7/7 [00:02<00:00,  3.30it/s]\n"
     ]
    },
    {
     "name": "stdout",
     "output_type": "stream",
     "text": [
      "Epoch: 4, Accuracy= 0.7090909090909091, Training Loss: 0.60\n"
     ]
    },
    {
     "name": "stderr",
     "output_type": "stream",
     "text": [
      "100%|██████████| 7/7 [00:01<00:00,  3.72it/s]\n"
     ]
    },
    {
     "name": "stdout",
     "output_type": "stream",
     "text": [
      "Epoch: 5, Accuracy= 0.7272727272727273, Training Loss: 0.60\n",
      "EarlyStopping counter: 1 out of 15\n"
     ]
    },
    {
     "name": "stderr",
     "output_type": "stream",
     "text": [
      "100%|██████████| 7/7 [00:01<00:00,  3.54it/s]\n"
     ]
    },
    {
     "name": "stdout",
     "output_type": "stream",
     "text": [
      "Epoch: 6, Accuracy= 0.6363636363636364, Training Loss: 0.64\n",
      "EarlyStopping counter: 2 out of 15\n"
     ]
    },
    {
     "name": "stderr",
     "output_type": "stream",
     "text": [
      "100%|██████████| 7/7 [00:01<00:00,  3.64it/s]\n"
     ]
    },
    {
     "name": "stdout",
     "output_type": "stream",
     "text": [
      "Epoch: 7, Accuracy= 0.7636363636363637, Training Loss: 0.52\n"
     ]
    },
    {
     "name": "stderr",
     "output_type": "stream",
     "text": [
      "100%|██████████| 7/7 [00:01<00:00,  3.57it/s]\n"
     ]
    },
    {
     "name": "stdout",
     "output_type": "stream",
     "text": [
      "Epoch: 8, Accuracy= 0.6909090909090909, Training Loss: 0.67\n",
      "EarlyStopping counter: 1 out of 15\n"
     ]
    },
    {
     "name": "stderr",
     "output_type": "stream",
     "text": [
      "100%|██████████| 7/7 [00:01<00:00,  3.78it/s]\n"
     ]
    },
    {
     "name": "stdout",
     "output_type": "stream",
     "text": [
      "Epoch: 9, Accuracy= 0.7272727272727273, Training Loss: 0.54\n",
      "EarlyStopping counter: 2 out of 15\n"
     ]
    },
    {
     "name": "stderr",
     "output_type": "stream",
     "text": [
      "100%|██████████| 7/7 [00:02<00:00,  3.29it/s]\n"
     ]
    },
    {
     "name": "stdout",
     "output_type": "stream",
     "text": [
      "Epoch: 10, Accuracy= 0.7818181818181819, Training Loss: 0.47\n"
     ]
    },
    {
     "name": "stderr",
     "output_type": "stream",
     "text": [
      "100%|██████████| 7/7 [00:01<00:00,  3.64it/s]\n"
     ]
    },
    {
     "name": "stdout",
     "output_type": "stream",
     "text": [
      "Epoch: 11, Accuracy= 0.7090909090909091, Training Loss: 0.58\n",
      "EarlyStopping counter: 1 out of 15\n"
     ]
    },
    {
     "name": "stderr",
     "output_type": "stream",
     "text": [
      "100%|██████████| 7/7 [00:01<00:00,  3.69it/s]\n"
     ]
    },
    {
     "name": "stdout",
     "output_type": "stream",
     "text": [
      "Epoch: 12, Accuracy= 0.7454545454545455, Training Loss: 0.50\n",
      "EarlyStopping counter: 2 out of 15\n"
     ]
    },
    {
     "name": "stderr",
     "output_type": "stream",
     "text": [
      "100%|██████████| 7/7 [00:01<00:00,  3.54it/s]\n"
     ]
    },
    {
     "name": "stdout",
     "output_type": "stream",
     "text": [
      "Epoch: 13, Accuracy= 0.7636363636363637, Training Loss: 0.52\n",
      "EarlyStopping counter: 3 out of 15\n"
     ]
    },
    {
     "name": "stderr",
     "output_type": "stream",
     "text": [
      "100%|██████████| 7/7 [00:01<00:00,  3.70it/s]\n"
     ]
    },
    {
     "name": "stdout",
     "output_type": "stream",
     "text": [
      "Epoch: 14, Accuracy= 0.8, Training Loss: 0.47\n"
     ]
    },
    {
     "name": "stderr",
     "output_type": "stream",
     "text": [
      "100%|██████████| 7/7 [00:01<00:00,  3.56it/s]\n"
     ]
    },
    {
     "name": "stdout",
     "output_type": "stream",
     "text": [
      "Epoch: 15, Accuracy= 0.6727272727272727, Training Loss: 0.58\n",
      "EarlyStopping counter: 1 out of 15\n"
     ]
    },
    {
     "name": "stderr",
     "output_type": "stream",
     "text": [
      "100%|██████████| 7/7 [00:02<00:00,  3.48it/s]\n"
     ]
    },
    {
     "name": "stdout",
     "output_type": "stream",
     "text": [
      "Epoch: 16, Accuracy= 0.7090909090909091, Training Loss: 0.58\n",
      "EarlyStopping counter: 2 out of 15\n"
     ]
    },
    {
     "name": "stderr",
     "output_type": "stream",
     "text": [
      "100%|██████████| 7/7 [00:01<00:00,  3.73it/s]\n"
     ]
    },
    {
     "name": "stdout",
     "output_type": "stream",
     "text": [
      "Epoch: 17, Accuracy= 0.8, Training Loss: 0.49\n",
      "EarlyStopping counter: 3 out of 15\n"
     ]
    },
    {
     "name": "stderr",
     "output_type": "stream",
     "text": [
      "100%|██████████| 7/7 [00:01<00:00,  3.51it/s]\n"
     ]
    },
    {
     "name": "stdout",
     "output_type": "stream",
     "text": [
      "Epoch: 18, Accuracy= 0.7636363636363637, Training Loss: 0.45\n"
     ]
    },
    {
     "name": "stderr",
     "output_type": "stream",
     "text": [
      "100%|██████████| 7/7 [00:02<00:00,  2.96it/s]\n"
     ]
    },
    {
     "name": "stdout",
     "output_type": "stream",
     "text": [
      "Epoch: 19, Accuracy= 0.8363636363636363, Training Loss: 0.44\n"
     ]
    },
    {
     "name": "stderr",
     "output_type": "stream",
     "text": [
      "100%|██████████| 7/7 [00:03<00:00,  2.15it/s]\n"
     ]
    },
    {
     "name": "stdout",
     "output_type": "stream",
     "text": [
      "Epoch: 20, Accuracy= 0.8545454545454545, Training Loss: 0.37\n"
     ]
    },
    {
     "name": "stderr",
     "output_type": "stream",
     "text": [
      "100%|██████████| 7/7 [00:02<00:00,  2.52it/s]\n"
     ]
    },
    {
     "name": "stdout",
     "output_type": "stream",
     "text": [
      "Epoch: 21, Accuracy= 0.6545454545454545, Training Loss: 0.71\n",
      "EarlyStopping counter: 1 out of 15\n"
     ]
    },
    {
     "name": "stderr",
     "output_type": "stream",
     "text": [
      "100%|██████████| 7/7 [00:02<00:00,  3.48it/s]\n"
     ]
    },
    {
     "name": "stdout",
     "output_type": "stream",
     "text": [
      "Epoch: 22, Accuracy= 0.7272727272727273, Training Loss: 0.49\n",
      "EarlyStopping counter: 2 out of 15\n"
     ]
    },
    {
     "name": "stderr",
     "output_type": "stream",
     "text": [
      "100%|██████████| 7/7 [00:01<00:00,  3.55it/s]\n"
     ]
    },
    {
     "name": "stdout",
     "output_type": "stream",
     "text": [
      "Epoch: 23, Accuracy= 0.7818181818181819, Training Loss: 0.51\n",
      "EarlyStopping counter: 3 out of 15\n"
     ]
    },
    {
     "name": "stderr",
     "output_type": "stream",
     "text": [
      "100%|██████████| 7/7 [00:01<00:00,  3.61it/s]\n"
     ]
    },
    {
     "name": "stdout",
     "output_type": "stream",
     "text": [
      "Epoch: 24, Accuracy= 0.7272727272727273, Training Loss: 0.58\n",
      "EarlyStopping counter: 4 out of 15\n"
     ]
    },
    {
     "name": "stderr",
     "output_type": "stream",
     "text": [
      "100%|██████████| 7/7 [00:02<00:00,  3.46it/s]\n"
     ]
    },
    {
     "name": "stdout",
     "output_type": "stream",
     "text": [
      "Epoch: 25, Accuracy= 0.7090909090909091, Training Loss: 0.72\n",
      "EarlyStopping counter: 5 out of 15\n"
     ]
    },
    {
     "name": "stderr",
     "output_type": "stream",
     "text": [
      "100%|██████████| 7/7 [00:01<00:00,  3.55it/s]\n"
     ]
    },
    {
     "name": "stdout",
     "output_type": "stream",
     "text": [
      "Epoch: 26, Accuracy= 0.7454545454545455, Training Loss: 0.52\n",
      "EarlyStopping counter: 6 out of 15\n"
     ]
    },
    {
     "name": "stderr",
     "output_type": "stream",
     "text": [
      "100%|██████████| 7/7 [00:01<00:00,  3.67it/s]\n"
     ]
    },
    {
     "name": "stdout",
     "output_type": "stream",
     "text": [
      "Epoch: 27, Accuracy= 0.7090909090909091, Training Loss: 0.63\n",
      "EarlyStopping counter: 7 out of 15\n"
     ]
    },
    {
     "name": "stderr",
     "output_type": "stream",
     "text": [
      "100%|██████████| 7/7 [00:01<00:00,  3.69it/s]\n"
     ]
    },
    {
     "name": "stdout",
     "output_type": "stream",
     "text": [
      "Epoch: 28, Accuracy= 0.7090909090909091, Training Loss: 0.50\n",
      "EarlyStopping counter: 8 out of 15\n"
     ]
    },
    {
     "name": "stderr",
     "output_type": "stream",
     "text": [
      "100%|██████████| 7/7 [00:01<00:00,  3.60it/s]\n"
     ]
    },
    {
     "name": "stdout",
     "output_type": "stream",
     "text": [
      "Epoch: 29, Accuracy= 0.7090909090909091, Training Loss: 0.66\n",
      "EarlyStopping counter: 9 out of 15\n"
     ]
    },
    {
     "name": "stderr",
     "output_type": "stream",
     "text": [
      "100%|██████████| 7/7 [00:01<00:00,  3.64it/s]\n"
     ]
    },
    {
     "name": "stdout",
     "output_type": "stream",
     "text": [
      "Epoch: 30, Accuracy= 0.6545454545454545, Training Loss: 0.76\n",
      "EarlyStopping counter: 10 out of 15\n"
     ]
    },
    {
     "name": "stderr",
     "output_type": "stream",
     "text": [
      "100%|██████████| 7/7 [00:02<00:00,  3.36it/s]\n"
     ]
    },
    {
     "name": "stdout",
     "output_type": "stream",
     "text": [
      "Epoch: 31, Accuracy= 0.7272727272727273, Training Loss: 0.64\n",
      "EarlyStopping counter: 11 out of 15\n"
     ]
    },
    {
     "name": "stderr",
     "output_type": "stream",
     "text": [
      "100%|██████████| 7/7 [00:01<00:00,  3.64it/s]\n"
     ]
    },
    {
     "name": "stdout",
     "output_type": "stream",
     "text": [
      "Epoch: 32, Accuracy= 0.6727272727272727, Training Loss: 0.72\n",
      "EarlyStopping counter: 12 out of 15\n"
     ]
    },
    {
     "name": "stderr",
     "output_type": "stream",
     "text": [
      "100%|██████████| 7/7 [00:01<00:00,  3.62it/s]\n"
     ]
    },
    {
     "name": "stdout",
     "output_type": "stream",
     "text": [
      "Epoch: 33, Accuracy= 0.6727272727272727, Training Loss: 0.70\n",
      "EarlyStopping counter: 13 out of 15\n"
     ]
    },
    {
     "name": "stderr",
     "output_type": "stream",
     "text": [
      "100%|██████████| 7/7 [00:01<00:00,  3.56it/s]\n"
     ]
    },
    {
     "name": "stdout",
     "output_type": "stream",
     "text": [
      "Epoch: 34, Accuracy= 0.6727272727272727, Training Loss: 0.87\n",
      "EarlyStopping counter: 14 out of 15\n"
     ]
    },
    {
     "name": "stderr",
     "output_type": "stream",
     "text": [
      "100%|██████████| 7/7 [00:01<00:00,  3.54it/s]\n"
     ]
    },
    {
     "name": "stdout",
     "output_type": "stream",
     "text": [
      "Epoch: 35, Accuracy= 0.8181818181818182, Training Loss: 0.48\n",
      "EarlyStopping counter: 15 out of 15\n",
      "Early stopping\n",
      "AssumptionsHandler - Initial pipeline was fitted successfully\n",
      "AssumptionsHandler - Memory consumption for fitting of the initial pipeline in main session: current 2.3 MiB, max: 196.5 MiB\n",
      "ApiComposer - Initial pipeline was fitted in 257.7 sec.\n",
      "AssumptionsHandler - Preset was changed to fast_train due to fit time estimation for initial model.\n",
      "ApiComposer - AutoML configured. Parameters tuning: True. Time limit: 1 min. Set of candidate models: ['xgboost', 'catboost', 'logit', 'dt', 'rf', 'mlp', 'lgbm', 'one_class_svm', 'inception_model', 'nbeats_model', 'tcn_model', 'deepar_model', 'channel_filtration', 'eigen_basis', 'wavelet_basis', 'fourier_basis', 'quantile_extractor', 'topological_extractor', 'minirocket_extractor', 'scaling', 'normalization', 'simple_imputation', 'kernel_pca'].\n",
      "ApiComposer - Timeout is too small for composing and is skipped because fit_time is 257.743017 sec.\n",
      "DataSourceSplitter - K-folds cross validation is applied.\n",
      "ApiComposer - Time for pipeline composing was 0:00:00.\n",
      "The remaining 0.4 seconds are not enough to tune the hyperparameters.\n",
      "ApiComposer - Composed pipeline returned without tuning.\n",
      "ApiComposer - Model generation finished\n",
      "FEDOT logger - Already fitted initial pipeline is used\n",
      "FEDOT logger - Final pipeline: {'depth': 2, 'length': 2, 'nodes': [resnet_model, recurrence_extractor]}\n",
      "resnet_model - {'epochs': 50, 'batch_size': 8, 'model_name': 'ResNet50'}\n",
      "recurrence_extractor - {'window_size': 30, 'stride': 5, 'image_mode': True}\n",
      "MemoryAnalytics - Memory consumption for finish in main session: current 2.3 MiB, max: 196.5 MiB\n",
      "FEDOT logger - Predictions was saved in current directory.\n",
      "FEDOT logger - Predictions was saved in current directory.\n"
     ]
    }
   ],
   "source": [
    "result_dict = ApiTemplate(api_config=api_config,\n",
    "                          metric_list=('f1', 'accuracy')).eval(dataset=ECG,\n",
    "                                                               finetune=finetune,\n",
    "                                                               initial_assumption=multimodal_pipeline)"
   ],
   "metadata": {
    "collapsed": false,
    "pycharm": {
     "name": "#%%\n"
    }
   }
  },
  {
   "cell_type": "code",
   "execution_count": 15,
   "outputs": [
    {
     "data": {
      "text/plain": "   accuracy   f1\n0      0.63  0.0",
      "text/html": "<div>\n<style scoped>\n    .dataframe tbody tr th:only-of-type {\n        vertical-align: middle;\n    }\n\n    .dataframe tbody tr th {\n        vertical-align: top;\n    }\n\n    .dataframe thead th {\n        text-align: right;\n    }\n</style>\n<table border=\"1\" class=\"dataframe\">\n  <thead>\n    <tr style=\"text-align: right;\">\n      <th></th>\n      <th>accuracy</th>\n      <th>f1</th>\n    </tr>\n  </thead>\n  <tbody>\n    <tr>\n      <th>0</th>\n      <td>0.63</td>\n      <td>0.0</td>\n    </tr>\n  </tbody>\n</table>\n</div>"
     },
     "execution_count": 15,
     "metadata": {},
     "output_type": "execute_result"
    }
   ],
   "source": [
    "result_dict['metrics']"
   ],
   "metadata": {
    "collapsed": false,
    "pycharm": {
     "name": "#%%\n"
    }
   }
  },
  {
   "cell_type": "markdown",
   "source": [
    "### Прогнозирование с помощью топологических признаков"
   ],
   "metadata": {
    "collapsed": false,
    "pycharm": {
     "name": "#%% md\n"
    }
   }
  },
  {
   "cell_type": "code",
   "execution_count": 16,
   "outputs": [],
   "source": [
    "horizon = 365\n",
    "PATH = Path(PROJECT_PATH, 'examples', 'data', 'ices_areas_ts.csv')\n",
    "time_series_df = pd.read_csv(PATH).iloc[:, 1:]\n",
    "target_series = time_series_df['Карское'].values\n",
    "input_data = InputData.from_numpy_time_series(target_series,task=Task(TaskTypesEnum.ts_forecasting,task_params=TsForecastingParams(forecast_length=horizon)))\n",
    "train_data, test_data = train_test_data_setup(input_data)"
   ],
   "metadata": {
    "collapsed": false,
    "pycharm": {
     "name": "#%%\n"
    }
   }
  },
  {
   "cell_type": "markdown",
   "source": [
    "### Построение бейзлайна и топологической модели"
   ],
   "metadata": {
    "collapsed": false,
    "pycharm": {
     "name": "#%% md\n"
    }
   }
  },
  {
   "cell_type": "code",
   "execution_count": 17,
   "outputs": [],
   "source": [
    "from fedot_ind.core.repository.initializer_industrial_models import IndustrialModels\n",
    "repo = IndustrialModels().setup_repository()"
   ],
   "metadata": {
    "collapsed": false,
    "pycharm": {
     "name": "#%%\n"
    }
   }
  },
  {
   "cell_type": "code",
   "execution_count": 28,
   "outputs": [
    {
     "name": "stdout",
     "output_type": "stream",
     "text": [
      "LaggedTransformationImplementation - Window size of lagged transformation was changed by WindowSizeSelector from 0 to 1095\n"
     ]
    },
    {
     "ename": "KeyboardInterrupt",
     "evalue": "",
     "output_type": "error",
     "traceback": [
      "\u001B[1;31m---------------------------------------------------------------------------\u001B[0m",
      "\u001B[1;31mKeyboardInterrupt\u001B[0m                         Traceback (most recent call last)",
      "Cell \u001B[1;32mIn[28], line 2\u001B[0m\n\u001B[0;32m      1\u001B[0m pipeline_based \u001B[38;5;241m=\u001B[39m PipelineBuilder()\u001B[38;5;241m.\u001B[39madd_node(\u001B[38;5;124m'\u001B[39m\u001B[38;5;124mlagged\u001B[39m\u001B[38;5;124m'\u001B[39m)\u001B[38;5;241m.\u001B[39madd_node(\u001B[38;5;124m'\u001B[39m\u001B[38;5;124mtreg\u001B[39m\u001B[38;5;124m'\u001B[39m)\u001B[38;5;241m.\u001B[39mbuild()\n\u001B[1;32m----> 2\u001B[0m \u001B[43mpipeline_based\u001B[49m\u001B[38;5;241;43m.\u001B[39;49m\u001B[43mfit\u001B[49m\u001B[43m(\u001B[49m\u001B[43mtrain_data\u001B[49m\u001B[43m)\u001B[49m\n\u001B[0;32m      4\u001B[0m topological_pipeline \u001B[38;5;241m=\u001B[39m PipelineBuilder()\u001B[38;5;241m.\u001B[39madd_node(\u001B[38;5;124m'\u001B[39m\u001B[38;5;124mlagged\u001B[39m\u001B[38;5;124m'\u001B[39m)\u001B[38;5;241m.\u001B[39madd_node(\u001B[38;5;124m'\u001B[39m\u001B[38;5;124mtopological_features\u001B[39m\u001B[38;5;124m'\u001B[39m)\u001B[38;5;241m.\u001B[39madd_node(\u001B[38;5;124m'\u001B[39m\u001B[38;5;124mlagged\u001B[39m\u001B[38;5;124m'\u001B[39m, branch_idx\u001B[38;5;241m=\u001B[39m\u001B[38;5;241m2\u001B[39m)\u001B[38;5;241m.\u001B[39mjoin_branches(\u001B[38;5;124m'\u001B[39m\u001B[38;5;124mtreg\u001B[39m\u001B[38;5;124m'\u001B[39m)\u001B[38;5;241m.\u001B[39mbuild()\n\u001B[0;32m      5\u001B[0m topological_pipeline\u001B[38;5;241m.\u001B[39mfit(train_data)\n",
      "File \u001B[1;32m~\\AppData\\Local\\pypoetry\\Cache\\virtualenvs\\fedot-ind-bTwQVkVM-py3.9\\lib\\site-packages\\fedot\\core\\pipelines\\pipeline.py:197\u001B[0m, in \u001B[0;36mPipeline.fit\u001B[1;34m(self, input_data, time_constraint, n_jobs)\u001B[0m\n\u001B[0;32m    194\u001B[0m copied_input_data \u001B[38;5;241m=\u001B[39m \u001B[38;5;28mself\u001B[39m\u001B[38;5;241m.\u001B[39m_assign_data_to_nodes(copied_input_data)\n\u001B[0;32m    196\u001B[0m \u001B[38;5;28;01mif\u001B[39;00m time_constraint \u001B[38;5;129;01mis\u001B[39;00m \u001B[38;5;28;01mNone\u001B[39;00m:\n\u001B[1;32m--> 197\u001B[0m     train_predicted \u001B[38;5;241m=\u001B[39m \u001B[38;5;28;43mself\u001B[39;49m\u001B[38;5;241;43m.\u001B[39;49m\u001B[43m_fit\u001B[49m\u001B[43m(\u001B[49m\u001B[43minput_data\u001B[49m\u001B[38;5;241;43m=\u001B[39;49m\u001B[43mcopied_input_data\u001B[49m\u001B[43m)\u001B[49m\n\u001B[0;32m    198\u001B[0m \u001B[38;5;28;01melse\u001B[39;00m:\n\u001B[0;32m    199\u001B[0m     train_predicted \u001B[38;5;241m=\u001B[39m \u001B[38;5;28mself\u001B[39m\u001B[38;5;241m.\u001B[39m_fit_with_time_limit(input_data\u001B[38;5;241m=\u001B[39mcopied_input_data, time\u001B[38;5;241m=\u001B[39mtime_constraint)\n",
      "File \u001B[1;32m~\\AppData\\Local\\pypoetry\\Cache\\virtualenvs\\fedot-ind-bTwQVkVM-py3.9\\lib\\site-packages\\fedot\\core\\pipelines\\pipeline.py:112\u001B[0m, in \u001B[0;36mPipeline._fit\u001B[1;34m(self, input_data, process_state_dict, fitted_operations)\u001B[0m\n\u001B[0;32m    110\u001B[0m \u001B[38;5;28;01mwith\u001B[39;00m Timer() \u001B[38;5;28;01mas\u001B[39;00m t:\n\u001B[0;32m    111\u001B[0m     computation_time_update \u001B[38;5;241m=\u001B[39m \u001B[38;5;129;01mnot\u001B[39;00m \u001B[38;5;28mself\u001B[39m\u001B[38;5;241m.\u001B[39mroot_node\u001B[38;5;241m.\u001B[39mfitted_operation \u001B[38;5;129;01mor\u001B[39;00m \u001B[38;5;28mself\u001B[39m\u001B[38;5;241m.\u001B[39mcomputation_time \u001B[38;5;129;01mis\u001B[39;00m \u001B[38;5;28;01mNone\u001B[39;00m\n\u001B[1;32m--> 112\u001B[0m     train_predicted \u001B[38;5;241m=\u001B[39m \u001B[38;5;28;43mself\u001B[39;49m\u001B[38;5;241;43m.\u001B[39;49m\u001B[43mroot_node\u001B[49m\u001B[38;5;241;43m.\u001B[39;49m\u001B[43mfit\u001B[49m\u001B[43m(\u001B[49m\u001B[43minput_data\u001B[49m\u001B[38;5;241;43m=\u001B[39;49m\u001B[43minput_data\u001B[49m\u001B[43m)\u001B[49m\n\u001B[0;32m    113\u001B[0m     \u001B[38;5;28;01mif\u001B[39;00m computation_time_update:\n\u001B[0;32m    114\u001B[0m         \u001B[38;5;28mself\u001B[39m\u001B[38;5;241m.\u001B[39mcomputation_time \u001B[38;5;241m=\u001B[39m \u001B[38;5;28mround\u001B[39m(t\u001B[38;5;241m.\u001B[39mminutes_from_start, \u001B[38;5;241m3\u001B[39m)\n",
      "File \u001B[1;32m~\\AppData\\Local\\pypoetry\\Cache\\virtualenvs\\fedot-ind-bTwQVkVM-py3.9\\lib\\site-packages\\fedot\\core\\pipelines\\node.py:200\u001B[0m, in \u001B[0;36mPipelineNode.fit\u001B[1;34m(self, input_data)\u001B[0m\n\u001B[0;32m    198\u001B[0m \u001B[38;5;28;01mif\u001B[39;00m \u001B[38;5;28mself\u001B[39m\u001B[38;5;241m.\u001B[39mfitted_operation \u001B[38;5;129;01mis\u001B[39;00m \u001B[38;5;28;01mNone\u001B[39;00m:\n\u001B[0;32m    199\u001B[0m     \u001B[38;5;28;01mwith\u001B[39;00m Timer() \u001B[38;5;28;01mas\u001B[39;00m t:\n\u001B[1;32m--> 200\u001B[0m         \u001B[38;5;28mself\u001B[39m\u001B[38;5;241m.\u001B[39mfitted_operation, operation_predict \u001B[38;5;241m=\u001B[39m \u001B[38;5;28;43mself\u001B[39;49m\u001B[38;5;241;43m.\u001B[39;49m\u001B[43moperation\u001B[49m\u001B[38;5;241;43m.\u001B[39;49m\u001B[43mfit\u001B[49m\u001B[43m(\u001B[49m\u001B[43mparams\u001B[49m\u001B[38;5;241;43m=\u001B[39;49m\u001B[38;5;28;43mself\u001B[39;49m\u001B[38;5;241;43m.\u001B[39;49m\u001B[43m_parameters\u001B[49m\u001B[43m,\u001B[49m\n\u001B[0;32m    201\u001B[0m \u001B[43m                                                                      \u001B[49m\u001B[43mdata\u001B[49m\u001B[38;5;241;43m=\u001B[39;49m\u001B[43minput_data\u001B[49m\u001B[43m)\u001B[49m\n\u001B[0;32m    202\u001B[0m         \u001B[38;5;28mself\u001B[39m\u001B[38;5;241m.\u001B[39mfit_time_in_seconds \u001B[38;5;241m=\u001B[39m \u001B[38;5;28mround\u001B[39m(t\u001B[38;5;241m.\u001B[39mseconds_from_start, \u001B[38;5;241m3\u001B[39m)\n\u001B[0;32m    203\u001B[0m \u001B[38;5;28;01melse\u001B[39;00m:\n",
      "File \u001B[1;32m~\\AppData\\Local\\pypoetry\\Cache\\virtualenvs\\fedot-ind-bTwQVkVM-py3.9\\lib\\site-packages\\fedot\\core\\operations\\operation.py:87\u001B[0m, in \u001B[0;36mOperation.fit\u001B[1;34m(self, params, data)\u001B[0m\n\u001B[0;32m     75\u001B[0m \u001B[38;5;250m\u001B[39m\u001B[38;5;124;03m\"\"\"This method is used for defining and running of the evaluation strategy\u001B[39;00m\n\u001B[0;32m     76\u001B[0m \u001B[38;5;124;03mto train the operation with the data provided\u001B[39;00m\n\u001B[0;32m     77\u001B[0m \n\u001B[1;32m   (...)\u001B[0m\n\u001B[0;32m     83\u001B[0m \u001B[38;5;124;03m    tuple: trained operation and prediction on train data\u001B[39;00m\n\u001B[0;32m     84\u001B[0m \u001B[38;5;124;03m\"\"\"\u001B[39;00m\n\u001B[0;32m     85\u001B[0m \u001B[38;5;28mself\u001B[39m\u001B[38;5;241m.\u001B[39m_init(data\u001B[38;5;241m.\u001B[39mtask, params\u001B[38;5;241m=\u001B[39mparams, n_samples_data\u001B[38;5;241m=\u001B[39mdata\u001B[38;5;241m.\u001B[39mfeatures\u001B[38;5;241m.\u001B[39mshape[\u001B[38;5;241m0\u001B[39m])\n\u001B[1;32m---> 87\u001B[0m \u001B[38;5;28mself\u001B[39m\u001B[38;5;241m.\u001B[39mfitted_operation \u001B[38;5;241m=\u001B[39m \u001B[38;5;28;43mself\u001B[39;49m\u001B[38;5;241;43m.\u001B[39;49m\u001B[43m_eval_strategy\u001B[49m\u001B[38;5;241;43m.\u001B[39;49m\u001B[43mfit\u001B[49m\u001B[43m(\u001B[49m\u001B[43mtrain_data\u001B[49m\u001B[38;5;241;43m=\u001B[39;49m\u001B[43mdata\u001B[49m\u001B[43m)\u001B[49m\n\u001B[0;32m     89\u001B[0m predict_train \u001B[38;5;241m=\u001B[39m \u001B[38;5;28mself\u001B[39m\u001B[38;5;241m.\u001B[39mpredict_for_fit(\u001B[38;5;28mself\u001B[39m\u001B[38;5;241m.\u001B[39mfitted_operation, data, params)\n\u001B[0;32m     91\u001B[0m \u001B[38;5;28;01mreturn\u001B[39;00m \u001B[38;5;28mself\u001B[39m\u001B[38;5;241m.\u001B[39mfitted_operation, predict_train\n",
      "File \u001B[1;32mD:\\WORK\\Repo\\Industiral\\IndustrialTS\\fedot_ind\\core\\operation\\interfaces\\industrial_model_strategy.py:150\u001B[0m, in \u001B[0;36mIndustrialSkLearnEvaluationStrategy.fit\u001B[1;34m(self, train_data)\u001B[0m\n\u001B[0;32m    148\u001B[0m \u001B[38;5;28;01mdef\u001B[39;00m \u001B[38;5;21mfit\u001B[39m(\u001B[38;5;28mself\u001B[39m, train_data: InputData):\n\u001B[0;32m    149\u001B[0m     train_data \u001B[38;5;241m=\u001B[39m \u001B[38;5;28mself\u001B[39m\u001B[38;5;241m.\u001B[39mmulti_dim_dispatcher\u001B[38;5;241m.\u001B[39m_convert_input_data(train_data)\n\u001B[1;32m--> 150\u001B[0m     \u001B[38;5;28;01mreturn\u001B[39;00m \u001B[38;5;28;43mself\u001B[39;49m\u001B[38;5;241;43m.\u001B[39;49m\u001B[43mmulti_dim_dispatcher\u001B[49m\u001B[38;5;241;43m.\u001B[39;49m\u001B[43mfit\u001B[49m\u001B[43m(\u001B[49m\u001B[43mtrain_data\u001B[49m\u001B[43m)\u001B[49m\n",
      "File \u001B[1;32mD:\\WORK\\Repo\\Industiral\\IndustrialTS\\fedot_ind\\core\\operation\\interfaces\\industrial_preprocessing_strategy.py:209\u001B[0m, in \u001B[0;36mMultiDimPreprocessingStrategy.fit\u001B[1;34m(self, train_data)\u001B[0m\n\u001B[0;32m    204\u001B[0m fit_for_every_dim \u001B[38;5;241m=\u001B[39m curry(\u001B[38;5;241m2\u001B[39m)(\u001B[38;5;28;01mlambda\u001B[39;00m data, prev_state: \u001B[38;5;28mself\u001B[39m\u001B[38;5;241m.\u001B[39m_list_of_fitted_model(data, prev_state)\n\u001B[0;32m    205\u001B[0m                              \u001B[38;5;28;01mif\u001B[39;00m operation_for_every_dim \u001B[38;5;28;01melse\u001B[39;00m prev_state)\n\u001B[0;32m    207\u001B[0m fit_multidim \u001B[38;5;241m=\u001B[39m curry(\u001B[38;5;241m2\u001B[39m)(\u001B[38;5;28;01mlambda\u001B[39;00m data, prev_state: prev_state\u001B[38;5;241m.\u001B[39mfit(data) \u001B[38;5;28;01mif\u001B[39;00m operation_for_multidim \u001B[38;5;28;01melse\u001B[39;00m prev_state)\n\u001B[1;32m--> 209\u001B[0m trained_operation \u001B[38;5;241m=\u001B[39m \u001B[43mEither\u001B[49m\u001B[38;5;241;43m.\u001B[39;49m\u001B[43minsert\u001B[49m\u001B[43m(\u001B[49m\u001B[43mtrain_data\u001B[49m\u001B[43m)\u001B[49m\u001B[38;5;241;43m.\u001B[39;49m\u001B[43m \u001B[49m\u001B[43m\\\u001B[49m\n\u001B[0;32m    210\u001B[0m \u001B[43m    \u001B[49m\u001B[43mthen\u001B[49m\u001B[43m(\u001B[49m\u001B[43mfit_one_dim\u001B[49m\u001B[43m(\u001B[49m\u001B[38;5;28;43mself\u001B[39;49m\u001B[38;5;241;43m.\u001B[39;49m\u001B[43moperation_condition\u001B[49m\u001B[38;5;241;43m.\u001B[39;49m\u001B[43moperation_implementation\u001B[49m\u001B[43m)\u001B[49m\u001B[43m)\u001B[49m\u001B[38;5;241m.\u001B[39m \\\n\u001B[0;32m    211\u001B[0m     then(channel_independent_branch(train_data))\u001B[38;5;241m.\u001B[39m \\\n\u001B[0;32m    212\u001B[0m     then(fit_for_every_dim(train_data))\u001B[38;5;241m.\u001B[39mthen(fit_multidim(train_data))\u001B[38;5;241m.\u001B[39mvalue\n\u001B[0;32m    214\u001B[0m \u001B[38;5;28;01mreturn\u001B[39;00m trained_operation\n",
      "File \u001B[1;32m~\\AppData\\Local\\pypoetry\\Cache\\virtualenvs\\fedot-ind-bTwQVkVM-py3.9\\lib\\site-packages\\pymonad\\monad.py:152\u001B[0m, in \u001B[0;36mMonad.then\u001B[1;34m(self, function)\u001B[0m\n\u001B[0;32m    132\u001B[0m \u001B[38;5;28;01mdef\u001B[39;00m \u001B[38;5;21mthen\u001B[39m(\n\u001B[0;32m    133\u001B[0m         \u001B[38;5;28mself\u001B[39m: \u001B[38;5;124m'\u001B[39m\u001B[38;5;124mMonad[S]\u001B[39m\u001B[38;5;124m'\u001B[39m, function: Union[Callable[[S], T], Callable[[S], \u001B[38;5;124m'\u001B[39m\u001B[38;5;124mMonad[T]\u001B[39m\u001B[38;5;124m'\u001B[39m]]\n\u001B[0;32m    134\u001B[0m ) \u001B[38;5;241m-\u001B[39m\u001B[38;5;241m>\u001B[39m \u001B[38;5;124m'\u001B[39m\u001B[38;5;124mMonad[T]\u001B[39m\u001B[38;5;124m'\u001B[39m:\n\u001B[0;32m    135\u001B[0m \u001B[38;5;250m    \u001B[39m\u001B[38;5;124;03m\"\"\" Combines the functionality of bind and fmap.\u001B[39;00m\n\u001B[0;32m    136\u001B[0m \n\u001B[0;32m    137\u001B[0m \u001B[38;5;124;03m    Instead of worrying about whether to use bind or fmap,\u001B[39;00m\n\u001B[1;32m   (...)\u001B[0m\n\u001B[0;32m    150\u001B[0m \u001B[38;5;124;03m      A monad value of the same type as 'self'\u001B[39;00m\n\u001B[0;32m    151\u001B[0m \u001B[38;5;124;03m    \"\"\"\u001B[39;00m\n\u001B[1;32m--> 152\u001B[0m     result \u001B[38;5;241m=\u001B[39m \u001B[38;5;28;43mself\u001B[39;49m\u001B[38;5;241;43m.\u001B[39;49m\u001B[43mmap\u001B[49m\u001B[43m(\u001B[49m\u001B[43mfunction\u001B[49m\u001B[43m)\u001B[49m\n\u001B[0;32m    153\u001B[0m     \u001B[38;5;28;01mtry\u001B[39;00m:\n\u001B[0;32m    154\u001B[0m         \u001B[38;5;28;01mreturn\u001B[39;00m result\u001B[38;5;241m.\u001B[39mjoin()\n",
      "File \u001B[1;32m~\\AppData\\Local\\pypoetry\\Cache\\virtualenvs\\fedot-ind-bTwQVkVM-py3.9\\lib\\site-packages\\pymonad\\either.py:106\u001B[0m, in \u001B[0;36mEither.map\u001B[1;34m(self, function)\u001B[0m\n\u001B[0;32m    104\u001B[0m     \u001B[38;5;28;01mreturn\u001B[39;00m \u001B[38;5;28mself\u001B[39m\n\u001B[0;32m    105\u001B[0m \u001B[38;5;28;01melse\u001B[39;00m:\n\u001B[1;32m--> 106\u001B[0m     \u001B[38;5;28;01mreturn\u001B[39;00m \u001B[38;5;28mself\u001B[39m\u001B[38;5;241m.\u001B[39m\u001B[38;5;18m__class__\u001B[39m(\u001B[43mfunction\u001B[49m\u001B[43m(\u001B[49m\u001B[38;5;28;43mself\u001B[39;49m\u001B[38;5;241;43m.\u001B[39;49m\u001B[43mvalue\u001B[49m\u001B[43m)\u001B[49m, (\u001B[38;5;28;01mNone\u001B[39;00m, \u001B[38;5;28;01mTrue\u001B[39;00m))\n",
      "File \u001B[1;32m~\\AppData\\Local\\pypoetry\\Cache\\virtualenvs\\fedot-ind-bTwQVkVM-py3.9\\lib\\site-packages\\pymonad\\tools.py:50\u001B[0m, in \u001B[0;36m_curry_helper.<locals>._curry_internal\u001B[1;34m(*arguments)\u001B[0m\n\u001B[0;32m     48\u001B[0m all_arguments\u001B[38;5;241m.\u001B[39mextend(arguments)\n\u001B[0;32m     49\u001B[0m \u001B[38;5;28;01mif\u001B[39;00m \u001B[38;5;28mlen\u001B[39m(all_arguments) \u001B[38;5;241m>\u001B[39m\u001B[38;5;241m=\u001B[39m number_of_arguments: \u001B[38;5;66;03m# pylint: disable=no-else-return\u001B[39;00m\n\u001B[1;32m---> 50\u001B[0m     \u001B[38;5;28;01mreturn\u001B[39;00m \u001B[43mfunction_to_curry\u001B[49m\u001B[43m(\u001B[49m\u001B[38;5;241;43m*\u001B[39;49m\u001B[43mall_arguments\u001B[49m\u001B[43m)\u001B[49m\n\u001B[0;32m     51\u001B[0m \u001B[38;5;28;01melse\u001B[39;00m:\n\u001B[0;32m     52\u001B[0m     \u001B[38;5;28;01mreturn\u001B[39;00m _curry_helper(number_of_arguments, function_to_curry, all_arguments)\n",
      "File \u001B[1;32mD:\\WORK\\Repo\\Industiral\\IndustrialTS\\fedot_ind\\core\\operation\\interfaces\\industrial_preprocessing_strategy.py:195\u001B[0m, in \u001B[0;36mMultiDimPreprocessingStrategy.fit.<locals>.<lambda>\u001B[1;34m(operation, init_state)\u001B[0m\n\u001B[0;32m    192\u001B[0m operation_for_multidim \u001B[38;5;241m=\u001B[39m \u001B[38;5;129;01mnot\u001B[39;00m \u001B[38;5;28many\u001B[39m([operation_for_one_dim, operation_for_every_dim])\n\u001B[0;32m    194\u001B[0m \u001B[38;5;66;03m# If model is classical sklearn model we use one_dimensional mode\u001B[39;00m\n\u001B[1;32m--> 195\u001B[0m fit_one_dim \u001B[38;5;241m=\u001B[39m curry(\u001B[38;5;241m2\u001B[39m)(\u001B[38;5;28;01mlambda\u001B[39;00m operation, init_state: \u001B[38;5;28;43mself\u001B[39;49m\u001B[38;5;241;43m.\u001B[39;49m\u001B[43mfit_one_sample\u001B[49m\u001B[43m(\u001B[49m\u001B[43minit_state\u001B[49m\u001B[43m)\u001B[49m\n\u001B[0;32m    196\u001B[0m                        \u001B[38;5;28;01mif\u001B[39;00m operation_for_one_dim \u001B[38;5;28;01melse\u001B[39;00m operation)\n\u001B[0;32m    198\u001B[0m \u001B[38;5;66;03m# Elif model could be use for each dimension(channel) independently we use channel_independent mode\u001B[39;00m\n\u001B[0;32m    199\u001B[0m channel_independent_branch \u001B[38;5;241m=\u001B[39m curry(\u001B[38;5;241m2\u001B[39m)(\u001B[38;5;28;01mlambda\u001B[39;00m data, prev_state: \u001B[38;5;28mlist\u001B[39m(deepcopy(prev_state) \u001B[38;5;28;01mfor\u001B[39;00m i \u001B[38;5;129;01min\u001B[39;00m\n\u001B[0;32m    200\u001B[0m                                                                     \u001B[38;5;28mrange\u001B[39m(\u001B[38;5;28mlen\u001B[39m(data)))\n\u001B[0;32m    201\u001B[0m                                       \u001B[38;5;28;01mif\u001B[39;00m operation_for_every_dim \u001B[38;5;28;01melse\u001B[39;00m prev_state)\n",
      "File \u001B[1;32mD:\\WORK\\Repo\\Industiral\\IndustrialTS\\fedot_ind\\core\\operation\\interfaces\\industrial_preprocessing_strategy.py:157\u001B[0m, in \u001B[0;36mMultiDimPreprocessingStrategy.fit_one_sample\u001B[1;34m(self, train_data)\u001B[0m\n\u001B[0;32m    154\u001B[0m is_multi_target \u001B[38;5;241m=\u001B[39m is_multi_output_task(train_data)\n\u001B[0;32m    155\u001B[0m model_multi_adaptation \u001B[38;5;241m=\u001B[39m \u001B[38;5;28mall\u001B[39m([is_model_not_support_multi, is_multi_target])\n\u001B[1;32m--> 157\u001B[0m operation_implementation \u001B[38;5;241m=\u001B[39m \u001B[43mEither\u001B[49m\u001B[43m(\u001B[49m\u001B[43mvalue\u001B[49m\u001B[38;5;241;43m=\u001B[39;49m\u001B[43mtrain_data\u001B[49m\u001B[43m,\u001B[49m\n\u001B[0;32m    158\u001B[0m \u001B[43m                                  \u001B[49m\u001B[43mmonoid\u001B[49m\u001B[38;5;241;43m=\u001B[39;49m\u001B[43m[\u001B[49m\u001B[43mtrain_data\u001B[49m\u001B[43m,\u001B[49m\u001B[43m \u001B[49m\u001B[43mmodel_multi_adaptation\u001B[49m\u001B[43m]\u001B[49m\u001B[43m)\u001B[49m\u001B[38;5;241;43m.\u001B[39;49m\u001B[43m \u001B[49m\u001B[43m\\\u001B[49m\n\u001B[0;32m    159\u001B[0m \u001B[43m    \u001B[49m\u001B[43meither\u001B[49m\u001B[43m(\u001B[49m\n\u001B[0;32m    160\u001B[0m \u001B[43m    \u001B[49m\u001B[43mleft_function\u001B[49m\u001B[38;5;241;43m=\u001B[39;49m\u001B[38;5;28;43;01mlambda\u001B[39;49;00m\u001B[43m \u001B[49m\u001B[43mdata\u001B[49m\u001B[43m:\u001B[49m\u001B[43m \u001B[49m\u001B[38;5;28;43mself\u001B[39;49m\u001B[38;5;241;43m.\u001B[39;49m\u001B[43moperation_condition\u001B[49m\u001B[38;5;241;43m.\u001B[39;49m\u001B[43moperation_implementation\u001B[49m\u001B[38;5;241;43m.\u001B[39;49m\u001B[43mfit\u001B[49m\u001B[43m(\u001B[49m\n\u001B[0;32m    161\u001B[0m \u001B[43m        \u001B[49m\u001B[43mdata\u001B[49m\u001B[38;5;241;43m.\u001B[39;49m\u001B[43mfeatures\u001B[49m\u001B[43m,\u001B[49m\u001B[43m \u001B[49m\u001B[43mdata\u001B[49m\u001B[38;5;241;43m.\u001B[39;49m\u001B[43mtarget\u001B[49m\u001B[43m)\u001B[49m\u001B[43m \u001B[49m\u001B[38;5;28;43;01mif\u001B[39;49;00m\u001B[43m \u001B[49m\u001B[43mnot_fedot_input_data\u001B[49m\u001B[43m \u001B[49m\u001B[38;5;28;43;01melse\u001B[39;49;00m\n\u001B[0;32m    162\u001B[0m \u001B[43m    \u001B[49m\u001B[38;5;28;43mself\u001B[39;49m\u001B[38;5;241;43m.\u001B[39;49m\u001B[43moperation_condition\u001B[49m\u001B[38;5;241;43m.\u001B[39;49m\u001B[43moperation_implementation\u001B[49m\u001B[38;5;241;43m.\u001B[39;49m\u001B[43mfit\u001B[49m\u001B[43m(\u001B[49m\u001B[43mdata\u001B[49m\u001B[43m)\u001B[49m\u001B[43m,\u001B[49m\n\u001B[0;32m    163\u001B[0m \u001B[43m    \u001B[49m\u001B[43mright_function\u001B[49m\u001B[38;5;241;43m=\u001B[39;49m\u001B[38;5;28;43;01mlambda\u001B[39;49;00m\u001B[43m \u001B[49m\u001B[43mdata\u001B[49m\u001B[43m:\u001B[49m\n\u001B[0;32m    164\u001B[0m \u001B[43m    \u001B[49m\u001B[43mconvert_to_multivariate_model\u001B[49m\u001B[43m(\u001B[49m\u001B[38;5;28;43mself\u001B[39;49m\u001B[38;5;241;43m.\u001B[39;49m\u001B[43moperation_condition\u001B[49m\u001B[38;5;241;43m.\u001B[39;49m\u001B[43moperation_implementation\u001B[49m\u001B[43m,\u001B[49m\u001B[43m \u001B[49m\u001B[43mdata\u001B[49m\u001B[43m)\u001B[49m\u001B[43m)\u001B[49m\n\u001B[0;32m    165\u001B[0m operation_implementation \u001B[38;5;241m=\u001B[39m operation_implementation \u001B[38;5;28;01mif\u001B[39;00m model_multi_adaptation \\\n\u001B[0;32m    166\u001B[0m     \u001B[38;5;28;01melse\u001B[39;00m \u001B[38;5;28mself\u001B[39m\u001B[38;5;241m.\u001B[39moperation_condition\u001B[38;5;241m.\u001B[39moperation_implementation\n\u001B[0;32m    167\u001B[0m \u001B[38;5;28;01mreturn\u001B[39;00m operation_implementation\n",
      "File \u001B[1;32m~\\AppData\\Local\\pypoetry\\Cache\\virtualenvs\\fedot-ind-bTwQVkVM-py3.9\\lib\\site-packages\\pymonad\\either.py:91\u001B[0m, in \u001B[0;36mEither.either\u001B[1;34m(self, left_function, right_function)\u001B[0m\n\u001B[0;32m     89\u001B[0m     \u001B[38;5;28;01mreturn\u001B[39;00m right_function(\u001B[38;5;28mself\u001B[39m\u001B[38;5;241m.\u001B[39mvalue)\n\u001B[0;32m     90\u001B[0m \u001B[38;5;28;01melse\u001B[39;00m:\n\u001B[1;32m---> 91\u001B[0m     \u001B[38;5;28;01mreturn\u001B[39;00m \u001B[43mleft_function\u001B[49m\u001B[43m(\u001B[49m\u001B[38;5;28;43mself\u001B[39;49m\u001B[38;5;241;43m.\u001B[39;49m\u001B[43mmonoid\u001B[49m\u001B[43m[\u001B[49m\u001B[38;5;241;43m0\u001B[39;49m\u001B[43m]\u001B[49m\u001B[43m)\u001B[49m\n",
      "File \u001B[1;32mD:\\WORK\\Repo\\Industiral\\IndustrialTS\\fedot_ind\\core\\operation\\interfaces\\industrial_preprocessing_strategy.py:160\u001B[0m, in \u001B[0;36mMultiDimPreprocessingStrategy.fit_one_sample.<locals>.<lambda>\u001B[1;34m(data)\u001B[0m\n\u001B[0;32m    154\u001B[0m is_multi_target \u001B[38;5;241m=\u001B[39m is_multi_output_task(train_data)\n\u001B[0;32m    155\u001B[0m model_multi_adaptation \u001B[38;5;241m=\u001B[39m \u001B[38;5;28mall\u001B[39m([is_model_not_support_multi, is_multi_target])\n\u001B[0;32m    157\u001B[0m operation_implementation \u001B[38;5;241m=\u001B[39m Either(value\u001B[38;5;241m=\u001B[39mtrain_data,\n\u001B[0;32m    158\u001B[0m                                   monoid\u001B[38;5;241m=\u001B[39m[train_data, model_multi_adaptation])\u001B[38;5;241m.\u001B[39m \\\n\u001B[0;32m    159\u001B[0m     either(\n\u001B[1;32m--> 160\u001B[0m     left_function\u001B[38;5;241m=\u001B[39m\u001B[38;5;28;01mlambda\u001B[39;00m data: \u001B[38;5;28;43mself\u001B[39;49m\u001B[38;5;241;43m.\u001B[39;49m\u001B[43moperation_condition\u001B[49m\u001B[38;5;241;43m.\u001B[39;49m\u001B[43moperation_implementation\u001B[49m\u001B[38;5;241;43m.\u001B[39;49m\u001B[43mfit\u001B[49m\u001B[43m(\u001B[49m\n\u001B[0;32m    161\u001B[0m \u001B[43m        \u001B[49m\u001B[43mdata\u001B[49m\u001B[38;5;241;43m.\u001B[39;49m\u001B[43mfeatures\u001B[49m\u001B[43m,\u001B[49m\u001B[43m \u001B[49m\u001B[43mdata\u001B[49m\u001B[38;5;241;43m.\u001B[39;49m\u001B[43mtarget\u001B[49m\u001B[43m)\u001B[49m \u001B[38;5;28;01mif\u001B[39;00m not_fedot_input_data \u001B[38;5;28;01melse\u001B[39;00m\n\u001B[0;32m    162\u001B[0m     \u001B[38;5;28mself\u001B[39m\u001B[38;5;241m.\u001B[39moperation_condition\u001B[38;5;241m.\u001B[39moperation_implementation\u001B[38;5;241m.\u001B[39mfit(data),\n\u001B[0;32m    163\u001B[0m     right_function\u001B[38;5;241m=\u001B[39m\u001B[38;5;28;01mlambda\u001B[39;00m data:\n\u001B[0;32m    164\u001B[0m     convert_to_multivariate_model(\u001B[38;5;28mself\u001B[39m\u001B[38;5;241m.\u001B[39moperation_condition\u001B[38;5;241m.\u001B[39moperation_implementation, data))\n\u001B[0;32m    165\u001B[0m operation_implementation \u001B[38;5;241m=\u001B[39m operation_implementation \u001B[38;5;28;01mif\u001B[39;00m model_multi_adaptation \\\n\u001B[0;32m    166\u001B[0m     \u001B[38;5;28;01melse\u001B[39;00m \u001B[38;5;28mself\u001B[39m\u001B[38;5;241m.\u001B[39moperation_condition\u001B[38;5;241m.\u001B[39moperation_implementation\n\u001B[0;32m    167\u001B[0m \u001B[38;5;28;01mreturn\u001B[39;00m operation_implementation\n",
      "File \u001B[1;32m~\\AppData\\Local\\pypoetry\\Cache\\virtualenvs\\fedot-ind-bTwQVkVM-py3.9\\lib\\site-packages\\sklearn\\ensemble\\_forest.py:473\u001B[0m, in \u001B[0;36mBaseForest.fit\u001B[1;34m(self, X, y, sample_weight)\u001B[0m\n\u001B[0;32m    462\u001B[0m trees \u001B[38;5;241m=\u001B[39m [\n\u001B[0;32m    463\u001B[0m     \u001B[38;5;28mself\u001B[39m\u001B[38;5;241m.\u001B[39m_make_estimator(append\u001B[38;5;241m=\u001B[39m\u001B[38;5;28;01mFalse\u001B[39;00m, random_state\u001B[38;5;241m=\u001B[39mrandom_state)\n\u001B[0;32m    464\u001B[0m     \u001B[38;5;28;01mfor\u001B[39;00m i \u001B[38;5;129;01min\u001B[39;00m \u001B[38;5;28mrange\u001B[39m(n_more_estimators)\n\u001B[0;32m    465\u001B[0m ]\n\u001B[0;32m    467\u001B[0m \u001B[38;5;66;03m# Parallel loop: we prefer the threading backend as the Cython code\u001B[39;00m\n\u001B[0;32m    468\u001B[0m \u001B[38;5;66;03m# for fitting the trees is internally releasing the Python GIL\u001B[39;00m\n\u001B[0;32m    469\u001B[0m \u001B[38;5;66;03m# making threading more efficient than multiprocessing in\u001B[39;00m\n\u001B[0;32m    470\u001B[0m \u001B[38;5;66;03m# that case. However, for joblib 0.12+ we respect any\u001B[39;00m\n\u001B[0;32m    471\u001B[0m \u001B[38;5;66;03m# parallel_backend contexts set at a higher level,\u001B[39;00m\n\u001B[0;32m    472\u001B[0m \u001B[38;5;66;03m# since correctness does not rely on using threads.\u001B[39;00m\n\u001B[1;32m--> 473\u001B[0m trees \u001B[38;5;241m=\u001B[39m \u001B[43mParallel\u001B[49m\u001B[43m(\u001B[49m\n\u001B[0;32m    474\u001B[0m \u001B[43m    \u001B[49m\u001B[43mn_jobs\u001B[49m\u001B[38;5;241;43m=\u001B[39;49m\u001B[38;5;28;43mself\u001B[39;49m\u001B[38;5;241;43m.\u001B[39;49m\u001B[43mn_jobs\u001B[49m\u001B[43m,\u001B[49m\n\u001B[0;32m    475\u001B[0m \u001B[43m    \u001B[49m\u001B[43mverbose\u001B[49m\u001B[38;5;241;43m=\u001B[39;49m\u001B[38;5;28;43mself\u001B[39;49m\u001B[38;5;241;43m.\u001B[39;49m\u001B[43mverbose\u001B[49m\u001B[43m,\u001B[49m\n\u001B[0;32m    476\u001B[0m \u001B[43m    \u001B[49m\u001B[43mprefer\u001B[49m\u001B[38;5;241;43m=\u001B[39;49m\u001B[38;5;124;43m\"\u001B[39;49m\u001B[38;5;124;43mthreads\u001B[39;49m\u001B[38;5;124;43m\"\u001B[39;49m\u001B[43m,\u001B[49m\n\u001B[0;32m    477\u001B[0m \u001B[43m\u001B[49m\u001B[43m)\u001B[49m\u001B[43m(\u001B[49m\n\u001B[0;32m    478\u001B[0m \u001B[43m    \u001B[49m\u001B[43mdelayed\u001B[49m\u001B[43m(\u001B[49m\u001B[43m_parallel_build_trees\u001B[49m\u001B[43m)\u001B[49m\u001B[43m(\u001B[49m\n\u001B[0;32m    479\u001B[0m \u001B[43m        \u001B[49m\u001B[43mt\u001B[49m\u001B[43m,\u001B[49m\n\u001B[0;32m    480\u001B[0m \u001B[43m        \u001B[49m\u001B[38;5;28;43mself\u001B[39;49m\u001B[38;5;241;43m.\u001B[39;49m\u001B[43mbootstrap\u001B[49m\u001B[43m,\u001B[49m\n\u001B[0;32m    481\u001B[0m \u001B[43m        \u001B[49m\u001B[43mX\u001B[49m\u001B[43m,\u001B[49m\n\u001B[0;32m    482\u001B[0m \u001B[43m        \u001B[49m\u001B[43my\u001B[49m\u001B[43m,\u001B[49m\n\u001B[0;32m    483\u001B[0m \u001B[43m        \u001B[49m\u001B[43msample_weight\u001B[49m\u001B[43m,\u001B[49m\n\u001B[0;32m    484\u001B[0m \u001B[43m        \u001B[49m\u001B[43mi\u001B[49m\u001B[43m,\u001B[49m\n\u001B[0;32m    485\u001B[0m \u001B[43m        \u001B[49m\u001B[38;5;28;43mlen\u001B[39;49m\u001B[43m(\u001B[49m\u001B[43mtrees\u001B[49m\u001B[43m)\u001B[49m\u001B[43m,\u001B[49m\n\u001B[0;32m    486\u001B[0m \u001B[43m        \u001B[49m\u001B[43mverbose\u001B[49m\u001B[38;5;241;43m=\u001B[39;49m\u001B[38;5;28;43mself\u001B[39;49m\u001B[38;5;241;43m.\u001B[39;49m\u001B[43mverbose\u001B[49m\u001B[43m,\u001B[49m\n\u001B[0;32m    487\u001B[0m \u001B[43m        \u001B[49m\u001B[43mclass_weight\u001B[49m\u001B[38;5;241;43m=\u001B[39;49m\u001B[38;5;28;43mself\u001B[39;49m\u001B[38;5;241;43m.\u001B[39;49m\u001B[43mclass_weight\u001B[49m\u001B[43m,\u001B[49m\n\u001B[0;32m    488\u001B[0m \u001B[43m        \u001B[49m\u001B[43mn_samples_bootstrap\u001B[49m\u001B[38;5;241;43m=\u001B[39;49m\u001B[43mn_samples_bootstrap\u001B[49m\u001B[43m,\u001B[49m\n\u001B[0;32m    489\u001B[0m \u001B[43m    \u001B[49m\u001B[43m)\u001B[49m\n\u001B[0;32m    490\u001B[0m \u001B[43m    \u001B[49m\u001B[38;5;28;43;01mfor\u001B[39;49;00m\u001B[43m \u001B[49m\u001B[43mi\u001B[49m\u001B[43m,\u001B[49m\u001B[43m \u001B[49m\u001B[43mt\u001B[49m\u001B[43m \u001B[49m\u001B[38;5;129;43;01min\u001B[39;49;00m\u001B[43m \u001B[49m\u001B[38;5;28;43menumerate\u001B[39;49m\u001B[43m(\u001B[49m\u001B[43mtrees\u001B[49m\u001B[43m)\u001B[49m\n\u001B[0;32m    491\u001B[0m \u001B[43m\u001B[49m\u001B[43m)\u001B[49m\n\u001B[0;32m    493\u001B[0m \u001B[38;5;66;03m# Collect newly grown trees\u001B[39;00m\n\u001B[0;32m    494\u001B[0m \u001B[38;5;28mself\u001B[39m\u001B[38;5;241m.\u001B[39mestimators_\u001B[38;5;241m.\u001B[39mextend(trees)\n",
      "File \u001B[1;32m~\\AppData\\Local\\pypoetry\\Cache\\virtualenvs\\fedot-ind-bTwQVkVM-py3.9\\lib\\site-packages\\sklearn\\utils\\parallel.py:63\u001B[0m, in \u001B[0;36mParallel.__call__\u001B[1;34m(self, iterable)\u001B[0m\n\u001B[0;32m     58\u001B[0m config \u001B[38;5;241m=\u001B[39m get_config()\n\u001B[0;32m     59\u001B[0m iterable_with_config \u001B[38;5;241m=\u001B[39m (\n\u001B[0;32m     60\u001B[0m     (_with_config(delayed_func, config), args, kwargs)\n\u001B[0;32m     61\u001B[0m     \u001B[38;5;28;01mfor\u001B[39;00m delayed_func, args, kwargs \u001B[38;5;129;01min\u001B[39;00m iterable\n\u001B[0;32m     62\u001B[0m )\n\u001B[1;32m---> 63\u001B[0m \u001B[38;5;28;01mreturn\u001B[39;00m \u001B[38;5;28;43msuper\u001B[39;49m\u001B[43m(\u001B[49m\u001B[43m)\u001B[49m\u001B[38;5;241;43m.\u001B[39;49m\u001B[38;5;21;43m__call__\u001B[39;49m\u001B[43m(\u001B[49m\u001B[43miterable_with_config\u001B[49m\u001B[43m)\u001B[49m\n",
      "File \u001B[1;32m~\\AppData\\Local\\pypoetry\\Cache\\virtualenvs\\fedot-ind-bTwQVkVM-py3.9\\lib\\site-packages\\joblib\\parallel.py:1918\u001B[0m, in \u001B[0;36mParallel.__call__\u001B[1;34m(self, iterable)\u001B[0m\n\u001B[0;32m   1916\u001B[0m     output \u001B[38;5;241m=\u001B[39m \u001B[38;5;28mself\u001B[39m\u001B[38;5;241m.\u001B[39m_get_sequential_output(iterable)\n\u001B[0;32m   1917\u001B[0m     \u001B[38;5;28mnext\u001B[39m(output)\n\u001B[1;32m-> 1918\u001B[0m     \u001B[38;5;28;01mreturn\u001B[39;00m output \u001B[38;5;28;01mif\u001B[39;00m \u001B[38;5;28mself\u001B[39m\u001B[38;5;241m.\u001B[39mreturn_generator \u001B[38;5;28;01melse\u001B[39;00m \u001B[38;5;28;43mlist\u001B[39;49m\u001B[43m(\u001B[49m\u001B[43moutput\u001B[49m\u001B[43m)\u001B[49m\n\u001B[0;32m   1920\u001B[0m \u001B[38;5;66;03m# Let's create an ID that uniquely identifies the current call. If the\u001B[39;00m\n\u001B[0;32m   1921\u001B[0m \u001B[38;5;66;03m# call is interrupted early and that the same instance is immediately\u001B[39;00m\n\u001B[0;32m   1922\u001B[0m \u001B[38;5;66;03m# re-used, this id will be used to prevent workers that were\u001B[39;00m\n\u001B[0;32m   1923\u001B[0m \u001B[38;5;66;03m# concurrently finalizing a task from the previous call to run the\u001B[39;00m\n\u001B[0;32m   1924\u001B[0m \u001B[38;5;66;03m# callback.\u001B[39;00m\n\u001B[0;32m   1925\u001B[0m \u001B[38;5;28;01mwith\u001B[39;00m \u001B[38;5;28mself\u001B[39m\u001B[38;5;241m.\u001B[39m_lock:\n",
      "File \u001B[1;32m~\\AppData\\Local\\pypoetry\\Cache\\virtualenvs\\fedot-ind-bTwQVkVM-py3.9\\lib\\site-packages\\joblib\\parallel.py:1847\u001B[0m, in \u001B[0;36mParallel._get_sequential_output\u001B[1;34m(self, iterable)\u001B[0m\n\u001B[0;32m   1845\u001B[0m \u001B[38;5;28mself\u001B[39m\u001B[38;5;241m.\u001B[39mn_dispatched_batches \u001B[38;5;241m+\u001B[39m\u001B[38;5;241m=\u001B[39m \u001B[38;5;241m1\u001B[39m\n\u001B[0;32m   1846\u001B[0m \u001B[38;5;28mself\u001B[39m\u001B[38;5;241m.\u001B[39mn_dispatched_tasks \u001B[38;5;241m+\u001B[39m\u001B[38;5;241m=\u001B[39m \u001B[38;5;241m1\u001B[39m\n\u001B[1;32m-> 1847\u001B[0m res \u001B[38;5;241m=\u001B[39m func(\u001B[38;5;241m*\u001B[39margs, \u001B[38;5;241m*\u001B[39m\u001B[38;5;241m*\u001B[39mkwargs)\n\u001B[0;32m   1848\u001B[0m \u001B[38;5;28mself\u001B[39m\u001B[38;5;241m.\u001B[39mn_completed_tasks \u001B[38;5;241m+\u001B[39m\u001B[38;5;241m=\u001B[39m \u001B[38;5;241m1\u001B[39m\n\u001B[0;32m   1849\u001B[0m \u001B[38;5;28mself\u001B[39m\u001B[38;5;241m.\u001B[39mprint_progress()\n",
      "File \u001B[1;32m~\\AppData\\Local\\pypoetry\\Cache\\virtualenvs\\fedot-ind-bTwQVkVM-py3.9\\lib\\site-packages\\sklearn\\utils\\parallel.py:123\u001B[0m, in \u001B[0;36m_FuncWrapper.__call__\u001B[1;34m(self, *args, **kwargs)\u001B[0m\n\u001B[0;32m    121\u001B[0m     config \u001B[38;5;241m=\u001B[39m {}\n\u001B[0;32m    122\u001B[0m \u001B[38;5;28;01mwith\u001B[39;00m config_context(\u001B[38;5;241m*\u001B[39m\u001B[38;5;241m*\u001B[39mconfig):\n\u001B[1;32m--> 123\u001B[0m     \u001B[38;5;28;01mreturn\u001B[39;00m \u001B[38;5;28mself\u001B[39m\u001B[38;5;241m.\u001B[39mfunction(\u001B[38;5;241m*\u001B[39margs, \u001B[38;5;241m*\u001B[39m\u001B[38;5;241m*\u001B[39mkwargs)\n",
      "File \u001B[1;32m~\\AppData\\Local\\pypoetry\\Cache\\virtualenvs\\fedot-ind-bTwQVkVM-py3.9\\lib\\site-packages\\sklearn\\ensemble\\_forest.py:186\u001B[0m, in \u001B[0;36m_parallel_build_trees\u001B[1;34m(tree, bootstrap, X, y, sample_weight, tree_idx, n_trees, verbose, class_weight, n_samples_bootstrap)\u001B[0m\n\u001B[0;32m    184\u001B[0m     tree\u001B[38;5;241m.\u001B[39mfit(X, y, sample_weight\u001B[38;5;241m=\u001B[39mcurr_sample_weight, check_input\u001B[38;5;241m=\u001B[39m\u001B[38;5;28;01mFalse\u001B[39;00m)\n\u001B[0;32m    185\u001B[0m \u001B[38;5;28;01melse\u001B[39;00m:\n\u001B[1;32m--> 186\u001B[0m     \u001B[43mtree\u001B[49m\u001B[38;5;241;43m.\u001B[39;49m\u001B[43mfit\u001B[49m\u001B[43m(\u001B[49m\u001B[43mX\u001B[49m\u001B[43m,\u001B[49m\u001B[43m \u001B[49m\u001B[43my\u001B[49m\u001B[43m,\u001B[49m\u001B[43m \u001B[49m\u001B[43msample_weight\u001B[49m\u001B[38;5;241;43m=\u001B[39;49m\u001B[43msample_weight\u001B[49m\u001B[43m,\u001B[49m\u001B[43m \u001B[49m\u001B[43mcheck_input\u001B[49m\u001B[38;5;241;43m=\u001B[39;49m\u001B[38;5;28;43;01mFalse\u001B[39;49;00m\u001B[43m)\u001B[49m\n\u001B[0;32m    188\u001B[0m \u001B[38;5;28;01mreturn\u001B[39;00m tree\n",
      "File \u001B[1;32m~\\AppData\\Local\\pypoetry\\Cache\\virtualenvs\\fedot-ind-bTwQVkVM-py3.9\\lib\\site-packages\\sklearn\\tree\\_classes.py:1247\u001B[0m, in \u001B[0;36mDecisionTreeRegressor.fit\u001B[1;34m(self, X, y, sample_weight, check_input)\u001B[0m\n\u001B[0;32m   1218\u001B[0m \u001B[38;5;28;01mdef\u001B[39;00m \u001B[38;5;21mfit\u001B[39m(\u001B[38;5;28mself\u001B[39m, X, y, sample_weight\u001B[38;5;241m=\u001B[39m\u001B[38;5;28;01mNone\u001B[39;00m, check_input\u001B[38;5;241m=\u001B[39m\u001B[38;5;28;01mTrue\u001B[39;00m):\n\u001B[0;32m   1219\u001B[0m \u001B[38;5;250m    \u001B[39m\u001B[38;5;124;03m\"\"\"Build a decision tree regressor from the training set (X, y).\u001B[39;00m\n\u001B[0;32m   1220\u001B[0m \n\u001B[0;32m   1221\u001B[0m \u001B[38;5;124;03m    Parameters\u001B[39;00m\n\u001B[1;32m   (...)\u001B[0m\n\u001B[0;32m   1244\u001B[0m \u001B[38;5;124;03m        Fitted estimator.\u001B[39;00m\n\u001B[0;32m   1245\u001B[0m \u001B[38;5;124;03m    \"\"\"\u001B[39;00m\n\u001B[1;32m-> 1247\u001B[0m     \u001B[38;5;28;43msuper\u001B[39;49m\u001B[43m(\u001B[49m\u001B[43m)\u001B[49m\u001B[38;5;241;43m.\u001B[39;49m\u001B[43mfit\u001B[49m\u001B[43m(\u001B[49m\n\u001B[0;32m   1248\u001B[0m \u001B[43m        \u001B[49m\u001B[43mX\u001B[49m\u001B[43m,\u001B[49m\n\u001B[0;32m   1249\u001B[0m \u001B[43m        \u001B[49m\u001B[43my\u001B[49m\u001B[43m,\u001B[49m\n\u001B[0;32m   1250\u001B[0m \u001B[43m        \u001B[49m\u001B[43msample_weight\u001B[49m\u001B[38;5;241;43m=\u001B[39;49m\u001B[43msample_weight\u001B[49m\u001B[43m,\u001B[49m\n\u001B[0;32m   1251\u001B[0m \u001B[43m        \u001B[49m\u001B[43mcheck_input\u001B[49m\u001B[38;5;241;43m=\u001B[39;49m\u001B[43mcheck_input\u001B[49m\u001B[43m,\u001B[49m\n\u001B[0;32m   1252\u001B[0m \u001B[43m    \u001B[49m\u001B[43m)\u001B[49m\n\u001B[0;32m   1253\u001B[0m     \u001B[38;5;28;01mreturn\u001B[39;00m \u001B[38;5;28mself\u001B[39m\n",
      "File \u001B[1;32m~\\AppData\\Local\\pypoetry\\Cache\\virtualenvs\\fedot-ind-bTwQVkVM-py3.9\\lib\\site-packages\\sklearn\\tree\\_classes.py:379\u001B[0m, in \u001B[0;36mBaseDecisionTree.fit\u001B[1;34m(self, X, y, sample_weight, check_input)\u001B[0m\n\u001B[0;32m    368\u001B[0m \u001B[38;5;28;01melse\u001B[39;00m:\n\u001B[0;32m    369\u001B[0m     builder \u001B[38;5;241m=\u001B[39m BestFirstTreeBuilder(\n\u001B[0;32m    370\u001B[0m         splitter,\n\u001B[0;32m    371\u001B[0m         min_samples_split,\n\u001B[1;32m   (...)\u001B[0m\n\u001B[0;32m    376\u001B[0m         \u001B[38;5;28mself\u001B[39m\u001B[38;5;241m.\u001B[39mmin_impurity_decrease,\n\u001B[0;32m    377\u001B[0m     )\n\u001B[1;32m--> 379\u001B[0m \u001B[43mbuilder\u001B[49m\u001B[38;5;241;43m.\u001B[39;49m\u001B[43mbuild\u001B[49m\u001B[43m(\u001B[49m\u001B[38;5;28;43mself\u001B[39;49m\u001B[38;5;241;43m.\u001B[39;49m\u001B[43mtree_\u001B[49m\u001B[43m,\u001B[49m\u001B[43m \u001B[49m\u001B[43mX\u001B[49m\u001B[43m,\u001B[49m\u001B[43m \u001B[49m\u001B[43my\u001B[49m\u001B[43m,\u001B[49m\u001B[43m \u001B[49m\u001B[43msample_weight\u001B[49m\u001B[43m)\u001B[49m\n\u001B[0;32m    381\u001B[0m \u001B[38;5;28;01mif\u001B[39;00m \u001B[38;5;28mself\u001B[39m\u001B[38;5;241m.\u001B[39mn_outputs_ \u001B[38;5;241m==\u001B[39m \u001B[38;5;241m1\u001B[39m \u001B[38;5;129;01mand\u001B[39;00m is_classifier(\u001B[38;5;28mself\u001B[39m):\n\u001B[0;32m    382\u001B[0m     \u001B[38;5;28mself\u001B[39m\u001B[38;5;241m.\u001B[39mn_classes_ \u001B[38;5;241m=\u001B[39m \u001B[38;5;28mself\u001B[39m\u001B[38;5;241m.\u001B[39mn_classes_[\u001B[38;5;241m0\u001B[39m]\n",
      "\u001B[1;31mKeyboardInterrupt\u001B[0m: "
     ]
    }
   ],
   "source": [
    "pipeline_based = PipelineBuilder().add_node('lagged').add_node('treg').build()\n",
    "pipeline_based.fit(train_data)"
   ],
   "metadata": {
    "collapsed": false,
    "pycharm": {
     "name": "#%%\n"
    }
   }
  },
  {
   "cell_type": "code",
   "execution_count": null,
   "outputs": [],
   "source": [
    "topological_pipeline = PipelineBuilder().add_node('lagged').add_node('topological_extractor').add_node('lagged', branch_idx=2).join_branches('treg').build()\n",
    "topological_pipeline.fit(train_data)"
   ],
   "metadata": {
    "collapsed": false,
    "pycharm": {
     "name": "#%%\n"
    }
   }
  },
  {
   "cell_type": "code",
   "execution_count": null,
   "outputs": [],
   "source": [
    "### Прогноз"
   ],
   "metadata": {
    "collapsed": false,
    "pycharm": {
     "name": "#%%\n"
    }
   }
  },
  {
   "cell_type": "code",
   "execution_count": null,
   "outputs": [],
   "source": [
    "forecast_base = np.ravel(pipeline_based.predict(test_data).predict)\n",
    "forecast_topo = np.ravel(topological_pipeline.predict(test_data).predict)\n",
    "\n",
    "forecast_base[forecast_base < 0] = 0\n",
    "forecast_topo[forecast_topo < 0] = 0"
   ],
   "metadata": {
    "collapsed": false,
    "pycharm": {
     "name": "#%%\n"
    }
   }
  },
  {
   "cell_type": "markdown",
   "source": [
    "### Визуализация прогнозов"
   ],
   "metadata": {
    "collapsed": false,
    "pycharm": {
     "name": "#%% md\n"
    }
   },
   "execution_count": 1
  },
  {
   "cell_type": "code",
   "execution_count": null,
   "outputs": [],
   "source": [
    "plt.plot(input_data.features, label='real data')\n",
    "plt.plot(np.arange(len(target_series) - horizon, len(target_series)),\n",
    "         forecast_base, label='forecast base')\n",
    "plt.plot(np.arange(len(target_series) - horizon, len(target_series)),\n",
    "         forecast_topo, label='forecast topo')\n",
    "\n",
    "plt.grid()\n",
    "plt.legend()\n",
    "plt.show()"
   ],
   "metadata": {
    "collapsed": false,
    "pycharm": {
     "name": "#%%\n"
    }
   }
  },
  {
   "cell_type": "code",
   "execution_count": null,
   "outputs": [],
   "source": [
    "print('base')\n",
    "print(mean_squared_error(test_data.target, forecast_base, squared=False))\n",
    "print(\n",
    "    mean_absolute_percentage_error(\n",
    "        test_data.target +\n",
    "        1000,\n",
    "        forecast_base +\n",
    "        1000))"
   ],
   "metadata": {
    "collapsed": false,
    "pycharm": {
     "name": "#%%\n"
    }
   }
  },
  {
   "cell_type": "code",
   "execution_count": null,
   "outputs": [],
   "source": [],
   "metadata": {
    "collapsed": false,
    "pycharm": {
     "name": "#%%\n"
    }
   }
  },
  {
   "cell_type": "code",
   "execution_count": null,
   "outputs": [],
   "source": [
    "print('topo')\n",
    "print(mean_squared_error(test_data.target, forecast_topo, squared=False))\n",
    "print(\n",
    "    mean_absolute_percentage_error(\n",
    "        test_data.target +\n",
    "        1000,\n",
    "        forecast_topo +\n",
    "        1000))"
   ],
   "metadata": {
    "collapsed": false,
    "pycharm": {
     "name": "#%%\n"
    }
   }
  },
  {
   "cell_type": "code",
   "execution_count": null,
   "outputs": [],
   "source": [],
   "metadata": {
    "collapsed": false,
    "pycharm": {
     "name": "#%%\n"
    }
   }
  },
  {
   "cell_type": "code",
   "execution_count": null,
   "outputs": [],
   "source": [],
   "metadata": {
    "collapsed": false,
    "pycharm": {
     "name": "#%%\n"
    }
   }
  }
 ],
 "metadata": {
  "kernelspec": {
   "display_name": "Python 3",
   "language": "python",
   "name": "python3"
  },
  "language_info": {
   "codemirror_mode": {
    "name": "ipython",
    "version": 2
   },
   "file_extension": ".py",
   "mimetype": "text/x-python",
   "name": "python",
   "nbconvert_exporter": "python",
   "pygments_lexer": "ipython2",
   "version": "2.7.6"
  }
 },
 "nbformat": 4,
 "nbformat_minor": 0
}