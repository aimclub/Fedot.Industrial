{
 "nbformat": 4,
 "nbformat_minor": 0,
 "metadata": {
  "colab": {
   "provenance": []
  },
  "kernelspec": {
   "name": "python3",
   "display_name": "Python 3"
  },
  "language_info": {
   "name": "python"
  }
 },
 "cells": [
  {
   "cell_type": "code",
   "source": [
    "import math\n",
    "import numpy as np\n",
    "\n",
    "import torch\n",
    "import torchvision.datasets as datasets\n",
    "import torchvision.transforms as v2\n",
    "\n",
    "import torch.nn as nn\n",
    "\n",
    "from tqdm import tqdm"
   ],
   "metadata": {
    "id": "pzaTqXTF-H18",
    "pycharm": {
     "name": "#%%\n"
    }
   },
   "execution_count": 1,
   "outputs": []
  },
  {
   "cell_type": "code",
   "source": [
    "SINGULAR_VALUE_MEDIAN_THR = 2.58\n",
    "\n",
    "def beta_thr(beta):\n",
    "    return 0.56 * np.power(beta, 3) - 0.95 * np.power(beta, 2) + 1.82 * beta + 1.43\n",
    "\n",
    "SINGULAR_VALUE_BETA_THR = beta_thr"
   ],
   "metadata": {
    "id": "Hn0Hv3sOCSvr",
    "pycharm": {
     "name": "#%%\n"
    }
   },
   "execution_count": 2,
   "outputs": []
  },
  {
   "cell_type": "code",
   "source": [
    "def _detect_knee_point(values, indices):\n",
    "    \"\"\"Find elbow point.The elbow cut method is a method to determine a point in\n",
    "    a curve where significant change can be observed, e.g., from a steep slope to almost flat curve\"\"\"\n",
    "    n_points = len(values)  # number_of_channels\n",
    "    # coordinate of each channel projected in chosen centroid\n",
    "    all_coords = np.vstack((range(n_points), values)).T\n",
    "    first_point = all_coords[0]\n",
    "    line_vec = all_coords[-1] - all_coords[0]\n",
    "    line_vec_norm = line_vec / np.sqrt(np.sum(line_vec ** 2))\n",
    "    vec_from_first = all_coords - first_point  # line coord from first point to last\n",
    "    scalar_prod = np.sum(\n",
    "        vec_from_first * np.tile(line_vec_norm, (n_points, 1)), axis=1)\n",
    "    # \"angle\" between each point and line\n",
    "    vec_from_first_parallel = np.outer(scalar_prod, line_vec_norm)\n",
    "    vec_to_line = vec_from_first - vec_from_first_parallel\n",
    "    # find distance from all points to line\n",
    "    dist_to_line = np.sqrt(np.sum(vec_to_line ** 2, axis=1))\n",
    "    knee_idx = np.argmax(dist_to_line)\n",
    "    knee = values[knee_idx]\n",
    "    best_dims = [idx for (elem, idx) in zip(values, indices) if elem > knee]\n",
    "    if len(best_dims) == 0:\n",
    "        return [knee_idx], knee_idx\n",
    "\n",
    "    return best_dims,\n",
    "\n",
    "\n",
    "def sv_to_explained_variance_ratio(singular_values, dispersion_by_component):\n",
    "    \"\"\"Calculate the explained variance ratio of the singular values.\n",
    "\n",
    "    Args:\n",
    "        singular_values (array-like, shape (n_components,)): Singular values.\n",
    "        rank (int): Number of singular values to use.\n",
    "\n",
    "    Returns:\n",
    "        explained_variance (int): Explained variance percent.\n",
    "        n_components (int): Number of singular values to use.\n",
    "\n",
    "    \"\"\"\n",
    "    singular_values = [abs(x) for x in singular_values]\n",
    "    n_components = [x / sum(singular_values) * 100 for x in singular_values]\n",
    "    n_components = [x for x in n_components if x > dispersion_by_component]\n",
    "    explained_variance = sum(n_components)\n",
    "    n_components = len(n_components)\n",
    "    return explained_variance, n_components\n",
    "\n",
    "\n",
    "def singular_value_hard_threshold(singular_values,\n",
    "                                  rank=None,\n",
    "                                  beta=None,\n",
    "                                  threshold=SINGULAR_VALUE_MEDIAN_THR) -> list:\n",
    "    \"\"\"Calculate the hard threshold for the singular values.\n",
    "\n",
    "    Args:\n",
    "        singular_values (array-like, shape (n_components,)): Singular values.\n",
    "        rank (int): Number of singular values to use.\n",
    "        beta (float): Beta value.\n",
    "        threshold (float): Threshold value.\n",
    "\n",
    "    Returns:\n",
    "        adjusted singular values array (array-like, shape (n_components,)): Adjusted array of singular values.\n",
    "\n",
    "    \"\"\"\n",
    "    if rank is not None:\n",
    "        return singular_values[:rank]\n",
    "    else:\n",
    "        # Find the median of the singular values\n",
    "        singular_values = [s_val for s_val in singular_values if s_val > 0.01]\n",
    "        if len(singular_values) == 1:\n",
    "            return singular_values[:1]\n",
    "        median_sv = np.median(singular_values[:rank])\n",
    "        # Find the adjusted rank\n",
    "        if threshold is None:\n",
    "            threshold = SINGULAR_VALUE_BETA_THR(beta)\n",
    "        sv_threshold = threshold * median_sv\n",
    "        # Find the threshold value\n",
    "        adjusted_rank = np.sum(singular_values >= sv_threshold)\n",
    "        # If the adjusted rank is 0, recalculate the threshold value\n",
    "        if adjusted_rank == 0:\n",
    "            sv_threshold = 2.31 * median_sv\n",
    "            adjusted_rank = max(np.sum(singular_values >= sv_threshold), 1)\n",
    "        return singular_values[:adjusted_rank]"
   ],
   "metadata": {
    "id": "tKWwT9Yb-Khl",
    "pycharm": {
     "name": "#%%\n"
    }
   },
   "execution_count": 3,
   "outputs": []
  },
  {
   "cell_type": "code",
   "execution_count": 4,
   "metadata": {
    "id": "Z2a3Yhju1OQ0",
    "pycharm": {
     "name": "#%%\n"
    }
   },
   "outputs": [],
   "source": [
    "class RSVDDecomposition:\n",
    "    def __init__(self, rank: int = None):\n",
    "        self.rank = rank\n",
    "\n",
    "    def _init_random_params(self, tensor):\n",
    "        # Percent of sampling columns. By default - 70%\n",
    "        projection_rank = math.ceil(min(tensor.shape) / 1.5)\n",
    "        # Polynom degree for power iteration procedure.\n",
    "        self.poly_deg = 3\n",
    "        # Create random matrix for projection/\n",
    "        self.random_projection = np.random.randn(\n",
    "            tensor.shape[1], projection_rank)\n",
    "\n",
    "    def _compute_matrix_approximation(self, Ut, block, tensor, rank):\n",
    "        Ut_ = Ut[:, :rank]\n",
    "        tensor_approx = block @ Ut_\n",
    "        reconstr_m = tensor_approx @ tensor_approx.T @ tensor\n",
    "        return reconstr_m\n",
    "\n",
    "    def _spectrum_regularization(self,\n",
    "                                 spectrum: np.array,\n",
    "                                 reg_type: str = 'hard_thresholding'):\n",
    "        if reg_type == 'explained_dispersion':\n",
    "            low_rank = sv_to_explained_variance_ratio(spectrum, 3)[1]\n",
    "        elif reg_type == 'hard_thresholding':\n",
    "            low_rank = len(singular_value_hard_threshold(spectrum))\n",
    "        return max(low_rank, 2)\n",
    "\n",
    "    def _matrix_approx_regularization(self, low_rank, Ut, block, tensor):\n",
    "        if low_rank == 1:\n",
    "            return low_rank\n",
    "        else:\n",
    "            list_of_rank = list(range(1, low_rank + 1, 1))\n",
    "            reconstr_matrix = [self._compute_matrix_approximation(\n",
    "                Ut, block, tensor, rank) for rank in list_of_rank]\n",
    "            fro_norms = [abs(np.linalg.norm(tensor - reconstr_m, 'fro') / np.linalg.norm(tensor) * 100)\n",
    "                         for reconstr_m in reconstr_matrix]\n",
    "            regularized_rank = _detect_knee_point(\n",
    "                values=fro_norms, indices=list(range(len(fro_norms))))\n",
    "            regularized_rank = len(regularized_rank)\n",
    "            # deriviate_of_error = abs(np.diff(fro_norms))\n",
    "            # regularized_rank = len(\n",
    "            #     deriviate_of_error[deriviate_of_error > 1]) + 1\n",
    "        return regularized_rank\n",
    "\n",
    "    def rsvd_and_rank(self,\n",
    "             tensor: np.array,\n",
    "             approximation: bool = False,\n",
    "             regularized_rank: int = None,\n",
    "             reg_type: str = 'hard_thresholding') -> tuple[list, int]:\n",
    "        \"\"\"Block Krylov subspace method for computing the SVD of a matrix with a low computational cost.\n",
    "\n",
    "        Args:\n",
    "            tensor: matrix to decompose\n",
    "            approximation: if True, the matrix approximation will be computed\n",
    "            regularized_rank: rank of the matrix approximation\n",
    "            reg_type: type of regularization. 'hard_thresholding' or 'explained_dispersion'\n",
    "\n",
    "        Returns:\n",
    "            u, s, vt: decomposition\n",
    "            rank recommended approximated_rank\n",
    "        \"\"\"\n",
    "        # Return classic svd decomposition with chosen type of spectrum thresholding\n",
    "        if not approximation:\n",
    "            # classic svd decomposition\n",
    "            Ut, St, Vt = np.linalg.svd(tensor, full_matrices=False)\n",
    "            # Compute low rank.\n",
    "            low_rank = self._spectrum_regularization(St, reg_type=reg_type)\n",
    "            if regularized_rank is not None:\n",
    "                low_rank = regularized_rank\n",
    "            # Return first n eigen components.\n",
    "            U_, S_, V_ = Ut[:, :low_rank], St[:low_rank], Vt[:low_rank, :]\n",
    "\n",
    "            print(f\"Recommended rank {low_rank}±\")\n",
    "\n",
    "            return [U_, S_, V_], low_rank\n",
    "        else:\n",
    "            # First step. Initialize random matrix params.\n",
    "            self._init_random_params(tensor)\n",
    "            # Second step. Transform initial matrix to Gram. matrix\n",
    "            AAT = tensor @ tensor.T\n",
    "            # Third step. Power iteration procedure. First we raise the Gram matrix to the chosen degree.\n",
    "            # This step is necessary in order to obtain a more \"pronounced\" spectrum\n",
    "            # (in which the eigenvalues are well separated from each other).\n",
    "            # The important point is that the exponentiation procedure only changes\n",
    "            # the eigenvalues but does not change the eigenvectors. Next, the resulting matrix is multiplied with the\n",
    "            # original matrix (\"overweighing\" the column space) and then multiplied with a random matrix\n",
    "            # in order to reduce the dimension and facilitate the procedure for \"large\" matrices.\n",
    "            sampled_tensor = np.linalg.matrix_power(\n",
    "                AAT, self.poly_deg) @ tensor @ self.random_projection\n",
    "            # Fourth step. Orthogonalization of the resulting \"sampled\" matrix creates for us a basis of eigenvectors.\n",
    "            sampled_tensor_orto, _ = np.linalg.qr(\n",
    "                sampled_tensor, mode='reduced')\n",
    "            # Fifth step. Project initial Gramm matrix on new basis obtained from \"sampled matrix\".\n",
    "            M = sampled_tensor_orto.T @ AAT @ sampled_tensor_orto\n",
    "            # Six step. Classical svd decomposition with choosen type of spectrum thresholding\n",
    "            Ut, St, Vt = np.linalg.svd(M, full_matrices=False)\n",
    "            # Compute low rank.\n",
    "            low_rank = self._spectrum_regularization(St, reg_type=reg_type)\n",
    "            # Seven step. Compute matrix approximation and choose new low_rank\n",
    "            if regularized_rank is None:\n",
    "                regularized_rank = self._matrix_approx_regularization(\n",
    "                    low_rank, Ut, sampled_tensor_orto, tensor)\n",
    "            # Eight step. Return matrix approximation.\n",
    "            reconstr_tensor = self._compute_matrix_approximation(\n",
    "                Ut, sampled_tensor_orto, tensor, regularized_rank)\n",
    "            U_, S_, V_ = np.linalg.svd(reconstr_tensor, full_matrices=False)\n",
    "\n",
    "            print(f\"Recommended rank {regularized_rank}\")\n",
    "\n",
    "            return [U_, S_, V_,], regularized_rank"
   ]
  },
  {
   "cell_type": "code",
   "source": [
    "transform = v2.Compose([\n",
    "    v2.ToTensor(),\n",
    "    v2.Normalize((0.1307,), (0.3081,))\n",
    "])\n",
    "\n",
    "# Load the MNIST dataset\n",
    "mnist_trainset = datasets.MNIST(root=\"./data\", train=True, download=True, transform=transform)\n",
    "\n",
    "# Create a dataloader for the training\n",
    "train_loader = torch.utils.data.DataLoader(mnist_trainset, batch_size=10, shuffle=True)\n",
    "\n",
    "# Load the MNIST test set\n",
    "mnist_testset = datasets.MNIST(root=\"./data\", train=False, download=True, transform=transform)\n",
    "test_loader = torch.utils.data.DataLoader(mnist_testset, batch_size=10, shuffle=True)\n",
    "\n",
    "# Define the device\n",
    "device = torch.device(\"cuda:0\" if torch.cuda.is_available() else \"cpu\")"
   ],
   "metadata": {
    "id": "s0jdzPcHK9K7",
    "pycharm": {
     "name": "#%%\n"
    }
   },
   "execution_count": 5,
   "outputs": []
  },
  {
   "cell_type": "code",
   "source": [
    "class DummyOverComplicatedNeuralNetwork(nn.Module):\n",
    "    def __init__(self, hidden_size_1=1000, hidden_size_2=2000):\n",
    "        super(DummyOverComplicatedNeuralNetwork,self).__init__()\n",
    "        self.linear1 = nn.Linear(28*28, hidden_size_1)\n",
    "        self.linear2 = nn.Linear(hidden_size_1, hidden_size_2)\n",
    "        self.linear3 = nn.Linear(hidden_size_2, 10)\n",
    "        self.relu = nn.ReLU()\n",
    "\n",
    "    def forward(self, img):\n",
    "        x = img.view(-1, 28*28) # .to(torch.float32)\n",
    "        x = self.relu(self.linear1(x)) # .to(torch.float32)\n",
    "        x = self.relu(self.linear2(x)) #.to(torch.float32)\n",
    "        x = self.linear3(x) # .to(torch.float32)\n",
    "        return x\n",
    "\n",
    "docnn_model = DummyOverComplicatedNeuralNetwork().to(device)"
   ],
   "metadata": {
    "id": "Ib4OVvTDCzcJ",
    "pycharm": {
     "name": "#%%\n"
    }
   },
   "execution_count": 6,
   "outputs": []
  },
  {
   "cell_type": "code",
   "source": [
    "def train(train_loader, net, epochs=5, total_iterations_limit=None):\n",
    "    cross_el = nn.CrossEntropyLoss()\n",
    "    optimizer = torch.optim.Adam(net.parameters(), lr=0.001)\n",
    "\n",
    "    total_iterations = 0\n",
    "\n",
    "    for epoch in range(epochs):\n",
    "        net.train()\n",
    "\n",
    "        loss_sum = 0\n",
    "        num_iterations = 0\n",
    "\n",
    "        data_iterator = tqdm(train_loader, desc=f\"Epoch {epoch+1}\")\n",
    "        if total_iterations_limit is not None:\n",
    "            data_iterator.total = total_iterations_limit\n",
    "        for data in data_iterator:\n",
    "            num_iterations += 1\n",
    "            total_iterations += 1\n",
    "            x, y = data\n",
    "            x = x.to(device)\n",
    "            y = y.to(device)\n",
    "            optimizer.zero_grad()\n",
    "            output = net(x.view(-1, 28*28))\n",
    "            loss = cross_el(output, y)\n",
    "            loss_sum += loss.item()\n",
    "            avg_loss = loss_sum / num_iterations\n",
    "            data_iterator.set_postfix(loss=avg_loss)\n",
    "            loss.backward()\n",
    "            optimizer.step()\n",
    "\n",
    "            if total_iterations_limit is not None and total_iterations >= total_iterations_limit:\n",
    "                return\n",
    "\n",
    "train(train_loader, docnn_model, epochs=1)"
   ],
   "metadata": {
    "colab": {
     "base_uri": "https://localhost:8080/"
    },
    "id": "IW-KM4UeK3WN",
    "outputId": "a010428f-5998-4973-8fdb-cf92c5d8031c",
    "pycharm": {
     "name": "#%%\n"
    }
   },
   "execution_count": 7,
   "outputs": [
    {
     "name": "stderr",
     "output_type": "stream",
     "text": [
      "Epoch 1: 100%|██████████| 6000/6000 [00:29<00:00, 200.47it/s, loss=0.24] \n"
     ]
    }
   ]
  },
  {
   "cell_type": "code",
   "source": [
    "weights_to_rsvd = {}\n",
    "\n",
    "for name, param in docnn_model.named_parameters():\n",
    "    weights_to_rsvd[name] = param.clone().detach()"
   ],
   "metadata": {
    "id": "78evUBZOuzNE",
    "pycharm": {
     "name": "#%%\n"
    }
   },
   "execution_count": 8,
   "outputs": []
  },
  {
   "cell_type": "code",
   "source": [
    "def test():\n",
    "    correct = 0\n",
    "    total = 0\n",
    "\n",
    "    wrong_counts = [0 for i in range(10)]\n",
    "\n",
    "    with torch.no_grad():\n",
    "        for data in tqdm(test_loader, desc=\"Testing\"):\n",
    "            x, y = data\n",
    "            x = x.to(device)\n",
    "            y = y.to(device)\n",
    "            output = docnn_model(x.view(-1, 784))\n",
    "\n",
    "            for idx, i in enumerate(output):\n",
    "                if torch.argmax(i) == y[idx]:\n",
    "                    correct +=1\n",
    "                else:\n",
    "                    wrong_counts[y[idx]] +=1\n",
    "                total +=1\n",
    "\n",
    "    print(f\"Accuracy: {round(correct/total, 3)}\")\n",
    "\n",
    "    for i in range(len(wrong_counts)):\n",
    "        print(f\"Incorrect counts for {i}: {wrong_counts[i]}\")\n",
    "\n",
    "test()"
   ],
   "metadata": {
    "colab": {
     "base_uri": "https://localhost:8080/"
    },
    "id": "NbYLdX08julm",
    "outputId": "a7ae396a-1317-48e5-ad82-955f2c08f3c7",
    "pycharm": {
     "name": "#%%\n"
    }
   },
   "execution_count": 9,
   "outputs": [
    {
     "name": "stderr",
     "output_type": "stream",
     "text": [
      "Testing: 100%|██████████| 1000/1000 [00:03<00:00, 310.93it/s]"
     ]
    },
    {
     "name": "stdout",
     "output_type": "stream",
     "text": [
      "Accuracy: 0.967\n",
      "Incorrect counts for 0: 8\n",
      "Incorrect counts for 1: 10\n",
      "Incorrect counts for 2: 54\n",
      "Incorrect counts for 3: 32\n",
      "Incorrect counts for 4: 48\n",
      "Incorrect counts for 5: 29\n",
      "Incorrect counts for 6: 31\n",
      "Incorrect counts for 7: 27\n",
      "Incorrect counts for 8: 46\n",
      "Incorrect counts for 9: 48\n"
     ]
    },
    {
     "name": "stderr",
     "output_type": "stream",
     "text": [
      "\n"
     ]
    }
   ]
  },
  {
   "cell_type": "code",
   "source": [
    "# Size of the weights matrices of the network\n",
    "# and save total number of parameters\n",
    "total_parameters_original = 0\n",
    "\n",
    "for index, layer in enumerate([docnn_model.linear1, docnn_model.linear2, docnn_model.linear3]):\n",
    "    total_parameters_original += layer.weight.nelement() + layer.bias.nelement()\n",
    "\n",
    "    print(f\"Layer {index+1}: W: {layer.weight.shape} + B: {layer.bias.shape}\")\n",
    "\n",
    "print(f\"Total number of parameters: {total_parameters_original:,}\")"
   ],
   "metadata": {
    "colab": {
     "base_uri": "https://localhost:8080/"
    },
    "id": "Fwg4P0mnm5nR",
    "outputId": "3e93a9b2-f7b8-4fda-ff4d-24e600204cf4",
    "pycharm": {
     "name": "#%%\n"
    }
   },
   "execution_count": 10,
   "outputs": [
    {
     "name": "stdout",
     "output_type": "stream",
     "text": [
      "Layer 1: W: torch.Size([1000, 784]) + B: torch.Size([1000])\n",
      "Layer 2: W: torch.Size([2000, 1000]) + B: torch.Size([2000])\n",
      "Layer 3: W: torch.Size([10, 2000]) + B: torch.Size([10])\n",
      "Total number of parameters: 2,807,010\n"
     ]
    }
   ]
  },
  {
   "cell_type": "markdown",
   "source": [
    "\n",
    "### RSVD Decomposition method\n",
    "\n",
    " Get $U, S, V$ matricies and reccomended rank for each layer"
   ],
   "metadata": {
    "id": "VuwrB-rKBcl7",
    "pycharm": {
     "name": "#%% md\n"
    }
   }
  },
  {
   "cell_type": "markdown",
   "source": [],
   "metadata": {
    "collapsed": false,
    "pycharm": {
     "name": "#%% md\n"
    }
   }
  },
  {
   "cell_type": "code",
   "source": [
    "rsvd = RSVDDecomposition()"
   ],
   "metadata": {
    "id": "v8IfMokfBq_g",
    "pycharm": {
     "name": "#%%\n"
    }
   },
   "execution_count": 11,
   "outputs": []
  },
  {
   "cell_type": "code",
   "source": [
    "usv1, rank = rsvd.rsvd_and_rank(\n",
    "    tensor=weights_to_rsvd[\"linear1.weight\"].cpu().detach().numpy(),\n",
    "    approximation=True,\n",
    ")"
   ],
   "metadata": {
    "colab": {
     "base_uri": "https://localhost:8080/"
    },
    "id": "MAsMuwpIvT4V",
    "outputId": "5957a4e3-d5fc-45c5-e480-4123a2dfd36f",
    "pycharm": {
     "name": "#%%\n"
    }
   },
   "execution_count": 12,
   "outputs": [
    {
     "name": "stdout",
     "output_type": "stream",
     "text": [
      "Recommended rank 1\n"
     ]
    }
   ]
  },
  {
   "cell_type": "code",
   "source": [
    "usv2, rank2 = rsvd.rsvd_and_rank(\n",
    "    tensor=weights_to_rsvd[\"linear2.weight\"].cpu().detach().numpy(),\n",
    "    approximation=True,\n",
    ")"
   ],
   "metadata": {
    "colab": {
     "base_uri": "https://localhost:8080/"
    },
    "id": "24dfhj-I11yZ",
    "outputId": "4560034e-0ade-400f-e988-bf4b247d6bf5",
    "pycharm": {
     "name": "#%%\n"
    }
   },
   "execution_count": 13,
   "outputs": [
    {
     "name": "stdout",
     "output_type": "stream",
     "text": [
      "Recommended rank 1\n"
     ]
    }
   ]
  },
  {
   "cell_type": "code",
   "source": [
    "usv3, rank3 = rsvd.rsvd_and_rank(\n",
    "    tensor=weights_to_rsvd[\"linear3.weight\"].cpu().detach().numpy(),\n",
    "    approximation=True,\n",
    ")"
   ],
   "metadata": {
    "colab": {
     "base_uri": "https://localhost:8080/"
    },
    "id": "fWWCtWAH2tW2",
    "outputId": "84583af7-c57e-4219-b32a-ad781b0366f5",
    "pycharm": {
     "name": "#%%\n"
    }
   },
   "execution_count": 14,
   "outputs": [
    {
     "name": "stdout",
     "output_type": "stream",
     "text": [
      "Recommended rank 2\n"
     ]
    }
   ]
  },
  {
   "cell_type": "markdown",
   "source": [
    "![image.png](data:image/png;base64,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))"
   ],
   "metadata": {
    "id": "31fyvmviKvpE",
    "pycharm": {
     "name": "#%% md\n"
    }
   }
  },
  {
   "cell_type": "markdown",
   "source": [
    "### Modified `LoRAParametrization()` from [Lora Implementation - Collab](https://drive.google.com/file/d/1O4GGzD1WTwnuxECxh1dhmC-sYCNYEs3v/view?usp=sharing)\n",
    "\n",
    "So now it uses info from RSVD as init of matricies A & B"
   ],
   "metadata": {
    "id": "_jTbvZq6B5CA",
    "pycharm": {
     "name": "#%% md\n"
    }
   }
  },
  {
   "cell_type": "code",
   "execution_count": null,
   "outputs": [],
   "source": [],
   "metadata": {
    "collapsed": false,
    "pycharm": {
     "name": "#%%\n"
    }
   }
  },
  {
   "cell_type": "code",
   "execution_count": 24,
   "outputs": [
    {
     "ename": "ValueError",
     "evalue": "matmul: Input operand 1 has a mismatch in its core dimension 0, with gufunc signature (n?,k),(k,m?)->(n?,m?) (size 1 is different from 784)",
     "output_type": "error",
     "traceback": [
      "\u001B[1;31m---------------------------------------------------------------------------\u001B[0m",
      "\u001B[1;31mValueError\u001B[0m                                Traceback (most recent call last)",
      "Cell \u001B[1;32mIn[24], line 1\u001B[0m\n\u001B[1;32m----> 1\u001B[0m \u001B[43musv1\u001B[49m\u001B[43m[\u001B[49m\u001B[38;5;241;43m0\u001B[39;49m\u001B[43m]\u001B[49m\u001B[43m[\u001B[49m\u001B[43m:\u001B[49m\u001B[38;5;241;43m1\u001B[39;49m\u001B[43m,\u001B[49m\u001B[43m:\u001B[49m\u001B[43m]\u001B[49m\u001B[43m \u001B[49m\u001B[38;5;241;43m@\u001B[39;49m\u001B[43m \u001B[49m\u001B[43musv1\u001B[49m\u001B[43m[\u001B[49m\u001B[38;5;241;43m1\u001B[39;49m\u001B[43m]\u001B[49m\u001B[43m[\u001B[49m\u001B[43m:\u001B[49m\u001B[38;5;241;43m1\u001B[39;49m\u001B[43m]\u001B[49m\n",
      "\u001B[1;31mValueError\u001B[0m: matmul: Input operand 1 has a mismatch in its core dimension 0, with gufunc signature (n?,k),(k,m?)->(n?,m?) (size 1 is different from 784)"
     ]
    }
   ],
   "source": [
    "usv1[0][:1,:] @ usv1[1][:1]"
   ],
   "metadata": {
    "collapsed": false,
    "pycharm": {
     "name": "#%%\n"
    }
   }
  },
  {
   "cell_type": "code",
   "source": [
    "class LoRAParametrizationWithInfo(nn.Module):\n",
    "    def __init__(self, USV, rank=1, alpha=1, device='cpu'):\n",
    "        super().__init__()\n",
    "        # Section 4.1 of the paper:\n",
    "        #   We use a random Gaussian initialization for A and zero for B, so ∆W = BA is zero at the beginning of training\n",
    "        # In previous series:\n",
    "        # - A = torch.zeros((rank, features_out))\n",
    "        # - B = torch.zeros((features_in, rank))\n",
    "        self.USV = USV\n",
    "        self.rank = rank\n",
    "        self._a = torch.tensor(self.USV[1][:self.rank] @ self.USV[2][:,:self.rank].T)  # torch.from_numpy(USV[1]) @ torch.from_numpy(USV[2])\n",
    "        self._b = torch.tensor(self.USV[0][:self.rank,:].T @ self.USV[1][:self.rank])\n",
    "        self.USV = USV\n",
    "\n",
    "\n",
    "        self.lora_A = nn.Parameter(torch.unsqueeze(self._a, 0)).to(device)\n",
    "        self.lora_B = nn.Parameter(torch.unsqueeze(self._b, 1)).to(device)\n",
    "\n",
    "        nn.init.normal_(self.lora_A, mean=0, std=1)\n",
    "\n",
    "        # Section 4.1 of the paper:\n",
    "        #   We then scale ∆Wx by α/r , where α is a constant in r.\n",
    "        #   When optimizing with Adam, tuning α is roughly the same as tuning the learning rate if we scale the initialization appropriately.\n",
    "        #   As a result, we simply set α to the first r we try and do not tune it.\n",
    "        #   This scaling helps to reduce the need to retune hyperparameters when we vary r.\n",
    "        self.scale = alpha / rank\n",
    "        self.enabled = True\n",
    "\n",
    "    def forward(self, original_weights):\n",
    "        if self.enabled:\n",
    "            # Return W + (B * A) * scale\n",
    "\n",
    "            #original_weights = self._a @ self._b\n",
    "            return (original_weights + torch.matmul(self.lora_B, self.lora_A).view(original_weights.shape) * self.scale).to(torch.float32)\n",
    "        else:\n",
    "            return original_weights"
   ],
   "metadata": {
    "id": "z-wUpDgCj0Il",
    "pycharm": {
     "name": "#%%\n"
    }
   },
   "execution_count": 31,
   "outputs": []
  },
  {
   "cell_type": "markdown",
   "source": [
    "> <picture>\n",
    ">   <source media=\"(prefers-color-scheme: light)\" srcset=\"https://raw.githubusercontent.com/Mqxx/GitHub-Markdown/main/blockquotes/badge/light-theme/example.svg\">\n",
    ">   <img alt=\"Example\" src=\"https://raw.githubusercontent.com/Mqxx/GitHub-Markdown/main/blockquotes/badge/dark-theme/example.svg\">\n",
    "> </picture><br>\n",
    ">\n",
    "> ### Check original in|out features & weights after matricies multiplication"
   ],
   "metadata": {
    "id": "_D85QzEHPuFj",
    "pycharm": {
     "name": "#%% md\n"
    }
   }
  },
  {
   "cell_type": "code",
   "source": [
    "print(f\"                  in,  out\")\n",
    "print(f\"L1 : {docnn_model.linear1.weight.shape}\")\n",
    "print(f\"L2 : {docnn_model.linear2.weight.shape}\")\n",
    "print(f\"L3 : {docnn_model.linear3.weight.shape}\")"
   ],
   "metadata": {
    "colab": {
     "base_uri": "https://localhost:8080/"
    },
    "id": "sZtAiZl6LnUF",
    "outputId": "52036a6d-97ed-4ba3-acd9-1713a9d74571",
    "pycharm": {
     "name": "#%%\n"
    }
   },
   "execution_count": 32,
   "outputs": [
    {
     "name": "stdout",
     "output_type": "stream",
     "text": [
      "                  in,  out\n",
      "L1 : torch.Size([1000, 784])\n",
      "L2 : torch.Size([2000, 1000])\n",
      "L3 : torch.Size([10, 2000])\n"
     ]
    }
   ]
  },
  {
   "cell_type": "code",
   "source": [
    "import torch.nn.utils.parametrize as parametrize\n",
    "\n",
    "def linear_layer_parameterization_with_info(USV, device, rank=1, lora_alpha=1):\n",
    "    # Only add the parameterization to the weight matrix, ignore the Bias\n",
    "\n",
    "    # From section 4.2 of the paper:\n",
    "    #   We limit our study to only adapting the attention weights for downstream tasks and freeze the MLP modules (so they are not trained in downstream tasks) both for simplicity and parameter-efficiency.\n",
    "    #   [...]\n",
    "    #   We leave the empirical investigation of [...], and biases to a future work.\n",
    "\n",
    "    return LoRAParametrizationWithInfo(USV, rank=rank, alpha=lora_alpha, device=device)\n",
    "\n",
    "parametrize.register_parametrization(\n",
    "    docnn_model.linear1,\n",
    "    \"weight\",\n",
    "    linear_layer_parameterization_with_info(usv1, device, rank),\n",
    "\n",
    ")\n",
    "\n",
    "parametrize.register_parametrization(\n",
    "    docnn_model.linear2,\n",
    "    \"weight\",\n",
    "    linear_layer_parameterization_with_info(usv2, device, rank2),\n",
    ")\n",
    "\n",
    "parametrize.register_parametrization(\n",
    "    docnn_model.linear3,\n",
    "    \"weight\",\n",
    "    linear_layer_parameterization_with_info(usv3, device, rank3),\n",
    ")\n",
    "\n",
    "\n",
    "def enable_disable_lora(enabled=True):\n",
    "    for layer in [docnn_model.linear1, docnn_model.linear2, docnn_model.linear3]:\n",
    "        layer.parametrizations[\"weight\"][0].enabled = enabled"
   ],
   "metadata": {
    "id": "29-VdBUPqT9H",
    "pycharm": {
     "name": "#%%\n"
    }
   },
   "execution_count": 33,
   "outputs": [
    {
     "ename": "RuntimeError",
     "evalue": "shape '[1000, 784]' is invalid for input of size 614656",
     "output_type": "error",
     "traceback": [
      "\u001B[1;31m---------------------------------------------------------------------------\u001B[0m",
      "\u001B[1;31mRuntimeError\u001B[0m                              Traceback (most recent call last)",
      "Cell \u001B[1;32mIn[33], line 13\u001B[0m\n\u001B[0;32m      3\u001B[0m \u001B[38;5;28;01mdef\u001B[39;00m \u001B[38;5;21mlinear_layer_parameterization_with_info\u001B[39m(USV, device, rank\u001B[38;5;241m=\u001B[39m\u001B[38;5;241m1\u001B[39m, lora_alpha\u001B[38;5;241m=\u001B[39m\u001B[38;5;241m1\u001B[39m):\n\u001B[0;32m      4\u001B[0m     \u001B[38;5;66;03m# Only add the parameterization to the weight matrix, ignore the Bias\u001B[39;00m\n\u001B[0;32m      5\u001B[0m \n\u001B[1;32m   (...)\u001B[0m\n\u001B[0;32m      8\u001B[0m     \u001B[38;5;66;03m#   [...]\u001B[39;00m\n\u001B[0;32m      9\u001B[0m     \u001B[38;5;66;03m#   We leave the empirical investigation of [...], and biases to a future work.\u001B[39;00m\n\u001B[0;32m     11\u001B[0m     \u001B[38;5;28;01mreturn\u001B[39;00m LoRAParametrizationWithInfo(USV, rank\u001B[38;5;241m=\u001B[39mrank, alpha\u001B[38;5;241m=\u001B[39mlora_alpha, device\u001B[38;5;241m=\u001B[39mdevice)\n\u001B[1;32m---> 13\u001B[0m \u001B[43mparametrize\u001B[49m\u001B[38;5;241;43m.\u001B[39;49m\u001B[43mregister_parametrization\u001B[49m\u001B[43m(\u001B[49m\n\u001B[0;32m     14\u001B[0m \u001B[43m    \u001B[49m\u001B[43mdocnn_model\u001B[49m\u001B[38;5;241;43m.\u001B[39;49m\u001B[43mlinear1\u001B[49m\u001B[43m,\u001B[49m\n\u001B[0;32m     15\u001B[0m \u001B[43m    \u001B[49m\u001B[38;5;124;43m\"\u001B[39;49m\u001B[38;5;124;43mweight\u001B[39;49m\u001B[38;5;124;43m\"\u001B[39;49m\u001B[43m,\u001B[49m\n\u001B[0;32m     16\u001B[0m \u001B[43m    \u001B[49m\u001B[43mlinear_layer_parameterization_with_info\u001B[49m\u001B[43m(\u001B[49m\u001B[43musv1\u001B[49m\u001B[43m,\u001B[49m\u001B[43m \u001B[49m\u001B[43mdevice\u001B[49m\u001B[43m,\u001B[49m\u001B[43m \u001B[49m\u001B[43mrank\u001B[49m\u001B[43m)\u001B[49m\u001B[43m,\u001B[49m\n\u001B[0;32m     17\u001B[0m \n\u001B[0;32m     18\u001B[0m \u001B[43m)\u001B[49m\n\u001B[0;32m     20\u001B[0m parametrize\u001B[38;5;241m.\u001B[39mregister_parametrization(\n\u001B[0;32m     21\u001B[0m     docnn_model\u001B[38;5;241m.\u001B[39mlinear2,\n\u001B[0;32m     22\u001B[0m     \u001B[38;5;124m\"\u001B[39m\u001B[38;5;124mweight\u001B[39m\u001B[38;5;124m\"\u001B[39m,\n\u001B[0;32m     23\u001B[0m     linear_layer_parameterization_with_info(usv2, device, rank2),\n\u001B[0;32m     24\u001B[0m )\n\u001B[0;32m     26\u001B[0m parametrize\u001B[38;5;241m.\u001B[39mregister_parametrization(\n\u001B[0;32m     27\u001B[0m     docnn_model\u001B[38;5;241m.\u001B[39mlinear3,\n\u001B[0;32m     28\u001B[0m     \u001B[38;5;124m\"\u001B[39m\u001B[38;5;124mweight\u001B[39m\u001B[38;5;124m\"\u001B[39m,\n\u001B[0;32m     29\u001B[0m     linear_layer_parameterization_with_info(usv3, device, rank3),\n\u001B[0;32m     30\u001B[0m )\n",
      "File \u001B[1;32mD:\\WORK\\Repo\\Industiral\\IndustrialTS\\venv_3.9_new\\lib\\site-packages\\torch\\nn\\utils\\parametrize.py:532\u001B[0m, in \u001B[0;36mregister_parametrization\u001B[1;34m(module, tensor_name, parametrization, unsafe)\u001B[0m\n\u001B[0;32m    530\u001B[0m original \u001B[38;5;241m=\u001B[39m \u001B[38;5;28mgetattr\u001B[39m(module, tensor_name)\n\u001B[0;32m    531\u001B[0m \u001B[38;5;66;03m# We create this early to check for possible errors\u001B[39;00m\n\u001B[1;32m--> 532\u001B[0m parametrizations \u001B[38;5;241m=\u001B[39m \u001B[43mParametrizationList\u001B[49m\u001B[43m(\u001B[49m\u001B[43m[\u001B[49m\u001B[43mparametrization\u001B[49m\u001B[43m]\u001B[49m\u001B[43m,\u001B[49m\u001B[43m \u001B[49m\u001B[43moriginal\u001B[49m\u001B[43m,\u001B[49m\u001B[43m \u001B[49m\u001B[43munsafe\u001B[49m\u001B[38;5;241;43m=\u001B[39;49m\u001B[43munsafe\u001B[49m\u001B[43m)\u001B[49m\n\u001B[0;32m    533\u001B[0m \u001B[38;5;66;03m# Delete the previous parameter or buffer\u001B[39;00m\n\u001B[0;32m    534\u001B[0m \u001B[38;5;28mdelattr\u001B[39m(module, tensor_name)\n",
      "File \u001B[1;32mD:\\WORK\\Repo\\Industiral\\IndustrialTS\\venv_3.9_new\\lib\\site-packages\\torch\\nn\\utils\\parametrize.py:177\u001B[0m, in \u001B[0;36mParametrizationList.__init__\u001B[1;34m(self, modules, original, unsafe)\u001B[0m\n\u001B[0;32m    171\u001B[0m         _register_parameter_or_buffer(\u001B[38;5;28mself\u001B[39m, \u001B[38;5;124mf\u001B[39m\u001B[38;5;124m\"\u001B[39m\u001B[38;5;124moriginal\u001B[39m\u001B[38;5;132;01m{\u001B[39;00mi\u001B[38;5;132;01m}\u001B[39;00m\u001B[38;5;124m\"\u001B[39m, originali)\n\u001B[0;32m    173\u001B[0m \u001B[38;5;28;01mif\u001B[39;00m \u001B[38;5;129;01mnot\u001B[39;00m \u001B[38;5;28mself\u001B[39m\u001B[38;5;241m.\u001B[39munsafe:\n\u001B[0;32m    174\u001B[0m     \u001B[38;5;66;03m# Consistency checks:\u001B[39;00m\n\u001B[0;32m    175\u001B[0m     \u001B[38;5;66;03m# Since f : A -> B, right_inverse : B -> A, Z and original should live in B\u001B[39;00m\n\u001B[0;32m    176\u001B[0m     \u001B[38;5;66;03m# Z = forward(right_inverse(original))\u001B[39;00m\n\u001B[1;32m--> 177\u001B[0m     Z \u001B[38;5;241m=\u001B[39m \u001B[38;5;28;43mself\u001B[39;49m\u001B[43m(\u001B[49m\u001B[43m)\u001B[49m\n\u001B[0;32m    178\u001B[0m     \u001B[38;5;28;01mif\u001B[39;00m \u001B[38;5;129;01mnot\u001B[39;00m \u001B[38;5;28misinstance\u001B[39m(Z, Tensor):\n\u001B[0;32m    179\u001B[0m         \u001B[38;5;28;01mraise\u001B[39;00m \u001B[38;5;167;01mValueError\u001B[39;00m(\n\u001B[0;32m    180\u001B[0m             \u001B[38;5;124mf\u001B[39m\u001B[38;5;124m\"\u001B[39m\u001B[38;5;124mA parametrization must return a tensor. Got \u001B[39m\u001B[38;5;132;01m{\u001B[39;00m\u001B[38;5;28mtype\u001B[39m(Z)\u001B[38;5;241m.\u001B[39m\u001B[38;5;18m__name__\u001B[39m\u001B[38;5;132;01m}\u001B[39;00m\u001B[38;5;124m.\u001B[39m\u001B[38;5;124m\"\u001B[39m\n\u001B[0;32m    181\u001B[0m         )\n",
      "File \u001B[1;32mD:\\WORK\\Repo\\Industiral\\IndustrialTS\\venv_3.9_new\\lib\\site-packages\\torch\\nn\\modules\\module.py:1130\u001B[0m, in \u001B[0;36mModule._call_impl\u001B[1;34m(self, *input, **kwargs)\u001B[0m\n\u001B[0;32m   1126\u001B[0m \u001B[38;5;66;03m# If we don't have any hooks, we want to skip the rest of the logic in\u001B[39;00m\n\u001B[0;32m   1127\u001B[0m \u001B[38;5;66;03m# this function, and just call forward.\u001B[39;00m\n\u001B[0;32m   1128\u001B[0m \u001B[38;5;28;01mif\u001B[39;00m \u001B[38;5;129;01mnot\u001B[39;00m (\u001B[38;5;28mself\u001B[39m\u001B[38;5;241m.\u001B[39m_backward_hooks \u001B[38;5;129;01mor\u001B[39;00m \u001B[38;5;28mself\u001B[39m\u001B[38;5;241m.\u001B[39m_forward_hooks \u001B[38;5;129;01mor\u001B[39;00m \u001B[38;5;28mself\u001B[39m\u001B[38;5;241m.\u001B[39m_forward_pre_hooks \u001B[38;5;129;01mor\u001B[39;00m _global_backward_hooks\n\u001B[0;32m   1129\u001B[0m         \u001B[38;5;129;01mor\u001B[39;00m _global_forward_hooks \u001B[38;5;129;01mor\u001B[39;00m _global_forward_pre_hooks):\n\u001B[1;32m-> 1130\u001B[0m     \u001B[38;5;28;01mreturn\u001B[39;00m forward_call(\u001B[38;5;241m*\u001B[39m\u001B[38;5;28minput\u001B[39m, \u001B[38;5;241m*\u001B[39m\u001B[38;5;241m*\u001B[39mkwargs)\n\u001B[0;32m   1131\u001B[0m \u001B[38;5;66;03m# Do not call functions when jit is used\u001B[39;00m\n\u001B[0;32m   1132\u001B[0m full_backward_hooks, non_full_backward_hooks \u001B[38;5;241m=\u001B[39m [], []\n",
      "File \u001B[1;32mD:\\WORK\\Repo\\Industiral\\IndustrialTS\\venv_3.9_new\\lib\\site-packages\\torch\\nn\\utils\\parametrize.py:259\u001B[0m, in \u001B[0;36mParametrizationList.forward\u001B[1;34m(self)\u001B[0m\n\u001B[0;32m    256\u001B[0m \u001B[38;5;28;01mdef\u001B[39;00m \u001B[38;5;21mforward\u001B[39m(\u001B[38;5;28mself\u001B[39m) \u001B[38;5;241m-\u001B[39m\u001B[38;5;241m>\u001B[39m Tensor:\n\u001B[0;32m    257\u001B[0m     \u001B[38;5;66;03m# Unpack the originals for the first parametrization\u001B[39;00m\n\u001B[0;32m    258\u001B[0m     \u001B[38;5;28;01mif\u001B[39;00m \u001B[38;5;28mself\u001B[39m\u001B[38;5;241m.\u001B[39mis_tensor:\n\u001B[1;32m--> 259\u001B[0m         x \u001B[38;5;241m=\u001B[39m \u001B[38;5;28;43mself\u001B[39;49m\u001B[43m[\u001B[49m\u001B[38;5;241;43m0\u001B[39;49m\u001B[43m]\u001B[49m\u001B[43m(\u001B[49m\u001B[38;5;28;43mself\u001B[39;49m\u001B[38;5;241;43m.\u001B[39;49m\u001B[43moriginal\u001B[49m\u001B[43m)\u001B[49m\n\u001B[0;32m    260\u001B[0m     \u001B[38;5;28;01melse\u001B[39;00m:\n\u001B[0;32m    261\u001B[0m         originals \u001B[38;5;241m=\u001B[39m (\u001B[38;5;28mgetattr\u001B[39m(\u001B[38;5;28mself\u001B[39m, \u001B[38;5;124mf\u001B[39m\u001B[38;5;124m\"\u001B[39m\u001B[38;5;124moriginal\u001B[39m\u001B[38;5;132;01m{\u001B[39;00mi\u001B[38;5;132;01m}\u001B[39;00m\u001B[38;5;124m\"\u001B[39m) \u001B[38;5;28;01mfor\u001B[39;00m i \u001B[38;5;129;01min\u001B[39;00m \u001B[38;5;28mrange\u001B[39m(\u001B[38;5;28mself\u001B[39m\u001B[38;5;241m.\u001B[39mntensors))\n",
      "File \u001B[1;32mD:\\WORK\\Repo\\Industiral\\IndustrialTS\\venv_3.9_new\\lib\\site-packages\\torch\\nn\\modules\\module.py:1130\u001B[0m, in \u001B[0;36mModule._call_impl\u001B[1;34m(self, *input, **kwargs)\u001B[0m\n\u001B[0;32m   1126\u001B[0m \u001B[38;5;66;03m# If we don't have any hooks, we want to skip the rest of the logic in\u001B[39;00m\n\u001B[0;32m   1127\u001B[0m \u001B[38;5;66;03m# this function, and just call forward.\u001B[39;00m\n\u001B[0;32m   1128\u001B[0m \u001B[38;5;28;01mif\u001B[39;00m \u001B[38;5;129;01mnot\u001B[39;00m (\u001B[38;5;28mself\u001B[39m\u001B[38;5;241m.\u001B[39m_backward_hooks \u001B[38;5;129;01mor\u001B[39;00m \u001B[38;5;28mself\u001B[39m\u001B[38;5;241m.\u001B[39m_forward_hooks \u001B[38;5;129;01mor\u001B[39;00m \u001B[38;5;28mself\u001B[39m\u001B[38;5;241m.\u001B[39m_forward_pre_hooks \u001B[38;5;129;01mor\u001B[39;00m _global_backward_hooks\n\u001B[0;32m   1129\u001B[0m         \u001B[38;5;129;01mor\u001B[39;00m _global_forward_hooks \u001B[38;5;129;01mor\u001B[39;00m _global_forward_pre_hooks):\n\u001B[1;32m-> 1130\u001B[0m     \u001B[38;5;28;01mreturn\u001B[39;00m forward_call(\u001B[38;5;241m*\u001B[39m\u001B[38;5;28minput\u001B[39m, \u001B[38;5;241m*\u001B[39m\u001B[38;5;241m*\u001B[39mkwargs)\n\u001B[0;32m   1131\u001B[0m \u001B[38;5;66;03m# Do not call functions when jit is used\u001B[39;00m\n\u001B[0;32m   1132\u001B[0m full_backward_hooks, non_full_backward_hooks \u001B[38;5;241m=\u001B[39m [], []\n",
      "Cell \u001B[1;32mIn[31], line 34\u001B[0m, in \u001B[0;36mLoRAParametrizationWithInfo.forward\u001B[1;34m(self, original_weights)\u001B[0m\n\u001B[0;32m     29\u001B[0m \u001B[38;5;28;01mdef\u001B[39;00m \u001B[38;5;21mforward\u001B[39m(\u001B[38;5;28mself\u001B[39m, original_weights):\n\u001B[0;32m     30\u001B[0m     \u001B[38;5;28;01mif\u001B[39;00m \u001B[38;5;28mself\u001B[39m\u001B[38;5;241m.\u001B[39menabled:\n\u001B[0;32m     31\u001B[0m         \u001B[38;5;66;03m# Return W + (B * A) * scale\u001B[39;00m\n\u001B[0;32m     32\u001B[0m \n\u001B[0;32m     33\u001B[0m         \u001B[38;5;66;03m#original_weights = self._a @ self._b\u001B[39;00m\n\u001B[1;32m---> 34\u001B[0m         \u001B[38;5;28;01mreturn\u001B[39;00m (original_weights \u001B[38;5;241m+\u001B[39m \u001B[43mtorch\u001B[49m\u001B[38;5;241;43m.\u001B[39;49m\u001B[43mmatmul\u001B[49m\u001B[43m(\u001B[49m\u001B[38;5;28;43mself\u001B[39;49m\u001B[38;5;241;43m.\u001B[39;49m\u001B[43mlora_B\u001B[49m\u001B[43m,\u001B[49m\u001B[43m \u001B[49m\u001B[38;5;28;43mself\u001B[39;49m\u001B[38;5;241;43m.\u001B[39;49m\u001B[43mlora_A\u001B[49m\u001B[43m)\u001B[49m\u001B[38;5;241;43m.\u001B[39;49m\u001B[43mview\u001B[49m\u001B[43m(\u001B[49m\u001B[43moriginal_weights\u001B[49m\u001B[38;5;241;43m.\u001B[39;49m\u001B[43mshape\u001B[49m\u001B[43m)\u001B[49m \u001B[38;5;241m*\u001B[39m \u001B[38;5;28mself\u001B[39m\u001B[38;5;241m.\u001B[39mscale)\u001B[38;5;241m.\u001B[39mto(torch\u001B[38;5;241m.\u001B[39mfloat32)\n\u001B[0;32m     35\u001B[0m     \u001B[38;5;28;01melse\u001B[39;00m:\n\u001B[0;32m     36\u001B[0m         \u001B[38;5;28;01mreturn\u001B[39;00m original_weights\n",
      "\u001B[1;31mRuntimeError\u001B[0m: shape '[1000, 784]' is invalid for input of size 614656"
     ]
    }
   ]
  },
  {
   "cell_type": "code",
   "source": [
    "total_parameters_lora = 0\n",
    "total_parameters_non_lora = 0\n",
    "for index, layer in enumerate([docnn_model.linear1, docnn_model.linear2, docnn_model.linear3]):\n",
    "    total_parameters_lora += layer.parametrizations[\"weight\"][0].lora_A.nelement() + layer.parametrizations[\"weight\"][0].lora_B.nelement()\n",
    "    total_parameters_non_lora += layer.weight.nelement() + layer.bias.nelement()\n",
    "\n",
    "    print(f\"Layer {index+1}: W: {layer.weight.shape} + B: {layer.bias.shape} + Lora_A: {layer.parametrizations['weight'][0].lora_A.shape} + Lora_B: {layer.parametrizations['weight'][0].lora_B.shape}\")"
   ],
   "metadata": {
    "id": "iWo6L04nqWMM",
    "colab": {
     "base_uri": "https://localhost:8080/"
    },
    "outputId": "2ebd450c-02bf-4b75-ca2b-f1892ad543cf",
    "pycharm": {
     "name": "#%%\n"
    }
   },
   "execution_count": 178,
   "outputs": [
    {
     "output_type": "stream",
     "name": "stdout",
     "text": [
      "Layer 1: W: torch.Size([1000, 784]) + B: torch.Size([1000]) + Lora_A: torch.Size([1, 784]) + Lora_B: torch.Size([1000, 1])\n",
      "Layer 2: W: torch.Size([2000, 1000]) + B: torch.Size([2000]) + Lora_A: torch.Size([1, 1000]) + Lora_B: torch.Size([2000, 1])\n",
      "Layer 3: W: torch.Size([10, 2000]) + B: torch.Size([10]) + Lora_A: torch.Size([1, 2000]) + Lora_B: torch.Size([10, 1])\n"
     ]
    }
   ]
  },
  {
   "cell_type": "code",
   "source": [
    "# Freeze the non-Lora parameters\n",
    "for name, param in docnn_model.named_parameters():\n",
    "    if \"lora\" not in name:\n",
    "        print(f\"Freezing non-LoRA parameter {name}\")\n",
    "        param.requires_grad = False\n",
    "\n",
    "mnist_trainset = datasets.MNIST(root=\"./data\", train=True, download=True, transform=transform)\n",
    "# Create a dataloader for the training\n",
    "train_loader = torch.utils.data.DataLoader(mnist_trainset, batch_size=10, shuffle=True)\n",
    "\n",
    "# Train the network with LoRA only on the digit 9 and only for 100 batches (hoping that it would improve the performance on the digit 9)\n",
    "train(train_loader, docnn_model, epochs=1, total_iterations_limit=100)"
   ],
   "metadata": {
    "id": "81V8uNVeqepK",
    "colab": {
     "base_uri": "https://localhost:8080/"
    },
    "outputId": "713630de-cc8b-4cf4-b0ee-f79965964a74",
    "pycharm": {
     "name": "#%%\n"
    }
   },
   "execution_count": 180,
   "outputs": [
    {
     "output_type": "stream",
     "name": "stdout",
     "text": [
      "Freezing non-LoRA parameter linear1.bias\n",
      "Freezing non-LoRA parameter linear1.parametrizations.weight.original\n",
      "Freezing non-LoRA parameter linear2.bias\n",
      "Freezing non-LoRA parameter linear2.parametrizations.weight.original\n",
      "Freezing non-LoRA parameter linear3.bias\n",
      "Freezing non-LoRA parameter linear3.parametrizations.weight.original\n"
     ]
    },
    {
     "output_type": "stream",
     "name": "stderr",
     "text": [
      "Epoch 1:  99%|█████████▉| 99/100 [00:06<00:00, 15.50it/s, loss=104]\n"
     ]
    }
   ]
  },
  {
   "cell_type": "markdown",
   "source": [
    "> <picture>\n",
    ">   <source media=\"(prefers-color-scheme: light)\" srcset=\"https://raw.githubusercontent.com/Mqxx/GitHub-Markdown/main/blockquotes/badge/light-theme/issue.svg\">\n",
    ">   <img alt=\"Issue\" src=\"https://raw.githubusercontent.com/Mqxx/GitHub-Markdown/main/blockquotes/badge/dark-theme/issue.svg\">\n",
    "> </picture><br>\n",
    ">\n",
    "> After using info from lora parametrization prediction sucks"
   ],
   "metadata": {
    "id": "Sz_2WLVrBKG1",
    "pycharm": {
     "name": "#%% md\n"
    }
   }
  },
  {
   "cell_type": "code",
   "source": [
    "# Test with LoRA enabled\n",
    "enable_disable_lora(enabled=True)\n",
    "test()"
   ],
   "metadata": {
    "id": "GBiRMqOirL35",
    "colab": {
     "base_uri": "https://localhost:8080/"
    },
    "outputId": "5aaea03f-9915-4ab8-ab55-1ec189fa3d9f",
    "pycharm": {
     "name": "#%%\n"
    }
   },
   "execution_count": 181,
   "outputs": [
    {
     "output_type": "stream",
     "name": "stderr",
     "text": [
      "Testing: 100%|██████████| 1000/1000 [00:35<00:00, 27.85it/s]"
     ]
    },
    {
     "output_type": "stream",
     "name": "stdout",
     "text": [
      "Accuracy: 0.394\n",
      "Incorrect counts for 0: 808\n",
      "Incorrect counts for 1: 718\n",
      "Incorrect counts for 2: 426\n",
      "Incorrect counts for 3: 824\n",
      "Incorrect counts for 4: 338\n",
      "Incorrect counts for 5: 574\n",
      "Incorrect counts for 6: 840\n",
      "Incorrect counts for 7: 592\n",
      "Incorrect counts for 8: 502\n",
      "Incorrect counts for 9: 443\n"
     ]
    },
    {
     "output_type": "stream",
     "name": "stderr",
     "text": [
      "\n"
     ]
    }
   ]
  },
  {
   "cell_type": "code",
   "source": [
    "# Test with LoRA enabled\n",
    "enable_disable_lora(enabled=False)\n",
    "test()"
   ],
   "metadata": {
    "colab": {
     "base_uri": "https://localhost:8080/"
    },
    "id": "7mk-rTMxJXGm",
    "outputId": "8c94b447-2e97-457c-bd51-2e99bec4e28b",
    "pycharm": {
     "name": "#%%\n"
    }
   },
   "execution_count": 182,
   "outputs": [
    {
     "output_type": "stream",
     "name": "stderr",
     "text": [
      "Testing: 100%|██████████| 1000/1000 [00:08<00:00, 119.34it/s]"
     ]
    },
    {
     "output_type": "stream",
     "name": "stdout",
     "text": [
      "Accuracy: 0.96\n",
      "Incorrect counts for 0: 19\n",
      "Incorrect counts for 1: 11\n",
      "Incorrect counts for 2: 21\n",
      "Incorrect counts for 3: 57\n",
      "Incorrect counts for 4: 30\n",
      "Incorrect counts for 5: 53\n",
      "Incorrect counts for 6: 41\n",
      "Incorrect counts for 7: 24\n",
      "Incorrect counts for 8: 77\n",
      "Incorrect counts for 9: 69\n"
     ]
    },
    {
     "output_type": "stream",
     "name": "stderr",
     "text": [
      "\n"
     ]
    }
   ]
  }
 ]
}