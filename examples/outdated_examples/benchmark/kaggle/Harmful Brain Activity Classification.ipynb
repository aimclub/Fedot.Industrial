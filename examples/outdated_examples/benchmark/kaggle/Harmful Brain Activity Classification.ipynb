{
 "cells": [
  {
   "cell_type": "markdown",
   "source": [
    "## IMPORTS"
   ],
   "metadata": {
    "collapsed": false,
    "pycharm": {
     "name": "#%% md\n"
    }
   }
  },
  {
   "cell_type": "code",
   "execution_count": null,
   "outputs": [],
   "source": [
    "import gc\n",
    "\n",
    "import matplotlib\n",
    "import pandas as pd, numpy as np, os\n",
    "import matplotlib.pyplot as plt\n",
    "from sklearn.model_selection import train_test_split\n",
    "from sklearn.preprocessing import LabelEncoder\n",
    "\n",
    "from fedot_ind.api.main import FedotIndustrial\n",
    "from fedot_ind.api.utils.path_lib import PROJECT_PATH\n",
    "from scipy.signal import butter, lfilter\n",
    "\n",
    "from fedot_ind.core.optimizer.IndustrialEvoOptimizer import IndustrialEvoOptimizer\n",
    "from fedot_ind.core.repository.model_repository import default_industrial_availiable_operation"
   ],
   "metadata": {
    "collapsed": false,
    "pycharm": {
     "name": "#%%\n"
    }
   }
  },
  {
   "cell_type": "markdown",
   "source": [
    "## CONSTANTS"
   ],
   "metadata": {
    "collapsed": false,
    "pycharm": {
     "name": "#%% md\n"
    }
   }
  },
  {
   "cell_type": "code",
   "execution_count": null,
   "outputs": [],
   "source": [
    "matplotlib.use('TkAgg')\n",
    "# CHOICE TO CREATE OR LOAD EEGS FROM NOTEBOOK VERSION 1\n",
    "CREATE_EEGS = False\n",
    "TRAIN_MODEL = False\n",
    "TARS = {'Seizure': 0, 'LPD': 1, 'GPD': 2, 'LRDA': 3, 'GRDA': 4, 'Other': 5}\n",
    "FEATS = ['Fp1', 'O1', 'Fp2', 'O2']\n",
    "FEAT2IDX = {x: y for x, y in zip(FEATS, range(len(FEATS)))}\n",
    "DISPLAY = 4\n",
    "EEG_PATH = PROJECT_PATH + '/data/hms-harmful-brain-activity-classification/train_eegs/'\n",
    "EEG_PATH_TEST = PROJECT_PATH + '/data/hms-harmful-brain-activity-classification/test_eegs/'\n",
    "TRAIN_PATH = PROJECT_PATH + '/data/hms-harmful-brain-activity-classification/train.csv'\n",
    "TEST_PATH = PROJECT_PATH + '/data/hms-harmful-brain-activity-classification/test.csv'\n",
    "EEG_PATH_SAVE = PROJECT_PATH + '/data/hms-harmful-brain-activity-classification/eeg.npy'\n",
    "EEG_PATH_SAVE_TEST = PROJECT_PATH + '/data/hms-harmful-brain-activity-classification/eeg_test.npy'\n",
    "FREQS = [1, 2, 4, 8, 16][::-1]\n",
    "label_encoder = LabelEncoder()\n",
    "ml_task = 'classification'\n",
    "available_operations = default_industrial_availiable_operation(ml_task)\n",
    "experiment_setup = {'problem': ml_task,\n",
    "                    'metric': 'f1',\n",
    "                    'timeout': 120,\n",
    "                    'num_of_generations': 15,\n",
    "                    'pop_size': 10,\n",
    "                    'logging_level': 10,\n",
    "                    'available_operations': available_operations,\n",
    "                    'n_jobs': 4,\n",
    "                    'industrial_preprocessing': True,\n",
    "                    'initial_assumption': None,\n",
    "                    'RAF_workers': 3,\n",
    "                    'max_pipeline_fit_time': 15,\n",
    "                    'with_tuning': False,\n",
    "                    'early_stopping_iterations': 5,\n",
    "                    'early_stopping_timeout': 60,\n",
    "                    'optimizer': IndustrialEvoOptimizer}"
   ],
   "metadata": {
    "collapsed": false,
    "pycharm": {
     "name": "#%%\n"
    }
   }
  },
  {
   "cell_type": "markdown",
   "source": [
    "## HELPER FUNCS"
   ],
   "metadata": {
    "collapsed": false,
    "pycharm": {
     "name": "#%% md\n"
    }
   }
  },
  {
   "cell_type": "code",
   "execution_count": null,
   "outputs": [],
   "source": [
    "def butter_lowpass_filter(data, cutoff_freq=20, sampling_rate=200, order=4):\n",
    "    nyquist = 0.5 * sampling_rate\n",
    "    normal_cutoff = cutoff_freq / nyquist\n",
    "    b, a = butter(order, normal_cutoff, btype='low', analog=False)\n",
    "    filtered_data = lfilter(b, a, data, axis=0)\n",
    "    return filtered_data\n",
    "\n",
    "\n",
    "def eeg_from_parquet(parquet_path, display=False):\n",
    "    # EXTRACT MIDDLE 50 SECONDS\n",
    "    eeg = pd.read_parquet(parquet_path, columns=FEATS)\n",
    "    rows = len(eeg)\n",
    "    offset = (rows - 10_000) // 2\n",
    "    eeg = eeg.iloc[offset:offset + 10_000]\n",
    "\n",
    "    if display:\n",
    "        plt.figure(figsize=(10, 5))\n",
    "        offset = 0\n",
    "\n",
    "    # CONVERT TO NUMPY\n",
    "    data = np.zeros((10_000, len(FEATS)))\n",
    "    for j, col in enumerate(FEATS):\n",
    "\n",
    "        # FILL NAN\n",
    "        x = eeg[col].values.astype('float32')\n",
    "        m = np.nanmean(x)\n",
    "        if np.isnan(x).mean() < 1:\n",
    "            x = np.nan_to_num(x, nan=m)\n",
    "        else:\n",
    "            x[:] = 0\n",
    "\n",
    "        data[:, j] = x\n",
    "\n",
    "        if display:\n",
    "            if j != 0: offset += x.max()\n",
    "            plt.plot(range(10_000), x - offset, label=col)\n",
    "            offset -= x.min()\n",
    "\n",
    "    if display:\n",
    "        plt.legend()\n",
    "        name = parquet_path.split('/')[-1]\n",
    "        name = name.split('.')[0]\n",
    "        plt.title(f'EEG {name}', size=16)\n",
    "        plt.show()\n",
    "\n",
    "    return data\n",
    "\n",
    "\n",
    "def load_eeg(EEG_PATH, CREATE_EEGS, EEG_IDS, df_target, EGG_PATH_SAVE):\n",
    "    all_eegs = {}\n",
    "    if CREATE_EEGS:\n",
    "        for i, eeg_id in enumerate(EEG_IDS):\n",
    "            if (i % 100 == 0) & (i != 0): print(i, ', ', end='')\n",
    "\n",
    "            # SAVE EEG TO PYTHON DICTIONARY OF NUMPY ARRAYS\n",
    "            data = eeg_from_parquet(f'{EEG_PATH}{eeg_id}.parquet', display=False)\n",
    "            all_eegs[eeg_id] = data\n",
    "\n",
    "            if i == DISPLAY:\n",
    "                if CREATE_EEGS:\n",
    "                    print(f'Processing {df_target.eeg_id.nunique()} eeg parquets... ', end='')\n",
    "                else:\n",
    "                    print(f'Reading {len(EEG_IDS)} eeg NumPys from disk.')\n",
    "                    break\n",
    "        np.save(EGG_PATH_SAVE, all_eegs)\n",
    "    else:\n",
    "        all_eegs = np.load(EGG_PATH_SAVE, allow_pickle=True).item()\n",
    "    return all_eegs\n",
    "\n",
    "\n",
    "def load_and_preproc_target(TRAIN_PATH):\n",
    "    df_train = pd.read_csv(TRAIN_PATH)\n",
    "    TARGETS = df_train.columns[-6:]\n",
    "    EEG_IDS = df_train.eeg_id.unique()\n",
    "    target_df = df_train.groupby('eeg_id')[['patient_id']].agg('first')\n",
    "    tmp = df_train.groupby('eeg_id')[TARGETS].agg('sum')\n",
    "    for t in TARGETS:\n",
    "        target_df[t] = tmp[t].values\n",
    "\n",
    "    y_data = target_df[TARGETS].values\n",
    "    y_data = y_data / y_data.sum(axis=1, keepdims=True)\n",
    "    target_df[TARGETS] = y_data\n",
    "\n",
    "    if 'expert_consensus' in df_train.columns:\n",
    "        tmp = df_train.groupby('eeg_id')[['expert_consensus']].agg('first')\n",
    "        target_df['target'] = tmp\n",
    "        target_df = target_df.reset_index()\n",
    "        target_df = target_df.loc[target_df.eeg_id.isin(EEG_IDS)]\n",
    "\n",
    "    print('Data with unique eeg_id shape:', target_df.shape)\n",
    "    return target_df, EEG_IDS\n",
    "\n",
    "\n",
    "def load_and_preproc_eeg(all_eegs, target_df, mode: str = 'train', window_size=20):\n",
    "    ts_train = [butter_lowpass_filter(x) for x in all_eegs.values()]\n",
    "    id = list(all_eegs.keys())\n",
    "    train_features = np.concatenate(ts_train).reshape(len(id), ts_train[0].shape[1], ts_train[0].shape[0])\n",
    "\n",
    "    if mode == 'train':\n",
    "        target = []\n",
    "        for eeg_id in list(all_eegs.keys()):\n",
    "            target.append(target_df[target_df['eeg_id'] == eeg_id]['target'].values[0])\n",
    "        train_target = label_encoder.fit_transform(target)\n",
    "        X_train_2, X_test_2, y_train_2, y_test_2 = train_test_split(train_features[::, ::, ::window_size], train_target,\n",
    "                                                                    test_size=0.8, stratify=train_target,\n",
    "                                                                    random_state=42)\n",
    "    else:\n",
    "        # train_target = label_encoder.transform(target)\n",
    "        train_target = np.array([1])\n",
    "        X_train_2, y_train_2 = train_features[::, ::, ::window_size], train_target\n",
    "\n",
    "    input_data = (X_train_2, y_train_2)\n",
    "    del ts_train, id, train_features\n",
    "    return input_data"
   ],
   "metadata": {
    "collapsed": false,
    "pycharm": {
     "name": "#%%\n"
    }
   }
  },
  {
   "cell_type": "markdown",
   "source": [
    "## load and preproc data"
   ],
   "metadata": {
    "collapsed": false,
    "pycharm": {
     "name": "#%% md\n"
    }
   }
  },
  {
   "cell_type": "code",
   "execution_count": null,
   "outputs": [],
   "source": [
    "target_df_train, EEG_IDS_train = load_and_preproc_target(TRAIN_PATH)\n",
    "target_df_test, EEG_IDS_test = load_and_preproc_target(TEST_PATH)\n",
    "all_eegs_train = load_eeg(EEG_PATH, False, EEG_IDS_train, target_df_train, EEG_PATH_SAVE)\n",
    "all_eegs_test = load_eeg(EEG_PATH_TEST, True, EEG_IDS_test, target_df_test, EEG_PATH_SAVE_TEST)\n",
    "input_data_train = load_and_preproc_eeg(all_eegs_train, target_df_train, 'train')\n",
    "input_data_test = load_and_preproc_eeg(all_eegs_test, target_df_test, 'test')\n",
    "gc.collect()"
   ],
   "metadata": {
    "collapsed": false,
    "pycharm": {
     "name": "#%%\n"
    }
   }
  },
  {
   "cell_type": "markdown",
   "source": [
    "# create automl model"
   ],
   "metadata": {
    "collapsed": false,
    "pycharm": {
     "name": "#%% md\n"
    }
   }
  },
  {
   "cell_type": "code",
   "execution_count": null,
   "outputs": [],
   "source": [
    "model = FedotIndustrial(**experiment_setup)\n",
    "model.fit(input_data_train)"
   ],
   "metadata": {
    "collapsed": false,
    "pycharm": {
     "name": "#%%\n"
    }
   }
  },
  {
   "cell_type": "code",
   "execution_count": null,
   "outputs": [],
   "source": [
    "model.save_best_model()\n",
    "model.save_optimization_history()"
   ],
   "metadata": {
    "collapsed": false,
    "pycharm": {
     "name": "#%%\n"
    }
   }
  },
  {
   "cell_type": "code",
   "execution_count": null,
   "outputs": [],
   "source": [
    "prediction = model.predict(input_data_test)"
   ],
   "metadata": {
    "collapsed": false,
    "pycharm": {
     "name": "#%%\n"
    }
   }
  }
 ],
 "metadata": {
  "kernelspec": {
   "display_name": "Python 3",
   "language": "python",
   "name": "python3"
  },
  "language_info": {
   "codemirror_mode": {
    "name": "ipython",
    "version": 2
   },
   "file_extension": ".py",
   "mimetype": "text/x-python",
   "name": "python",
   "nbconvert_exporter": "python",
   "pygments_lexer": "ipython2",
   "version": "2.7.6"
  }
 },
 "nbformat": 4,
 "nbformat_minor": 0
}