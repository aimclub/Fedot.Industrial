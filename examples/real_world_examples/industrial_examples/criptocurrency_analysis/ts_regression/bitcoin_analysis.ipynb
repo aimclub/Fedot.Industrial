{
 "cells": [
  {
   "cell_type": "markdown",
   "metadata": {
    "collapsed": false,
    "jupyter": {
     "outputs_hidden": false
    },
    "pycharm": {
     "name": "#%% md\n"
    }
   },
   "source": [
    "## Predict sentiment score of cryptocurrencies c with Fedot.Industrial"
   ]
  },
  {
   "cell_type": "markdown",
   "metadata": {
    "collapsed": false,
    "jupyter": {
     "outputs_hidden": false
    },
    "pycharm": {
     "name": "#%% md\n"
    }
   },
   "source": [
    "By combining historical sentiment data for 4 cryptocurrencies, extracted from EODHistoricalData31 and made available, with historical price data for the same cryptocurrencies, extracted from CryptoDataDownload32, was created the **BitcoinSentiment, EthereumSentiment, CardanoSentiment, and BinanceCoinSentiment** datasets, with 332, 356, 107, and 263 total instances, respectively. In all four datasets, the **predictors** are hourly **close price (in USD)** and **traded volume** for each respective cryptocurrency during a day, resulting in 2-dimensional time series of length 24. The **target variable** is the **normalized sentiment score** on the day spanned by the timepoints. The datasets were split\n",
    "into train and test sets by randomly selecting 30% of each set as test data.\n",
    "Link to the dataset - https://www.kaggle.com/datasets/gautamchettiar/historical-sentiment-data-btc-eth-bnb-ada"
   ]
  },
  {
   "cell_type": "code",
   "execution_count": 1,
   "metadata": {
    "ExecuteTime": {
     "end_time": "2025-01-22T15:04:28.650405Z",
     "start_time": "2025-01-22T15:04:26.057198Z"
    },
    "pycharm": {
     "name": "#%%\n"
    }
   },
   "outputs": [],
   "source": [
    "import pandas as pd"
   ]
  },
  {
   "cell_type": "code",
   "execution_count": 2,
   "metadata": {
    "collapsed": false,
    "jupyter": {
     "outputs_hidden": false
    },
    "pycharm": {
     "name": "#%%\n"
    }
   },
   "outputs": [],
   "source": [
    "from fedot_ind.core.repository.config_repository import DEFAULT_COMPUTE_CONFIG, DEFAULT_REG_AUTOML_CONFIG, DEFAULT_AUTOML_LEARNING_CONFIG\n",
    "\n",
    "API_CONFIG = {'industrial_config': {'problem': 'regression'},\n",
    "              'automl_config': DEFAULT_REG_AUTOML_CONFIG,\n",
    "              'learning_config': {'learning_strategy': 'from_scratch',\n",
    "                                  'learning_strategy_params': DEFAULT_AUTOML_LEARNING_CONFIG,\n",
    "                                  'optimisation_loss': {'quality_loss': 'rmse'}},\n",
    "              'compute_config': DEFAULT_COMPUTE_CONFIG}\n",
    "METRIC_NAMES = ('r2', 'rmse', 'mae')\n",
    "DATASET_NAME = 'BitcoinSentiment'"
   ]
  },
  {
   "cell_type": "markdown",
   "metadata": {
    "pycharm": {
     "name": "#%% md\n"
    }
   },
   "source": [
    "Now we must download the dataset. It could be done by using `DataReader` class that implemented as attribute of `FedotIndustrial` class. This class firstly tries to read the data from local project folder `data_path` and then if it is not possible, it downloads the data from the UCR/UEA archive. The data will be saved in the `data` folder."
   ]
  },
  {
   "cell_type": "code",
   "execution_count": 3,
   "metadata": {
    "ExecuteTime": {
     "end_time": "2023-08-28T10:35:13.321212Z",
     "start_time": "2023-08-28T10:35:12.913025Z"
    },
    "pycharm": {
     "name": "#%%\n"
    }
   },
   "outputs": [
    {
     "name": "stdout",
     "output_type": "stream",
     "text": [
      "2025-01-22 22:53:10,369 - PyTorch version 2.2.2 available.\n"
     ]
    }
   ],
   "source": [
    "from fedot_ind.core.architecture.pipelines.abstract_pipeline import ApiTemplate\n",
    "api_client = ApiTemplate(api_config=API_CONFIG,\n",
    "                         metric_list=METRIC_NAMES)"
   ]
  },
  {
   "cell_type": "markdown",
   "metadata": {
    "collapsed": false,
    "jupyter": {
     "outputs_hidden": false
    },
    "pycharm": {
     "name": "#%% md\n"
    }
   },
   "source": [
    "Next steps are quite straightforward. We need to fit the model and then predict the values for the test data just like for any other model in sklearn.\n",
    "\n",
    "At the `fit` stage FedotIndustrial will transform initial time series data into features dataframe and will train regression model."
   ]
  },
  {
   "cell_type": "code",
   "execution_count": 12,
   "metadata": {
    "ExecuteTime": {
     "start_time": "2023-08-28T10:35:27.965798Z"
    },
    "pycharm": {
     "name": "#%%\n"
    }
   },
   "outputs": [
    {
     "name": "stdout",
     "output_type": "stream",
     "text": [
      "Creating Dask Server\n",
      "Features of basis of <class 'numpy.ndarray'> type are loaded from cache in 0.00024 sec\n",
      "2025-01-22 22:54:15,039 - ApiComposer - Initial pipeline was fitted in 41.1 sec.\n",
      "2025-01-22 22:54:15,040 - AssumptionsHandler - Preset was changed to fast_train due to fit time estimation for initial model.\n",
      "2025-01-22 22:54:15,047 - ApiComposer - AutoML configured. Parameters tuning: False. Time limit: 10 min. Set of candidate models: ['xgbreg', 'sgdr', 'treg', 'ridge', 'lasso', 'dtreg', 'lgbmreg', 'catboostreg', 'pdl_reg', 'bagging', 'inception_model', 'resnet_model', 'channel_filtration', 'eigen_basis', 'wavelet_basis', 'fourier_basis', 'quantile_extractor', 'minirocket_extractor', 'scaling', 'normalization', 'simple_imputation', 'kernel_pca'].\n",
      "2025-01-22 22:54:15,061 - ApiComposer - Timeout is too small for composing and is skipped because fit_time is 41.14253 sec.\n",
      "2025-01-22 22:54:15,250 - ApiComposer - Model generation finished\n",
      "2025-01-22 22:54:15,253 - FEDOT logger - Already fitted initial pipeline is used\n",
      "2025-01-22 22:54:15,254 - FEDOT logger - Final pipeline: {'depth': 2, 'length': 2, 'nodes': [treg, quantile_extractor]}\n",
      "treg - {}\n",
      "quantile_extractor - {'window_size': 10, 'stride': 1, 'add_global_features': True}\n"
     ]
    }
   ],
   "source": [
    "result_dict = api_client.eval(dataset=DATASET_NAME, finetune=False)"
   ]
  },
  {
   "cell_type": "code",
   "execution_count": 13,
   "metadata": {
    "collapsed": false,
    "jupyter": {
     "outputs_hidden": false
    },
    "pycharm": {
     "name": "#%%\n"
    }
   },
   "outputs": [
    {
     "data": {
      "text/html": [
       "<div>\n",
       "<style scoped>\n",
       "    .dataframe tbody tr th:only-of-type {\n",
       "        vertical-align: middle;\n",
       "    }\n",
       "\n",
       "    .dataframe tbody tr th {\n",
       "        vertical-align: top;\n",
       "    }\n",
       "\n",
       "    .dataframe thead th {\n",
       "        text-align: right;\n",
       "    }\n",
       "</style>\n",
       "<table border=\"1\" class=\"dataframe\">\n",
       "  <thead>\n",
       "    <tr style=\"text-align: right;\">\n",
       "      <th></th>\n",
       "      <th>r2</th>\n",
       "      <th>rmse</th>\n",
       "      <th>mae</th>\n",
       "    </tr>\n",
       "  </thead>\n",
       "  <tbody>\n",
       "    <tr>\n",
       "      <th>0</th>\n",
       "      <td>-0.031</td>\n",
       "      <td>0.277</td>\n",
       "      <td>0.215</td>\n",
       "    </tr>\n",
       "  </tbody>\n",
       "</table>\n",
       "</div>"
      ],
      "text/plain": [
       "      r2   rmse    mae\n",
       "0 -0.031  0.277  0.215"
      ]
     },
     "execution_count": 13,
     "metadata": {},
     "output_type": "execute_result"
    }
   ],
   "source": [
    "result_dict['metrics']"
   ]
  },
  {
   "cell_type": "code",
   "execution_count": 14,
   "metadata": {
    "collapsed": false,
    "jupyter": {
     "outputs_hidden": false
    },
    "pycharm": {
     "name": "#%%\n"
    }
   },
   "outputs": [],
   "source": [
    "opt_hist = result_dict['industrial_model'].save(return_history=True)"
   ]
  },
  {
   "cell_type": "code",
   "execution_count": 15,
   "metadata": {
    "collapsed": false,
    "jupyter": {
     "outputs_hidden": false
    },
    "pycharm": {
     "name": "#%%\n"
    }
   },
   "outputs": [
    {
     "data": {
      "image/png": "[encoded data removed]",
      "text/plain": [
       "<Figure size 700x700 with 1 Axes>"
      ]
     },
     "metadata": {},
     "output_type": "display_data"
    }
   ],
   "source": [
    "result_dict['industrial_model'].manager.solver.current_pipeline.show()"
   ]
  },
  {
   "cell_type": "code",
   "execution_count": 16,
   "metadata": {
    "collapsed": false,
    "jupyter": {
     "outputs_hidden": false
    },
    "pycharm": {
     "name": "#%%\n"
    }
   },
   "outputs": [
    {
     "ename": "AttributeError",
     "evalue": "'NoneType' object has no attribute 'generations'",
     "output_type": "error",
     "traceback": [
      "\u001b[0;31m---------------------------------------------------------------------------\u001b[0m",
      "\u001b[0;31mAttributeError\u001b[0m                            Traceback (most recent call last)",
      "Cell \u001b[0;32mIn[16], line 1\u001b[0m\n\u001b[0;32m----> 1\u001b[0m opt_hist \u001b[38;5;241m=\u001b[39m \u001b[43mresult_dict\u001b[49m\u001b[43m[\u001b[49m\u001b[38;5;124;43m'\u001b[39;49m\u001b[38;5;124;43mindustrial_model\u001b[39;49m\u001b[38;5;124;43m'\u001b[39;49m\u001b[43m]\u001b[49m\u001b[38;5;241;43m.\u001b[39;49m\u001b[43mvis_optimisation_history\u001b[49m\u001b[43m(\u001b[49m\u001b[43mopt_history_path\u001b[49m\u001b[38;5;241;43m=\u001b[39;49m\u001b[43mopt_hist\u001b[49m\u001b[43m,\u001b[49m\n\u001b[1;32m      2\u001b[0m \u001b[43m                                                                    \u001b[49m\u001b[43mmode\u001b[49m\u001b[38;5;241;43m=\u001b[39;49m\u001b[38;5;124;43m'\u001b[39;49m\u001b[38;5;124;43mmodels\u001b[39;49m\u001b[38;5;124;43m'\u001b[39;49m\u001b[43m,\u001b[49m\n\u001b[1;32m      3\u001b[0m \u001b[43m                                                                    \u001b[49m\u001b[43mreturn_history\u001b[49m\u001b[38;5;241;43m=\u001b[39;49m\u001b[38;5;28;43;01mTrue\u001b[39;49;00m\u001b[43m)\u001b[49m\n",
      "File \u001b[0;32m~/Desktop/dev/Fedot.Industrial/fedot_ind/api/main.py:490\u001b[0m, in \u001b[0;36mFedotIndustrial.vis_optimisation_history\u001b[0;34m(self, opt_history_path, mode, return_history)\u001b[0m\n\u001b[1;32m    487\u001b[0m \u001b[38;5;28;01mdef\u001b[39;00m \u001b[38;5;21mplot_func\u001b[39m(mode):\n\u001b[1;32m    488\u001b[0m     \u001b[38;5;28;01mreturn\u001b[39;00m vis_func[mode][\u001b[38;5;241m0\u001b[39m](\u001b[38;5;241m*\u001b[39m\u001b[38;5;241m*\u001b[39mvis_func[mode][\u001b[38;5;241m1\u001b[39m])\n\u001b[0;32m--> 490\u001b[0m \u001b[43mEither\u001b[49m\u001b[43m(\u001b[49m\u001b[43mvalue\u001b[49m\u001b[38;5;241;43m=\u001b[39;49m\u001b[43mvis_func\u001b[49m\u001b[43m,\u001b[49m\n\u001b[1;32m    491\u001b[0m \u001b[43m       \u001b[49m\u001b[43mmonoid\u001b[49m\u001b[38;5;241;43m=\u001b[39;49m\u001b[43m[\u001b[49m\u001b[43mmode\u001b[49m\u001b[43m,\u001b[49m\u001b[43m \u001b[49m\u001b[43mmode\u001b[49m\u001b[43m \u001b[49m\u001b[38;5;241;43m==\u001b[39;49m\u001b[43m \u001b[49m\u001b[38;5;124;43m'\u001b[39;49m\u001b[38;5;124;43mall\u001b[39;49m\u001b[38;5;124;43m'\u001b[39;49m\u001b[43m]\u001b[49m\u001b[43m)\u001b[49m\u001b[38;5;241;43m.\u001b[39;49m\u001b[43meither\u001b[49m\u001b[43m(\u001b[49m\n\u001b[1;32m    492\u001b[0m \u001b[43m    \u001b[49m\u001b[43mleft_function\u001b[49m\u001b[38;5;241;43m=\u001b[39;49m\u001b[43mplot_func\u001b[49m\u001b[43m,\u001b[49m\n\u001b[1;32m    493\u001b[0m \u001b[43m    \u001b[49m\u001b[43mright_function\u001b[49m\u001b[38;5;241;43m=\u001b[39;49m\u001b[38;5;28;43;01mlambda\u001b[39;49;00m\u001b[43m \u001b[49m\u001b[43mvis_func\u001b[49m\u001b[43m:\u001b[49m\u001b[43m \u001b[49m\u001b[43m[\u001b[49m\u001b[43mfunc\u001b[49m\u001b[43m(\u001b[49m\u001b[38;5;241;43m*\u001b[39;49m\u001b[38;5;241;43m*\u001b[39;49m\u001b[43mparams\u001b[49m\u001b[43m)\u001b[49m\u001b[43m \u001b[49m\u001b[38;5;28;43;01mfor\u001b[39;49;00m\u001b[43m \u001b[49m\u001b[43mfunc\u001b[49m\u001b[43m,\u001b[49m\u001b[43m \u001b[49m\u001b[43mparams\u001b[49m\u001b[43m \u001b[49m\u001b[38;5;129;43;01min\u001b[39;49;00m\u001b[43m \u001b[49m\u001b[43mvis_func\u001b[49m\u001b[38;5;241;43m.\u001b[39;49m\u001b[43mvalues\u001b[49m\u001b[43m(\u001b[49m\u001b[43m)\u001b[49m\u001b[43m]\u001b[49m\n\u001b[1;32m    494\u001b[0m \u001b[43m\u001b[49m\u001b[43m)\u001b[49m\n\u001b[1;32m    495\u001b[0m \u001b[38;5;28;01mreturn\u001b[39;00m history_visualizer\u001b[38;5;241m.\u001b[39mhistory \u001b[38;5;28;01mif\u001b[39;00m return_history \u001b[38;5;28;01melse\u001b[39;00m \u001b[38;5;28;01mNone\u001b[39;00m\n",
      "File \u001b[0;32m~/Desktop/dev/Fedot.Industrial/venv/lib/python3.10/site-packages/pymonad/either.py:91\u001b[0m, in \u001b[0;36mEither.either\u001b[0;34m(self, left_function, right_function)\u001b[0m\n\u001b[1;32m     89\u001b[0m     \u001b[38;5;28;01mreturn\u001b[39;00m right_function(\u001b[38;5;28mself\u001b[39m\u001b[38;5;241m.\u001b[39mvalue)\n\u001b[1;32m     90\u001b[0m \u001b[38;5;28;01melse\u001b[39;00m:\n\u001b[0;32m---> 91\u001b[0m     \u001b[38;5;28;01mreturn\u001b[39;00m \u001b[43mleft_function\u001b[49m\u001b[43m(\u001b[49m\u001b[38;5;28;43mself\u001b[39;49m\u001b[38;5;241;43m.\u001b[39;49m\u001b[43mmonoid\u001b[49m\u001b[43m[\u001b[49m\u001b[38;5;241;43m0\u001b[39;49m\u001b[43m]\u001b[49m\u001b[43m)\u001b[49m\n",
      "File \u001b[0;32m~/Desktop/dev/Fedot.Industrial/fedot_ind/api/main.py:488\u001b[0m, in \u001b[0;36mFedotIndustrial.vis_optimisation_history.<locals>.plot_func\u001b[0;34m(mode)\u001b[0m\n\u001b[1;32m    487\u001b[0m \u001b[38;5;28;01mdef\u001b[39;00m \u001b[38;5;21mplot_func\u001b[39m(mode):\n\u001b[0;32m--> 488\u001b[0m     \u001b[38;5;28;01mreturn\u001b[39;00m \u001b[43mvis_func\u001b[49m\u001b[43m[\u001b[49m\u001b[43mmode\u001b[49m\u001b[43m]\u001b[49m\u001b[43m[\u001b[49m\u001b[38;5;241;43m0\u001b[39;49m\u001b[43m]\u001b[49m\u001b[43m(\u001b[49m\u001b[38;5;241;43m*\u001b[39;49m\u001b[38;5;241;43m*\u001b[39;49m\u001b[43mvis_func\u001b[49m\u001b[43m[\u001b[49m\u001b[43mmode\u001b[49m\u001b[43m]\u001b[49m\u001b[43m[\u001b[49m\u001b[38;5;241;43m1\u001b[39;49m\u001b[43m]\u001b[49m\u001b[43m)\u001b[49m\n",
      "File \u001b[0;32m~/Desktop/dev/Fedot.Industrial/venv/lib/python3.10/site-packages/golem/visualisation/opt_history/arg_constraint_wrapper.py:77\u001b[0m, in \u001b[0;36mArgConstraintWrapper.wrap_constraints.<locals>.decorator.<locals>.outer\u001b[0;34m(visualization, *args, **kwargs)\u001b[0m\n\u001b[1;32m     74\u001b[0m \u001b[38;5;66;03m# Make a visualization.\u001b[39;00m\n\u001b[1;32m     75\u001b[0m visualization\u001b[38;5;241m.\u001b[39mlog\u001b[38;5;241m.\u001b[39minfo(\n\u001b[1;32m     76\u001b[0m     \u001b[38;5;124m'\u001b[39m\u001b[38;5;124mVisualizing optimization history... It may take some time, depending on the history size.\u001b[39m\u001b[38;5;124m'\u001b[39m)\n\u001b[0;32m---> 77\u001b[0m return_value \u001b[38;5;241m=\u001b[39m \u001b[43mvisualize_function\u001b[49m\u001b[43m(\u001b[49m\u001b[43mvisualization\u001b[49m\u001b[43m,\u001b[49m\u001b[43m \u001b[49m\u001b[38;5;241;43m*\u001b[39;49m\u001b[38;5;241;43m*\u001b[39;49m\u001b[43mkwargs\u001b[49m\u001b[43m)\u001b[49m\n\u001b[1;32m     78\u001b[0m \u001b[38;5;28;01mreturn\u001b[39;00m return_value\n",
      "File \u001b[0;32m~/Desktop/dev/Fedot.Industrial/venv/lib/python3.10/site-packages/golem/visualisation/opt_history/operations_animated_bar.py:80\u001b[0m, in \u001b[0;36mOperationsAnimatedBar.visualize\u001b[0;34m(self, save_path, dpi, best_fraction, show_fitness, tags_map, palette)\u001b[0m\n\u001b[1;32m     77\u001b[0m operation_column_name \u001b[38;5;241m=\u001b[39m \u001b[38;5;124m'\u001b[39m\u001b[38;5;124mOperation\u001b[39m\u001b[38;5;124m'\u001b[39m\n\u001b[1;32m     78\u001b[0m column_for_operation \u001b[38;5;241m=\u001b[39m \u001b[38;5;124m'\u001b[39m\u001b[38;5;124mtag\u001b[39m\u001b[38;5;124m'\u001b[39m \u001b[38;5;28;01mif\u001b[39;00m tags_map \u001b[38;5;28;01melse\u001b[39;00m \u001b[38;5;124m'\u001b[39m\u001b[38;5;124mnode\u001b[39m\u001b[38;5;124m'\u001b[39m\n\u001b[0;32m---> 80\u001b[0m df_history \u001b[38;5;241m=\u001b[39m \u001b[43mget_history_dataframe\u001b[49m\u001b[43m(\u001b[49m\u001b[38;5;28;43mself\u001b[39;49m\u001b[38;5;241;43m.\u001b[39;49m\u001b[43mhistory\u001b[49m\u001b[43m,\u001b[49m\u001b[43m \u001b[49m\u001b[43mbest_fraction\u001b[49m\u001b[43m,\u001b[49m\u001b[43m \u001b[49m\u001b[43mtags_map\u001b[49m\u001b[43m)\u001b[49m\n\u001b[1;32m     81\u001b[0m df_history \u001b[38;5;241m=\u001b[39m df_history\u001b[38;5;241m.\u001b[39mrename({\n\u001b[1;32m     82\u001b[0m     \u001b[38;5;124m'\u001b[39m\u001b[38;5;124mgeneration\u001b[39m\u001b[38;5;124m'\u001b[39m: generation_column_name,\n\u001b[1;32m     83\u001b[0m     \u001b[38;5;124m'\u001b[39m\u001b[38;5;124mfitness\u001b[39m\u001b[38;5;124m'\u001b[39m: fitness_column_name,\n\u001b[1;32m     84\u001b[0m     column_for_operation: operation_column_name,\n\u001b[1;32m     85\u001b[0m }, axis\u001b[38;5;241m=\u001b[39m\u001b[38;5;124m'\u001b[39m\u001b[38;5;124mcolumns\u001b[39m\u001b[38;5;124m'\u001b[39m)\n\u001b[1;32m     86\u001b[0m operations_found \u001b[38;5;241m=\u001b[39m df_history[operation_column_name]\u001b[38;5;241m.\u001b[39munique()\n",
      "File \u001b[0;32m~/Desktop/dev/Fedot.Industrial/venv/lib/python3.10/site-packages/golem/visualisation/opt_history/utils.py:38\u001b[0m, in \u001b[0;36mget_history_dataframe\u001b[0;34m(history, best_fraction, tags_map)\u001b[0m\n\u001b[1;32m     35\u001b[0m     tags_map \u001b[38;5;241m=\u001b[39m new_map\n\u001b[1;32m     37\u001b[0m uid_counts \u001b[38;5;241m=\u001b[39m {}  \u001b[38;5;66;03m# Resolving individuals with the same uid\u001b[39;00m\n\u001b[0;32m---> 38\u001b[0m \u001b[38;5;28;01mfor\u001b[39;00m gen_num, gen \u001b[38;5;129;01min\u001b[39;00m \u001b[38;5;28menumerate\u001b[39m(\u001b[43mhistory\u001b[49m\u001b[38;5;241;43m.\u001b[39;49m\u001b[43mgenerations\u001b[49m):\n\u001b[1;32m     39\u001b[0m     \u001b[38;5;28;01mfor\u001b[39;00m ind \u001b[38;5;129;01min\u001b[39;00m gen:\n\u001b[1;32m     40\u001b[0m         uid_counts[ind\u001b[38;5;241m.\u001b[39muid] \u001b[38;5;241m=\u001b[39m uid_counts\u001b[38;5;241m.\u001b[39mget(ind\u001b[38;5;241m.\u001b[39muid, \u001b[38;5;241m-\u001b[39m\u001b[38;5;241m1\u001b[39m) \u001b[38;5;241m+\u001b[39m \u001b[38;5;241m1\u001b[39m\n",
      "\u001b[0;31mAttributeError\u001b[0m: 'NoneType' object has no attribute 'generations'"
     ]
    }
   ],
   "source": [
    "opt_hist = result_dict['industrial_model'].vis_optimisation_history(opt_history_path=opt_hist,\n",
    "                                                                    mode='models',\n",
    "                                                                    return_history=True)"
   ]
  },
  {
   "cell_type": "code",
   "execution_count": 17,
   "metadata": {
    "collapsed": false,
    "jupyter": {
     "outputs_hidden": false
    },
    "pycharm": {
     "name": "#%%\n"
    }
   },
   "outputs": [
    {
     "data": {
      "image/png": "[encoded data removed]",
      "text/plain": [
       "<Figure size 640x480 with 1 Axes>"
      ]
     },
     "metadata": {},
     "output_type": "display_data"
    }
   ],
   "source": [
    "from matplotlib import pyplot as plt\n",
    "import numpy as np\n",
    "\n",
    "predictions = np.vstack([api_client.test_data[1].flatten(), result_dict['labels'].flatten()]).T\n",
    "all_prediction = pd.DataFrame(predictions,columns=['target', 'automl'])\n",
    "all_prediction.plot()\n",
    "plt.show()"
   ]
  },
  {
   "cell_type": "code",
   "execution_count": 18,
   "metadata": {
    "collapsed": false,
    "jupyter": {
     "outputs_hidden": false
    },
    "pycharm": {
     "name": "#%%\n"
    }
   },
   "outputs": [
    {
     "data": {
      "text/html": [
       "<div>\n",
       "<style scoped>\n",
       "    .dataframe tbody tr th:only-of-type {\n",
       "        vertical-align: middle;\n",
       "    }\n",
       "\n",
       "    .dataframe tbody tr th {\n",
       "        vertical-align: top;\n",
       "    }\n",
       "\n",
       "    .dataframe thead th {\n",
       "        text-align: right;\n",
       "    }\n",
       "</style>\n",
       "<table border=\"1\" class=\"dataframe\">\n",
       "  <thead>\n",
       "    <tr style=\"text-align: right;\">\n",
       "      <th></th>\n",
       "      <th>days</th>\n",
       "      <th>hours</th>\n",
       "      <th>minutes</th>\n",
       "      <th>seconds</th>\n",
       "      <th>milliseconds</th>\n",
       "    </tr>\n",
       "  </thead>\n",
       "  <tbody>\n",
       "    <tr>\n",
       "      <th>Data Definition (fit)</th>\n",
       "      <td>0</td>\n",
       "      <td>0</td>\n",
       "      <td>0</td>\n",
       "      <td>0</td>\n",
       "      <td>0</td>\n",
       "    </tr>\n",
       "    <tr>\n",
       "      <th>Data Preprocessing</th>\n",
       "      <td>0</td>\n",
       "      <td>0</td>\n",
       "      <td>0</td>\n",
       "      <td>0</td>\n",
       "      <td>0</td>\n",
       "    </tr>\n",
       "    <tr>\n",
       "      <th>Fitting (summary)</th>\n",
       "      <td>0</td>\n",
       "      <td>0</td>\n",
       "      <td>0</td>\n",
       "      <td>8</td>\n",
       "      <td>443</td>\n",
       "    </tr>\n",
       "    <tr>\n",
       "      <th>Composing</th>\n",
       "      <td>0</td>\n",
       "      <td>0</td>\n",
       "      <td>0</td>\n",
       "      <td>8</td>\n",
       "      <td>252</td>\n",
       "    </tr>\n",
       "    <tr>\n",
       "      <th>Train Inference</th>\n",
       "      <td>0</td>\n",
       "      <td>0</td>\n",
       "      <td>0</td>\n",
       "      <td>0</td>\n",
       "      <td>1</td>\n",
       "    </tr>\n",
       "    <tr>\n",
       "      <th>Tuning (composing)</th>\n",
       "      <td>0</td>\n",
       "      <td>0</td>\n",
       "      <td>0</td>\n",
       "      <td>0</td>\n",
       "      <td>0</td>\n",
       "    </tr>\n",
       "    <tr>\n",
       "      <th>Tuning (after)</th>\n",
       "      <td>0</td>\n",
       "      <td>0</td>\n",
       "      <td>0</td>\n",
       "      <td>0</td>\n",
       "      <td>0</td>\n",
       "    </tr>\n",
       "    <tr>\n",
       "      <th>Data Definition (predict)</th>\n",
       "      <td>0</td>\n",
       "      <td>0</td>\n",
       "      <td>0</td>\n",
       "      <td>0</td>\n",
       "      <td>0</td>\n",
       "    </tr>\n",
       "    <tr>\n",
       "      <th>Predicting</th>\n",
       "      <td>0</td>\n",
       "      <td>0</td>\n",
       "      <td>0</td>\n",
       "      <td>3</td>\n",
       "      <td>34</td>\n",
       "    </tr>\n",
       "  </tbody>\n",
       "</table>\n",
       "</div>"
      ],
      "text/plain": [
       "                           days  hours  minutes  seconds  milliseconds\n",
       "Data Definition (fit)         0      0        0        0             0\n",
       "Data Preprocessing            0      0        0        0             0\n",
       "Fitting (summary)             0      0        0        8           443\n",
       "Composing                     0      0        0        8           252\n",
       "Train Inference               0      0        0        0             1\n",
       "Tuning (composing)            0      0        0        0             0\n",
       "Tuning (after)                0      0        0        0             0\n",
       "Data Definition (predict)     0      0        0        0             0\n",
       "Predicting                    0      0        0        3            34"
      ]
     },
     "execution_count": 18,
     "metadata": {},
     "output_type": "execute_result"
    }
   ],
   "source": [
    "result_dict['industrial_model'].manager.solver.return_report()"
   ]
  },
  {
   "cell_type": "markdown",
   "metadata": {
    "collapsed": false,
    "jupyter": {
     "outputs_hidden": false
    },
    "pycharm": {
     "name": "#%% md\n"
    }
   },
   "source": [
    "## Compare with State of Art (SOTA) models"
   ]
  },
  {
   "cell_type": "code",
   "execution_count": 19,
   "metadata": {
    "collapsed": false,
    "jupyter": {
     "outputs_hidden": false
    },
    "pycharm": {
     "name": "#%%\n"
    }
   },
   "outputs": [],
   "source": [
    "from fedot_ind.tools.serialisation.path_lib import PROJECT_PATH\n",
    "df = pd.read_csv(PROJECT_PATH + '/benchmark/ts_regression_sota_results.csv', sep=';')\n",
    "df = df[df['ds/type'] == DATASET_NAME].iloc[:, :25]\n",
    "df.index = df['algorithm']\n",
    "df = df.drop(['algorithm', 'ds/type'], axis=1)\n",
    "df = df.replace(',', '.', regex=True).astype(float)"
   ]
  },
  {
   "cell_type": "code",
   "execution_count": 20,
   "metadata": {
    "collapsed": false,
    "jupyter": {
     "outputs_hidden": false
    },
    "pycharm": {
     "name": "#%%\n"
    }
   },
   "outputs": [],
   "source": [
    "df['Fedot_Industrial_AutoML'] = result_dict['metrics']['rmse'][0]\n",
    "df = df.T"
   ]
  },
  {
   "cell_type": "code",
   "execution_count": 21,
   "metadata": {
    "collapsed": false,
    "jupyter": {
     "outputs_hidden": false
    },
    "pycharm": {
     "name": "#%%\n"
    }
   },
   "outputs": [
    {
     "data": {
      "text/plain": [
       "RIST_RMSE                  0.227326\n",
       "RDST_RMSE                  0.233406\n",
       "DrCIF_RMSE                 0.235080\n",
       "RandF_RMSE                 0.235702\n",
       "5NN-ED_RMSE                0.237231\n",
       "5NN-DTW_RMSE               0.238461\n",
       "FreshPRINCE_RMSE           0.242154\n",
       "RotF_RMSE                  0.245572\n",
       "XGBoost_RMSE               0.247072\n",
       "TSF_RMSE                   0.247288\n",
       "MultiROCKET_RMSE           0.252652\n",
       "FCN_RMSE                   0.253077\n",
       "InceptionT_RMSE            0.256789\n",
       "FPCR_RMSE                  0.261870\n",
       "ResNet_RMSE                0.266606\n",
       "FPCR-Bs_RMSE               0.270278\n",
       "SingleInception_RMSE       0.273212\n",
       "Fedot_Industrial_AutoML    0.277000\n",
       "1NN-DTW_RMSE               0.287127\n",
       "Grid-SVR_RMSE              0.289215\n",
       "CNN_RMSE                   0.289748\n",
       "Ridge_RMSE                 0.303183\n",
       "1NN-ED_RMSE                0.308109\n",
       "ROCKET_RMSE                0.322641\n",
       "Name: max, dtype: float64"
      ]
     },
     "execution_count": 21,
     "metadata": {},
     "output_type": "execute_result"
    }
   ],
   "source": [
    "df.sort_values('max')['max']"
   ]
  },
  {
   "cell_type": "code",
   "execution_count": 22,
   "metadata": {
    "collapsed": false,
    "jupyter": {
     "outputs_hidden": false
    },
    "pycharm": {
     "name": "#%%\n"
    }
   },
   "outputs": [
    {
     "data": {
      "text/plain": [
       "DrCIF_RMSE                 0.197055\n",
       "RandF_RMSE                 0.199306\n",
       "FreshPRINCE_RMSE           0.201173\n",
       "RotF_RMSE                  0.201431\n",
       "RDST_RMSE                  0.202498\n",
       "RIST_RMSE                  0.202756\n",
       "MultiROCKET_RMSE           0.204024\n",
       "5NN-ED_RMSE                0.207243\n",
       "5NN-DTW_RMSE               0.207365\n",
       "XGBoost_RMSE               0.208650\n",
       "TSF_RMSE                   0.209727\n",
       "FPCR_RMSE                  0.211556\n",
       "FPCR-Bs_RMSE               0.215564\n",
       "InceptionT_RMSE            0.218467\n",
       "FCN_RMSE                   0.220598\n",
       "SingleInception_RMSE       0.224385\n",
       "ResNet_RMSE                0.226852\n",
       "Ridge_RMSE                 0.232403\n",
       "CNN_RMSE                   0.246243\n",
       "Grid-SVR_RMSE              0.246649\n",
       "1NN-DTW_RMSE               0.260328\n",
       "1NN-ED_RMSE                0.264244\n",
       "ROCKET_RMSE                0.268838\n",
       "Fedot_Industrial_AutoML    0.277000\n",
       "Name: average, dtype: float64"
      ]
     },
     "execution_count": 22,
     "metadata": {},
     "output_type": "execute_result"
    }
   ],
   "source": [
    "df.sort_values('average')['average']"
   ]
  }
 ],
 "metadata": {
  "kernelspec": {
   "display_name": "Python 3 (ipykernel)",
   "language": "python",
   "name": "python3"
  },
  "language_info": {
   "codemirror_mode": {
    "name": "ipython",
    "version": 3
   },
   "file_extension": ".py",
   "mimetype": "text/x-python",
   "name": "python",
   "nbconvert_exporter": "python",
   "pygments_lexer": "ipython3",
   "version": "3.10.5"
  }
 },
 "nbformat": 4,
 "nbformat_minor": 4
}
