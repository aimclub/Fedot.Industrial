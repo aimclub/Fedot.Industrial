{
 "cells": [
  {
   "cell_type": "markdown",
   "metadata": {
    "collapsed": false,
    "jupyter": {
     "outputs_hidden": false
    },
    "pycharm": {
     "name": "#%% md\n"
    }
   },
   "source": [
    "## Predict sentiment score of cryptocurrencies c with Fedot.Industrial"
   ]
  },
  {
   "cell_type": "markdown",
   "metadata": {
    "collapsed": false,
    "jupyter": {
     "outputs_hidden": false
    },
    "pycharm": {
     "name": "#%% md\n"
    }
   },
   "source": [
    "By combining historical sentiment data for 4 cryptocurrencies, extracted from EODHistoricalData31 and made available, with historical price data for the same cryptocurrencies, extracted from CryptoDataDownload32, was created the **BitcoinSentiment, EthereumSentiment, CardanoSentiment, and BinanceCoinSentiment** datasets, with 332, 356, 107, and 263 total instances, respectively. In all four datasets, the **predictors** are hourly **close price (in USD)** and **traded volume** for each respective cryptocurrency during a day, resulting in 2-dimensional time series of length 24. The **target variable** is the **normalized sentiment score** on the day spanned by the timepoints. The datasets were split\n",
    "into train and test sets by randomly selecting 30% of each set as test data.\n",
    "Link to the dataset - https://www.kaggle.com/datasets/gautamchettiar/historical-sentiment-data-btc-eth-bnb-ada"
   ]
  },
  {
   "cell_type": "code",
   "execution_count": 1,
   "metadata": {},
   "outputs": [],
   "source": [
    "import pandas as pd"
   ]
  },
  {
   "cell_type": "code",
   "execution_count": 2,
   "metadata": {},
   "outputs": [],
   "source": [
    "from fedot_ind.core.repository.config_repository import DEFAULT_COMPUTE_CONFIG, DEFAULT_REG_AUTOML_CONFIG, DEFAULT_AUTOML_LEARNING_CONFIG\n",
    "\n",
    "API_CONFIG = {'industrial_config': {'problem': 'regression'},\n",
    "              'automl_config': DEFAULT_REG_AUTOML_CONFIG,\n",
    "              'learning_config': {'learning_strategy': 'from_scratch',\n",
    "                                  'learning_strategy_params': DEFAULT_AUTOML_LEARNING_CONFIG,\n",
    "                                  'optimisation_loss': {'quality_loss': 'rmse'}},\n",
    "              'compute_config': DEFAULT_COMPUTE_CONFIG}\n",
    "METRIC_NAMES = ('r2', 'rmse', 'mae')\n",
    "DATASET_NAME = 'EthereumSentiment'"
   ]
  },
  {
   "cell_type": "code",
   "execution_count": 3,
   "metadata": {
    "collapsed": false,
    "jupyter": {
     "outputs_hidden": false
    },
    "pycharm": {
     "name": "#%%\n"
    }
   },
   "outputs": [
    {
     "name": "stdout",
     "output_type": "stream",
     "text": [
      "2025-01-22 19:32:05,953 - PyTorch version 2.2.2 available.\n"
     ]
    }
   ],
   "source": [
    "from fedot_ind.core.architecture.pipelines.abstract_pipeline import ApiTemplate\n",
    "api_client = ApiTemplate(api_config=API_CONFIG,\n",
    "                         metric_list=METRIC_NAMES)"
   ]
  },
  {
   "cell_type": "markdown",
   "metadata": {
    "collapsed": false,
    "jupyter": {
     "outputs_hidden": false
    },
    "pycharm": {
     "name": "#%% md\n"
    }
   },
   "source": [
    "Next steps are quite straightforward. We need to fit the model and then predict the values for the test data just like for any other model in sklearn.\n",
    "\n",
    "At the `fit` stage FedotIndustrial will transform initial time series data into features dataframe and will train regression model."
   ]
  },
  {
   "cell_type": "code",
   "execution_count": 4,
   "metadata": {
    "ExecuteTime": {
     "start_time": "2023-08-28T10:35:27.965798Z"
    },
    "pycharm": {
     "name": "#%%\n"
    }
   },
   "outputs": [
    {
     "name": "stdout",
     "output_type": "stream",
     "text": [
      "2025-01-22 19:32:14,495 - Reading data from /Users/lopatenko/Desktop/dev/Fedot.Industrial/fedot_ind/data/EthereumSentiment\n",
      "2025-01-22 19:32:14,520 - Data read successfully from local folder\n",
      "2025-01-22 19:32:14,529 - --------------------------------------------------\n",
      "2025-01-22 19:32:14,530 - Initialising Industrial Repository\n",
      "2025-01-22 19:32:14,531 - -------------------------------------------------\n",
      "2025-01-22 19:32:14,531 - Initialising Industrial Evolutionary Optimisation params\n",
      "2025-01-22 19:32:14,551 - --------------------------------------------------\n",
      "2025-01-22 19:32:14,551 - Initialising Dask Server\n",
      "Creating Dask Server\n",
      "2025-01-22 19:32:14,567 - To route to workers diagnostics web server please install jupyter-server-proxy: python -m pip install jupyter-server-proxy\n",
      "2025-01-22 19:32:14,569 - State start\n",
      "2025-01-22 19:32:14,573 -   Scheduler at: inproc://192.168.1.71/19884/1\n",
      "2025-01-22 19:32:14,573 -   dashboard at:  http://192.168.1.71:50279/status\n",
      "2025-01-22 19:32:14,574 - Registering Worker plugin shuffle\n",
      "2025-01-22 19:32:14,578 -       Start worker at: inproc://192.168.1.71/19884/4\n",
      "2025-01-22 19:32:14,579 -          Listening to:         inproc192.168.1.71\n",
      "2025-01-22 19:32:14,579 -           Worker name:                          0\n",
      "2025-01-22 19:32:14,579 -          dashboard at:         192.168.1.71:50280\n",
      "2025-01-22 19:32:14,580 - Waiting to connect to: inproc://192.168.1.71/19884/1\n",
      "2025-01-22 19:32:14,580 - -------------------------------------------------\n",
      "2025-01-22 19:32:14,580 -               Threads:                          4\n",
      "2025-01-22 19:32:14,580 -                Memory:                   6.00 GiB\n",
      "2025-01-22 19:32:14,581 -       Local Directory: /var/folders/4c/lkr5h1ws6b7ffd_1cx_hw_g80000gn/T/dask-scratch-space/worker-l775ffqz\n",
      "2025-01-22 19:32:14,581 - -------------------------------------------------\n",
      "2025-01-22 19:32:14,584 - Register worker <WorkerState 'inproc://192.168.1.71/19884/4', name: 0, status: init, memory: 0, processing: 0>\n",
      "2025-01-22 19:32:14,585 - Starting worker compute stream, inproc://192.168.1.71/19884/4\n",
      "2025-01-22 19:32:14,586 - Starting established connection to inproc://192.168.1.71/19884/5\n",
      "2025-01-22 19:32:14,587 - Starting Worker plugin shuffle\n",
      "2025-01-22 19:32:14,587 -         Registered to: inproc://192.168.1.71/19884/1\n",
      "2025-01-22 19:32:14,588 - -------------------------------------------------\n",
      "2025-01-22 19:32:14,588 - Starting established connection to inproc://192.168.1.71/19884/1\n",
      "2025-01-22 19:32:14,591 - Receive client connection: Client-700b39f2-d8de-11ef-8dac-5290899fedbd\n",
      "2025-01-22 19:32:14,592 - Starting established connection to inproc://192.168.1.71/19884/6\n",
      "2025-01-22 19:32:14,593 - Link Dask Server - http://192.168.1.71:50279/status\n",
      "2025-01-22 19:32:14,593 - --------------------------------------------------\n",
      "2025-01-22 19:32:14,594 - Initialising solver\n",
      "Features of basis of <class 'numpy.ndarray'> type are loaded from cache in 0.0008 sec\n",
      "2025-01-22 19:32:23,196 - ApiComposer - Initial pipeline was fitted in 43.0 sec.\n",
      "2025-01-22 19:32:23,197 - AssumptionsHandler - Preset was changed to fast_train due to fit time estimation for initial model.\n",
      "2025-01-22 19:32:23,205 - ApiComposer - AutoML configured. Parameters tuning: False. Time limit: 10 min. Set of candidate models: ['xgbreg', 'sgdr', 'treg', 'ridge', 'lasso', 'dtreg', 'lgbmreg', 'catboostreg', 'pdl_reg', 'bagging', 'inception_model', 'resnet_model', 'channel_filtration', 'eigen_basis', 'wavelet_basis', 'fourier_basis', 'quantile_extractor', 'minirocket_extractor', 'scaling', 'normalization', 'simple_imputation', 'kernel_pca'].\n",
      "2025-01-22 19:32:23,220 - ApiComposer - Timeout is too small for composing and is skipped because fit_time is 42.95977 sec.\n",
      "2025-01-22 19:32:23,319 - ApiComposer - Model generation finished\n",
      "2025-01-22 19:32:23,320 - FEDOT logger - Already fitted initial pipeline is used\n",
      "2025-01-22 19:32:23,321 - FEDOT logger - Final pipeline: {'depth': 2, 'length': 2, 'nodes': [treg, quantile_extractor]}\n",
      "treg - {}\n",
      "quantile_extractor - {'window_size': 10, 'stride': 1, 'add_global_features': True}\n"
     ]
    }
   ],
   "source": [
    "result_dict = api_client.eval(dataset=DATASET_NAME,\n",
    "                              finetune=False)"
   ]
  },
  {
   "cell_type": "code",
   "execution_count": 5,
   "metadata": {
    "collapsed": false,
    "jupyter": {
     "outputs_hidden": false
    },
    "pycharm": {
     "name": "#%%\n"
    }
   },
   "outputs": [
    {
     "data": {
      "text/html": [
       "<div>\n",
       "<style scoped>\n",
       "    .dataframe tbody tr th:only-of-type {\n",
       "        vertical-align: middle;\n",
       "    }\n",
       "\n",
       "    .dataframe tbody tr th {\n",
       "        vertical-align: top;\n",
       "    }\n",
       "\n",
       "    .dataframe thead th {\n",
       "        text-align: right;\n",
       "    }\n",
       "</style>\n",
       "<table border=\"1\" class=\"dataframe\">\n",
       "  <thead>\n",
       "    <tr style=\"text-align: right;\">\n",
       "      <th></th>\n",
       "      <th>r2</th>\n",
       "      <th>rmse</th>\n",
       "      <th>mae</th>\n",
       "    </tr>\n",
       "  </thead>\n",
       "  <tbody>\n",
       "    <tr>\n",
       "      <th>0</th>\n",
       "      <td>-0.066</td>\n",
       "      <td>0.277</td>\n",
       "      <td>0.223</td>\n",
       "    </tr>\n",
       "  </tbody>\n",
       "</table>\n",
       "</div>"
      ],
      "text/plain": [
       "      r2   rmse    mae\n",
       "0 -0.066  0.277  0.223"
      ]
     },
     "execution_count": 5,
     "metadata": {},
     "output_type": "execute_result"
    }
   ],
   "source": [
    "result_dict['metrics']"
   ]
  },
  {
   "cell_type": "code",
   "execution_count": 6,
   "metadata": {
    "collapsed": false,
    "jupyter": {
     "outputs_hidden": false
    },
    "pycharm": {
     "name": "#%%\n"
    }
   },
   "outputs": [],
   "source": [
    "opt_hist = result_dict['industrial_model'].save(return_history=True)"
   ]
  },
  {
   "cell_type": "code",
   "execution_count": 7,
   "metadata": {
    "collapsed": false,
    "jupyter": {
     "outputs_hidden": false
    },
    "pycharm": {
     "name": "#%%\n"
    }
   },
   "outputs": [
    {
     "data": {
      "image/png": "[encoded data removed]",
      "text/plain": [
       "<Figure size 700x700 with 1 Axes>"
      ]
     },
     "metadata": {},
     "output_type": "display_data"
    }
   ],
   "source": [
    "result_dict['industrial_model'].manager.solver.current_pipeline.show()"
   ]
  },
  {
   "cell_type": "code",
   "execution_count": 8,
   "metadata": {
    "collapsed": false,
    "jupyter": {
     "outputs_hidden": false
    },
    "pycharm": {
     "name": "#%%\n"
    }
   },
   "outputs": [
    {
     "ename": "AttributeError",
     "evalue": "'NoneType' object has no attribute 'generations'",
     "output_type": "error",
     "traceback": [
      "\u001b[0;31m---------------------------------------------------------------------------\u001b[0m",
      "\u001b[0;31mAttributeError\u001b[0m                            Traceback (most recent call last)",
      "Cell \u001b[0;32mIn[8], line 1\u001b[0m\n\u001b[0;32m----> 1\u001b[0m opt_hist \u001b[38;5;241m=\u001b[39m \u001b[43mresult_dict\u001b[49m\u001b[43m[\u001b[49m\u001b[38;5;124;43m'\u001b[39;49m\u001b[38;5;124;43mindustrial_model\u001b[39;49m\u001b[38;5;124;43m'\u001b[39;49m\u001b[43m]\u001b[49m\u001b[38;5;241;43m.\u001b[39;49m\u001b[43mvis_optimisation_history\u001b[49m\u001b[43m(\u001b[49m\u001b[43mopt_history_path\u001b[49m\u001b[38;5;241;43m=\u001b[39;49m\u001b[43mopt_hist\u001b[49m\u001b[43m,\u001b[49m\n\u001b[1;32m      2\u001b[0m \u001b[43m                                                                    \u001b[49m\u001b[43mmode\u001b[49m\u001b[38;5;241;43m=\u001b[39;49m\u001b[38;5;124;43m'\u001b[39;49m\u001b[38;5;124;43mfitness\u001b[39;49m\u001b[38;5;124;43m'\u001b[39;49m\u001b[43m,\u001b[49m\n\u001b[1;32m      3\u001b[0m \u001b[43m                                                                    \u001b[49m\u001b[43mreturn_history\u001b[49m\u001b[38;5;241;43m=\u001b[39;49m\u001b[38;5;28;43;01mTrue\u001b[39;49;00m\u001b[43m)\u001b[49m\n",
      "File \u001b[0;32m~/Desktop/dev/Fedot.Industrial/fedot_ind/api/main.py:490\u001b[0m, in \u001b[0;36mFedotIndustrial.vis_optimisation_history\u001b[0;34m(self, opt_history_path, mode, return_history)\u001b[0m\n\u001b[1;32m    487\u001b[0m \u001b[38;5;28;01mdef\u001b[39;00m \u001b[38;5;21mplot_func\u001b[39m(mode):\n\u001b[1;32m    488\u001b[0m     \u001b[38;5;28;01mreturn\u001b[39;00m vis_func[mode][\u001b[38;5;241m0\u001b[39m](\u001b[38;5;241m*\u001b[39m\u001b[38;5;241m*\u001b[39mvis_func[mode][\u001b[38;5;241m1\u001b[39m])\n\u001b[0;32m--> 490\u001b[0m \u001b[43mEither\u001b[49m\u001b[43m(\u001b[49m\u001b[43mvalue\u001b[49m\u001b[38;5;241;43m=\u001b[39;49m\u001b[43mvis_func\u001b[49m\u001b[43m,\u001b[49m\n\u001b[1;32m    491\u001b[0m \u001b[43m       \u001b[49m\u001b[43mmonoid\u001b[49m\u001b[38;5;241;43m=\u001b[39;49m\u001b[43m[\u001b[49m\u001b[43mmode\u001b[49m\u001b[43m,\u001b[49m\u001b[43m \u001b[49m\u001b[43mmode\u001b[49m\u001b[43m \u001b[49m\u001b[38;5;241;43m==\u001b[39;49m\u001b[43m \u001b[49m\u001b[38;5;124;43m'\u001b[39;49m\u001b[38;5;124;43mall\u001b[39;49m\u001b[38;5;124;43m'\u001b[39;49m\u001b[43m]\u001b[49m\u001b[43m)\u001b[49m\u001b[38;5;241;43m.\u001b[39;49m\u001b[43meither\u001b[49m\u001b[43m(\u001b[49m\n\u001b[1;32m    492\u001b[0m \u001b[43m    \u001b[49m\u001b[43mleft_function\u001b[49m\u001b[38;5;241;43m=\u001b[39;49m\u001b[43mplot_func\u001b[49m\u001b[43m,\u001b[49m\n\u001b[1;32m    493\u001b[0m \u001b[43m    \u001b[49m\u001b[43mright_function\u001b[49m\u001b[38;5;241;43m=\u001b[39;49m\u001b[38;5;28;43;01mlambda\u001b[39;49;00m\u001b[43m \u001b[49m\u001b[43mvis_func\u001b[49m\u001b[43m:\u001b[49m\u001b[43m \u001b[49m\u001b[43m[\u001b[49m\u001b[43mfunc\u001b[49m\u001b[43m(\u001b[49m\u001b[38;5;241;43m*\u001b[39;49m\u001b[38;5;241;43m*\u001b[39;49m\u001b[43mparams\u001b[49m\u001b[43m)\u001b[49m\u001b[43m \u001b[49m\u001b[38;5;28;43;01mfor\u001b[39;49;00m\u001b[43m \u001b[49m\u001b[43mfunc\u001b[49m\u001b[43m,\u001b[49m\u001b[43m \u001b[49m\u001b[43mparams\u001b[49m\u001b[43m \u001b[49m\u001b[38;5;129;43;01min\u001b[39;49;00m\u001b[43m \u001b[49m\u001b[43mvis_func\u001b[49m\u001b[38;5;241;43m.\u001b[39;49m\u001b[43mvalues\u001b[49m\u001b[43m(\u001b[49m\u001b[43m)\u001b[49m\u001b[43m]\u001b[49m\n\u001b[1;32m    494\u001b[0m \u001b[43m\u001b[49m\u001b[43m)\u001b[49m\n\u001b[1;32m    495\u001b[0m \u001b[38;5;28;01mreturn\u001b[39;00m history_visualizer\u001b[38;5;241m.\u001b[39mhistory \u001b[38;5;28;01mif\u001b[39;00m return_history \u001b[38;5;28;01melse\u001b[39;00m \u001b[38;5;28;01mNone\u001b[39;00m\n",
      "File \u001b[0;32m~/Desktop/dev/Fedot.Industrial/venv/lib/python3.10/site-packages/pymonad/either.py:91\u001b[0m, in \u001b[0;36mEither.either\u001b[0;34m(self, left_function, right_function)\u001b[0m\n\u001b[1;32m     89\u001b[0m     \u001b[38;5;28;01mreturn\u001b[39;00m right_function(\u001b[38;5;28mself\u001b[39m\u001b[38;5;241m.\u001b[39mvalue)\n\u001b[1;32m     90\u001b[0m \u001b[38;5;28;01melse\u001b[39;00m:\n\u001b[0;32m---> 91\u001b[0m     \u001b[38;5;28;01mreturn\u001b[39;00m \u001b[43mleft_function\u001b[49m\u001b[43m(\u001b[49m\u001b[38;5;28;43mself\u001b[39;49m\u001b[38;5;241;43m.\u001b[39;49m\u001b[43mmonoid\u001b[49m\u001b[43m[\u001b[49m\u001b[38;5;241;43m0\u001b[39;49m\u001b[43m]\u001b[49m\u001b[43m)\u001b[49m\n",
      "File \u001b[0;32m~/Desktop/dev/Fedot.Industrial/fedot_ind/api/main.py:488\u001b[0m, in \u001b[0;36mFedotIndustrial.vis_optimisation_history.<locals>.plot_func\u001b[0;34m(mode)\u001b[0m\n\u001b[1;32m    487\u001b[0m \u001b[38;5;28;01mdef\u001b[39;00m \u001b[38;5;21mplot_func\u001b[39m(mode):\n\u001b[0;32m--> 488\u001b[0m     \u001b[38;5;28;01mreturn\u001b[39;00m \u001b[43mvis_func\u001b[49m\u001b[43m[\u001b[49m\u001b[43mmode\u001b[49m\u001b[43m]\u001b[49m\u001b[43m[\u001b[49m\u001b[38;5;241;43m0\u001b[39;49m\u001b[43m]\u001b[49m\u001b[43m(\u001b[49m\u001b[38;5;241;43m*\u001b[39;49m\u001b[38;5;241;43m*\u001b[39;49m\u001b[43mvis_func\u001b[49m\u001b[43m[\u001b[49m\u001b[43mmode\u001b[49m\u001b[43m]\u001b[49m\u001b[43m[\u001b[49m\u001b[38;5;241;43m1\u001b[39;49m\u001b[43m]\u001b[49m\u001b[43m)\u001b[49m\n",
      "File \u001b[0;32m~/Desktop/dev/Fedot.Industrial/venv/lib/python3.10/site-packages/golem/visualisation/opt_history/arg_constraint_wrapper.py:77\u001b[0m, in \u001b[0;36mArgConstraintWrapper.wrap_constraints.<locals>.decorator.<locals>.outer\u001b[0;34m(visualization, *args, **kwargs)\u001b[0m\n\u001b[1;32m     74\u001b[0m \u001b[38;5;66;03m# Make a visualization.\u001b[39;00m\n\u001b[1;32m     75\u001b[0m visualization\u001b[38;5;241m.\u001b[39mlog\u001b[38;5;241m.\u001b[39minfo(\n\u001b[1;32m     76\u001b[0m     \u001b[38;5;124m'\u001b[39m\u001b[38;5;124mVisualizing optimization history... It may take some time, depending on the history size.\u001b[39m\u001b[38;5;124m'\u001b[39m)\n\u001b[0;32m---> 77\u001b[0m return_value \u001b[38;5;241m=\u001b[39m \u001b[43mvisualize_function\u001b[49m\u001b[43m(\u001b[49m\u001b[43mvisualization\u001b[49m\u001b[43m,\u001b[49m\u001b[43m \u001b[49m\u001b[38;5;241;43m*\u001b[39;49m\u001b[38;5;241;43m*\u001b[39;49m\u001b[43mkwargs\u001b[49m\u001b[43m)\u001b[49m\n\u001b[1;32m     78\u001b[0m \u001b[38;5;28;01mreturn\u001b[39;00m return_value\n",
      "File \u001b[0;32m~/Desktop/dev/Fedot.Industrial/venv/lib/python3.10/site-packages/golem/visualisation/opt_history/fitness_box.py:26\u001b[0m, in \u001b[0;36mFitnessBox.visualize\u001b[0;34m(self, save_path, dpi, best_fraction)\u001b[0m\n\u001b[1;32m     23\u001b[0m dpi \u001b[38;5;241m=\u001b[39m dpi \u001b[38;5;129;01mor\u001b[39;00m \u001b[38;5;28mself\u001b[39m\u001b[38;5;241m.\u001b[39mget_predefined_value(\u001b[38;5;124m'\u001b[39m\u001b[38;5;124mdpi\u001b[39m\u001b[38;5;124m'\u001b[39m)\n\u001b[1;32m     24\u001b[0m best_fraction \u001b[38;5;241m=\u001b[39m best_fraction \u001b[38;5;129;01mor\u001b[39;00m \u001b[38;5;28mself\u001b[39m\u001b[38;5;241m.\u001b[39mget_predefined_value(\u001b[38;5;124m'\u001b[39m\u001b[38;5;124mbest_fraction\u001b[39m\u001b[38;5;124m'\u001b[39m)\n\u001b[0;32m---> 26\u001b[0m df_history \u001b[38;5;241m=\u001b[39m \u001b[43mget_history_dataframe\u001b[49m\u001b[43m(\u001b[49m\u001b[38;5;28;43mself\u001b[39;49m\u001b[38;5;241;43m.\u001b[39;49m\u001b[43mhistory\u001b[49m\u001b[43m,\u001b[49m\u001b[43m \u001b[49m\u001b[43mbest_fraction\u001b[49m\u001b[38;5;241;43m=\u001b[39;49m\u001b[43mbest_fraction\u001b[49m\u001b[43m)\u001b[49m\n\u001b[1;32m     27\u001b[0m columns_needed \u001b[38;5;241m=\u001b[39m [\u001b[38;5;124m'\u001b[39m\u001b[38;5;124mgeneration\u001b[39m\u001b[38;5;124m'\u001b[39m, \u001b[38;5;124m'\u001b[39m\u001b[38;5;124mindividual\u001b[39m\u001b[38;5;124m'\u001b[39m, \u001b[38;5;124m'\u001b[39m\u001b[38;5;124mfitness\u001b[39m\u001b[38;5;124m'\u001b[39m]\n\u001b[1;32m     28\u001b[0m df_history \u001b[38;5;241m=\u001b[39m df_history[columns_needed]\u001b[38;5;241m.\u001b[39mdrop_duplicates(ignore_index\u001b[38;5;241m=\u001b[39m\u001b[38;5;28;01mTrue\u001b[39;00m)\n",
      "File \u001b[0;32m~/Desktop/dev/Fedot.Industrial/venv/lib/python3.10/site-packages/golem/visualisation/opt_history/utils.py:38\u001b[0m, in \u001b[0;36mget_history_dataframe\u001b[0;34m(history, best_fraction, tags_map)\u001b[0m\n\u001b[1;32m     35\u001b[0m     tags_map \u001b[38;5;241m=\u001b[39m new_map\n\u001b[1;32m     37\u001b[0m uid_counts \u001b[38;5;241m=\u001b[39m {}  \u001b[38;5;66;03m# Resolving individuals with the same uid\u001b[39;00m\n\u001b[0;32m---> 38\u001b[0m \u001b[38;5;28;01mfor\u001b[39;00m gen_num, gen \u001b[38;5;129;01min\u001b[39;00m \u001b[38;5;28menumerate\u001b[39m(\u001b[43mhistory\u001b[49m\u001b[38;5;241;43m.\u001b[39;49m\u001b[43mgenerations\u001b[49m):\n\u001b[1;32m     39\u001b[0m     \u001b[38;5;28;01mfor\u001b[39;00m ind \u001b[38;5;129;01min\u001b[39;00m gen:\n\u001b[1;32m     40\u001b[0m         uid_counts[ind\u001b[38;5;241m.\u001b[39muid] \u001b[38;5;241m=\u001b[39m uid_counts\u001b[38;5;241m.\u001b[39mget(ind\u001b[38;5;241m.\u001b[39muid, \u001b[38;5;241m-\u001b[39m\u001b[38;5;241m1\u001b[39m) \u001b[38;5;241m+\u001b[39m \u001b[38;5;241m1\u001b[39m\n",
      "\u001b[0;31mAttributeError\u001b[0m: 'NoneType' object has no attribute 'generations'"
     ]
    }
   ],
   "source": [
    "opt_hist = result_dict['industrial_model'].vis_optimisation_history(opt_history_path=opt_hist,\n",
    "                                                                    mode='fitness',\n",
    "                                                                    return_history=True)"
   ]
  },
  {
   "cell_type": "code",
   "execution_count": 10,
   "metadata": {
    "collapsed": false,
    "jupyter": {
     "outputs_hidden": false
    },
    "pycharm": {
     "name": "#%%\n"
    }
   },
   "outputs": [
    {
     "data": {
      "image/png": "[encoded data removed]",
      "text/plain": [
       "<Figure size 640x480 with 1 Axes>"
      ]
     },
     "metadata": {},
     "output_type": "display_data"
    }
   ],
   "source": [
    "from matplotlib import pyplot as plt\n",
    "import numpy as np\n",
    "\n",
    "predictions = np.vstack([api_client.test_data[1].flatten(),result_dict['labels'].flatten()]).T\n",
    "all_prediction = pd.DataFrame(predictions,columns=['target','automl'])\n",
    "all_prediction.plot()\n",
    "plt.show()"
   ]
  },
  {
   "cell_type": "code",
   "execution_count": 12,
   "metadata": {
    "collapsed": false,
    "jupyter": {
     "outputs_hidden": false
    },
    "pycharm": {
     "name": "#%%\n"
    }
   },
   "outputs": [
    {
     "data": {
      "text/html": [
       "<div>\n",
       "<style scoped>\n",
       "    .dataframe tbody tr th:only-of-type {\n",
       "        vertical-align: middle;\n",
       "    }\n",
       "\n",
       "    .dataframe tbody tr th {\n",
       "        vertical-align: top;\n",
       "    }\n",
       "\n",
       "    .dataframe thead th {\n",
       "        text-align: right;\n",
       "    }\n",
       "</style>\n",
       "<table border=\"1\" class=\"dataframe\">\n",
       "  <thead>\n",
       "    <tr style=\"text-align: right;\">\n",
       "      <th></th>\n",
       "      <th>days</th>\n",
       "      <th>hours</th>\n",
       "      <th>minutes</th>\n",
       "      <th>seconds</th>\n",
       "      <th>milliseconds</th>\n",
       "    </tr>\n",
       "  </thead>\n",
       "  <tbody>\n",
       "    <tr>\n",
       "      <th>Data Definition (fit)</th>\n",
       "      <td>0</td>\n",
       "      <td>0</td>\n",
       "      <td>0</td>\n",
       "      <td>0</td>\n",
       "      <td>2</td>\n",
       "    </tr>\n",
       "    <tr>\n",
       "      <th>Data Preprocessing</th>\n",
       "      <td>0</td>\n",
       "      <td>0</td>\n",
       "      <td>0</td>\n",
       "      <td>0</td>\n",
       "      <td>0</td>\n",
       "    </tr>\n",
       "    <tr>\n",
       "      <th>Fitting (summary)</th>\n",
       "      <td>0</td>\n",
       "      <td>0</td>\n",
       "      <td>0</td>\n",
       "      <td>8</td>\n",
       "      <td>717</td>\n",
       "    </tr>\n",
       "    <tr>\n",
       "      <th>Composing</th>\n",
       "      <td>0</td>\n",
       "      <td>0</td>\n",
       "      <td>0</td>\n",
       "      <td>8</td>\n",
       "      <td>617</td>\n",
       "    </tr>\n",
       "    <tr>\n",
       "      <th>Train Inference</th>\n",
       "      <td>0</td>\n",
       "      <td>0</td>\n",
       "      <td>0</td>\n",
       "      <td>0</td>\n",
       "      <td>0</td>\n",
       "    </tr>\n",
       "    <tr>\n",
       "      <th>Tuning (composing)</th>\n",
       "      <td>0</td>\n",
       "      <td>0</td>\n",
       "      <td>0</td>\n",
       "      <td>0</td>\n",
       "      <td>0</td>\n",
       "    </tr>\n",
       "    <tr>\n",
       "      <th>Tuning (after)</th>\n",
       "      <td>0</td>\n",
       "      <td>0</td>\n",
       "      <td>0</td>\n",
       "      <td>0</td>\n",
       "      <td>0</td>\n",
       "    </tr>\n",
       "    <tr>\n",
       "      <th>Data Definition (predict)</th>\n",
       "      <td>0</td>\n",
       "      <td>0</td>\n",
       "      <td>0</td>\n",
       "      <td>0</td>\n",
       "      <td>0</td>\n",
       "    </tr>\n",
       "    <tr>\n",
       "      <th>Predicting</th>\n",
       "      <td>0</td>\n",
       "      <td>0</td>\n",
       "      <td>0</td>\n",
       "      <td>2</td>\n",
       "      <td>829</td>\n",
       "    </tr>\n",
       "  </tbody>\n",
       "</table>\n",
       "</div>"
      ],
      "text/plain": [
       "                           days  hours  minutes  seconds  milliseconds\n",
       "Data Definition (fit)         0      0        0        0             2\n",
       "Data Preprocessing            0      0        0        0             0\n",
       "Fitting (summary)             0      0        0        8           717\n",
       "Composing                     0      0        0        8           617\n",
       "Train Inference               0      0        0        0             0\n",
       "Tuning (composing)            0      0        0        0             0\n",
       "Tuning (after)                0      0        0        0             0\n",
       "Data Definition (predict)     0      0        0        0             0\n",
       "Predicting                    0      0        0        2           829"
      ]
     },
     "execution_count": 12,
     "metadata": {},
     "output_type": "execute_result"
    }
   ],
   "source": [
    "result_dict['industrial_model'].manager.solver.return_report()"
   ]
  },
  {
   "cell_type": "markdown",
   "metadata": {
    "collapsed": false,
    "jupyter": {
     "outputs_hidden": false
    },
    "pycharm": {
     "name": "#%% md\n"
    }
   },
   "source": [
    "## Compare with State of Art (SOTA) models"
   ]
  },
  {
   "cell_type": "code",
   "execution_count": 13,
   "metadata": {
    "collapsed": false,
    "jupyter": {
     "outputs_hidden": false
    },
    "pycharm": {
     "name": "#%%\n"
    }
   },
   "outputs": [],
   "source": [
    "from fedot_ind.tools.serialisation.path_lib import PROJECT_PATH\n",
    "df = pd.read_csv(PROJECT_PATH + '/benchmark/ts_regression_sota_results.csv', sep=';')\n",
    "df = df[df['ds/type'] == DATASET_NAME].iloc[:, :25]\n",
    "df.index = df['algorithm']\n",
    "df = df.drop(['algorithm', 'ds/type'], axis=1)\n",
    "df = df.replace(',', '.', regex=True).astype(float)"
   ]
  },
  {
   "cell_type": "code",
   "execution_count": 14,
   "metadata": {
    "collapsed": false,
    "jupyter": {
     "outputs_hidden": false
    },
    "pycharm": {
     "name": "#%%\n"
    }
   },
   "outputs": [],
   "source": [
    "df['Fedot_Industrial_AutoML'] = result_dict['metrics']['rmse'][0]\n",
    "df = df.T"
   ]
  },
  {
   "cell_type": "code",
   "execution_count": 15,
   "metadata": {
    "collapsed": false,
    "jupyter": {
     "outputs_hidden": false
    },
    "pycharm": {
     "name": "#%%\n"
    }
   },
   "outputs": [
    {
     "data": {
      "text/plain": [
       "FreshPRINCE_RMSE           0.180515\n",
       "DrCIF_RMSE                 0.180643\n",
       "RotF_RMSE                  0.187496\n",
       "RandF_RMSE                 0.193914\n",
       "FPCR_RMSE                  0.195632\n",
       "TSF_RMSE                   0.200847\n",
       "FPCR-Bs_RMSE               0.201391\n",
       "5NN-DTW_RMSE               0.205914\n",
       "RDST_RMSE                  0.208743\n",
       "Ridge_RMSE                 0.213185\n",
       "5NN-ED_RMSE                0.215282\n",
       "RIST_RMSE                  0.222417\n",
       "FCN_RMSE                   0.222711\n",
       "XGBoost_RMSE               0.224208\n",
       "ResNet_RMSE                0.224795\n",
       "InceptionT_RMSE            0.224887\n",
       "MultiROCKET_RMSE           0.224921\n",
       "SingleInception_RMSE       0.226110\n",
       "Grid-SVR_RMSE              0.227387\n",
       "CNN_RMSE                   0.234338\n",
       "1NN-DTW_RMSE               0.255744\n",
       "ROCKET_RMSE                0.257576\n",
       "1NN-ED_RMSE                0.267144\n",
       "Fedot_Industrial_AutoML    0.277000\n",
       "Name: min, dtype: float64"
      ]
     },
     "execution_count": 15,
     "metadata": {},
     "output_type": "execute_result"
    }
   ],
   "source": [
    "df.sort_values('min')['min']"
   ]
  },
  {
   "cell_type": "code",
   "execution_count": 16,
   "metadata": {
    "collapsed": false,
    "jupyter": {
     "outputs_hidden": false
    },
    "pycharm": {
     "name": "#%%\n"
    }
   },
   "outputs": [
    {
     "data": {
      "text/plain": [
       "DrCIF_RMSE                 0.256310\n",
       "RIST_RMSE                  0.256706\n",
       "RandF_RMSE                 0.257411\n",
       "RDST_RMSE                  0.257594\n",
       "FreshPRINCE_RMSE           0.260502\n",
       "RotF_RMSE                  0.263084\n",
       "5NN-ED_RMSE                0.264245\n",
       "FPCR_RMSE                  0.268228\n",
       "5NN-DTW_RMSE               0.268344\n",
       "TSF_RMSE                   0.269265\n",
       "FPCR-Bs_RMSE               0.276976\n",
       "Fedot_Industrial_AutoML    0.277000\n",
       "XGBoost_RMSE               0.281631\n",
       "InceptionT_RMSE            0.288174\n",
       "Grid-SVR_RMSE              0.290551\n",
       "MultiROCKET_RMSE           0.291900\n",
       "FCN_RMSE                   0.295570\n",
       "SingleInception_RMSE       0.296679\n",
       "ResNet_RMSE                0.302419\n",
       "Ridge_RMSE                 0.314523\n",
       "ROCKET_RMSE                0.319622\n",
       "CNN_RMSE                   0.348164\n",
       "1NN-ED_RMSE                0.427555\n",
       "1NN-DTW_RMSE               0.435497\n",
       "Name: max, dtype: float64"
      ]
     },
     "execution_count": 16,
     "metadata": {},
     "output_type": "execute_result"
    }
   ],
   "source": [
    "df.sort_values('max')['max']"
   ]
  },
  {
   "cell_type": "code",
   "execution_count": 17,
   "metadata": {
    "collapsed": false,
    "jupyter": {
     "outputs_hidden": false
    },
    "pycharm": {
     "name": "#%%\n"
    }
   },
   "outputs": [
    {
     "data": {
      "text/plain": [
       "DrCIF_RMSE                 0.223448\n",
       "FreshPRINCE_RMSE           0.225876\n",
       "RotF_RMSE                  0.229423\n",
       "FPCR_RMSE                  0.231336\n",
       "RandF_RMSE                 0.233020\n",
       "TSF_RMSE                   0.234477\n",
       "FPCR-Bs_RMSE               0.235169\n",
       "RDST_RMSE                  0.239879\n",
       "RIST_RMSE                  0.241129\n",
       "5NN-DTW_RMSE               0.241217\n",
       "5NN-ED_RMSE                0.246046\n",
       "MultiROCKET_RMSE           0.249028\n",
       "InceptionT_RMSE            0.251960\n",
       "XGBoost_RMSE               0.252351\n",
       "FCN_RMSE                   0.252702\n",
       "ResNet_RMSE                0.255854\n",
       "Grid-SVR_RMSE              0.257539\n",
       "SingleInception_RMSE       0.257753\n",
       "Ridge_RMSE                 0.262168\n",
       "CNN_RMSE                   0.271610\n",
       "Fedot_Industrial_AutoML    0.277000\n",
       "ROCKET_RMSE                0.287077\n",
       "1NN-DTW_RMSE               0.318791\n",
       "1NN-ED_RMSE                0.333878\n",
       "Name: average, dtype: float64"
      ]
     },
     "execution_count": 17,
     "metadata": {},
     "output_type": "execute_result"
    }
   ],
   "source": [
    "df.sort_values('average')['average']"
   ]
  }
 ],
 "metadata": {
  "kernelspec": {
   "display_name": "Python 3 (ipykernel)",
   "language": "python",
   "name": "python3"
  },
  "language_info": {
   "codemirror_mode": {
    "name": "ipython",
    "version": 3
   },
   "file_extension": ".py",
   "mimetype": "text/x-python",
   "name": "python",
   "nbconvert_exporter": "python",
   "pygments_lexer": "ipython3",
   "version": "3.10.5"
  }
 },
 "nbformat": 4,
 "nbformat_minor": 4
}
