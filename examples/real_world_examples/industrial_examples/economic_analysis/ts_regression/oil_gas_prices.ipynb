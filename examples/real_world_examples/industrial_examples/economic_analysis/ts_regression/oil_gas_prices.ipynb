{
 "cells": [
  {
   "cell_type": "markdown",
   "metadata": {
    "collapsed": false,
    "jupyter": {
     "outputs_hidden": false
    },
    "pycharm": {
     "name": "#%% md\n"
    }
   },
   "source": [
    "## Predict historical prices of Brent Oil, Crude Oil WTI, Natural Gas, Heating Oil from 2000-2022 with Fedot.Industrial"
   ]
  },
  {
   "cell_type": "markdown",
   "metadata": {
    "collapsed": false,
    "jupyter": {
     "outputs_hidden": false
    },
    "pycharm": {
     "name": "#%% md\n"
    }
   },
   "source": [
    "Dataset published on Kaggle3 consists of historical prices of Brent Oil, CrudeOil WTI, Natural Gas, and Heating Oil from 2000 to 2022. This sample of DailyOilGasPrices was created by using 30 consecutive business days of **Crude Oil WTI close prices** and **traded volumes** as **predictors** and the **average natural gas close** price during each 30-day time frame as the **target** variable. The final dataset has 191 2-dimensional time series of length 30, of which 70% were randomly sampled as training data and the remaining 30% as testing data. This type of model could help companies and governments to better analyse and predict economic situations and correlations regarding oil and natural gas.\n",
    "Link to the dataset - https://www.kaggl.com/datasets/prasertk/historical-daily-oil-and-natural-gas-prices"
   ]
  },
  {
   "cell_type": "code",
   "execution_count": 1,
   "metadata": {
    "collapsed": false,
    "jupyter": {
     "outputs_hidden": false
    },
    "pycharm": {
     "name": "#%%\n"
    }
   },
   "outputs": [],
   "source": [
    "from fedot_ind.core.repository.config_repository import DEFAULT_COMPUTE_CONFIG, DEFAULT_REG_AUTOML_CONFIG, DEFAULT_AUTOML_LEARNING_CONFIG\n",
    "\n",
    "API_CONFIG = {'industrial_config': {'problem': 'regression'},\n",
    "              'automl_config': DEFAULT_REG_AUTOML_CONFIG,\n",
    "              'learning_config': {'learning_strategy': 'from_scratch',\n",
    "                                  'learning_strategy_params': DEFAULT_AUTOML_LEARNING_CONFIG,\n",
    "                                  'optimisation_loss': {'quality_loss': 'rmse'}},\n",
    "              'compute_config': DEFAULT_COMPUTE_CONFIG}\n",
    "METRIC_NAMES = ('r2', 'rmse', 'mae')\n",
    "DATASET_NAME = 'DailyOilGasPrices'"
   ]
  },
  {
   "cell_type": "code",
   "execution_count": 2,
   "metadata": {
    "collapsed": false,
    "jupyter": {
     "outputs_hidden": false
    },
    "pycharm": {
     "name": "#%%\n"
    }
   },
   "outputs": [
    {
     "name": "stdout",
     "output_type": "stream",
     "text": [
      "2025-01-23 02:17:45,389 - PyTorch version 2.2.2 available.\n"
     ]
    }
   ],
   "source": [
    "from fedot_ind.core.architecture.pipelines.abstract_pipeline import ApiTemplate\n",
    "api_client = ApiTemplate(api_config=API_CONFIG,\n",
    "                         metric_list=METRIC_NAMES)"
   ]
  },
  {
   "cell_type": "markdown",
   "metadata": {
    "collapsed": false,
    "jupyter": {
     "outputs_hidden": false
    },
    "pycharm": {
     "name": "#%% md\n"
    }
   },
   "source": [
    "Next steps are quite straightforward. We need to fit the model and then predict the values for the test data just like for any other model in sklearn.\n",
    "\n",
    "At the `fit` stage FedotIndustrial will transform initial time series data into features dataframe and will train regression model."
   ]
  },
  {
   "cell_type": "code",
   "execution_count": 3,
   "metadata": {
    "ExecuteTime": {
     "start_time": "2023-08-28T10:35:27.965798Z"
    },
    "pycharm": {
     "name": "#%%\n"
    }
   },
   "outputs": [
    {
     "name": "stdout",
     "output_type": "stream",
     "text": [
      "2025-01-23 02:18:09,662 - Reading data from /Users/lopatenko/Desktop/dev/Fedot.Industrial/fedot_ind/data/DailyOilGasPrices\n",
      "2025-01-23 02:18:09,685 - Data read successfully from local folder\n",
      "2025-01-23 02:18:09,692 - --------------------------------------------------\n",
      "2025-01-23 02:18:09,693 - Initialising Industrial Repository\n",
      "2025-01-23 02:18:09,693 - -------------------------------------------------\n",
      "2025-01-23 02:18:09,693 - Initialising Industrial Evolutionary Optimisation params\n",
      "2025-01-23 02:18:09,718 - --------------------------------------------------\n",
      "2025-01-23 02:18:09,718 - Initialising Dask Server\n",
      "Creating Dask Server\n",
      "2025-01-23 02:18:09,735 - To route to workers diagnostics web server please install jupyter-server-proxy: python -m pip install jupyter-server-proxy\n",
      "2025-01-23 02:18:09,738 - State start\n",
      "2025-01-23 02:18:09,743 -   Scheduler at: inproc://192.168.1.71/24453/1\n",
      "2025-01-23 02:18:09,743 -   dashboard at:  http://192.168.1.71:56083/status\n",
      "2025-01-23 02:18:09,744 - Registering Worker plugin shuffle\n",
      "2025-01-23 02:18:09,748 -       Start worker at: inproc://192.168.1.71/24453/4\n",
      "2025-01-23 02:18:09,749 -          Listening to:         inproc192.168.1.71\n",
      "2025-01-23 02:18:09,750 -           Worker name:                          0\n",
      "2025-01-23 02:18:09,751 -          dashboard at:         192.168.1.71:56084\n",
      "2025-01-23 02:18:09,751 - Waiting to connect to: inproc://192.168.1.71/24453/1\n",
      "2025-01-23 02:18:09,752 - -------------------------------------------------\n",
      "2025-01-23 02:18:09,752 -               Threads:                          4\n",
      "2025-01-23 02:18:09,753 -                Memory:                   6.00 GiB\n",
      "2025-01-23 02:18:09,754 -       Local Directory: /var/folders/4c/lkr5h1ws6b7ffd_1cx_hw_g80000gn/T/dask-scratch-space/worker-uqcyjh07\n",
      "2025-01-23 02:18:09,754 - -------------------------------------------------\n",
      "2025-01-23 02:18:09,756 - Register worker <WorkerState 'inproc://192.168.1.71/24453/4', name: 0, status: init, memory: 0, processing: 0>\n",
      "2025-01-23 02:18:09,757 - Starting worker compute stream, inproc://192.168.1.71/24453/4\n",
      "2025-01-23 02:18:09,757 - Starting established connection to inproc://192.168.1.71/24453/5\n",
      "2025-01-23 02:18:09,758 - Starting Worker plugin shuffle\n",
      "2025-01-23 02:18:09,759 -         Registered to: inproc://192.168.1.71/24453/1\n",
      "2025-01-23 02:18:09,759 - -------------------------------------------------\n",
      "2025-01-23 02:18:09,760 - Starting established connection to inproc://192.168.1.71/24453/1\n",
      "2025-01-23 02:18:09,763 - Receive client connection: Client-24db6c98-d917-11ef-9f85-5290899fedbd\n",
      "2025-01-23 02:18:09,764 - Starting established connection to inproc://192.168.1.71/24453/6\n",
      "2025-01-23 02:18:09,766 - Link Dask Server - http://192.168.1.71:56083/status\n",
      "2025-01-23 02:18:09,767 - --------------------------------------------------\n",
      "2025-01-23 02:18:09,767 - Initialising solver\n",
      "2025-01-23 02:18:15,553 - ApiComposer - Initial pipeline was fitted in 28.9 sec.\n",
      "2025-01-23 02:18:15,558 - AssumptionsHandler - Preset was changed to best_quality due to fit time estimation for initial model.\n",
      "2025-01-23 02:18:15,578 - ApiComposer - AutoML configured. Parameters tuning: False. Time limit: 10 min. Set of candidate models: ['xgbreg', 'sgdr', 'treg', 'ridge', 'lasso', 'dtreg', 'lgbmreg', 'catboostreg', 'pdl_reg', 'bagging', 'inception_model', 'resnet_model', 'channel_filtration', 'eigen_basis', 'wavelet_basis', 'fourier_basis', 'quantile_extractor', 'minirocket_extractor', 'scaling', 'normalization', 'simple_imputation', 'kernel_pca'].\n",
      "2025-01-23 02:18:15,597 - ApiComposer - Pipeline composition started.\n"
     ]
    },
    {
     "name": "stderr",
     "output_type": "stream",
     "text": [
      "Generations:   0%|          | 0/10000 [00:00<?, ?gen/s]"
     ]
    },
    {
     "name": "stdout",
     "output_type": "stream",
     "text": [
      "Features of basis of <class 'numpy.ndarray'> type are loaded from cache in 0.00029 sec\n",
      "2025-01-23 02:18:39,517 - IndustrialDispatcher - 4 individuals out of 5 in previous population were evaluated successfully.\n",
      "2025-01-23 02:19:28,369 - IndustrialDispatcher - 6 individuals out of 7 in previous population were evaluated successfully.\n",
      "2025-01-23 02:19:30,294 - IndustrialEvoOptimizer - Successful reproduction\n",
      "2025-01-23 02:20:06,878 - IndustrialDispatcher - 9 individuals out of 10 in previous population were evaluated successfully.\n"
     ]
    },
    {
     "name": "stderr",
     "output_type": "stream",
     "text": [
      "Generations:   0%|          | 1/10000 [01:51<309:03:56, 111.27s/gen]"
     ]
    },
    {
     "name": "stdout",
     "output_type": "stream",
     "text": [
      "Features of basis of <class 'numpy.ndarray'> type are loaded from cache in 0.00266 sec\n",
      "Features of basis of <class 'numpy.ndarray'> type are loaded from cache in 0.00166 sec\n",
      "2025-01-23 02:20:50,269 - IndustrialDispatcher - 11 individuals out of 12 in previous population were evaluated successfully.\n",
      "2025-01-23 02:21:44,154 - IndustrialDispatcher - 3 individuals out of 4 in previous population were evaluated successfully.\n",
      "2025-01-23 02:21:44,159 - IndustrialEvoOptimizer - Successful reproduction\n"
     ]
    },
    {
     "name": "stderr",
     "output_type": "stream",
     "text": [
      "Generations:   0%|          | 2/10000 [03:28<286:11:44, 103.05s/gen]"
     ]
    },
    {
     "name": "stdout",
     "output_type": "stream",
     "text": [
      "Features of basis of <class 'numpy.ndarray'> type are loaded from cache in 0.00315 sec\n",
      "Features of basis of <class 'numpy.ndarray'> type are loaded from cache in 0.00056 sec\n",
      "Features of basis of <class 'numpy.ndarray'> type are loaded from cache in 0.00686 sec\n",
      "Features of basis of <class 'numpy.ndarray'> type are loaded from cache in 0.00083 sec\n",
      "Features of basis of <class 'numpy.ndarray'> type are loaded from cache in 0.00656 sec\n",
      "Features of basis of <class 'numpy.ndarray'> type are loaded from cache in 0.00902 sec\n",
      "2025-01-23 02:23:06,141 - IndustrialDispatcher - 15 individuals out of 19 in previous population were evaluated successfully.\n",
      "2025-01-23 02:24:48,258 - IndustrialDispatcher - 5 individuals out of 6 in previous population were evaluated successfully.\n",
      "2025-01-23 02:24:48,260 - IndustrialEvoOptimizer - Successful reproduction\n"
     ]
    },
    {
     "name": "stderr",
     "output_type": "stream",
     "text": [
      "Generations:   0%|          | 3/10000 [06:32<388:56:54, 140.06s/gen]\n",
      "  0%|          | 0/1 [00:00<?, ?it/s]\u001b[A"
     ]
    },
    {
     "name": "stdout",
     "output_type": "stream",
     "text": [
      "Features of basis of <class 'numpy.ndarray'> type are loaded from cache in 0.00271 sec\n"
     ]
    },
    {
     "name": "stderr",
     "output_type": "stream",
     "text": [
      "\n",
      "100%|██████████| 1/1 [00:02<00:00,  2.23s/it]\u001b[A\n"
     ]
    },
    {
     "name": "stdout",
     "output_type": "stream",
     "text": [
      "Epoch: 1, RMSE= 4.369555950164795, Training Loss: 4.37\n"
     ]
    },
    {
     "name": "stderr",
     "output_type": "stream",
     "text": [
      "\n",
      "  0%|          | 0/1 [00:00<?, ?it/s]\u001b[A\n",
      "100%|██████████| 1/1 [00:01<00:00,  1.86s/it]\u001b[A\n"
     ]
    },
    {
     "name": "stdout",
     "output_type": "stream",
     "text": [
      "Epoch: 2, RMSE= 5.053946495056152, Training Loss: 5.05\n",
      "EarlyStopping counter: 1 out of 15\n"
     ]
    },
    {
     "name": "stderr",
     "output_type": "stream",
     "text": [
      "\n",
      "  0%|          | 0/1 [00:00<?, ?it/s]\u001b[A\n",
      "100%|██████████| 1/1 [00:02<00:00,  2.35s/it]\u001b[A\n"
     ]
    },
    {
     "name": "stdout",
     "output_type": "stream",
     "text": [
      "Epoch: 3, RMSE= 5.114271640777588, Training Loss: 5.11\n",
      "EarlyStopping counter: 2 out of 15\n"
     ]
    },
    {
     "name": "stderr",
     "output_type": "stream",
     "text": [
      "\n",
      "  0%|          | 0/1 [00:00<?, ?it/s]\u001b[A\n",
      "100%|██████████| 1/1 [00:01<00:00,  1.13s/it]\u001b[A\n"
     ]
    },
    {
     "name": "stdout",
     "output_type": "stream",
     "text": [
      "Epoch: 4, RMSE= 4.858184337615967, Training Loss: 4.86\n",
      "EarlyStopping counter: 3 out of 15\n"
     ]
    },
    {
     "name": "stderr",
     "output_type": "stream",
     "text": [
      "\n",
      "  0%|          | 0/1 [00:00<?, ?it/s]\u001b[A\n",
      "100%|██████████| 1/1 [00:01<00:00,  1.59s/it]\u001b[A\n"
     ]
    },
    {
     "name": "stdout",
     "output_type": "stream",
     "text": [
      "Epoch: 5, RMSE= 4.521126747131348, Training Loss: 4.52\n",
      "EarlyStopping counter: 4 out of 15\n"
     ]
    },
    {
     "name": "stderr",
     "output_type": "stream",
     "text": [
      "\n",
      "  0%|          | 0/1 [00:00<?, ?it/s]\u001b[A\n",
      "100%|██████████| 1/1 [00:01<00:00,  1.06s/it]\u001b[A\n"
     ]
    },
    {
     "name": "stdout",
     "output_type": "stream",
     "text": [
      "Epoch: 6, RMSE= 4.245731353759766, Training Loss: 4.25\n"
     ]
    },
    {
     "name": "stderr",
     "output_type": "stream",
     "text": [
      "\n",
      "  0%|          | 0/1 [00:00<?, ?it/s]\u001b[A\n",
      "100%|██████████| 1/1 [00:01<00:00,  1.11s/it]\u001b[A\n"
     ]
    },
    {
     "name": "stdout",
     "output_type": "stream",
     "text": [
      "Epoch: 7, RMSE= 4.111885070800781, Training Loss: 4.11\n"
     ]
    },
    {
     "name": "stderr",
     "output_type": "stream",
     "text": [
      "\n",
      "  0%|          | 0/1 [00:00<?, ?it/s]\u001b[A\n",
      "100%|██████████| 1/1 [00:01<00:00,  1.43s/it]\u001b[A\n"
     ]
    },
    {
     "name": "stdout",
     "output_type": "stream",
     "text": [
      "Epoch: 8, RMSE= 3.4900741577148438, Training Loss: 3.49\n"
     ]
    },
    {
     "name": "stderr",
     "output_type": "stream",
     "text": [
      "\n",
      "  0%|          | 0/1 [00:00<?, ?it/s]\u001b[A\n",
      "100%|██████████| 1/1 [00:01<00:00,  1.02s/it]\u001b[A\n"
     ]
    },
    {
     "name": "stdout",
     "output_type": "stream",
     "text": [
      "Epoch: 9, RMSE= 2.897617816925049, Training Loss: 2.90\n"
     ]
    },
    {
     "name": "stderr",
     "output_type": "stream",
     "text": [
      "\n",
      "  0%|          | 0/1 [00:00<?, ?it/s]\u001b[A\n",
      "100%|██████████| 1/1 [00:01<00:00,  1.37s/it]\u001b[A\n"
     ]
    },
    {
     "name": "stdout",
     "output_type": "stream",
     "text": [
      "Epoch: 10, RMSE= 2.730858564376831, Training Loss: 2.73\n"
     ]
    },
    {
     "name": "stderr",
     "output_type": "stream",
     "text": [
      "\n",
      "  0%|          | 0/1 [00:00<?, ?it/s]\u001b[A\n",
      "100%|██████████| 1/1 [00:01<00:00,  1.44s/it]\u001b[A\n"
     ]
    },
    {
     "name": "stdout",
     "output_type": "stream",
     "text": [
      "Epoch: 11, RMSE= 2.252786874771118, Training Loss: 2.25\n"
     ]
    },
    {
     "name": "stderr",
     "output_type": "stream",
     "text": [
      "\n",
      "  0%|          | 0/1 [00:00<?, ?it/s]\u001b[A\n",
      "100%|██████████| 1/1 [00:01<00:00,  1.54s/it]\u001b[A\n"
     ]
    },
    {
     "name": "stdout",
     "output_type": "stream",
     "text": [
      "Epoch: 12, RMSE= 1.7568116188049316, Training Loss: 1.76\n"
     ]
    },
    {
     "name": "stderr",
     "output_type": "stream",
     "text": [
      "\n",
      "  0%|          | 0/1 [00:00<?, ?it/s]\u001b[A\n",
      "100%|██████████| 1/1 [00:00<00:00,  1.11it/s]\u001b[A\n"
     ]
    },
    {
     "name": "stdout",
     "output_type": "stream",
     "text": [
      "Epoch: 13, RMSE= 1.4226174354553223, Training Loss: 1.42\n"
     ]
    },
    {
     "name": "stderr",
     "output_type": "stream",
     "text": [
      "\n",
      "  0%|          | 0/1 [00:00<?, ?it/s]\u001b[A\n",
      "100%|██████████| 1/1 [00:00<00:00,  1.81it/s]\u001b[A\n"
     ]
    },
    {
     "name": "stdout",
     "output_type": "stream",
     "text": [
      "Epoch: 14, RMSE= 1.020409107208252, Training Loss: 1.02\n"
     ]
    },
    {
     "name": "stderr",
     "output_type": "stream",
     "text": [
      "\n",
      "  0%|          | 0/1 [00:00<?, ?it/s]\u001b[A\n",
      "100%|██████████| 1/1 [00:00<00:00,  1.51it/s]\u001b[A\n"
     ]
    },
    {
     "name": "stdout",
     "output_type": "stream",
     "text": [
      "Epoch: 15, RMSE= 0.5703291893005371, Training Loss: 0.57\n"
     ]
    },
    {
     "name": "stderr",
     "output_type": "stream",
     "text": [
      "\n",
      "  0%|          | 0/1 [00:00<?, ?it/s]\u001b[A\n",
      "100%|██████████| 1/1 [00:01<00:00,  1.33s/it]\u001b[A\n"
     ]
    },
    {
     "name": "stdout",
     "output_type": "stream",
     "text": [
      "Epoch: 16, RMSE= 0.2944478988647461, Training Loss: 0.29\n"
     ]
    },
    {
     "name": "stderr",
     "output_type": "stream",
     "text": [
      "\n",
      "  0%|          | 0/1 [00:00<?, ?it/s]\u001b[A\n",
      "100%|██████████| 1/1 [00:01<00:00,  1.84s/it]\u001b[A\n"
     ]
    },
    {
     "name": "stdout",
     "output_type": "stream",
     "text": [
      "Epoch: 17, RMSE= 0.024218082427978516, Training Loss: 0.02\n"
     ]
    },
    {
     "name": "stderr",
     "output_type": "stream",
     "text": [
      "\n",
      "  0%|          | 0/1 [00:00<?, ?it/s]\u001b[A\n",
      "100%|██████████| 1/1 [00:01<00:00,  1.68s/it]\u001b[A\n"
     ]
    },
    {
     "name": "stdout",
     "output_type": "stream",
     "text": [
      "Epoch: 18, RMSE= 0.28475427627563477, Training Loss: 0.28\n",
      "EarlyStopping counter: 1 out of 15\n"
     ]
    },
    {
     "name": "stderr",
     "output_type": "stream",
     "text": [
      "\n",
      "  0%|          | 0/1 [00:00<?, ?it/s]\u001b[A\n",
      "100%|██████████| 1/1 [00:01<00:00,  1.78s/it]\u001b[A\n"
     ]
    },
    {
     "name": "stdout",
     "output_type": "stream",
     "text": [
      "Epoch: 19, RMSE= 0.3947906494140625, Training Loss: 0.39\n",
      "EarlyStopping counter: 2 out of 15\n"
     ]
    },
    {
     "name": "stderr",
     "output_type": "stream",
     "text": [
      "\n",
      "  0%|          | 0/1 [00:00<?, ?it/s]\u001b[A\n",
      "100%|██████████| 1/1 [00:00<00:00,  1.25it/s]\u001b[A\n"
     ]
    },
    {
     "name": "stdout",
     "output_type": "stream",
     "text": [
      "Epoch: 20, RMSE= 0.4801764488220215, Training Loss: 0.48\n",
      "EarlyStopping counter: 3 out of 15\n"
     ]
    },
    {
     "name": "stderr",
     "output_type": "stream",
     "text": [
      "\n",
      "  0%|          | 0/1 [00:00<?, ?it/s]\u001b[A"
     ]
    },
    {
     "name": "stdout",
     "output_type": "stream",
     "text": [
      "Features of basis of <class 'numpy.ndarray'> type are loaded from cache in 0.00089 sec\n"
     ]
    },
    {
     "name": "stderr",
     "output_type": "stream",
     "text": [
      "\n",
      "100%|██████████| 1/1 [00:01<00:00,  1.46s/it]\u001b[A\n"
     ]
    },
    {
     "name": "stdout",
     "output_type": "stream",
     "text": [
      "Epoch: 21, RMSE= 0.5309324264526367, Training Loss: 0.53\n",
      "EarlyStopping counter: 4 out of 15\n"
     ]
    },
    {
     "name": "stderr",
     "output_type": "stream",
     "text": [
      "\n",
      "  0%|          | 0/1 [00:00<?, ?it/s]\u001b[A\n",
      "100%|██████████| 1/1 [00:01<00:00,  1.17s/it]\u001b[A\n"
     ]
    },
    {
     "name": "stdout",
     "output_type": "stream",
     "text": [
      "Epoch: 22, RMSE= 0.5581564903259277, Training Loss: 0.56\n",
      "EarlyStopping counter: 5 out of 15\n"
     ]
    },
    {
     "name": "stderr",
     "output_type": "stream",
     "text": [
      "\n",
      "  0%|          | 0/1 [00:00<?, ?it/s]\u001b[A\n",
      "100%|██████████| 1/1 [00:03<00:00,  3.10s/it]\u001b[A\n"
     ]
    },
    {
     "name": "stdout",
     "output_type": "stream",
     "text": [
      "Epoch: 23, RMSE= 0.5705456733703613, Training Loss: 0.57\n",
      "EarlyStopping counter: 6 out of 15\n"
     ]
    },
    {
     "name": "stderr",
     "output_type": "stream",
     "text": [
      "\n",
      "  0%|          | 0/1 [00:00<?, ?it/s]\u001b[A\n",
      "100%|██████████| 1/1 [00:02<00:00,  2.04s/it]\u001b[A\n"
     ]
    },
    {
     "name": "stdout",
     "output_type": "stream",
     "text": [
      "Epoch: 24, RMSE= 0.5746355056762695, Training Loss: 0.57\n",
      "EarlyStopping counter: 7 out of 15\n"
     ]
    },
    {
     "name": "stderr",
     "output_type": "stream",
     "text": [
      "\n",
      "  0%|          | 0/1 [00:00<?, ?it/s]\u001b[A\n",
      "100%|██████████| 1/1 [00:01<00:00,  1.62s/it]\u001b[A\n"
     ]
    },
    {
     "name": "stdout",
     "output_type": "stream",
     "text": [
      "Epoch: 25, RMSE= 0.5752577781677246, Training Loss: 0.58\n",
      "EarlyStopping counter: 8 out of 15\n",
      "Features of basis of <class 'numpy.ndarray'> type are loaded from cache in 0.0076 sec\n",
      "Features of basis of <class 'numpy.ndarray'> type are loaded from cache in 0.00121 sec\n",
      "Features of basis of <class 'numpy.ndarray'> type are loaded from cache in 0.00311 sec\n",
      "2025-01-23 02:27:24,407 - IndustrialDispatcher - 23 individuals out of 29 in previous population were evaluated successfully.\n",
      "Features of basis of <class 'numpy.ndarray'> type are loaded from cache in 0.00097 sec\n",
      "Features of basis of <class 'numpy.ndarray'> type are loaded from cache in 0.01047 sec\n",
      "Features of basis of <class 'numpy.ndarray'> type are loaded from cache in 0.00174 sec\n",
      "2025-01-23 02:27:55,457 - IndustrialDispatcher - 8 individuals out of 12 in previous population were evaluated successfully.\n",
      "2025-01-23 02:27:55,463 - IndustrialEvoOptimizer - Successful reproduction\n"
     ]
    },
    {
     "name": "stderr",
     "output_type": "stream",
     "text": [
      "Generations:   0%|          | 4/10000 [09:39<440:36:58, 158.69s/gen]"
     ]
    },
    {
     "name": "stdout",
     "output_type": "stream",
     "text": [
      "2025-01-23 02:27:55,529 - GroupedCondition - Optimisation stopped: Time limit is reached\n"
     ]
    },
    {
     "name": "stderr",
     "output_type": "stream",
     "text": [
      "Generations:   0%|          | 4/10000 [09:39<402:33:21, 144.98s/gen]\n"
     ]
    },
    {
     "name": "stdout",
     "output_type": "stream",
     "text": [
      "2025-01-23 02:27:55,797 - ApiComposer - Model generation finished\n",
      "2025-01-23 02:27:57,899 - FEDOT logger - Final pipeline was fitted\n",
      "2025-01-23 02:27:57,901 - FEDOT logger - Final pipeline: {'depth': 3, 'length': 4, 'nodes': [treg, minirocket_extractor, fourier_basis, channel_filtration]}\n",
      "treg - {'max_features': 0.4686959973546923, 'min_samples_split': 15, 'min_samples_leaf': 13, 'bootstrap': True}\n",
      "minirocket_extractor - {'num_features': 15000}\n",
      "fourier_basis - {'threshold': 0.75, 'low_rank': 7, 'approximation': 'smooth', 'output_format': 'spectrum'}\n",
      "channel_filtration - {'distance': 'chebyshev', 'centroid_metric': 'manhattan', 'sample_metric': 'euclidean', 'selection_strategy': 'pairwise'}\n"
     ]
    }
   ],
   "source": [
    "result_dict = api_client.eval(dataset=DATASET_NAME, finetune=False)"
   ]
  },
  {
   "cell_type": "code",
   "execution_count": 4,
   "metadata": {
    "collapsed": false,
    "jupyter": {
     "outputs_hidden": false
    },
    "pycharm": {
     "name": "#%%\n"
    }
   },
   "outputs": [
    {
     "data": {
      "text/html": [
       "<div>\n",
       "<style scoped>\n",
       "    .dataframe tbody tr th:only-of-type {\n",
       "        vertical-align: middle;\n",
       "    }\n",
       "\n",
       "    .dataframe tbody tr th {\n",
       "        vertical-align: top;\n",
       "    }\n",
       "\n",
       "    .dataframe thead th {\n",
       "        text-align: right;\n",
       "    }\n",
       "</style>\n",
       "<table border=\"1\" class=\"dataframe\">\n",
       "  <thead>\n",
       "    <tr style=\"text-align: right;\">\n",
       "      <th></th>\n",
       "      <th>r2</th>\n",
       "      <th>rmse</th>\n",
       "      <th>mae</th>\n",
       "    </tr>\n",
       "  </thead>\n",
       "  <tbody>\n",
       "    <tr>\n",
       "      <th>0</th>\n",
       "      <td>0.013</td>\n",
       "      <td>1.787</td>\n",
       "      <td>1.451</td>\n",
       "    </tr>\n",
       "  </tbody>\n",
       "</table>\n",
       "</div>"
      ],
      "text/plain": [
       "      r2   rmse    mae\n",
       "0  0.013  1.787  1.451"
      ]
     },
     "execution_count": 4,
     "metadata": {},
     "output_type": "execute_result"
    }
   ],
   "source": [
    "result_dict['metrics']"
   ]
  },
  {
   "cell_type": "code",
   "execution_count": 5,
   "metadata": {
    "collapsed": false,
    "jupyter": {
     "outputs_hidden": false
    },
    "pycharm": {
     "name": "#%%\n"
    }
   },
   "outputs": [],
   "source": [
    "opt_hist = result_dict['industrial_model'].save(return_history=True)"
   ]
  },
  {
   "cell_type": "code",
   "execution_count": 6,
   "metadata": {
    "collapsed": false,
    "jupyter": {
     "outputs_hidden": false
    },
    "pycharm": {
     "name": "#%%\n"
    }
   },
   "outputs": [
    {
     "data": {
      "image/png": "[encoded data removed]",
      "text/plain": [
       "<Figure size 700x700 with 1 Axes>"
      ]
     },
     "metadata": {},
     "output_type": "display_data"
    }
   ],
   "source": [
    "result_dict['industrial_model'].manager.solver.current_pipeline.show()"
   ]
  },
  {
   "cell_type": "code",
   "execution_count": 11,
   "metadata": {
    "collapsed": false,
    "jupyter": {
     "outputs_hidden": false
    },
    "pycharm": {
     "name": "#%%\n"
    }
   },
   "outputs": [
    {
     "name": "stdout",
     "output_type": "stream",
     "text": [
      "FitnessBox - Visualizing optimization history... It may take some time, depending on the history size.\n",
      "2024-07-09 15:58:20,154 - Using categorical units to plot a list of strings that are all parsable as floats or dates. If these strings should be plotted as numbers, cast to the appropriate data type before plotting.\n",
      "2024-07-09 15:58:20,160 - Using categorical units to plot a list of strings that are all parsable as floats or dates. If these strings should be plotted as numbers, cast to the appropriate data type before plotting.\n",
      "default - The figure was saved to \"D:\\WORK\\Repo\\Industiral\\IndustrialTS\\examples\\real_world_examples\\industrial_examples\\economic_analysis\\ts_regression\\fitness_by_generation.png\".\n"
     ]
    }
   ],
   "source": [
    "# opt_hist = result_dict['industrial_model'].vis_optimisation_history(\n",
    "#         opt_history_path=opt_hist, mode='fitness', return_history=True)\n",
    "# opt_hist = result_dict['industrial_model'].vis_optimisation_history(\n",
    "#         opt_history_path=opt_hist,mode='models', return_history=True)"
   ]
  },
  {
   "cell_type": "code",
   "execution_count": 9,
   "metadata": {
    "collapsed": false,
    "jupyter": {
     "outputs_hidden": false
    },
    "pycharm": {
     "name": "#%%\n"
    }
   },
   "outputs": [],
   "source": [
    "import numpy as np\n",
    "import pandas as pd\n",
    "from matplotlib import pyplot as plt\n",
    "predictions = np.vstack([api_client.test_data[1].flatten(), result_dict['labels'].flatten()]).T"
   ]
  },
  {
   "cell_type": "code",
   "execution_count": 10,
   "metadata": {
    "collapsed": false,
    "jupyter": {
     "outputs_hidden": false
    },
    "pycharm": {
     "name": "#%%\n"
    }
   },
   "outputs": [],
   "source": [
    "all_prediction = pd.DataFrame(predictions, columns=['target','automl'])"
   ]
  },
  {
   "cell_type": "code",
   "execution_count": 11,
   "metadata": {
    "collapsed": false,
    "jupyter": {
     "outputs_hidden": false
    },
    "pycharm": {
     "name": "#%%\n"
    }
   },
   "outputs": [
    {
     "data": {
      "image/png": "[encoded data removed]",
      "text/plain": [
       "<Figure size 640x480 with 1 Axes>"
      ]
     },
     "metadata": {},
     "output_type": "display_data"
    }
   ],
   "source": [
    "all_prediction.plot()\n",
    "plt.show()"
   ]
  },
  {
   "cell_type": "markdown",
   "metadata": {
    "collapsed": false,
    "jupyter": {
     "outputs_hidden": false
    },
    "pycharm": {
     "name": "#%% md\n"
    }
   },
   "source": [
    "## Compare with State of Art (SOTA) models"
   ]
  },
  {
   "cell_type": "code",
   "execution_count": 12,
   "metadata": {
    "collapsed": false,
    "jupyter": {
     "outputs_hidden": false
    },
    "pycharm": {
     "name": "#%%\n"
    }
   },
   "outputs": [],
   "source": [
    "from fedot_ind.tools.serialisation.path_lib import PROJECT_PATH\n",
    "df = pd.read_csv(PROJECT_PATH + '/benchmark/ts_regression_sota_results.csv', sep=';')\n",
    "df = df[df['ds/type'] == DATASET_NAME].iloc[:, :25]\n",
    "df.index = df['algorithm']\n",
    "df = df.drop(['algorithm', 'ds/type'], axis=1)\n",
    "df = df.replace(',', '.', regex=True).astype(float)"
   ]
  },
  {
   "cell_type": "code",
   "execution_count": 13,
   "metadata": {
    "collapsed": false,
    "jupyter": {
     "outputs_hidden": false
    },
    "pycharm": {
     "name": "#%%\n"
    }
   },
   "outputs": [],
   "source": [
    "df['Fedot_Industrial_tuned'] = result_dict['metrics']['rmse'][0]\n",
    "df = df.T"
   ]
  },
  {
   "cell_type": "code",
   "execution_count": 14,
   "metadata": {
    "collapsed": false,
    "jupyter": {
     "outputs_hidden": false
    },
    "pycharm": {
     "name": "#%%\n"
    }
   },
   "outputs": [
    {
     "data": {
      "text/plain": [
       "FreshPRINCE_RMSE          1.020426\n",
       "DrCIF_RMSE                1.046399\n",
       "RotF_RMSE                 1.097089\n",
       "TSF_RMSE                  1.172730\n",
       "RandF_RMSE                1.182821\n",
       "XGBoost_RMSE              1.272832\n",
       "RIST_RMSE                 1.301506\n",
       "RDST_RMSE                 1.382981\n",
       "MultiROCKET_RMSE          1.454406\n",
       "SingleInception_RMSE      1.490343\n",
       "InceptionT_RMSE           1.542210\n",
       "5NN-DTW_RMSE              1.593567\n",
       "CNN_RMSE                  1.602674\n",
       "FPCR-Bs_RMSE              1.607024\n",
       "ResNet_RMSE               1.610736\n",
       "FCN_RMSE                  1.636335\n",
       "FPCR_RMSE                 1.637966\n",
       "Grid-SVR_RMSE             1.699988\n",
       "Ridge_RMSE                1.713667\n",
       "Fedot_Industrial_tuned    1.787000\n",
       "ROCKET_RMSE               1.856612\n",
       "5NN-ED_RMSE               1.905470\n",
       "1NN-ED_RMSE               2.129638\n",
       "1NN-DTW_RMSE              2.211915\n",
       "Name: min, dtype: float64"
      ]
     },
     "execution_count": 14,
     "metadata": {},
     "output_type": "execute_result"
    }
   ],
   "source": [
    "df.sort_values('min')['min']"
   ]
  },
  {
   "cell_type": "code",
   "execution_count": 15,
   "metadata": {
    "collapsed": false,
    "jupyter": {
     "outputs_hidden": false
    },
    "pycharm": {
     "name": "#%%\n"
    }
   },
   "outputs": [
    {
     "data": {
      "text/plain": [
       "Fedot_Industrial_tuned    1.787000\n",
       "RIST_RMSE                 1.887153\n",
       "RotF_RMSE                 2.088333\n",
       "FreshPRINCE_RMSE          2.101253\n",
       "MultiROCKET_RMSE          2.137563\n",
       "TSF_RMSE                  2.181236\n",
       "RDST_RMSE                 2.200364\n",
       "DrCIF_RMSE                2.201153\n",
       "ResNet_RMSE               2.404590\n",
       "RandF_RMSE                2.446314\n",
       "5NN-DTW_RMSE              2.502464\n",
       "XGBoost_RMSE              2.511297\n",
       "FPCR-Bs_RMSE              2.512605\n",
       "FPCR_RMSE                 2.523426\n",
       "5NN-ED_RMSE               2.554152\n",
       "FCN_RMSE                  2.559661\n",
       "InceptionT_RMSE           2.574168\n",
       "SingleInception_RMSE      2.633115\n",
       "CNN_RMSE                  2.674200\n",
       "Grid-SVR_RMSE             2.800419\n",
       "ROCKET_RMSE               2.870444\n",
       "Ridge_RMSE                2.904762\n",
       "1NN-ED_RMSE               3.281798\n",
       "1NN-DTW_RMSE              3.408802\n",
       "Name: max, dtype: float64"
      ]
     },
     "execution_count": 15,
     "metadata": {},
     "output_type": "execute_result"
    }
   ],
   "source": [
    "df.sort_values('max')['max']"
   ]
  },
  {
   "cell_type": "code",
   "execution_count": 16,
   "metadata": {
    "collapsed": false,
    "jupyter": {
     "outputs_hidden": false
    },
    "pycharm": {
     "name": "#%%\n"
    }
   },
   "outputs": [
    {
     "data": {
      "text/plain": [
       "FreshPRINCE_RMSE          1.490442\n",
       "RIST_RMSE                 1.501047\n",
       "RotF_RMSE                 1.559385\n",
       "DrCIF_RMSE                1.594442\n",
       "TSF_RMSE                  1.684828\n",
       "RandF_RMSE                1.708196\n",
       "XGBoost_RMSE              1.716903\n",
       "RDST_RMSE                 1.772813\n",
       "MultiROCKET_RMSE          1.773578\n",
       "Fedot_Industrial_tuned    1.787000\n",
       "ResNet_RMSE               1.938074\n",
       "InceptionT_RMSE           2.030315\n",
       "FPCR_RMSE                 2.052389\n",
       "5NN-DTW_RMSE              2.055256\n",
       "FCN_RMSE                  2.069046\n",
       "FPCR-Bs_RMSE              2.097964\n",
       "SingleInception_RMSE      2.149368\n",
       "CNN_RMSE                  2.150854\n",
       "Grid-SVR_RMSE             2.203537\n",
       "5NN-ED_RMSE               2.251424\n",
       "ROCKET_RMSE               2.275254\n",
       "Ridge_RMSE                2.363609\n",
       "1NN-DTW_RMSE              2.742105\n",
       "1NN-ED_RMSE               2.822595\n",
       "Name: average, dtype: float64"
      ]
     },
     "execution_count": 16,
     "metadata": {},
     "output_type": "execute_result"
    }
   ],
   "source": [
    "df.sort_values('average')['average']"
   ]
  }
 ],
 "metadata": {
  "kernelspec": {
   "display_name": "Python 3 (ipykernel)",
   "language": "python",
   "name": "python3"
  },
  "language_info": {
   "codemirror_mode": {
    "name": "ipython",
    "version": 3
   },
   "file_extension": ".py",
   "mimetype": "text/x-python",
   "name": "python",
   "nbconvert_exporter": "python",
   "pygments_lexer": "ipython3",
   "version": "3.10.5"
  }
 },
 "nbformat": 4,
 "nbformat_minor": 4
}
