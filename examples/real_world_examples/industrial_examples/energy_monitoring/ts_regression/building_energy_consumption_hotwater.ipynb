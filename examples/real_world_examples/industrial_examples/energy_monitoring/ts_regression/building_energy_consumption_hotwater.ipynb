{
 "cells": [
  {
   "cell_type": "markdown",
   "metadata": {
    "collapsed": false,
    "jupyter": {
     "outputs_hidden": false
    },
    "pycharm": {
     "name": "#%% md\n"
    }
   },
   "source": [
    "## Predict how much energy will a building consume with Fedot.Industrial"
   ]
  },
  {
   "cell_type": "markdown",
   "metadata": {
    "collapsed": false,
    "jupyter": {
     "outputs_hidden": false
    },
    "pycharm": {
     "name": "#%% md\n"
    }
   },
   "source": [
    "Dataset published on Kaggle, aims to assess the value of energy efficiency improvements. For that purpose, four types of sources are identified: electricity, chilled water, steam and hot water. The goal is to estimate the **energy consumption in kWh**. Dimensions correspond to the air temperature, dew temperature, wind direction and wind speed. These values were taken hourly during a week, and the output is the meter reading of the four aforementioned sources. In this way, was created four datasets:  **ChilledWaterPredictor**, **ElectricityPredictor**, **HotwaterPredictor**, and **SteamPredictor**.\n",
    "Link to the dataset - https://www.kaggle.com/code/fatmanuranl/ashrae-energy-prediction2"
   ]
  },
  {
   "cell_type": "code",
   "execution_count": null,
   "metadata": {},
   "outputs": [],
   "source": [
    "import sys\n",
    "import os\n",
    "\n",
    "project_path = r\"add_project_path_here\\Fedot.Industrial\"\n",
    "sys.path.append(project_path)"
   ]
  },
  {
   "cell_type": "code",
   "execution_count": 1,
   "metadata": {
    "ExecuteTime": {
     "end_time": "2023-08-28T10:34:48.354623Z",
     "start_time": "2023-08-28T10:34:39.594404Z"
    },
    "pycharm": {
     "name": "#%%\n"
    }
   },
   "outputs": [],
   "source": [
    "import pandas as pd\n",
    "from fedot.core.pipelines.pipeline_builder import PipelineBuilder\n",
    "from fedot_ind.tools.loader import DataLoader\n",
    "from fedot_ind.api.main import FedotIndustrial\n",
    "from fedot_ind.core.architecture.pipelines.abstract_pipeline import ApiTemplate"
   ]
  },
  {
   "cell_type": "code",
   "execution_count": 2,
   "metadata": {
    "collapsed": false,
    "jupyter": {
     "outputs_hidden": false
    },
    "pycharm": {
     "name": "#%%\n"
    }
   },
   "outputs": [],
   "source": [
    "from fedot_ind.core.repository.config_repository import DEFAULT_COMPUTE_CONFIG, DEFAULT_REG_AUTOML_CONFIG, DEFAULT_AUTOML_LEARNING_CONFIG\n",
    "\n",
    "initial_assumption = {0: ['quantile_extractor', 'treg']}\n",
    "\n",
    "API_CONFIG = {'industrial_config': {'problem': 'regression'},\n",
    "              'automl_config': DEFAULT_REG_AUTOML_CONFIG,\n",
    "              'learning_config': {'learning_strategy': 'from_scratch',\n",
    "                                  'learning_strategy_params': DEFAULT_AUTOML_LEARNING_CONFIG,\n",
    "                                  'optimisation_loss': {'quality_loss': 'rmse'}},\n",
    "              'compute_config': DEFAULT_COMPUTE_CONFIG}\n",
    "METRIC_NAMES = ('r2', 'rmse', 'mae')\n",
    "dataset_name = 'HotwaterPredictor'\n",
    "data_path = project_path + '/examples/data'"
   ]
  },
  {
   "cell_type": "code",
   "execution_count": 3,
   "metadata": {
    "collapsed": false,
    "jupyter": {
     "outputs_hidden": false
    },
    "pycharm": {
     "name": "#%%\n"
    }
   },
   "outputs": [],
   "source": [
    "api_client = ApiTemplate(api_config=API_CONFIG,\n",
    "                         metric_list=METRIC_NAMES)"
   ]
  },
  {
   "cell_type": "markdown",
   "metadata": {
    "collapsed": false,
    "jupyter": {
     "outputs_hidden": false
    },
    "pycharm": {
     "name": "#%% md\n"
    }
   },
   "source": [
    "Next steps are quite straightforward. We need to fit the model and then predict the values for the test data just like for any other model in sklearn.\n",
    "\n",
    "At the `fit` stage FedotIndustrial will transform initial time series data into features dataframe and will train regression model."
   ]
  },
  {
   "cell_type": "code",
   "execution_count": 4,
   "metadata": {
    "ExecuteTime": {
     "start_time": "2023-08-28T10:35:27.965798Z"
    },
    "pycharm": {
     "name": "#%%\n"
    }
   },
   "outputs": [
    {
     "name": "stdout",
     "output_type": "stream",
     "text": [
      "Creating Dask Server\n",
      "2024-07-09 16:18:08,633 - To route to workers diagnostics web server please install jupyter-server-proxy: python -m pip install jupyter-server-proxy\n",
      "2024-07-09 16:18:08,638 - State start\n",
      "2024-07-09 16:18:10,295 -   Scheduler at: inproc://10.64.4.227/3192/1\n",
      "2024-07-09 16:18:10,296 -   dashboard at:  http://10.64.4.227:51991/status\n",
      "2024-07-09 16:18:10,296 - Registering Worker plugin shuffle\n",
      "2024-07-09 16:18:11,931 -       Start worker at: inproc://10.64.4.227/3192/4\n",
      "2024-07-09 16:18:11,932 -          Listening to:          inproc10.64.4.227\n",
      "2024-07-09 16:18:11,932 -           Worker name:                          0\n",
      "2024-07-09 16:18:11,934 -          dashboard at:          10.64.4.227:51998\n",
      "2024-07-09 16:18:11,935 - Waiting to connect to: inproc://10.64.4.227/3192/1\n",
      "2024-07-09 16:18:11,936 - -------------------------------------------------\n",
      "2024-07-09 16:18:11,936 -               Threads:                          8\n",
      "2024-07-09 16:18:11,937 -                Memory:                  31.95 GiB\n",
      "2024-07-09 16:18:11,937 -       Local Directory: C:\\Users\\user\\AppData\\Local\\Temp\\dask-scratch-space\\worker-grc5rvc0\n",
      "2024-07-09 16:18:11,939 - -------------------------------------------------\n",
      "2024-07-09 16:18:11,946 - Register worker <WorkerState 'inproc://10.64.4.227/3192/4', name: 0, status: init, memory: 0, processing: 0>\n",
      "2024-07-09 16:18:11,948 - Starting worker compute stream, inproc://10.64.4.227/3192/4\n",
      "2024-07-09 16:18:11,948 - Starting established connection to inproc://10.64.4.227/3192/5\n",
      "2024-07-09 16:18:11,949 - Starting Worker plugin shuffle\n",
      "2024-07-09 16:18:11,950 -         Registered to: inproc://10.64.4.227/3192/1\n",
      "2024-07-09 16:18:11,951 - -------------------------------------------------\n",
      "2024-07-09 16:18:11,952 - Starting established connection to inproc://10.64.4.227/3192/1\n",
      "2024-07-09 16:18:11,956 - Receive client connection: Client-b11d1e80-3df5-11ef-8c78-b42e99a00ea1\n",
      "2024-07-09 16:18:11,958 - Starting established connection to inproc://10.64.4.227/3192/6\n",
      "AssumptionsHandler - Initial pipeline fitting started\n",
      "AssumptionsHandler - Initial pipeline was fitted successfully\n",
      "AssumptionsHandler - Memory consumption for fitting of the initial pipeline in main session: current 23.2 MiB, max: 54.5 MiB\n",
      "ApiComposer - Initial pipeline was fitted in 26.2 sec.\n",
      "AssumptionsHandler - Preset was changed to best_quality due to fit time estimation for initial model.\n",
      "ApiComposer - AutoML configured. Parameters tuning: False. Time limit: 15 min. Set of candidate models: ['xgbreg', 'sgdr', 'treg', 'ridge', 'lasso', 'dtreg', 'lgbmreg', 'catboostreg', 'inception_model', 'resnet_model', 'channel_filtration', 'eigen_basis', 'wavelet_basis', 'fourier_basis', 'quantile_extractor', 'minirocket_extractor', 'scaling', 'normalization', 'simple_imputation', 'kernel_pca'].\n",
      "ApiComposer - Pipeline composition started.\n",
      "DataSourceSplitter - Stratificated splitting of data is disabled.\n",
      "DataSourceSplitter - Hold out validation is applied.\n"
     ]
    },
    {
     "name": "stderr",
     "output_type": "stream",
     "text": [
      "Generations:   0%|          | 0/10000 [00:00<?, ?gen/s]"
     ]
    },
    {
     "name": "stdout",
     "output_type": "stream",
     "text": [
      "IndustrialDispatcher - Number of used CPU's: 8\n"
     ]
    },
    {
     "name": "stderr",
     "output_type": "stream",
     "text": [
      "Exception ignored in: <function _WeakKeyDictionary.__setitem__.<locals>.on_destroy at 0x000001E5EBF62DC0>\n",
      "Traceback (most recent call last):\n",
      "  File \"C:\\Users\\user\\AppData\\Local\\pypoetry\\Cache\\virtualenvs\\fedot-ind-bTwQVkVM-py3.9\\lib\\site-packages\\joblib\\_dask.py\", line 87, in on_destroy\n",
      "    del self._data[key]\n",
      "KeyError: 2086944028592\n",
      "Exception ignored in: <function _WeakKeyDictionary.__setitem__.<locals>.on_destroy at 0x000001E5EAEFA1F0>\n",
      "Traceback (most recent call last):\n",
      "  File \"C:\\Users\\user\\AppData\\Local\\pypoetry\\Cache\\virtualenvs\\fedot-ind-bTwQVkVM-py3.9\\lib\\site-packages\\joblib\\_dask.py\", line 87, in on_destroy\n",
      "    del self._data[key]\n",
      "KeyError: 2087025023088\n",
      "Exception ignored in: <function _WeakKeyDictionary.__setitem__.<locals>.on_destroy at 0x000001E5ED3F6670>\n",
      "Traceback (most recent call last):\n",
      "  File \"C:\\Users\\user\\AppData\\Local\\pypoetry\\Cache\\virtualenvs\\fedot-ind-bTwQVkVM-py3.9\\lib\\site-packages\\joblib\\_dask.py\", line 87, in on_destroy\n",
      "    del self._data[key]\n",
      "KeyError: 2087021946320\n",
      "Exception ignored in: <function _WeakKeyDictionary.__setitem__.<locals>.on_destroy at 0x000001E5F2ABBAF0>\n",
      "Traceback (most recent call last):\n",
      "  File \"C:\\Users\\user\\AppData\\Local\\pypoetry\\Cache\\virtualenvs\\fedot-ind-bTwQVkVM-py3.9\\lib\\site-packages\\joblib\\_dask.py\", line 87, in on_destroy\n",
      "    del self._data[key]\n",
      "KeyError: 2087130798384\n",
      "Exception ignored in: <function _WeakKeyDictionary.__setitem__.<locals>.on_destroy at 0x000001E5FFA24E50>\n",
      "Traceback (most recent call last):\n",
      "  File \"C:\\Users\\user\\AppData\\Local\\pypoetry\\Cache\\virtualenvs\\fedot-ind-bTwQVkVM-py3.9\\lib\\site-packages\\joblib\\_dask.py\", line 87, in on_destroy\n",
      "    del self._data[key]\n",
      "KeyError: 2087347056784\n",
      "Exception ignored in: <function _WeakKeyDictionary.__setitem__.<locals>.on_destroy at 0x000001E60192F5E0>\n",
      "Traceback (most recent call last):\n",
      "  File \"C:\\Users\\user\\AppData\\Local\\pypoetry\\Cache\\virtualenvs\\fedot-ind-bTwQVkVM-py3.9\\lib\\site-packages\\joblib\\_dask.py\", line 87, in on_destroy\n",
      "    del self._data[key]\n",
      "KeyError: 2087381175344\n",
      "Exception ignored in: <function _WeakKeyDictionary.__setitem__.<locals>.on_destroy at 0x000001E601BA7F70>\n",
      "Traceback (most recent call last):\n",
      "  File \"C:\\Users\\user\\AppData\\Local\\pypoetry\\Cache\\virtualenvs\\fedot-ind-bTwQVkVM-py3.9\\lib\\site-packages\\joblib\\_dask.py\", line 87, in on_destroy\n",
      "    del self._data[key]\n",
      "KeyError: 2087384151504\n",
      "Exception ignored in: <function _WeakKeyDictionary.__setitem__.<locals>.on_destroy at 0x000001E5F11464C0>\n",
      "Traceback (most recent call last):\n",
      "  File \"C:\\Users\\user\\AppData\\Local\\pypoetry\\Cache\\virtualenvs\\fedot-ind-bTwQVkVM-py3.9\\lib\\site-packages\\joblib\\_dask.py\", line 87, in on_destroy\n",
      "    del self._data[key]\n",
      "KeyError: 2087024044240\n",
      "Exception ignored in: <function _WeakKeyDictionary.__setitem__.<locals>.on_destroy at 0x000001E5F55578B0>\n",
      "Traceback (most recent call last):\n",
      "  File \"C:\\Users\\user\\AppData\\Local\\pypoetry\\Cache\\virtualenvs\\fedot-ind-bTwQVkVM-py3.9\\lib\\site-packages\\joblib\\_dask.py\", line 87, in on_destroy\n",
      "    del self._data[key]\n",
      "KeyError: 2087025936688\n",
      "Exception ignored in: <function _WeakKeyDictionary.__setitem__.<locals>.on_destroy at 0x000001E5F399FD30>\n",
      "Traceback (most recent call last):\n",
      "  File \"C:\\Users\\user\\AppData\\Local\\pypoetry\\Cache\\virtualenvs\\fedot-ind-bTwQVkVM-py3.9\\lib\\site-packages\\joblib\\_dask.py\", line 87, in on_destroy\n",
      "    del self._data[key]\n",
      "KeyError: 2087147410992\n",
      "Exception ignored in: <function _WeakKeyDictionary.__setitem__.<locals>.on_destroy at 0x000001E604CBB820>\n",
      "Traceback (most recent call last):\n",
      "  File \"C:\\Users\\user\\AppData\\Local\\pypoetry\\Cache\\virtualenvs\\fedot-ind-bTwQVkVM-py3.9\\lib\\site-packages\\joblib\\_dask.py\", line 87, in on_destroy\n",
      "    del self._data[key]\n",
      "KeyError: 2087435930864\n",
      "Exception ignored in: <function _WeakKeyDictionary.__setitem__.<locals>.on_destroy at 0x000001E5FFA24E50>\n",
      "Traceback (most recent call last):\n",
      "  File \"C:\\Users\\user\\AppData\\Local\\pypoetry\\Cache\\virtualenvs\\fedot-ind-bTwQVkVM-py3.9\\lib\\site-packages\\joblib\\_dask.py\", line 87, in on_destroy\n",
      "    del self._data[key]\n",
      "KeyError: 2087385599888\n",
      "Exception ignored in: <function _WeakKeyDictionary.__setitem__.<locals>.on_destroy at 0x000001E608E1A8B0>\n",
      "Traceback (most recent call last):\n",
      "  File \"C:\\Users\\user\\AppData\\Local\\pypoetry\\Cache\\virtualenvs\\fedot-ind-bTwQVkVM-py3.9\\lib\\site-packages\\joblib\\_dask.py\", line 87, in on_destroy\n",
      "    del self._data[key]\n",
      "KeyError: 2087502097552\n",
      "Exception ignored in: <function _WeakKeyDictionary.__setitem__.<locals>.on_destroy at 0x000001E60E196D30>\n",
      "Traceback (most recent call last):\n",
      "  File \"C:\\Users\\user\\AppData\\Local\\pypoetry\\Cache\\virtualenvs\\fedot-ind-bTwQVkVM-py3.9\\lib\\site-packages\\joblib\\_dask.py\", line 87, in on_destroy\n",
      "    del self._data[key]\n",
      "KeyError: 2087594316976\n",
      "Exception ignored in: <function _WeakKeyDictionary.__setitem__.<locals>.on_destroy at 0x000001E6100FC310>\n",
      "Traceback (most recent call last):\n",
      "  File \"C:\\Users\\user\\AppData\\Local\\pypoetry\\Cache\\virtualenvs\\fedot-ind-bTwQVkVM-py3.9\\lib\\site-packages\\joblib\\_dask.py\", line 87, in on_destroy\n",
      "    del self._data[key]\n",
      "KeyError: 2087026361232\n",
      "Exception ignored in: <function _WeakKeyDictionary.__setitem__.<locals>.on_destroy at 0x000001E610A02AF0>\n",
      "Traceback (most recent call last):\n",
      "  File \"C:\\Users\\user\\AppData\\Local\\pypoetry\\Cache\\virtualenvs\\fedot-ind-bTwQVkVM-py3.9\\lib\\site-packages\\joblib\\_dask.py\", line 87, in on_destroy\n",
      "    del self._data[key]\n",
      "KeyError: 2087637196208\n",
      "Exception ignored in: <function _WeakKeyDictionary.__setitem__.<locals>.on_destroy at 0x000001E610DFF820>\n",
      "Traceback (most recent call last):\n",
      "  File \"C:\\Users\\user\\AppData\\Local\\pypoetry\\Cache\\virtualenvs\\fedot-ind-bTwQVkVM-py3.9\\lib\\site-packages\\joblib\\_dask.py\", line 87, in on_destroy\n",
      "    del self._data[key]\n",
      "KeyError: 2087639717616\n",
      "Exception ignored in: <function _WeakKeyDictionary.__setitem__.<locals>.on_destroy at 0x000001E60E43BD30>\n",
      "Traceback (most recent call last):\n",
      "  File \"C:\\Users\\user\\AppData\\Local\\pypoetry\\Cache\\virtualenvs\\fedot-ind-bTwQVkVM-py3.9\\lib\\site-packages\\joblib\\_dask.py\", line 87, in on_destroy\n",
      "    del self._data[key]\n",
      "KeyError: 2087095154320\n",
      "Exception ignored in: <function _WeakKeyDictionary.__setitem__.<locals>.on_destroy at 0x000001E5F25683A0>\n",
      "Traceback (most recent call last):\n",
      "  File \"C:\\Users\\user\\AppData\\Local\\pypoetry\\Cache\\virtualenvs\\fedot-ind-bTwQVkVM-py3.9\\lib\\site-packages\\joblib\\_dask.py\", line 87, in on_destroy\n",
      "    del self._data[key]\n",
      "KeyError: 2087106017776\n",
      "Exception ignored in: <function _WeakKeyDictionary.__setitem__.<locals>.on_destroy at 0x000001E5F09ED5E0>\n",
      "Traceback (most recent call last):\n",
      "  File \"C:\\Users\\user\\AppData\\Local\\pypoetry\\Cache\\virtualenvs\\fedot-ind-bTwQVkVM-py3.9\\lib\\site-packages\\joblib\\_dask.py\", line 87, in on_destroy\n",
      "    del self._data[key]\n",
      "KeyError: 2087149069488\n"
     ]
    },
    {
     "name": "stdout",
     "output_type": "stream",
     "text": [
      "IndustrialDispatcher - 4 individuals out of 21 in previous population were evaluated successfully. 0.19047619047619047% is a fairly small percentage of successful evaluation.\n",
      "IndustrialEvoOptimizer - Generation num: 1 size: 4\n",
      "IndustrialEvoOptimizer - Best individuals: HallOfFame archive fitness (1): ['<rmse=1260.726 node_number=0.200>']\n",
      "GroupedCondition - Optimisation stopped: Time limit is reached\n"
     ]
    },
    {
     "name": "stderr",
     "output_type": "stream",
     "text": [
      "Generations:   0%|          | 0/10000 [20:15<?, ?gen/s]"
     ]
    },
    {
     "name": "stdout",
     "output_type": "stream",
     "text": [
      "OptimisationTimer - Composition time: 20.258 min\n",
      "OptimisationTimer - Algorithm was terminated due to processing time limit\n",
      "IndustrialEvoOptimizer - Generation num: 2 size: 1\n",
      "IndustrialEvoOptimizer - Best individuals: HallOfFame archive fitness (1): ['<rmse=1260.726 node_number=0.200>']\n",
      "IndustrialEvoOptimizer - no improvements for 1 iterations\n",
      "IndustrialEvoOptimizer - spent time: 20.3 min\n",
      "GPComposer - GP composition finished\n"
     ]
    },
    {
     "name": "stderr",
     "output_type": "stream",
     "text": [
      "\n"
     ]
    },
    {
     "name": "stdout",
     "output_type": "stream",
     "text": [
      "ApiComposer - Model generation finished\n",
      "FEDOT logger - Final pipeline was fitted\n",
      "FEDOT logger - Final pipeline: {'depth': 2, 'length': 2, 'nodes': [treg, quantile_extractor]}\n",
      "treg - {}\n",
      "quantile_extractor - {'window_size': 40, 'stride': 2, 'add_global_features': True}\n",
      "MemoryAnalytics - Memory consumption for finish in main session: current 219.8 MiB, max: 283.8 MiB\n",
      "FEDOT logger - Predictions was saved in current directory.\n"
     ]
    }
   ],
   "source": [
    "result_dict = api_client.eval(dataset=dataset_name, finetune=False)"
   ]
  },
  {
   "cell_type": "code",
   "execution_count": 5,
   "metadata": {
    "collapsed": false,
    "jupyter": {
     "outputs_hidden": false
    },
    "pycharm": {
     "name": "#%%\n"
    }
   },
   "outputs": [
    {
     "data": {
      "text/html": [
       "<div>\n",
       "<style scoped>\n",
       "    .dataframe tbody tr th:only-of-type {\n",
       "        vertical-align: middle;\n",
       "    }\n",
       "\n",
       "    .dataframe tbody tr th {\n",
       "        vertical-align: top;\n",
       "    }\n",
       "\n",
       "    .dataframe thead th {\n",
       "        text-align: right;\n",
       "    }\n",
       "</style>\n",
       "<table border=\"1\" class=\"dataframe\">\n",
       "  <thead>\n",
       "    <tr style=\"text-align: right;\">\n",
       "      <th></th>\n",
       "      <th>r2</th>\n",
       "      <th>rmse</th>\n",
       "      <th>mae</th>\n",
       "    </tr>\n",
       "  </thead>\n",
       "  <tbody>\n",
       "    <tr>\n",
       "      <th>0</th>\n",
       "      <td>0.297</td>\n",
       "      <td>1106.248</td>\n",
       "      <td>679.281</td>\n",
       "    </tr>\n",
       "  </tbody>\n",
       "</table>\n",
       "</div>"
      ],
      "text/plain": [
       "      r2      rmse      mae\n",
       "0  0.297  1106.248  679.281"
      ]
     },
     "execution_count": 5,
     "metadata": {},
     "output_type": "execute_result"
    }
   ],
   "source": [
    "result_dict['metrics']"
   ]
  },
  {
   "cell_type": "code",
   "execution_count": 6,
   "metadata": {
    "collapsed": false,
    "jupyter": {
     "outputs_hidden": false
    },
    "pycharm": {
     "name": "#%%\n"
    }
   },
   "outputs": [],
   "source": [
    "opt_hist = result_dict['industrial_model'].save_optimization_history(return_history=True)"
   ]
  },
  {
   "cell_type": "code",
   "execution_count": 7,
   "metadata": {
    "collapsed": false,
    "jupyter": {
     "outputs_hidden": false
    },
    "pycharm": {
     "name": "#%%\n"
    }
   },
   "outputs": [
    {
     "data": {
      "image/png": "[encoded data removed]",
      "text/plain": [
       "<Figure size 700x700 with 1 Axes>"
      ]
     },
     "metadata": {},
     "output_type": "display_data"
    }
   ],
   "source": [
    "result_dict['industrial_model'].solver.current_pipeline.show()"
   ]
  },
  {
   "cell_type": "code",
   "execution_count": 8,
   "metadata": {
    "collapsed": false,
    "jupyter": {
     "outputs_hidden": false
    },
    "pycharm": {
     "name": "#%%\n"
    }
   },
   "outputs": [
    {
     "name": "stdout",
     "output_type": "stream",
     "text": [
      "FitnessBox - Visualizing optimization history... It may take some time, depending on the history size.\n",
      "2024-07-09 16:42:09,464 - Using categorical units to plot a list of strings that are all parsable as floats or dates. If these strings should be plotted as numbers, cast to the appropriate data type before plotting.\n",
      "2024-07-09 16:42:09,470 - Using categorical units to plot a list of strings that are all parsable as floats or dates. If these strings should be plotted as numbers, cast to the appropriate data type before plotting.\n",
      "default - The figure was saved to \"D:\\WORK\\Repo\\Industiral\\IndustrialTS\\examples\\real_world_examples\\industrial_examples\\energy_monitoring\\ts_regression\\fitness_by_generation.png\".\n"
     ]
    }
   ],
   "source": [
    "opt_hist = result_dict['industrial_model'].vis_optimisation_history(\n",
    "        opt_history_path=opt_hist,mode='fitness', return_history=True)"
   ]
  },
  {
   "cell_type": "code",
   "execution_count": 9,
   "metadata": {
    "collapsed": false,
    "jupyter": {
     "outputs_hidden": false
    },
    "pycharm": {
     "name": "#%%\n"
    }
   },
   "outputs": [
    {
     "name": "stdout",
     "output_type": "stream",
     "text": [
      "OperationsAnimatedBar - Visualizing optimization history... It may take some time, depending on the history size.\n",
      "2024-07-09 16:42:10,406 - MovieWriter ffmpeg unavailable; using Pillow instead.\n",
      "2024-07-09 16:42:10,407 - Animation.save using <class 'matplotlib.animation.PillowWriter'>\n",
      "OperationsAnimatedBar - The animation was saved to \"D:\\WORK\\Repo\\Industiral\\IndustrialTS\\examples\\real_world_examples\\industrial_examples\\energy_monitoring\\ts_regression\\operations_animated_bar.gif\".\n"
     ]
    }
   ],
   "source": [
    "opt_hist = result_dict['industrial_model'].vis_optimisation_history(\n",
    "        opt_history_path=opt_hist,mode='models', return_history=True)"
   ]
  },
  {
   "cell_type": "code",
   "execution_count": 10,
   "metadata": {
    "collapsed": false,
    "jupyter": {
     "outputs_hidden": false
    },
    "pycharm": {
     "name": "#%%\n"
    }
   },
   "outputs": [],
   "source": [
    "import numpy as np\n",
    "from matplotlib import pyplot as plt\n",
    "predictions = np.vstack([api_client.test_data[1].flatten(),result_dict['labels'].flatten()]).T"
   ]
  },
  {
   "cell_type": "code",
   "execution_count": 12,
   "metadata": {
    "collapsed": false,
    "jupyter": {
     "outputs_hidden": false
    },
    "pycharm": {
     "name": "#%%\n"
    }
   },
   "outputs": [
    {
     "data": {
      "image/png": "[encoded data removed]",
      "text/plain": [
       "<Figure size 640x480 with 1 Axes>"
      ]
     },
     "metadata": {},
     "output_type": "display_data"
    }
   ],
   "source": [
    "all_prediction = pd.DataFrame(predictions,columns=['target','automl'])\n",
    "all_prediction.plot()\n",
    "plt.show()"
   ]
  },
  {
   "cell_type": "code",
   "execution_count": 13,
   "metadata": {
    "collapsed": false,
    "jupyter": {
     "outputs_hidden": false
    },
    "pycharm": {
     "name": "#%%\n"
    }
   },
   "outputs": [
    {
     "data": {
      "text/html": [
       "<div>\n",
       "<style scoped>\n",
       "    .dataframe tbody tr th:only-of-type {\n",
       "        vertical-align: middle;\n",
       "    }\n",
       "\n",
       "    .dataframe tbody tr th {\n",
       "        vertical-align: top;\n",
       "    }\n",
       "\n",
       "    .dataframe thead th {\n",
       "        text-align: right;\n",
       "    }\n",
       "</style>\n",
       "<table border=\"1\" class=\"dataframe\">\n",
       "  <thead>\n",
       "    <tr style=\"text-align: right;\">\n",
       "      <th></th>\n",
       "      <th>days</th>\n",
       "      <th>hours</th>\n",
       "      <th>minutes</th>\n",
       "      <th>seconds</th>\n",
       "      <th>milliseconds</th>\n",
       "    </tr>\n",
       "  </thead>\n",
       "  <tbody>\n",
       "    <tr>\n",
       "      <th>Data Definition (fit)</th>\n",
       "      <td>0</td>\n",
       "      <td>0</td>\n",
       "      <td>0</td>\n",
       "      <td>0</td>\n",
       "      <td>0</td>\n",
       "    </tr>\n",
       "    <tr>\n",
       "      <th>Data Preprocessing</th>\n",
       "      <td>0</td>\n",
       "      <td>0</td>\n",
       "      <td>0</td>\n",
       "      <td>0</td>\n",
       "      <td>0</td>\n",
       "    </tr>\n",
       "    <tr>\n",
       "      <th>Fitting (summary)</th>\n",
       "      <td>0</td>\n",
       "      <td>0</td>\n",
       "      <td>20</td>\n",
       "      <td>58</td>\n",
       "      <td>34</td>\n",
       "    </tr>\n",
       "    <tr>\n",
       "      <th>Composing</th>\n",
       "      <td>0</td>\n",
       "      <td>0</td>\n",
       "      <td>20</td>\n",
       "      <td>41</td>\n",
       "      <td>796</td>\n",
       "    </tr>\n",
       "    <tr>\n",
       "      <th>Train Inference</th>\n",
       "      <td>0</td>\n",
       "      <td>0</td>\n",
       "      <td>0</td>\n",
       "      <td>15</td>\n",
       "      <td>937</td>\n",
       "    </tr>\n",
       "    <tr>\n",
       "      <th>Tuning (composing)</th>\n",
       "      <td>0</td>\n",
       "      <td>0</td>\n",
       "      <td>0</td>\n",
       "      <td>0</td>\n",
       "      <td>0</td>\n",
       "    </tr>\n",
       "    <tr>\n",
       "      <th>Tuning (after)</th>\n",
       "      <td>0</td>\n",
       "      <td>0</td>\n",
       "      <td>0</td>\n",
       "      <td>0</td>\n",
       "      <td>0</td>\n",
       "    </tr>\n",
       "    <tr>\n",
       "      <th>Data Definition (predict)</th>\n",
       "      <td>0</td>\n",
       "      <td>0</td>\n",
       "      <td>0</td>\n",
       "      <td>0</td>\n",
       "      <td>0</td>\n",
       "    </tr>\n",
       "    <tr>\n",
       "      <th>Predicting</th>\n",
       "      <td>0</td>\n",
       "      <td>0</td>\n",
       "      <td>0</td>\n",
       "      <td>2</td>\n",
       "      <td>775</td>\n",
       "    </tr>\n",
       "  </tbody>\n",
       "</table>\n",
       "</div>"
      ],
      "text/plain": [
       "                           days  hours  minutes  seconds  milliseconds\n",
       "Data Definition (fit)         0      0        0        0             0\n",
       "Data Preprocessing            0      0        0        0             0\n",
       "Fitting (summary)             0      0       20       58            34\n",
       "Composing                     0      0       20       41           796\n",
       "Train Inference               0      0        0       15           937\n",
       "Tuning (composing)            0      0        0        0             0\n",
       "Tuning (after)                0      0        0        0             0\n",
       "Data Definition (predict)     0      0        0        0             0\n",
       "Predicting                    0      0        0        2           775"
      ]
     },
     "execution_count": 13,
     "metadata": {},
     "output_type": "execute_result"
    }
   ],
   "source": [
    "result_dict['industrial_model'].solver.return_report()"
   ]
  },
  {
   "cell_type": "markdown",
   "metadata": {
    "collapsed": false,
    "jupyter": {
     "outputs_hidden": false
    },
    "pycharm": {
     "name": "#%% md\n"
    }
   },
   "source": [
    "## Compare with State of Art (SOTA) models"
   ]
  },
  {
   "cell_type": "code",
   "execution_count": 14,
   "metadata": {
    "collapsed": false,
    "jupyter": {
     "outputs_hidden": false
    },
    "pycharm": {
     "name": "#%%\n"
    }
   },
   "outputs": [],
   "source": [
    "df = pd.read_csv(data_path+'/ts_regression_sota_results.csv',sep=';')\n",
    "df = df[df['ds/type'] == dataset_name].iloc[:,:25]\n",
    "df.index = df['algorithm']\n",
    "df = df.drop(['algorithm','ds/type'], axis=1)\n",
    "df = df.replace(',','.', regex=True).astype(float)"
   ]
  },
  {
   "cell_type": "code",
   "execution_count": 15,
   "metadata": {
    "collapsed": false,
    "jupyter": {
     "outputs_hidden": false
    },
    "pycharm": {
     "name": "#%%\n"
    }
   },
   "outputs": [],
   "source": [
    "df['Fedot_Industrial_AutoML'] = result_dict['metrics']['rmse'][0]\n",
    "df = df.T"
   ]
  },
  {
   "cell_type": "code",
   "execution_count": 16,
   "metadata": {
    "collapsed": false,
    "jupyter": {
     "outputs_hidden": false
    },
    "pycharm": {
     "name": "#%%\n"
    }
   },
   "outputs": [
    {
     "data": {
      "text/plain": [
       "CNN_RMSE                    867.167248\n",
       "FCN_RMSE                    886.301979\n",
       "InceptionT_RMSE             958.396510\n",
       "SingleInception_RMSE        961.233445\n",
       "ResNet_RMSE                 973.711924\n",
       "RDST_RMSE                   986.749722\n",
       "RIST_RMSE                  1032.905074\n",
       "FPCR_RMSE                  1047.799053\n",
       "ROCKET_RMSE                1049.727695\n",
       "FreshPRINCE_RMSE           1051.735216\n",
       "MultiROCKET_RMSE           1065.140487\n",
       "5NN-DTW_RMSE               1071.163827\n",
       "RandF_RMSE                 1076.629639\n",
       "DrCIF_RMSE                 1080.966688\n",
       "FPCR-Bs_RMSE               1099.364430\n",
       "Fedot_Industrial_AutoML    1106.248000\n",
       "5NN-ED_RMSE                1110.793732\n",
       "XGBoost_RMSE               1155.910532\n",
       "TSF_RMSE                   1178.412908\n",
       "RotF_RMSE                  1189.173860\n",
       "Grid-SVR_RMSE              1246.184958\n",
       "1NN-DTW_RMSE               1396.816565\n",
       "1NN-ED_RMSE                1615.919446\n",
       "Ridge_RMSE                 2286.355459\n",
       "Name: min, dtype: float64"
      ]
     },
     "execution_count": 16,
     "metadata": {},
     "output_type": "execute_result"
    }
   ],
   "source": [
    "df.sort_values('min')['min']"
   ]
  },
  {
   "cell_type": "code",
   "execution_count": 17,
   "metadata": {
    "collapsed": false,
    "jupyter": {
     "outputs_hidden": false
    },
    "pycharm": {
     "name": "#%%\n"
    }
   },
   "outputs": [
    {
     "data": {
      "text/plain": [
       "Fedot_Industrial_AutoML    1106.248000\n",
       "RDST_RMSE                  1223.537234\n",
       "FCN_RMSE                   1261.023121\n",
       "RIST_RMSE                  1286.172802\n",
       "ResNet_RMSE                1314.236132\n",
       "CNN_RMSE                   1329.048575\n",
       "ROCKET_RMSE                1381.935767\n",
       "SingleInception_RMSE       1403.745725\n",
       "DrCIF_RMSE                 1426.485773\n",
       "InceptionT_RMSE            1432.379154\n",
       "FreshPRINCE_RMSE           1467.946007\n",
       "MultiROCKET_RMSE           1479.726986\n",
       "RandF_RMSE                 1529.707449\n",
       "FPCR_RMSE                  1566.918068\n",
       "RotF_RMSE                  1597.388873\n",
       "XGBoost_RMSE               1620.479639\n",
       "TSF_RMSE                   1624.255525\n",
       "5NN-DTW_RMSE               1652.839501\n",
       "FPCR-Bs_RMSE               1667.648841\n",
       "5NN-ED_RMSE                1825.271162\n",
       "Grid-SVR_RMSE              1934.918113\n",
       "1NN-DTW_RMSE               2101.344987\n",
       "1NN-ED_RMSE                2322.456606\n",
       "Ridge_RMSE                 3337.671272\n",
       "Name: max, dtype: float64"
      ]
     },
     "execution_count": 17,
     "metadata": {},
     "output_type": "execute_result"
    }
   ],
   "source": [
    "df.sort_values('max')['max']"
   ]
  },
  {
   "cell_type": "code",
   "execution_count": 18,
   "metadata": {
    "collapsed": false,
    "jupyter": {
     "outputs_hidden": false
    },
    "pycharm": {
     "name": "#%%\n"
    }
   },
   "outputs": [
    {
     "data": {
      "text/plain": [
       "FCN_RMSE                   1072.502657\n",
       "Fedot_Industrial_AutoML    1106.248000\n",
       "RDST_RMSE                  1142.764246\n",
       "ResNet_RMSE                1145.645542\n",
       "InceptionT_RMSE            1156.251420\n",
       "SingleInception_RMSE       1162.325568\n",
       "RIST_RMSE                  1172.270167\n",
       "CNN_RMSE                   1174.255738\n",
       "ROCKET_RMSE                1236.408458\n",
       "FreshPRINCE_RMSE           1240.376659\n",
       "DrCIF_RMSE                 1246.467591\n",
       "MultiROCKET_RMSE           1252.545137\n",
       "RandF_RMSE                 1310.439205\n",
       "FPCR_RMSE                  1331.504687\n",
       "5NN-DTW_RMSE               1337.373398\n",
       "RotF_RMSE                  1383.306131\n",
       "TSF_RMSE                   1401.285094\n",
       "XGBoost_RMSE               1424.823440\n",
       "FPCR-Bs_RMSE               1427.171255\n",
       "5NN-ED_RMSE                1458.866739\n",
       "Grid-SVR_RMSE              1587.147748\n",
       "1NN-DTW_RMSE               1819.103151\n",
       "1NN-ED_RMSE                1906.032299\n",
       "Ridge_RMSE                 2719.383329\n",
       "Name: average, dtype: float64"
      ]
     },
     "execution_count": 18,
     "metadata": {},
     "output_type": "execute_result"
    }
   ],
   "source": [
    "df.sort_values('average')['average']"
   ]
  },
  {
   "cell_type": "code",
   "execution_count": null,
   "metadata": {
    "collapsed": false,
    "jupyter": {
     "outputs_hidden": false
    },
    "pycharm": {
     "name": "#%%\n"
    }
   },
   "outputs": [],
   "source": []
  }
 ],
 "metadata": {
  "kernelspec": {
   "display_name": "Python 3 (ipykernel)",
   "language": "python",
   "name": "python3"
  },
  "language_info": {
   "codemirror_mode": {
    "name": "ipython",
    "version": 3
   },
   "file_extension": ".py",
   "mimetype": "text/x-python",
   "name": "python",
   "nbconvert_exporter": "python",
   "pygments_lexer": "ipython3",
   "version": "3.10.16"
  }
 },
 "nbformat": 4,
 "nbformat_minor": 4
}
