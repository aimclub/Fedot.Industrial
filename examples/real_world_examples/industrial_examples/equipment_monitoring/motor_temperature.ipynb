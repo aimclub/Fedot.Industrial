{
 "cells": [
  {
   "cell_type": "markdown",
   "metadata": {
    "collapsed": false,
    "jupyter": {
     "outputs_hidden": false
    },
    "pycharm": {
     "name": "#%% md\n"
    }
   },
   "source": [
    "## Predict permanent magnet synchronous motor (PMSM) rotor temperature with Fedot.Industrial"
   ]
  },
  {
   "cell_type": "markdown",
   "metadata": {
    "collapsed": false,
    "jupyter": {
     "outputs_hidden": false
    },
    "pycharm": {
     "name": "#%% md\n"
    }
   },
   "source": [
    "The data set comprises several sensor data collected from a permanent magnet synchronous motor (PMSM) deployed on a test bench. All recordings are sampled at 2 Hz. The motor is excited by hand-designed driving cycles denoting a reference motor speed and a reference torque. Currents in d/q-coordinates (columns \"i_d\" and i_q\") and voltages in d/q-coordinates (columns \"u_d\" and \"u_q\") are a result of a standard control strategy trying to follow the reference speed and torque. This \"sample\" of ElectricMotorTemperature dataset was created by first splitting the measurement sessions into groups of 30 consecutive seconds, i.e. 60 timepoints. Then, used the **recorded ambient**, **coolant temperatures**, **d and q components of voltage**, **current** as predictors to form 6- dimensional time series of length 60. The target variable is the **maximum recorded rotor temperature during each respective 30-second time frame**. The resulting dataset has 22148 instances, of which 70% were sampled as training data and the remaining 30% as testing data.\n",
    "Link to the dataset - https://www.kaggle.com/datasets/wkirgsn/electric-motor-temperature"
   ]
  },
  {
   "cell_type": "code",
   "execution_count": 2,
   "metadata": {},
   "outputs": [],
   "source": [
    "import sys\n",
    "import os\n",
    "\n",
    "project_path = r\"add_project_path_here\\Fedot.Industrial\"\n",
    "sys.path.append(project_path)"
   ]
  },
  {
   "cell_type": "code",
   "execution_count": 3,
   "metadata": {
    "ExecuteTime": {
     "end_time": "2023-08-28T10:34:48.354623Z",
     "start_time": "2023-08-28T10:34:39.594404Z"
    },
    "pycharm": {
     "name": "#%%\n"
    }
   },
   "outputs": [],
   "source": [
    "import pandas as pd\n",
    "from fedot.core.pipelines.pipeline_builder import PipelineBuilder\n",
    "from fedot_ind.tools.loader import DataLoader\n",
    "import matplotlib\n",
    "from fedot_ind.api.main import FedotIndustrial\n",
    "from fedot_ind.core.architecture.pipelines.abstract_pipeline import ApiTemplate"
   ]
  },
  {
   "cell_type": "markdown",
   "metadata": {
    "pycharm": {
     "name": "#%% md\n"
    }
   },
   "source": [
    "The list of basic fedot industrial models for experiment are shown below. We are using simple linear machine learning pipelines with 3 different feature generators: Statistical, Recurrence, Topological. And for each of them we add PCA transformation with 90 % of explained dispersion."
   ]
  },
  {
   "cell_type": "code",
   "execution_count": 4,
   "metadata": {},
   "outputs": [],
   "source": [
    "from fedot_ind.core.repository.config_repository import DEFAULT_COMPUTE_CONFIG, DEFAULT_REG_AUTOML_CONFIG, DEFAULT_AUTOML_LEARNING_CONFIG\n",
    "\n",
    "initial_assumption = {0: ['quantile_extractor', 'treg']}\n",
    "\n",
    "API_CONFIG = {'industrial_config': {'problem': 'regression'},\n",
    "              'automl_config': DEFAULT_REG_AUTOML_CONFIG,\n",
    "              'learning_config': {'learning_strategy': 'from_scratch',\n",
    "                                  'learning_strategy_params': DEFAULT_AUTOML_LEARNING_CONFIG,\n",
    "                                  'optimisation_loss': {'quality_loss': 'rmse'}},\n",
    "              'compute_config': DEFAULT_COMPUTE_CONFIG}\n",
    "METRIC_NAMES = ('r2', 'rmse', 'mae')\n",
    "DATASET_NAME = 'ElectricMotorTemperature'\n",
    "data_path = project_path + '/examples/data'"
   ]
  },
  {
   "cell_type": "code",
   "execution_count": 5,
   "metadata": {},
   "outputs": [],
   "source": [
    "api_client = ApiTemplate(api_config=API_CONFIG,\n",
    "                         metric_list=METRIC_NAMES)"
   ]
  },
  {
   "cell_type": "markdown",
   "metadata": {
    "collapsed": false,
    "jupyter": {
     "outputs_hidden": false
    },
    "pycharm": {
     "name": "#%% md\n"
    }
   },
   "source": [
    "Next steps are quite straightforward. We need to fit the model and then predict the values for the test data just like for any other model in sklearn.\n",
    "\n",
    "At the `fit` stage FedotIndustrial will transform initial time series data into features dataframe and will train regression model."
   ]
  },
  {
   "cell_type": "markdown",
   "metadata": {
    "pycharm": {
     "name": "#%% md\n"
    }
   },
   "source": [
    "At the end of the experiment we can obtain the desired metric values using `calculate_regression_metric` method. Now there are five available metrics for classification task:\n",
    "- `explained_variance_score`\n",
    "- `max_error`\n",
    "- `mean_absolute_error`\n",
    "- `mean_squared_error`\n",
    "- `d2_absolute_error_score`.\n",
    "- `median_absolute_error`\n",
    "- `r2_score`"
   ]
  },
  {
   "cell_type": "code",
   "execution_count": 7,
   "metadata": {
    "scrolled": true
   },
   "outputs": [
    {
     "name": "stdout",
     "output_type": "stream",
     "text": [
      "2025-01-27 03:42:21,695 - Reading data from C:\\Users\\Bars\\PycharmProjects\\Fedot.Industrial\\fedot_ind\\data\\ElectricMotorTemperature\n",
      "2025-01-27 03:42:21,701 - Data not found in C:\\Users\\Bars\\PycharmProjects\\Fedot.Industrial\\fedot_ind\\data\\ElectricMotorTemperature\n",
      "2025-01-27 03:42:21,703 - Downloading ElectricMotorTemperature from http://www.timeseriesclassification.com/aeon-toolkit/...\n",
      "2025-01-27 03:44:40,060 - ElectricMotorTemperature data downloaded. Unpacking...\n",
      "2025-01-27 03:44:40,062 - Reading data from C:\\Users\\Bars\\PycharmProjects\\Fedot.Industrial\\temp_cache/temp_data/ElectricMotorTemperature\n",
      "2025-01-27 03:45:08,290 - Saving ElectricMotorTemperature data files to C:\\Users\\Bars\\PycharmProjects\\Fedot.Industrial\\fedot_ind\\data\\ElectricMotorTemperature\n",
      "2025-01-27 03:45:08,316 - Data read successfully from local folder\n",
      "2025-01-27 03:45:09,696 - --------------------------------------------------\n",
      "2025-01-27 03:45:09,698 - Initialising Industrial Repository\n",
      "2025-01-27 03:45:09,700 - -------------------------------------------------\n",
      "2025-01-27 03:45:09,703 - Initialising Industrial Evolutionary Optimisation params\n",
      "2025-01-27 03:45:09,918 - DataSourceSplitter - Stratificated splitting of data is disabled.\n",
      "2025-01-27 03:45:09,920 - DataSourceSplitter - Hold out validation is applied.\n",
      "2025-01-27 03:45:10,097 - OptunaTuner - Hyperparameters optimization start: estimation of metric for initial graph\n",
      "2025-01-27 03:45:10,136 - Trying to load features from cache\n",
      "2025-01-27 03:45:10,139 - Cache not found\n"
     ]
    },
    {
     "data": {
      "application/vnd.jupyter.widget-view+json": {
       "model_id": "1909c1153838435aba177a5f46133eb9",
       "version_major": 2,
       "version_minor": 0
      },
      "text/plain": [
       "compute_feature_extraction_with_Statistical Class for TS representation:   0%|          | 0/1550 [00:00<?, ?it…"
      ]
     },
     "metadata": {},
     "output_type": "display_data"
    },
    {
     "name": "stdout",
     "output_type": "stream",
     "text": [
      "2025-01-27 03:47:09,953 - Caching features\n",
      "2025-01-27 03:47:11,555 - Trying to load features from cache\n",
      "2025-01-27 03:47:11,558 - Cache not found\n"
     ]
    },
    {
     "data": {
      "application/vnd.jupyter.widget-view+json": {
       "model_id": "5cc3df89f300406ba804788a34a7a2e0",
       "version_major": 2,
       "version_minor": 0
      },
      "text/plain": [
       "compute_feature_extraction_with_Statistical Class for TS representation:   0%|          | 0/13953 [00:00<?, ?i…"
      ]
     },
     "metadata": {},
     "output_type": "display_data"
    },
    {
     "name": "stdout",
     "output_type": "stream",
     "text": [
      "2025-01-27 04:04:35,865 - Caching features\n",
      "2025-01-27 04:04:36,200 - OptunaTuner - Initial graph: {'depth': 2, 'length': 2, 'nodes': [treg, quantile_extractor]}\n",
      "treg - {}\n",
      "quantile_extractor - {} \n",
      "Initial metric: [8.707]\n"
     ]
    },
    {
     "name": "stderr",
     "output_type": "stream",
     "text": [
      "[I 2025-01-27 04:04:36,202] A new study created in memory with name: no-name-1aa9704d-6f23-4ed6-81f7-bd1bdc2fcbb8\n"
     ]
    },
    {
     "name": "stdout",
     "output_type": "stream",
     "text": [
      "2025-01-27 04:04:36,284 - Trying to load features from cache\n",
      "2025-01-27 04:04:36,294 - Trying to load features from cache\n",
      "2025-01-27 04:04:36,297 - Trying to load features from cache\n",
      "Features of basis of <class 'numpy.ndarray'> type are loaded from cache in 0.01082 sec2025-01-27 04:04:36,298 - Trying to load features from cache\n",
      "\n",
      "Features of basis of <class 'numpy.ndarray'> type are loaded from cache in 0.00945 sec2025-01-27 04:04:36,299 - Trying to load features from cache\n",
      "\n",
      "Features of basis of <class 'numpy.ndarray'> type are loaded from cache in 0.00743 sec2025-01-27 04:04:36,303 - Trying to load features from cache\n",
      "\n",
      "Features of basis of <class 'numpy.ndarray'> type are loaded from cache in 0.00835 sec\n",
      "2025-01-27 04:04:36,304 - Trying to load features from cache\n",
      "2025-01-27 04:04:36,308 - Trying to load features from cache\n",
      "2025-01-27 04:04:36,315 - Trying to load features from cache\n",
      "Features of basis of <class 'numpy.ndarray'> type are loaded from cache in 0.0157 sec\n",
      "Features of basis of <class 'numpy.ndarray'> type are loaded from cache in 0.00823 sec\n",
      "2025-01-27 04:04:36,317 - Trying to load features from cache\n",
      "2025-01-27 04:04:36,318 - Trying to load features from cache\n",
      "Features of basis of <class 'numpy.ndarray'> type are loaded from cache in 0.00968 sec\n",
      "2025-01-27 04:04:36,326 - Trying to load features from cache\n",
      "Features of basis of <class 'numpy.ndarray'> type are loaded from cache in 0.00829 sec\n",
      "Features of basis of <class 'numpy.ndarray'> type are loaded from cache in 0.06324 sec\n",
      "Features of basis of <class 'numpy.ndarray'> type are loaded from cache in 0.1316 sec\n",
      "Features of basis of <class 'numpy.ndarray'> type are loaded from cache in 0.06526 sec\n",
      "Features of basis of <class 'numpy.ndarray'> type are loaded from cache in 0.0421 sec\n",
      "2025-01-27 04:04:37,847 - Trying to load features from cache\n",
      "2025-01-27 04:04:37,854 - Cache not found\n"
     ]
    },
    {
     "data": {
      "application/vnd.jupyter.widget-view+json": {
       "model_id": "a7c148c733a54be8b7b7d618cf5774ae",
       "version_major": 2,
       "version_minor": 0
      },
      "text/plain": [
       "compute_feature_extraction_with_Statistical Class for TS representation:   0%|          | 0/13953 [00:00<?, ?i…"
      ]
     },
     "metadata": {},
     "output_type": "display_data"
    },
    {
     "name": "stdout",
     "output_type": "stream",
     "text": [
      "2025-01-27 04:04:48,183 - Trying to load features from cache\n",
      "2025-01-27 04:04:48,331 - Cache not found\n",
      "2025-01-27 04:04:52,004 - Trying to load features from cache\n",
      "2025-01-27 04:04:52,590 - Cache not found\n"
     ]
    },
    {
     "data": {
      "application/vnd.jupyter.widget-view+json": {
       "model_id": "80cfe65ae3a5463997ee9d97938ee07d",
       "version_major": 2,
       "version_minor": 0
      },
      "text/plain": [
       "compute_feature_extraction_with_Statistical Class for TS representation:   0%|          | 0/13953 [00:00<?, ?i…"
      ]
     },
     "metadata": {},
     "output_type": "display_data"
    },
    {
     "data": {
      "application/vnd.jupyter.widget-view+json": {
       "model_id": "5e52121cf5204b35b686b7e758cba443",
       "version_major": 2,
       "version_minor": 0
      },
      "text/plain": [
       "compute_feature_extraction_with_Statistical Class for TS representation:   0%|          | 0/13953 [00:00<?, ?i…"
      ]
     },
     "metadata": {},
     "output_type": "display_data"
    },
    {
     "name": "stdout",
     "output_type": "stream",
     "text": [
      "2025-01-27 04:04:58,416 - Trying to load features from cache\n",
      "2025-01-27 04:04:59,632 - Cache not found\n",
      "2025-01-27 04:05:04,340 - Trying to load features from cache\n",
      "2025-01-27 04:05:09,038 - Cache not found\n",
      "2025-01-27 04:05:09,969 - Trying to load features from cache\n"
     ]
    },
    {
     "data": {
      "application/vnd.jupyter.widget-view+json": {
       "model_id": "06b2feedade048ca828a2f8de7dd2f0e",
       "version_major": 2,
       "version_minor": 0
      },
      "text/plain": [
       "compute_feature_extraction_with_Statistical Class for TS representation:   0%|          | 0/13953 [00:00<?, ?i…"
      ]
     },
     "metadata": {},
     "output_type": "display_data"
    },
    {
     "name": "stdout",
     "output_type": "stream",
     "text": [
      "2025-01-27 04:05:12,147 - Trying to load features from cache\n",
      "2025-01-27 04:05:17,123 - Trying to load features from cache\n"
     ]
    },
    {
     "data": {
      "application/vnd.jupyter.widget-view+json": {
       "model_id": "bb2a2eed5f884642937ae3dd5ac80efd",
       "version_major": 2,
       "version_minor": 0
      },
      "text/plain": [
       "compute_feature_extraction_with_Statistical Class for TS representation:   0%|          | 0/13953 [00:00<?, ?i…"
      ]
     },
     "metadata": {},
     "output_type": "display_data"
    },
    {
     "name": "stdout",
     "output_type": "stream",
     "text": [
      "2025-01-27 04:05:23,464 - Trying to load features from cache\n",
      "2025-01-27 04:05:25,364 - Cache not found\n",
      "2025-01-27 04:05:27,188 - Trying to load features from cache\n",
      "2025-01-27 04:05:35,502 - Trying to load features from cache\n"
     ]
    },
    {
     "data": {
      "application/vnd.jupyter.widget-view+json": {
       "model_id": "87ff5cb4126d4db2a68f6abeffea0788",
       "version_major": 2,
       "version_minor": 0
      },
      "text/plain": [
       "compute_feature_extraction_with_Statistical Class for TS representation:   0%|          | 0/13953 [00:00<?, ?i…"
      ]
     },
     "metadata": {},
     "output_type": "display_data"
    },
    {
     "name": "stdout",
     "output_type": "stream",
     "text": [
      "2025-01-27 04:05:35,528 - Cache not found\n",
      "2025-01-27 04:05:36,018 - Trying to load features from cache\n",
      "2025-01-27 04:05:46,061 - Cache not found\n"
     ]
    },
    {
     "data": {
      "application/vnd.jupyter.widget-view+json": {
       "model_id": "947ab29f4fac4e9cb8e739f16f48e13b",
       "version_major": 2,
       "version_minor": 0
      },
      "text/plain": [
       "compute_feature_extraction_with_Statistical Class for TS representation:   0%|          | 0/13953 [00:00<?, ?i…"
      ]
     },
     "metadata": {},
     "output_type": "display_data"
    },
    {
     "data": {
      "application/vnd.jupyter.widget-view+json": {
       "model_id": "1dbdf89b9d534c2a83077f79542dc78e",
       "version_major": 2,
       "version_minor": 0
      },
      "text/plain": [
       "compute_feature_extraction_with_Statistical Class for TS representation:   0%|          | 0/13953 [00:00<?, ?i…"
      ]
     },
     "metadata": {},
     "output_type": "display_data"
    },
    {
     "data": {
      "application/vnd.jupyter.widget-view+json": {
       "model_id": "87a21f0c9dda4544b0308e8d220c71b6",
       "version_major": 2,
       "version_minor": 0
      },
      "text/plain": [
       "compute_feature_extraction_with_Statistical Class for TS representation:   0%|          | 0/13953 [00:00<?, ?i…"
      ]
     },
     "metadata": {},
     "output_type": "display_data"
    },
    {
     "name": "stdout",
     "output_type": "stream",
     "text": [
      "2025-01-27 04:05:55,894 - Cache not found\n",
      "2025-01-27 04:06:16,200 - Cache not found\n",
      "2025-01-27 04:06:26,325 - Cache not found\n",
      "2025-01-27 04:06:46,628 - Cache not found\n"
     ]
    },
    {
     "data": {
      "application/vnd.jupyter.widget-view+json": {
       "model_id": "534242b6fae64546ac9ec2cfd06b9604",
       "version_major": 2,
       "version_minor": 0
      },
      "text/plain": [
       "compute_feature_extraction_with_Statistical Class for TS representation:   0%|          | 0/13953 [00:00<?, ?i…"
      ]
     },
     "metadata": {},
     "output_type": "display_data"
    },
    {
     "data": {
      "application/vnd.jupyter.widget-view+json": {
       "model_id": "035c56651fe143b89f60cfdc60def545",
       "version_major": 2,
       "version_minor": 0
      },
      "text/plain": [
       "compute_feature_extraction_with_Statistical Class for TS representation:   0%|          | 0/13953 [00:00<?, ?i…"
      ]
     },
     "metadata": {},
     "output_type": "display_data"
    },
    {
     "data": {
      "application/vnd.jupyter.widget-view+json": {
       "model_id": "9ab07af2ad934198908b9248b1b9d8f8",
       "version_major": 2,
       "version_minor": 0
      },
      "text/plain": [
       "compute_feature_extraction_with_Statistical Class for TS representation:   0%|          | 0/13953 [00:00<?, ?i…"
      ]
     },
     "metadata": {},
     "output_type": "display_data"
    },
    {
     "name": "stdout",
     "output_type": "stream",
     "text": [
      "2025-01-27 07:17:29,479 - Caching features\n",
      "2025-01-27 07:21:22,626 - Caching features\n",
      "2025-01-27 07:22:30,979 - Caching features\n",
      "2025-01-27 07:22:31,086 - Caching features\n",
      "2025-01-27 07:22:31,125 - Caching features\n",
      "2025-01-27 07:22:31,254 - Caching features\n",
      "2025-01-27 07:22:31,255 - Caching features\n",
      "2025-01-27 07:22:31,255 - Caching features\n",
      "2025-01-27 07:22:31,360 - Caching features\n",
      "2025-01-27 07:22:32,298 - OptunaTuner - Hyperparameters optimization finished\n",
      "2025-01-27 07:22:32,338 - Trying to load features from cache\n",
      "Features of basis of <class 'numpy.ndarray'> type are loaded from cache in 0.00765 sec\n",
      "2025-01-27 07:22:40,177 - Trying to load features from cache\n",
      "2025-01-27 07:22:40,179 - Cache not found\n"
     ]
    },
    {
     "data": {
      "application/vnd.jupyter.widget-view+json": {
       "model_id": "683efdb859eb42b9a1f7a4338e52f9ff",
       "version_major": 2,
       "version_minor": 0
      },
      "text/plain": [
       "compute_feature_extraction_with_Statistical Class for TS representation:   0%|          | 0/13953 [00:00<?, ?i…"
      ]
     },
     "metadata": {},
     "output_type": "display_data"
    },
    {
     "name": "stdout",
     "output_type": "stream",
     "text": [
      "2025-01-27 07:38:32,147 - Caching features\n",
      "2025-01-27 07:38:32,506 - OptunaTuner - Return tuned graph due to the fact that obtained metric 7.591 equal or better than initial (+ 0.05% deviation) 8.702\n",
      "2025-01-27 07:38:32,509 - OptunaTuner - Final graph: {'depth': 2, 'length': 2, 'nodes': [treg, quantile_extractor]}\n",
      "treg - {'max_features': 0.6240015211138573, 'min_samples_split': 10, 'min_samples_leaf': 1, 'bootstrap': False}\n",
      "quantile_extractor - {}\n",
      "2025-01-27 07:38:32,510 - OptunaTuner - Final metric: 7.591\n",
      "2025-01-27 07:38:33,756 - Trying to load features from cache\n",
      "2025-01-27 07:38:33,758 - Cache not found\n"
     ]
    },
    {
     "data": {
      "application/vnd.jupyter.widget-view+json": {
       "model_id": "74b59480572b4be5bf74e1d9c359b22e",
       "version_major": 2,
       "version_minor": 0
      },
      "text/plain": [
       "compute_feature_extraction_with_Statistical Class for TS representation:   0%|          | 0/15503 [00:00<?, ?i…"
      ]
     },
     "metadata": {},
     "output_type": "display_data"
    },
    {
     "name": "stdout",
     "output_type": "stream",
     "text": [
      "2025-01-27 07:56:11,182 - Caching features\n",
      "2025-01-27 07:56:53,635 - Trying to load features from cache\n",
      "2025-01-27 07:56:53,636 - Cache not found\n"
     ]
    },
    {
     "data": {
      "application/vnd.jupyter.widget-view+json": {
       "model_id": "80260096f0854f25aea42aa2f0888efa",
       "version_major": 2,
       "version_minor": 0
      },
      "text/plain": [
       "compute_feature_extraction_with_Statistical Class for TS representation:   0%|          | 0/6645 [00:00<?, ?it…"
      ]
     },
     "metadata": {},
     "output_type": "display_data"
    },
    {
     "name": "stdout",
     "output_type": "stream",
     "text": [
      "2025-01-27 08:04:25,527 - Caching features\n",
      "2025-01-27 08:04:25,804 - Trying to load features from cache\n",
      "2025-01-27 08:04:25,806 - Cache not found\n"
     ]
    },
    {
     "data": {
      "application/vnd.jupyter.widget-view+json": {
       "model_id": "8cbad45c64d5458dae4302ced7b13128",
       "version_major": 2,
       "version_minor": 0
      },
      "text/plain": [
       "compute_feature_extraction_with_Statistical Class for TS representation:   0%|          | 0/6645 [00:00<?, ?it…"
      ]
     },
     "metadata": {},
     "output_type": "display_data"
    },
    {
     "name": "stdout",
     "output_type": "stream",
     "text": [
      "2025-01-27 08:11:58,622 - Caching features\n"
     ]
    }
   ],
   "source": [
    "result_dict = api_client.eval(dataset=DATASET_NAME, finetune=True, initial_assumption=initial_assumption)"
   ]
  },
  {
   "cell_type": "code",
   "execution_count": 8,
   "metadata": {
    "collapsed": false,
    "jupyter": {
     "outputs_hidden": false
    },
    "pycharm": {
     "name": "#%%\n"
    }
   },
   "outputs": [],
   "source": [
    "import numpy as np\n",
    "features = np.array(api_client.train_data[0].tolist()).astype(float)"
   ]
  },
  {
   "cell_type": "markdown",
   "metadata": {
    "collapsed": false,
    "jupyter": {
     "outputs_hidden": false
    },
    "pycharm": {
     "name": "#%% md\n"
    }
   },
   "source": [
    "Lets check our data."
   ]
  },
  {
   "cell_type": "code",
   "execution_count": 9,
   "metadata": {
    "collapsed": false,
    "jupyter": {
     "outputs_hidden": false
    },
    "pycharm": {
     "name": "#%%\n"
    }
   },
   "outputs": [
    {
     "data": {
      "text/plain": [
       "(15503, 6, 60)"
      ]
     },
     "execution_count": 9,
     "metadata": {},
     "output_type": "execute_result"
    }
   ],
   "source": [
    "features.shape"
   ]
  },
  {
   "cell_type": "markdown",
   "metadata": {
    "collapsed": false,
    "jupyter": {
     "outputs_hidden": false
    },
    "pycharm": {
     "name": "#%% md\n"
    }
   },
   "source": [
    "Lets visualise our predictors."
   ]
  },
  {
   "cell_type": "code",
   "execution_count": 10,
   "metadata": {
    "collapsed": false,
    "jupyter": {
     "outputs_hidden": false
    },
    "pycharm": {
     "name": "#%%\n"
    }
   },
   "outputs": [
    {
     "data": {
      "image/png": "[encoded data removed]",
      "text/plain": [
       "<Figure size 640x480 with 1 Axes>"
      ]
     },
     "metadata": {},
     "output_type": "display_data"
    },
    {
     "data": {
      "image/png": "[encoded data removed]",
      "text/plain": [
       "<Figure size 640x480 with 1 Axes>"
      ]
     },
     "metadata": {},
     "output_type": "display_data"
    },
    {
     "data": {
      "image/png": "[encoded data removed]",
      "text/plain": [
       "<Figure size 640x480 with 1 Axes>"
      ]
     },
     "metadata": {},
     "output_type": "display_data"
    },
    {
     "data": {
      "image/png": "[encoded data removed]",
      "text/plain": [
       "<Figure size 640x480 with 1 Axes>"
      ]
     },
     "metadata": {},
     "output_type": "display_data"
    },
    {
     "data": {
      "image/png": "[encoded data removed]",
      "text/plain": [
       "<Figure size 640x480 with 1 Axes>"
      ]
     },
     "metadata": {},
     "output_type": "display_data"
    },
    {
     "data": {
      "image/png": "[encoded data removed]",
      "text/plain": [
       "<Figure size 640x480 with 1 Axes>"
      ]
     },
     "metadata": {},
     "output_type": "display_data"
    }
   ],
   "source": [
    "from matplotlib import pyplot as plt\n",
    "pd.DataFrame(features[1, 0, :]).plot(title='q-Voltage')\n",
    "pd.DataFrame(features[1, 1, :]).plot(title='d-Voltage')\n",
    "pd.DataFrame(features[1, 2, :]).plot(title='q-Current')\n",
    "pd.DataFrame(features[1, 3, :]).plot(title='d-Current')\n",
    "pd.DataFrame(features[1, 4, :]).plot(title='Ambient temperature')\n",
    "pd.DataFrame(features[1, 5, :]).plot(title='Coolant tempperature')\n",
    "plt.show()"
   ]
  },
  {
   "cell_type": "code",
   "execution_count": 55,
   "metadata": {},
   "outputs": [],
   "source": [
    "labels = result_dict['labels']\n",
    "metrics = result_dict['metrics']"
   ]
  },
  {
   "cell_type": "code",
   "execution_count": 56,
   "metadata": {
    "collapsed": false,
    "jupyter": {
     "outputs_hidden": false
    },
    "pycharm": {
     "name": "#%%\n"
    }
   },
   "outputs": [
    {
     "data": {
      "text/html": [
       "<div>\n",
       "<style scoped>\n",
       "    .dataframe tbody tr th:only-of-type {\n",
       "        vertical-align: middle;\n",
       "    }\n",
       "\n",
       "    .dataframe tbody tr th {\n",
       "        vertical-align: top;\n",
       "    }\n",
       "\n",
       "    .dataframe thead th {\n",
       "        text-align: right;\n",
       "    }\n",
       "</style>\n",
       "<table border=\"1\" class=\"dataframe\">\n",
       "  <thead>\n",
       "    <tr style=\"text-align: right;\">\n",
       "      <th></th>\n",
       "      <th>r2</th>\n",
       "      <th>rmse</th>\n",
       "      <th>mae</th>\n",
       "    </tr>\n",
       "  </thead>\n",
       "  <tbody>\n",
       "    <tr>\n",
       "      <th>0</th>\n",
       "      <td>0.946</td>\n",
       "      <td>4.449</td>\n",
       "      <td>2.687</td>\n",
       "    </tr>\n",
       "  </tbody>\n",
       "</table>\n",
       "</div>"
      ],
      "text/plain": [
       "      r2   rmse    mae\n",
       "0  0.946  4.449  2.687"
      ]
     },
     "execution_count": 56,
     "metadata": {},
     "output_type": "execute_result"
    }
   ],
   "source": [
    "metrics"
   ]
  },
  {
   "cell_type": "markdown",
   "metadata": {
    "collapsed": false,
    "jupyter": {
     "outputs_hidden": false
    },
    "pycharm": {
     "name": "#%% md\n"
    }
   },
   "source": [
    "## AutoML approach"
   ]
  },
  {
   "cell_type": "code",
   "execution_count": 6,
   "metadata": {},
   "outputs": [
    {
     "name": "stdout",
     "output_type": "stream",
     "text": [
      "2025-01-27 13:44:36,461 - Reading data from C:\\Users\\Bars\\PycharmProjects\\Fedot.Industrial\\fedot_ind\\data\\ElectricMotorTemperature\n",
      "2025-01-27 13:45:05,261 - Data read successfully from local folder\n",
      "2025-01-27 13:45:06,550 - --------------------------------------------------\n",
      "2025-01-27 13:45:06,552 - Initialising Industrial Repository\n",
      "2025-01-27 13:45:06,554 - -------------------------------------------------\n",
      "2025-01-27 13:45:06,556 - Initialising Industrial Evolutionary Optimisation params\n",
      "2025-01-27 13:45:06,684 - --------------------------------------------------\n",
      "2025-01-27 13:45:06,685 - Initialising Dask Server\n",
      "Creating Dask Server\n",
      "2025-01-27 13:45:07,960 - State start\n",
      "2025-01-27 13:45:07,993 -   Scheduler at: inproc://192.168.0.102/34776/1\n",
      "2025-01-27 13:45:07,995 -   dashboard at:  http://192.168.0.102:8787/status\n",
      "2025-01-27 13:45:07,998 - Registering Worker plugin shuffle\n",
      "2025-01-27 13:45:08,042 -       Start worker at: inproc://192.168.0.102/34776/4\n",
      "2025-01-27 13:45:08,044 -          Listening to:        inproc192.168.0.102\n",
      "2025-01-27 13:45:08,046 -           Worker name:                          0\n",
      "2025-01-27 13:45:08,049 -          dashboard at:        192.168.0.102:59032\n",
      "2025-01-27 13:45:08,050 - Waiting to connect to: inproc://192.168.0.102/34776/1\n",
      "2025-01-27 13:45:08,051 - -------------------------------------------------\n",
      "2025-01-27 13:45:08,053 -               Threads:                          4\n",
      "2025-01-27 13:45:08,055 -                Memory:                   5.32 GiB\n",
      "2025-01-27 13:45:08,056 -       Local Directory: C:\\Users\\Bars\\AppData\\Local\\Temp\\dask-scratch-space\\worker-jo795m0d\n",
      "2025-01-27 13:45:08,058 - -------------------------------------------------\n",
      "2025-01-27 13:45:08,065 - Register worker addr: inproc://192.168.0.102/34776/4 name: 0\n",
      "2025-01-27 13:45:08,070 - Starting worker compute stream, inproc://192.168.0.102/34776/4\n",
      "2025-01-27 13:45:08,072 - Starting established connection to inproc://192.168.0.102/34776/5\n",
      "2025-01-27 13:45:08,075 - Starting Worker plugin shuffle\n",
      "2025-01-27 13:45:08,077 -         Registered to: inproc://192.168.0.102/34776/1\n",
      "2025-01-27 13:45:08,079 - -------------------------------------------------\n",
      "2025-01-27 13:45:08,081 - Starting established connection to inproc://192.168.0.102/34776/1\n",
      "2025-01-27 13:45:08,089 - Receive client connection: Client-c68b80dc-dc9b-11ef-87d8-b42e9969f466\n",
      "2025-01-27 13:45:08,093 - Starting established connection to inproc://192.168.0.102/34776/6\n",
      "2025-01-27 13:45:08,096 - Link Dask Server - http://192.168.0.102:8787/status\n",
      "2025-01-27 13:45:08,097 - --------------------------------------------------\n",
      "2025-01-27 13:45:08,099 - Initialising solver\n",
      "2025-01-27 23:42:24,978 - ApiComposer - Initial pipeline was fitted in 179183.9 sec.\n",
      "2025-01-27 23:42:25,021 - AssumptionsHandler - Preset was changed to fast_train due to fit time estimation for initial model.\n",
      "2025-01-27 23:42:25,191 - ApiComposer - AutoML configured. Parameters tuning: False. Time limit: 10 min. Set of candidate models: ['xgbreg', 'sgdr', 'treg', 'ridge', 'lasso', 'dtreg', 'lgbmreg', 'catboostreg', 'pdl_reg', 'bagging', 'inception_model', 'resnet_model', 'channel_filtration', 'eigen_basis', 'wavelet_basis', 'fourier_basis', 'quantile_extractor', 'minirocket_extractor', 'scaling', 'normalization', 'simple_imputation', 'kernel_pca'].\n",
      "2025-01-27 23:42:25,290 - ApiComposer - Timeout is too small for composing and is skipped because fit_time is 179183.85237 sec.\n",
      "2025-01-27 23:42:26,159 - ApiComposer - Model generation finished\n",
      "2025-01-27 23:42:26,762 - FEDOT logger - Already fitted initial pipeline is used\n",
      "2025-01-27 23:42:26,772 - FEDOT logger - Final pipeline: {'depth': 2, 'length': 2, 'nodes': [treg, quantile_extractor]}\n",
      "treg - {}\n",
      "quantile_extractor - {'window_size': 10, 'stride': 1, 'add_global_features': True}\n"
     ]
    }
   ],
   "source": [
    "result_dict_auto = api_client.eval(dataset=DATASET_NAME, finetune=False, initial_assumption=initial_assumption)"
   ]
  },
  {
   "cell_type": "code",
   "execution_count": 7,
   "metadata": {
    "collapsed": false,
    "jupyter": {
     "outputs_hidden": false
    },
    "pycharm": {
     "name": "#%%\n"
    }
   },
   "outputs": [],
   "source": [
    "auto_labels = result_dict_auto['labels']\n",
    "auto_metrics = result_dict_auto['metrics']"
   ]
  },
  {
   "cell_type": "code",
   "execution_count": 8,
   "metadata": {
    "collapsed": false,
    "jupyter": {
     "outputs_hidden": false
    },
    "pycharm": {
     "name": "#%%\n"
    }
   },
   "outputs": [
    {
     "data": {
      "text/html": [
       "<div>\n",
       "<style scoped>\n",
       "    .dataframe tbody tr th:only-of-type {\n",
       "        vertical-align: middle;\n",
       "    }\n",
       "\n",
       "    .dataframe tbody tr th {\n",
       "        vertical-align: top;\n",
       "    }\n",
       "\n",
       "    .dataframe thead th {\n",
       "        text-align: right;\n",
       "    }\n",
       "</style>\n",
       "<table border=\"1\" class=\"dataframe\">\n",
       "  <thead>\n",
       "    <tr style=\"text-align: right;\">\n",
       "      <th></th>\n",
       "      <th>r2</th>\n",
       "      <th>rmse</th>\n",
       "      <th>mae</th>\n",
       "    </tr>\n",
       "  </thead>\n",
       "  <tbody>\n",
       "    <tr>\n",
       "      <th>0</th>\n",
       "      <td>0.791</td>\n",
       "      <td>8.766</td>\n",
       "      <td>6.273</td>\n",
       "    </tr>\n",
       "  </tbody>\n",
       "</table>\n",
       "</div>"
      ],
      "text/plain": [
       "      r2   rmse    mae\n",
       "0  0.791  8.766  6.273"
      ]
     },
     "execution_count": 8,
     "metadata": {},
     "output_type": "execute_result"
    }
   ],
   "source": [
    "auto_metrics"
   ]
  },
  {
   "cell_type": "code",
   "execution_count": 39,
   "metadata": {
    "collapsed": false,
    "jupyter": {
     "outputs_hidden": false
    },
    "pycharm": {
     "name": "#%%\n"
    }
   },
   "outputs": [
    {
     "data": {
      "image/png": "[encoded data removed]",
      "text/plain": [
       "<Figure size 700x700 with 1 Axes>"
      ]
     },
     "metadata": {},
     "output_type": "display_data"
    }
   ],
   "source": [
    "api_client.industrial_class.manager.solver.current_pipeline.show()\n",
    "\n",
    "# Not implemented yet:\n",
    "\n",
    "# api_client.industrial_class.plot_operation_distribution(mode='each')\n",
    "# iapi_client.industrial_class.plot_fitness_by_generation()"
   ]
  },
  {
   "cell_type": "code",
   "execution_count": 24,
   "metadata": {
    "collapsed": false,
    "jupyter": {
     "outputs_hidden": false
    },
    "pycharm": {
     "name": "#%%\n"
    }
   },
   "outputs": [
    {
     "data": {
      "image/png": "[encoded data removed]",
      "text/plain": [
       "<Figure size 640x480 with 1 Axes>"
      ]
     },
     "metadata": {},
     "output_type": "display_data"
    }
   ],
   "source": [
    "predictions = np.vstack([api_client.test_data[1].flatten(), labels.flatten(), auto_labels.flatten()]).T\n",
    "all_prediction = pd.DataFrame(predictions, columns=['target', 'baseline', 'automl'])\n",
    "all_prediction.plot()\n",
    "plt.show()"
   ]
  },
  {
   "cell_type": "markdown",
   "metadata": {
    "collapsed": false,
    "jupyter": {
     "outputs_hidden": false
    },
    "pycharm": {
     "name": "#%% md\n"
    }
   },
   "source": [
    "## Compare with State of Art (SOTA) models"
   ]
  },
  {
   "cell_type": "code",
   "execution_count": 25,
   "metadata": {
    "collapsed": false,
    "jupyter": {
     "outputs_hidden": false
    },
    "pycharm": {
     "name": "#%%\n"
    }
   },
   "outputs": [],
   "source": [
    "df = pd.read_csv(data_path+'/ts_regression_sota_results.csv',sep=';')"
   ]
  },
  {
   "cell_type": "code",
   "execution_count": 26,
   "metadata": {
    "collapsed": false,
    "jupyter": {
     "outputs_hidden": false
    },
    "pycharm": {
     "name": "#%%\n"
    }
   },
   "outputs": [],
   "source": [
    "df = df[df['ds/type'] == dataset_name].iloc[:,:25]\n",
    "df.index = df['algorithm']\n",
    "df = df.drop(['algorithm','ds/type'], axis=1)\n",
    "df = df.replace(',','.', regex=True).astype(float)"
   ]
  },
  {
   "cell_type": "code",
   "execution_count": 28,
   "metadata": {
    "collapsed": false,
    "jupyter": {
     "outputs_hidden": false
    },
    "pycharm": {
     "name": "#%%\n"
    }
   },
   "outputs": [],
   "source": [
    "df['Fedot_Industrial_tuned'] = metrics['rmse'][0]\n",
    "df['Fedot_Industrial_AutoML'] = auto_metrics['rmse'][0]\n",
    "df = df.T"
   ]
  },
  {
   "cell_type": "code",
   "execution_count": 29,
   "metadata": {
    "collapsed": false,
    "jupyter": {
     "outputs_hidden": false
    },
    "pycharm": {
     "name": "#%%\n"
    }
   },
   "outputs": [
    {
     "data": {
      "text/html": [
       "<div>\n",
       "<style scoped>\n",
       "    .dataframe tbody tr th:only-of-type {\n",
       "        vertical-align: middle;\n",
       "    }\n",
       "\n",
       "    .dataframe tbody tr th {\n",
       "        vertical-align: top;\n",
       "    }\n",
       "\n",
       "    .dataframe thead th {\n",
       "        text-align: right;\n",
       "    }\n",
       "</style>\n",
       "<table border=\"1\" class=\"dataframe\">\n",
       "  <thead>\n",
       "    <tr style=\"text-align: right;\">\n",
       "      <th>algorithm</th>\n",
       "      <th>min</th>\n",
       "      <th>max</th>\n",
       "      <th>average</th>\n",
       "    </tr>\n",
       "  </thead>\n",
       "  <tbody>\n",
       "    <tr>\n",
       "      <th>Fedot_Industrial_AutoML</th>\n",
       "      <td>4.227000</td>\n",
       "      <td>4.227000</td>\n",
       "      <td>4.227000</td>\n",
       "    </tr>\n",
       "    <tr>\n",
       "      <th>Fedot_Industrial_tuned</th>\n",
       "      <td>4.234000</td>\n",
       "      <td>4.234000</td>\n",
       "      <td>4.234000</td>\n",
       "    </tr>\n",
       "    <tr>\n",
       "      <th>DrCIF_RMSE</th>\n",
       "      <td>4.404898</td>\n",
       "      <td>5.643865</td>\n",
       "      <td>4.656284</td>\n",
       "    </tr>\n",
       "    <tr>\n",
       "      <th>InceptionT_RMSE</th>\n",
       "      <td>4.432470</td>\n",
       "      <td>4.957914</td>\n",
       "      <td>4.728375</td>\n",
       "    </tr>\n",
       "    <tr>\n",
       "      <th>FreshPRINCE_RMSE</th>\n",
       "      <td>4.505233</td>\n",
       "      <td>4.808177</td>\n",
       "      <td>4.650170</td>\n",
       "    </tr>\n",
       "    <tr>\n",
       "      <th>RotF_RMSE</th>\n",
       "      <td>4.552434</td>\n",
       "      <td>4.934061</td>\n",
       "      <td>4.698074</td>\n",
       "    </tr>\n",
       "    <tr>\n",
       "      <th>RIST_RMSE</th>\n",
       "      <td>4.652734</td>\n",
       "      <td>4.921443</td>\n",
       "      <td>4.782016</td>\n",
       "    </tr>\n",
       "    <tr>\n",
       "      <th>SingleInception_RMSE</th>\n",
       "      <td>4.773094</td>\n",
       "      <td>5.635235</td>\n",
       "      <td>5.163396</td>\n",
       "    </tr>\n",
       "    <tr>\n",
       "      <th>RandF_RMSE</th>\n",
       "      <td>5.021132</td>\n",
       "      <td>5.447043</td>\n",
       "      <td>5.241818</td>\n",
       "    </tr>\n",
       "    <tr>\n",
       "      <th>XGBoost_RMSE</th>\n",
       "      <td>5.169760</td>\n",
       "      <td>5.485085</td>\n",
       "      <td>5.312691</td>\n",
       "    </tr>\n",
       "    <tr>\n",
       "      <th>ResNet_RMSE</th>\n",
       "      <td>5.559743</td>\n",
       "      <td>7.190490</td>\n",
       "      <td>5.911347</td>\n",
       "    </tr>\n",
       "    <tr>\n",
       "      <th>FCN_RMSE</th>\n",
       "      <td>5.885378</td>\n",
       "      <td>7.390226</td>\n",
       "      <td>6.593876</td>\n",
       "    </tr>\n",
       "    <tr>\n",
       "      <th>MultiROCKET_RMSE</th>\n",
       "      <td>6.989463</td>\n",
       "      <td>7.588865</td>\n",
       "      <td>7.379062</td>\n",
       "    </tr>\n",
       "    <tr>\n",
       "      <th>5NN-DTW_RMSE</th>\n",
       "      <td>7.386696</td>\n",
       "      <td>7.837611</td>\n",
       "      <td>7.604740</td>\n",
       "    </tr>\n",
       "    <tr>\n",
       "      <th>5NN-ED_RMSE</th>\n",
       "      <td>7.610317</td>\n",
       "      <td>8.140336</td>\n",
       "      <td>7.833623</td>\n",
       "    </tr>\n",
       "    <tr>\n",
       "      <th>Grid-SVR_RMSE</th>\n",
       "      <td>8.375188</td>\n",
       "      <td>8.861585</td>\n",
       "      <td>8.609298</td>\n",
       "    </tr>\n",
       "    <tr>\n",
       "      <th>1NN-DTW_RMSE</th>\n",
       "      <td>8.577700</td>\n",
       "      <td>9.123502</td>\n",
       "      <td>8.840429</td>\n",
       "    </tr>\n",
       "    <tr>\n",
       "      <th>TSF_RMSE</th>\n",
       "      <td>8.668036</td>\n",
       "      <td>9.029227</td>\n",
       "      <td>8.869247</td>\n",
       "    </tr>\n",
       "    <tr>\n",
       "      <th>1NN-ED_RMSE</th>\n",
       "      <td>8.800686</td>\n",
       "      <td>9.341135</td>\n",
       "      <td>9.023510</td>\n",
       "    </tr>\n",
       "    <tr>\n",
       "      <th>RDST_RMSE</th>\n",
       "      <td>10.390705</td>\n",
       "      <td>10.529304</td>\n",
       "      <td>10.438126</td>\n",
       "    </tr>\n",
       "    <tr>\n",
       "      <th>FPCR-Bs_RMSE</th>\n",
       "      <td>11.685497</td>\n",
       "      <td>12.130958</td>\n",
       "      <td>11.969364</td>\n",
       "    </tr>\n",
       "    <tr>\n",
       "      <th>Ridge_RMSE</th>\n",
       "      <td>11.689780</td>\n",
       "      <td>12.150435</td>\n",
       "      <td>11.982772</td>\n",
       "    </tr>\n",
       "    <tr>\n",
       "      <th>FPCR_RMSE</th>\n",
       "      <td>11.693941</td>\n",
       "      <td>12.138877</td>\n",
       "      <td>11.979490</td>\n",
       "    </tr>\n",
       "    <tr>\n",
       "      <th>ROCKET_RMSE</th>\n",
       "      <td>12.120663</td>\n",
       "      <td>12.424750</td>\n",
       "      <td>12.270972</td>\n",
       "    </tr>\n",
       "    <tr>\n",
       "      <th>CNN_RMSE</th>\n",
       "      <td>14.245379</td>\n",
       "      <td>19.387564</td>\n",
       "      <td>17.607863</td>\n",
       "    </tr>\n",
       "  </tbody>\n",
       "</table>\n",
       "</div>"
      ],
      "text/plain": [
       "algorithm                      min        max    average\n",
       "Fedot_Industrial_AutoML   4.227000   4.227000   4.227000\n",
       "Fedot_Industrial_tuned    4.234000   4.234000   4.234000\n",
       "DrCIF_RMSE                4.404898   5.643865   4.656284\n",
       "InceptionT_RMSE           4.432470   4.957914   4.728375\n",
       "FreshPRINCE_RMSE          4.505233   4.808177   4.650170\n",
       "RotF_RMSE                 4.552434   4.934061   4.698074\n",
       "RIST_RMSE                 4.652734   4.921443   4.782016\n",
       "SingleInception_RMSE      4.773094   5.635235   5.163396\n",
       "RandF_RMSE                5.021132   5.447043   5.241818\n",
       "XGBoost_RMSE              5.169760   5.485085   5.312691\n",
       "ResNet_RMSE               5.559743   7.190490   5.911347\n",
       "FCN_RMSE                  5.885378   7.390226   6.593876\n",
       "MultiROCKET_RMSE          6.989463   7.588865   7.379062\n",
       "5NN-DTW_RMSE              7.386696   7.837611   7.604740\n",
       "5NN-ED_RMSE               7.610317   8.140336   7.833623\n",
       "Grid-SVR_RMSE             8.375188   8.861585   8.609298\n",
       "1NN-DTW_RMSE              8.577700   9.123502   8.840429\n",
       "TSF_RMSE                  8.668036   9.029227   8.869247\n",
       "1NN-ED_RMSE               8.800686   9.341135   9.023510\n",
       "RDST_RMSE                10.390705  10.529304  10.438126\n",
       "FPCR-Bs_RMSE             11.685497  12.130958  11.969364\n",
       "Ridge_RMSE               11.689780  12.150435  11.982772\n",
       "FPCR_RMSE                11.693941  12.138877  11.979490\n",
       "ROCKET_RMSE              12.120663  12.424750  12.270972\n",
       "CNN_RMSE                 14.245379  19.387564  17.607863"
      ]
     },
     "execution_count": 29,
     "metadata": {},
     "output_type": "execute_result"
    }
   ],
   "source": [
    "df.sort_values('min')"
   ]
  },
  {
   "cell_type": "code",
   "execution_count": 30,
   "metadata": {
    "collapsed": false,
    "jupyter": {
     "outputs_hidden": false
    },
    "pycharm": {
     "name": "#%%\n"
    }
   },
   "outputs": [
    {
     "data": {
      "text/html": [
       "<div>\n",
       "<style scoped>\n",
       "    .dataframe tbody tr th:only-of-type {\n",
       "        vertical-align: middle;\n",
       "    }\n",
       "\n",
       "    .dataframe tbody tr th {\n",
       "        vertical-align: top;\n",
       "    }\n",
       "\n",
       "    .dataframe thead th {\n",
       "        text-align: right;\n",
       "    }\n",
       "</style>\n",
       "<table border=\"1\" class=\"dataframe\">\n",
       "  <thead>\n",
       "    <tr style=\"text-align: right;\">\n",
       "      <th>algorithm</th>\n",
       "      <th>min</th>\n",
       "      <th>max</th>\n",
       "      <th>average</th>\n",
       "    </tr>\n",
       "  </thead>\n",
       "  <tbody>\n",
       "    <tr>\n",
       "      <th>Fedot_Industrial_AutoML</th>\n",
       "      <td>4.227000</td>\n",
       "      <td>4.227000</td>\n",
       "      <td>4.227000</td>\n",
       "    </tr>\n",
       "    <tr>\n",
       "      <th>Fedot_Industrial_tuned</th>\n",
       "      <td>4.234000</td>\n",
       "      <td>4.234000</td>\n",
       "      <td>4.234000</td>\n",
       "    </tr>\n",
       "    <tr>\n",
       "      <th>FreshPRINCE_RMSE</th>\n",
       "      <td>4.505233</td>\n",
       "      <td>4.808177</td>\n",
       "      <td>4.650170</td>\n",
       "    </tr>\n",
       "    <tr>\n",
       "      <th>RIST_RMSE</th>\n",
       "      <td>4.652734</td>\n",
       "      <td>4.921443</td>\n",
       "      <td>4.782016</td>\n",
       "    </tr>\n",
       "    <tr>\n",
       "      <th>RotF_RMSE</th>\n",
       "      <td>4.552434</td>\n",
       "      <td>4.934061</td>\n",
       "      <td>4.698074</td>\n",
       "    </tr>\n",
       "    <tr>\n",
       "      <th>InceptionT_RMSE</th>\n",
       "      <td>4.432470</td>\n",
       "      <td>4.957914</td>\n",
       "      <td>4.728375</td>\n",
       "    </tr>\n",
       "    <tr>\n",
       "      <th>RandF_RMSE</th>\n",
       "      <td>5.021132</td>\n",
       "      <td>5.447043</td>\n",
       "      <td>5.241818</td>\n",
       "    </tr>\n",
       "    <tr>\n",
       "      <th>XGBoost_RMSE</th>\n",
       "      <td>5.169760</td>\n",
       "      <td>5.485085</td>\n",
       "      <td>5.312691</td>\n",
       "    </tr>\n",
       "    <tr>\n",
       "      <th>SingleInception_RMSE</th>\n",
       "      <td>4.773094</td>\n",
       "      <td>5.635235</td>\n",
       "      <td>5.163396</td>\n",
       "    </tr>\n",
       "    <tr>\n",
       "      <th>DrCIF_RMSE</th>\n",
       "      <td>4.404898</td>\n",
       "      <td>5.643865</td>\n",
       "      <td>4.656284</td>\n",
       "    </tr>\n",
       "    <tr>\n",
       "      <th>ResNet_RMSE</th>\n",
       "      <td>5.559743</td>\n",
       "      <td>7.190490</td>\n",
       "      <td>5.911347</td>\n",
       "    </tr>\n",
       "    <tr>\n",
       "      <th>FCN_RMSE</th>\n",
       "      <td>5.885378</td>\n",
       "      <td>7.390226</td>\n",
       "      <td>6.593876</td>\n",
       "    </tr>\n",
       "    <tr>\n",
       "      <th>MultiROCKET_RMSE</th>\n",
       "      <td>6.989463</td>\n",
       "      <td>7.588865</td>\n",
       "      <td>7.379062</td>\n",
       "    </tr>\n",
       "    <tr>\n",
       "      <th>5NN-DTW_RMSE</th>\n",
       "      <td>7.386696</td>\n",
       "      <td>7.837611</td>\n",
       "      <td>7.604740</td>\n",
       "    </tr>\n",
       "    <tr>\n",
       "      <th>5NN-ED_RMSE</th>\n",
       "      <td>7.610317</td>\n",
       "      <td>8.140336</td>\n",
       "      <td>7.833623</td>\n",
       "    </tr>\n",
       "    <tr>\n",
       "      <th>Grid-SVR_RMSE</th>\n",
       "      <td>8.375188</td>\n",
       "      <td>8.861585</td>\n",
       "      <td>8.609298</td>\n",
       "    </tr>\n",
       "    <tr>\n",
       "      <th>TSF_RMSE</th>\n",
       "      <td>8.668036</td>\n",
       "      <td>9.029227</td>\n",
       "      <td>8.869247</td>\n",
       "    </tr>\n",
       "    <tr>\n",
       "      <th>1NN-DTW_RMSE</th>\n",
       "      <td>8.577700</td>\n",
       "      <td>9.123502</td>\n",
       "      <td>8.840429</td>\n",
       "    </tr>\n",
       "    <tr>\n",
       "      <th>1NN-ED_RMSE</th>\n",
       "      <td>8.800686</td>\n",
       "      <td>9.341135</td>\n",
       "      <td>9.023510</td>\n",
       "    </tr>\n",
       "    <tr>\n",
       "      <th>RDST_RMSE</th>\n",
       "      <td>10.390705</td>\n",
       "      <td>10.529304</td>\n",
       "      <td>10.438126</td>\n",
       "    </tr>\n",
       "    <tr>\n",
       "      <th>FPCR-Bs_RMSE</th>\n",
       "      <td>11.685497</td>\n",
       "      <td>12.130958</td>\n",
       "      <td>11.969364</td>\n",
       "    </tr>\n",
       "    <tr>\n",
       "      <th>FPCR_RMSE</th>\n",
       "      <td>11.693941</td>\n",
       "      <td>12.138877</td>\n",
       "      <td>11.979490</td>\n",
       "    </tr>\n",
       "    <tr>\n",
       "      <th>Ridge_RMSE</th>\n",
       "      <td>11.689780</td>\n",
       "      <td>12.150435</td>\n",
       "      <td>11.982772</td>\n",
       "    </tr>\n",
       "    <tr>\n",
       "      <th>ROCKET_RMSE</th>\n",
       "      <td>12.120663</td>\n",
       "      <td>12.424750</td>\n",
       "      <td>12.270972</td>\n",
       "    </tr>\n",
       "    <tr>\n",
       "      <th>CNN_RMSE</th>\n",
       "      <td>14.245379</td>\n",
       "      <td>19.387564</td>\n",
       "      <td>17.607863</td>\n",
       "    </tr>\n",
       "  </tbody>\n",
       "</table>\n",
       "</div>"
      ],
      "text/plain": [
       "algorithm                      min        max    average\n",
       "Fedot_Industrial_AutoML   4.227000   4.227000   4.227000\n",
       "Fedot_Industrial_tuned    4.234000   4.234000   4.234000\n",
       "FreshPRINCE_RMSE          4.505233   4.808177   4.650170\n",
       "RIST_RMSE                 4.652734   4.921443   4.782016\n",
       "RotF_RMSE                 4.552434   4.934061   4.698074\n",
       "InceptionT_RMSE           4.432470   4.957914   4.728375\n",
       "RandF_RMSE                5.021132   5.447043   5.241818\n",
       "XGBoost_RMSE              5.169760   5.485085   5.312691\n",
       "SingleInception_RMSE      4.773094   5.635235   5.163396\n",
       "DrCIF_RMSE                4.404898   5.643865   4.656284\n",
       "ResNet_RMSE               5.559743   7.190490   5.911347\n",
       "FCN_RMSE                  5.885378   7.390226   6.593876\n",
       "MultiROCKET_RMSE          6.989463   7.588865   7.379062\n",
       "5NN-DTW_RMSE              7.386696   7.837611   7.604740\n",
       "5NN-ED_RMSE               7.610317   8.140336   7.833623\n",
       "Grid-SVR_RMSE             8.375188   8.861585   8.609298\n",
       "TSF_RMSE                  8.668036   9.029227   8.869247\n",
       "1NN-DTW_RMSE              8.577700   9.123502   8.840429\n",
       "1NN-ED_RMSE               8.800686   9.341135   9.023510\n",
       "RDST_RMSE                10.390705  10.529304  10.438126\n",
       "FPCR-Bs_RMSE             11.685497  12.130958  11.969364\n",
       "FPCR_RMSE                11.693941  12.138877  11.979490\n",
       "Ridge_RMSE               11.689780  12.150435  11.982772\n",
       "ROCKET_RMSE              12.120663  12.424750  12.270972\n",
       "CNN_RMSE                 14.245379  19.387564  17.607863"
      ]
     },
     "execution_count": 30,
     "metadata": {},
     "output_type": "execute_result"
    }
   ],
   "source": [
    "df.sort_values('max')"
   ]
  },
  {
   "cell_type": "code",
   "execution_count": 31,
   "metadata": {
    "collapsed": false,
    "jupyter": {
     "outputs_hidden": false
    },
    "pycharm": {
     "name": "#%%\n"
    }
   },
   "outputs": [
    {
     "data": {
      "text/html": [
       "<div>\n",
       "<style scoped>\n",
       "    .dataframe tbody tr th:only-of-type {\n",
       "        vertical-align: middle;\n",
       "    }\n",
       "\n",
       "    .dataframe tbody tr th {\n",
       "        vertical-align: top;\n",
       "    }\n",
       "\n",
       "    .dataframe thead th {\n",
       "        text-align: right;\n",
       "    }\n",
       "</style>\n",
       "<table border=\"1\" class=\"dataframe\">\n",
       "  <thead>\n",
       "    <tr style=\"text-align: right;\">\n",
       "      <th>algorithm</th>\n",
       "      <th>min</th>\n",
       "      <th>max</th>\n",
       "      <th>average</th>\n",
       "    </tr>\n",
       "  </thead>\n",
       "  <tbody>\n",
       "    <tr>\n",
       "      <th>Fedot_Industrial_AutoML</th>\n",
       "      <td>4.227000</td>\n",
       "      <td>4.227000</td>\n",
       "      <td>4.227000</td>\n",
       "    </tr>\n",
       "    <tr>\n",
       "      <th>Fedot_Industrial_tuned</th>\n",
       "      <td>4.234000</td>\n",
       "      <td>4.234000</td>\n",
       "      <td>4.234000</td>\n",
       "    </tr>\n",
       "    <tr>\n",
       "      <th>FreshPRINCE_RMSE</th>\n",
       "      <td>4.505233</td>\n",
       "      <td>4.808177</td>\n",
       "      <td>4.650170</td>\n",
       "    </tr>\n",
       "    <tr>\n",
       "      <th>DrCIF_RMSE</th>\n",
       "      <td>4.404898</td>\n",
       "      <td>5.643865</td>\n",
       "      <td>4.656284</td>\n",
       "    </tr>\n",
       "    <tr>\n",
       "      <th>RotF_RMSE</th>\n",
       "      <td>4.552434</td>\n",
       "      <td>4.934061</td>\n",
       "      <td>4.698074</td>\n",
       "    </tr>\n",
       "    <tr>\n",
       "      <th>InceptionT_RMSE</th>\n",
       "      <td>4.432470</td>\n",
       "      <td>4.957914</td>\n",
       "      <td>4.728375</td>\n",
       "    </tr>\n",
       "    <tr>\n",
       "      <th>RIST_RMSE</th>\n",
       "      <td>4.652734</td>\n",
       "      <td>4.921443</td>\n",
       "      <td>4.782016</td>\n",
       "    </tr>\n",
       "    <tr>\n",
       "      <th>SingleInception_RMSE</th>\n",
       "      <td>4.773094</td>\n",
       "      <td>5.635235</td>\n",
       "      <td>5.163396</td>\n",
       "    </tr>\n",
       "    <tr>\n",
       "      <th>RandF_RMSE</th>\n",
       "      <td>5.021132</td>\n",
       "      <td>5.447043</td>\n",
       "      <td>5.241818</td>\n",
       "    </tr>\n",
       "    <tr>\n",
       "      <th>XGBoost_RMSE</th>\n",
       "      <td>5.169760</td>\n",
       "      <td>5.485085</td>\n",
       "      <td>5.312691</td>\n",
       "    </tr>\n",
       "    <tr>\n",
       "      <th>ResNet_RMSE</th>\n",
       "      <td>5.559743</td>\n",
       "      <td>7.190490</td>\n",
       "      <td>5.911347</td>\n",
       "    </tr>\n",
       "    <tr>\n",
       "      <th>FCN_RMSE</th>\n",
       "      <td>5.885378</td>\n",
       "      <td>7.390226</td>\n",
       "      <td>6.593876</td>\n",
       "    </tr>\n",
       "    <tr>\n",
       "      <th>MultiROCKET_RMSE</th>\n",
       "      <td>6.989463</td>\n",
       "      <td>7.588865</td>\n",
       "      <td>7.379062</td>\n",
       "    </tr>\n",
       "    <tr>\n",
       "      <th>5NN-DTW_RMSE</th>\n",
       "      <td>7.386696</td>\n",
       "      <td>7.837611</td>\n",
       "      <td>7.604740</td>\n",
       "    </tr>\n",
       "    <tr>\n",
       "      <th>5NN-ED_RMSE</th>\n",
       "      <td>7.610317</td>\n",
       "      <td>8.140336</td>\n",
       "      <td>7.833623</td>\n",
       "    </tr>\n",
       "    <tr>\n",
       "      <th>Grid-SVR_RMSE</th>\n",
       "      <td>8.375188</td>\n",
       "      <td>8.861585</td>\n",
       "      <td>8.609298</td>\n",
       "    </tr>\n",
       "    <tr>\n",
       "      <th>1NN-DTW_RMSE</th>\n",
       "      <td>8.577700</td>\n",
       "      <td>9.123502</td>\n",
       "      <td>8.840429</td>\n",
       "    </tr>\n",
       "    <tr>\n",
       "      <th>TSF_RMSE</th>\n",
       "      <td>8.668036</td>\n",
       "      <td>9.029227</td>\n",
       "      <td>8.869247</td>\n",
       "    </tr>\n",
       "    <tr>\n",
       "      <th>1NN-ED_RMSE</th>\n",
       "      <td>8.800686</td>\n",
       "      <td>9.341135</td>\n",
       "      <td>9.023510</td>\n",
       "    </tr>\n",
       "    <tr>\n",
       "      <th>RDST_RMSE</th>\n",
       "      <td>10.390705</td>\n",
       "      <td>10.529304</td>\n",
       "      <td>10.438126</td>\n",
       "    </tr>\n",
       "    <tr>\n",
       "      <th>FPCR-Bs_RMSE</th>\n",
       "      <td>11.685497</td>\n",
       "      <td>12.130958</td>\n",
       "      <td>11.969364</td>\n",
       "    </tr>\n",
       "    <tr>\n",
       "      <th>FPCR_RMSE</th>\n",
       "      <td>11.693941</td>\n",
       "      <td>12.138877</td>\n",
       "      <td>11.979490</td>\n",
       "    </tr>\n",
       "    <tr>\n",
       "      <th>Ridge_RMSE</th>\n",
       "      <td>11.689780</td>\n",
       "      <td>12.150435</td>\n",
       "      <td>11.982772</td>\n",
       "    </tr>\n",
       "    <tr>\n",
       "      <th>ROCKET_RMSE</th>\n",
       "      <td>12.120663</td>\n",
       "      <td>12.424750</td>\n",
       "      <td>12.270972</td>\n",
       "    </tr>\n",
       "    <tr>\n",
       "      <th>CNN_RMSE</th>\n",
       "      <td>14.245379</td>\n",
       "      <td>19.387564</td>\n",
       "      <td>17.607863</td>\n",
       "    </tr>\n",
       "  </tbody>\n",
       "</table>\n",
       "</div>"
      ],
      "text/plain": [
       "algorithm                      min        max    average\n",
       "Fedot_Industrial_AutoML   4.227000   4.227000   4.227000\n",
       "Fedot_Industrial_tuned    4.234000   4.234000   4.234000\n",
       "FreshPRINCE_RMSE          4.505233   4.808177   4.650170\n",
       "DrCIF_RMSE                4.404898   5.643865   4.656284\n",
       "RotF_RMSE                 4.552434   4.934061   4.698074\n",
       "InceptionT_RMSE           4.432470   4.957914   4.728375\n",
       "RIST_RMSE                 4.652734   4.921443   4.782016\n",
       "SingleInception_RMSE      4.773094   5.635235   5.163396\n",
       "RandF_RMSE                5.021132   5.447043   5.241818\n",
       "XGBoost_RMSE              5.169760   5.485085   5.312691\n",
       "ResNet_RMSE               5.559743   7.190490   5.911347\n",
       "FCN_RMSE                  5.885378   7.390226   6.593876\n",
       "MultiROCKET_RMSE          6.989463   7.588865   7.379062\n",
       "5NN-DTW_RMSE              7.386696   7.837611   7.604740\n",
       "5NN-ED_RMSE               7.610317   8.140336   7.833623\n",
       "Grid-SVR_RMSE             8.375188   8.861585   8.609298\n",
       "1NN-DTW_RMSE              8.577700   9.123502   8.840429\n",
       "TSF_RMSE                  8.668036   9.029227   8.869247\n",
       "1NN-ED_RMSE               8.800686   9.341135   9.023510\n",
       "RDST_RMSE                10.390705  10.529304  10.438126\n",
       "FPCR-Bs_RMSE             11.685497  12.130958  11.969364\n",
       "FPCR_RMSE                11.693941  12.138877  11.979490\n",
       "Ridge_RMSE               11.689780  12.150435  11.982772\n",
       "ROCKET_RMSE              12.120663  12.424750  12.270972\n",
       "CNN_RMSE                 14.245379  19.387564  17.607863"
      ]
     },
     "execution_count": 31,
     "metadata": {},
     "output_type": "execute_result"
    }
   ],
   "source": [
    "df.sort_values('average')"
   ]
  }
 ],
 "metadata": {
  "kernelspec": {
   "display_name": "fedot_ind-env",
   "language": "python",
   "name": "fedot_ind-env"
  },
  "language_info": {
   "codemirror_mode": {
    "name": "ipython",
    "version": 3
   },
   "file_extension": ".py",
   "mimetype": "text/x-python",
   "name": "python",
   "nbconvert_exporter": "python",
   "pygments_lexer": "ipython3",
   "version": "3.10.16"
  }
 },
 "nbformat": 4,
 "nbformat_minor": 4
}
